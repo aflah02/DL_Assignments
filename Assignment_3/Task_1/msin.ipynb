{
 "cells": [
  {
   "cell_type": "code",
   "execution_count": 1,
   "metadata": {},
   "outputs": [],
   "source": [
    "import pickle\n",
    "import numpy as np\n",
    "import matplotlib.pyplot as plt\n",
    "import pandas as pd\n",
    "\n",
    "import numpy as np\n",
    "import tensorflow as tf\n",
    "tf.config.run_functions_eagerly(True)\n",
    "import keras_lmu"
   ]
  },
  {
   "cell_type": "code",
   "execution_count": 2,
   "metadata": {},
   "outputs": [],
   "source": [
    "sequentialMNIST = pickle.load(open('Data/sequentialMNIST.pickle', 'rb'))\n",
    "permutedMNIST = pickle.load(open('Data/permutedMNIST.pickle', 'rb'))\n",
    "\n",
    "train_sequential_X = sequentialMNIST['train']['images']\n",
    "train_sequential_y = sequentialMNIST['train']['labels']\n",
    "train_permuted_X = permutedMNIST['train']['images']\n",
    "train_permuted_y = permutedMNIST['train']['labels']"
   ]
  },
  {
   "cell_type": "code",
   "execution_count": 3,
   "metadata": {},
   "outputs": [
    {
     "name": "stdout",
     "output_type": "stream",
     "text": [
      "Sequential MNIST\n",
      "Train X Shape:  (48000, 784, 1)\n",
      "Train y Shape:  (48000,)\n",
      "Validation X Shape:  (12000, 784, 1)\n",
      "Validation y Shape:  (12000,)\n",
      "Permuted MNIST\n",
      "Train X Shape:  (48000, 784, 1)\n",
      "Train y Shape:  (48000,)\n",
      "Validation X Shape:  (12000, 784, 1)\n",
      "Validation y Shape:  (12000,)\n"
     ]
    }
   ],
   "source": [
    "# Stratified 80-20 split into train and validation sets\n",
    "from sklearn.model_selection import train_test_split\n",
    "\n",
    "train_sequential_X, val_sequential_X, train_sequential_y, val_sequential_y = train_test_split(train_sequential_X, train_sequential_y, test_size=0.2, stratify=train_sequential_y, random_state=42)\n",
    "train_permuted_X, val_permuted_X, train_permuted_y, val_permuted_y = train_test_split(train_permuted_X, train_permuted_y, test_size=0.2, stratify=train_permuted_y, random_state=42)\n",
    "\n",
    "# Check Shapes\n",
    "print('Sequential MNIST')\n",
    "print('Train X Shape: ', train_sequential_X.shape)\n",
    "print('Train y Shape: ', train_sequential_y.shape)\n",
    "print('Validation X Shape: ', val_sequential_X.shape)\n",
    "print('Validation y Shape: ', val_sequential_y.shape)\n",
    "\n",
    "print('Permuted MNIST')\n",
    "print('Train X Shape: ', train_permuted_X.shape)\n",
    "print('Train y Shape: ', train_permuted_y.shape)\n",
    "print('Validation X Shape: ', val_permuted_X.shape)\n",
    "print('Validation y Shape: ', val_permuted_y.shape)"
   ]
  },
  {
   "cell_type": "code",
   "execution_count": 4,
   "metadata": {},
   "outputs": [],
   "source": [
    "# loop and check labels are same for each split\n",
    "\n",
    "for i in range(len(train_sequential_y)):\n",
    "    assert np.array_equal(train_sequential_y[i], train_permuted_y[i])\n",
    "\n",
    "for i in range(len(val_sequential_y)):\n",
    "    assert np.array_equal(val_sequential_y[i], val_permuted_y[i])"
   ]
  },
  {
   "attachments": {},
   "cell_type": "markdown",
   "metadata": {},
   "source": [
    "### 1. Visualize 3 Random Images"
   ]
  },
  {
   "cell_type": "code",
   "execution_count": 5,
   "metadata": {},
   "outputs": [
    {
     "data": {
      "image/png": "[encoded data removed]",
      "text/plain": [
       "<Figure size 432x288 with 2 Axes>"
      ]
     },
     "metadata": {
      "needs_background": "light"
     },
     "output_type": "display_data"
    },
    {
     "data": {
      "image/png": "[encoded data removed]",
      "text/plain": [
       "<Figure size 432x288 with 2 Axes>"
      ]
     },
     "metadata": {
      "needs_background": "light"
     },
     "output_type": "display_data"
    },
    {
     "data": {
      "image/png": "[encoded data removed]",
      "text/plain": [
       "<Figure size 432x288 with 2 Axes>"
      ]
     },
     "metadata": {
      "needs_background": "light"
     },
     "output_type": "display_data"
    }
   ],
   "source": [
    "for i in range(3):\n",
    "    # Set Seed\n",
    "    np.random.seed(i)\n",
    "    # Choose a random image\n",
    "    random_index = np.random.randint(0, len(train_sequential_X))\n",
    "    # Plot the image at the random index from both datasets\n",
    "    plt.subplot(1, 2, 1)\n",
    "    plt.imshow(train_sequential_X[random_index].reshape(28,28), cmap='gray')\n",
    "    plt.subplot(1, 2, 2)\n",
    "    plt.imshow(train_permuted_X[random_index].reshape(28,28), cmap='gray')\n",
    "    plt.suptitle('Sequential MNIST vs Permuted MNIST for digit {}'.format(train_sequential_y[random_index]))\n",
    "    plt.show()"
   ]
  },
  {
   "attachments": {},
   "cell_type": "markdown",
   "metadata": {},
   "source": [
    "### 2. RNN Based Architecture"
   ]
  },
  {
   "cell_type": "code",
   "execution_count": 6,
   "metadata": {},
   "outputs": [
    {
     "name": "stdout",
     "output_type": "stream",
     "text": [
      "Model: \"model\"\n",
      "_________________________________________________________________\n",
      " Layer (type)                Output Shape              Param #   \n",
      "=================================================================\n",
      " input_1 (InputLayer)        [(None, 784, 1)]          0         \n",
      "                                                                 \n",
      " rnn (RNN)                   (None, 212)               99641     \n",
      "                                                                 \n",
      " dense (Dense)               (None, 10)                2130      \n",
      "                                                                 \n",
      "=================================================================\n",
      "Total params: 101,771\n",
      "Trainable params: 101,771\n",
      "Non-trainable params: 0\n",
      "_________________________________________________________________\n"
     ]
    }
   ],
   "source": [
    "n_pixels = train_sequential_X.shape[1]\n",
    "\n",
    "lmu_layer = tf.keras.layers.RNN(\n",
    "    keras_lmu.LMUCell(\n",
    "        memory_d=1,\n",
    "        order=256,\n",
    "        theta=n_pixels,\n",
    "        hidden_cell=tf.keras.layers.SimpleRNNCell(212),\n",
    "        hidden_to_memory=False,\n",
    "        memory_to_memory=False,\n",
    "        input_to_hidden=True,\n",
    "        kernel_initializer=\"ones\",\n",
    "    )\n",
    ")\n",
    "\n",
    "# TensorFlow layer definition\n",
    "inputs = tf.keras.Input((n_pixels, 1))\n",
    "lmus = lmu_layer(inputs)\n",
    "outputs = tf.keras.layers.Dense(10)(lmus)\n",
    "\n",
    "# TensorFlow model definition\n",
    "model = tf.keras.Model(inputs=inputs, outputs=outputs)\n",
    "model.compile(\n",
    "    loss=tf.keras.losses.SparseCategoricalCrossentropy(from_logits=True),\n",
    "    optimizer=\"adam\",\n",
    "    metrics=[\"accuracy\"],\n",
    ")\n",
    "model.summary()"
   ]
  },
  {
   "cell_type": "code",
   "execution_count": 7,
   "metadata": {},
   "outputs": [
    {
     "name": "stdout",
     "output_type": "stream",
     "text": [
      "Epoch 1/20\n"
     ]
    },
    {
     "name": "stderr",
     "output_type": "stream",
     "text": [
      "C:\\Users\\ASUS\\AppData\\Local\\Packages\\PythonSoftwareFoundation.Python.3.9_qbz5n2kfra8p0\\LocalCache\\local-packages\\Python39\\site-packages\\tensorflow\\python\\data\\ops\\structured_function.py:264: UserWarning: Even though the `tf.config.experimental_run_functions_eagerly` option is set, this option does not apply to tf.data functions. To force eager execution of tf.data functions, please use `tf.data.experimental.enable_debug_mode()`.\n",
      "  warnings.warn(\n"
     ]
    },
    {
     "name": "stdout",
     "output_type": "stream",
     "text": [
      "  6/480 [..............................] - ETA: 1:42:20 - loss: 2.6335 - accuracy: 0.1717"
     ]
    }
   ],
   "source": [
    "do_training = True\n",
    "batch_size = 100\n",
    "epochs = 20\n",
    "\n",
    "saved_weights_fname = \"Saves/psMNIST-weights.hdf5\"\n",
    "callbacks = [\n",
    "    tf.keras.callbacks.ModelCheckpoint(\n",
    "        filepath=saved_weights_fname, monitor=\"val_loss\", verbose=1, save_best_only=True\n",
    "    ),\n",
    "]\n",
    "\n",
    "if do_training:\n",
    "    result = model.fit(\n",
    "        train_sequential_X,\n",
    "        train_sequential_y,\n",
    "        epochs=epochs,\n",
    "        batch_size=batch_size,\n",
    "        validation_data=(val_sequential_X, val_sequential_y),\n",
    "        callbacks=callbacks,\n",
    "    )"
   ]
  },
  {
   "cell_type": "code",
   "execution_count": null,
   "metadata": {},
   "outputs": [],
   "source": [
    "if do_training:\n",
    "    plt.figure()\n",
    "    plt.plot(result.history[\"val_accuracy\"], label=\"Validation\")\n",
    "    plt.plot(result.history[\"accuracy\"], label=\"Training\")\n",
    "    plt.legend()\n",
    "    plt.xlabel(\"Epoch\")\n",
    "    plt.ylabel(\"Accuracy\")\n",
    "    plt.title(\"Post-epoch Training Accuracies\")\n",
    "    plt.xticks(np.arange(epochs), np.arange(1, epochs + 1))\n",
    "    plt.ylim((0.85, 1.0))  # Restrict range of y axis to (0.85, 1) for readability\n",
    "    plt.savefig(\"Saves/psMNIST-training.png\")\n",
    "\n",
    "    val_loss_min = np.argmin(result.history[\"val_loss\"])\n",
    "    print(\n",
    "        f\"Maximum validation accuracy: \"\n",
    "        f\"{round(result.history['val_accuracy'][val_loss_min] * 100, 2):.2f}%\"\n",
    "    )\n",
    "\n",
    "else:\n",
    "    display(Image(filename=\"/content/drive/MyDrive/LMU_DL_A3_Q1/psMNIST-training.png\"))"
   ]
  }
 ],
 "metadata": {
  "kernelspec": {
   "display_name": "Python 3",
   "language": "python",
   "name": "python3"
  },
  "language_info": {
   "codemirror_mode": {
    "name": "ipython",
    "version": 3
   },
   "file_extension": ".py",
   "mimetype": "text/x-python",
   "name": "python",
   "nbconvert_exporter": "python",
   "pygments_lexer": "ipython3",
   "version": "3.9.13"
  },
  "orig_nbformat": 4
 },
 "nbformat": 4,
 "nbformat_minor": 2
}
