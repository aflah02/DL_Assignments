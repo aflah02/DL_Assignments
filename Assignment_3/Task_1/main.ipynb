{
  "nbformat": 4,
  "nbformat_minor": 0,
  "metadata": {
    "colab": {
      "provenance": []
    },
    "kernelspec": {
      "name": "python3",
      "display_name": "Python 3"
    },
    "language_info": {
      "name": "python"
    },
    "gpuClass": "standard",
    "accelerator": "GPU"
  },
  "cells": [
    {
      "cell_type": "code",
      "source": [
        "!pip install pytorch-lightning -q"
      ],
      "metadata": {
        "id": "Oy_4H8EBcUgV"
      },
      "execution_count": null,
      "outputs": []
    },
    {
      "cell_type": "code",
      "source": [
        "from google.colab import drive\n",
        "drive.mount('/content/drive')"
      ],
      "metadata": {
        "colab": {
          "base_uri": "https://localhost:8080/"
        },
        "id": "PlZR68q_XuIE",
        "outputId": "ddb74a64-396d-4a9f-81af-9f785c8328d6"
      },
      "execution_count": null,
      "outputs": [
        {
          "output_type": "stream",
          "name": "stdout",
          "text": [
            "Drive already mounted at /content/drive; to attempt to forcibly remount, call drive.mount(\"/content/drive\", force_remount=True).\n"
          ]
        }
      ]
    },
    {
      "cell_type": "code",
      "execution_count": null,
      "metadata": {
        "id": "dhyd6gC_YziU"
      },
      "outputs": [],
      "source": [
        "import torch\n",
        "import torch.nn as nn\n",
        "from sklearn.metrics import classification_report\n",
        "import torch.nn.functional as F\n",
        "import torchvision.datasets as dsets\n",
        "import torch.utils.data as data\n",
        "from torch.utils.data import TensorDataset\n",
        "from torch.utils.data import DataLoader\n",
        "import torchvision.transforms as transforms\n",
        "from torch.utils.data import SubsetRandomSampler\n",
        "import pytorch_lightning as pl\n",
        "import matplotlib.pyplot as plt\n",
        "import numpy as np\n",
        "import pickle"
      ]
    },
    {
      "cell_type": "code",
      "source": [
        "def save_model_as_pickle(model, model_name):\n",
        "  with open(f'/content/drive/MyDrive/LMU_DL_A3_Q1/Saves/{model_name}', 'wb') as pickle_file:\n",
        "    pickle.dump(model, pickle_file)\n",
        "\n",
        "def load_model_from_pickle(model_name):\n",
        "  with open(f'/content/drive/MyDrive/LMU_DL_A3_Q1/Saves/{model_name}', 'rb') as pickle_file:\n",
        "    return pickle.load(pickle_file)"
      ],
      "metadata": {
        "id": "NanSKtD3Krw7"
      },
      "execution_count": null,
      "outputs": []
    },
    {
      "cell_type": "code",
      "source": [
        "with open('/content/drive/MyDrive/LMU_DL_A3_Q1/Data/permutedMNIST.pickle', 'rb') as pickle_file:\n",
        "  permutedMNIST = pickle.load(pickle_file)\n",
        "\n",
        "with open('/content/drive/MyDrive/LMU_DL_A3_Q1/Data/sequentialMNIST.pickle', 'rb') as pickle_file:\n",
        "  sequentialMNIST = pickle.load(pickle_file)"
      ],
      "metadata": {
        "id": "dtkWmJOlcKQl"
      },
      "execution_count": null,
      "outputs": []
    },
    {
      "cell_type": "code",
      "source": [
        "sequential_X = sequentialMNIST['train']['images']\n",
        "sequential_y = sequentialMNIST['train']['labels']\n",
        "permuted_X = permutedMNIST['train']['images']\n",
        "permuted_y = permutedMNIST['train']['labels']\n",
        "sequential_X = sequential_X/255\n",
        "permuted_X = permuted_X/255\n",
        "\n",
        "# Stratified 80-20 split into train and validation sets\n",
        "from sklearn.model_selection import train_test_split\n",
        "\n",
        "train_sequential_X, val_sequential_X, train_sequential_y, val_sequential_y = train_test_split(sequential_X, sequential_y, test_size=0.2, stratify=sequential_y, random_state=42)\n",
        "train_permuted_X, val_permuted_X, train_permuted_y, val_permuted_y = train_test_split(permuted_X, permuted_y, test_size=0.2, stratify=permuted_y, random_state=42)\n",
        "\n",
        "# Check Shapes\n",
        "print('Sequential MNIST')\n",
        "print('Train X Shape: ', train_sequential_X.shape)\n",
        "print('Train y Shape: ', train_sequential_y.shape)\n",
        "print('Validation X Shape: ', val_sequential_X.shape)\n",
        "print('Validation y Shape: ', val_sequential_y.shape)\n",
        "\n",
        "print('Permuted MNIST')\n",
        "print('Train X Shape: ', train_permuted_X.shape)\n",
        "print('Train y Shape: ', train_permuted_y.shape)\n",
        "print('Validation X Shape: ', val_permuted_X.shape)\n",
        "print('Validation y Shape: ', val_permuted_y.shape)"
      ],
      "metadata": {
        "colab": {
          "base_uri": "https://localhost:8080/"
        },
        "id": "VKrKxfwDf3f6",
        "outputId": "8576739a-ff34-40ba-ba4e-d6fe9978943f"
      },
      "execution_count": null,
      "outputs": [
        {
          "output_type": "stream",
          "name": "stdout",
          "text": [
            "Sequential MNIST\n",
            "Train X Shape:  (48000, 784, 1)\n",
            "Train y Shape:  (48000,)\n",
            "Validation X Shape:  (12000, 784, 1)\n",
            "Validation y Shape:  (12000,)\n",
            "Permuted MNIST\n",
            "Train X Shape:  (48000, 784, 1)\n",
            "Train y Shape:  (48000,)\n",
            "Validation X Shape:  (12000, 784, 1)\n",
            "Validation y Shape:  (12000,)\n"
          ]
        }
      ]
    },
    {
      "cell_type": "code",
      "source": [
        "# loop and check labels are same for each split\n",
        "\n",
        "for i in range(len(train_sequential_y)):\n",
        "    assert np.array_equal(train_sequential_y[i], train_permuted_y[i])\n",
        "\n",
        "for i in range(len(val_sequential_y)):\n",
        "    assert np.array_equal(val_sequential_y[i], val_permuted_y[i])"
      ],
      "metadata": {
        "id": "8onkxZWagPNN"
      },
      "execution_count": null,
      "outputs": []
    },
    {
      "cell_type": "markdown",
      "source": [
        "### 1. Visualize 3 Random Images"
      ],
      "metadata": {
        "id": "3MRR2fzGPopG"
      }
    },
    {
      "cell_type": "code",
      "source": [
        "for i in range(3):\n",
        "    # Set Seed\n",
        "    np.random.seed(i)\n",
        "    # Choose a random image\n",
        "    random_index = np.random.randint(0, len(train_sequential_X))\n",
        "    # Plot the image at the random index from both datasets\n",
        "    plt.subplot(1, 2, 1)\n",
        "    plt.imshow(train_sequential_X[random_index].reshape(28,28), cmap='gray')\n",
        "    plt.subplot(1, 2, 2)\n",
        "    plt.imshow(train_permuted_X[random_index].reshape(28,28), cmap='gray')\n",
        "    plt.suptitle('Sequential MNIST vs Permuted MNIST for digit {}'.format(train_sequential_y[random_index]))\n",
        "    plt.show()"
      ],
      "metadata": {
        "colab": {
          "base_uri": "https://localhost:8080/",
          "height": 1000
        },
        "id": "8Jce3NcVPg4X",
        "outputId": "d416edbc-4e39-4f66-ca60-09ad588cc8d6"
      },
      "execution_count": null,
      "outputs": [
        {
          "output_type": "display_data",
          "data": {
            "text/plain": [
              "<Figure size 640x480 with 2 Axes>"
            ],
            "image/png": "[encoded data removed]"
          },
          "metadata": {}
        },
        {
          "output_type": "display_data",
          "data": {
            "text/plain": [
              "<Figure size 640x480 with 2 Axes>"
            ],
            "image/png": "[encoded data removed]"
          },
          "metadata": {}
        },
        {
          "output_type": "display_data",
          "data": {
            "text/plain": [
              "<Figure size 640x480 with 2 Axes>"
            ],
            "image/png": "[encoded data removed]"
          },
          "metadata": {}
        }
      ]
    },
    {
      "cell_type": "markdown",
      "source": [
        "### 2. Modelling"
      ],
      "metadata": {
        "id": "8U60kTmgPvpA"
      }
    },
    {
      "cell_type": "code",
      "source": [
        "input_size = 784\n",
        "hidden_size = 128\n",
        "num_layers = 2\n",
        "num_classes = 10\n",
        "batch_size = 100\n",
        "num_epochs = 50\n",
        "learning_rate = 0.0001"
      ],
      "metadata": {
        "id": "dMZSVm43cLXG"
      },
      "execution_count": null,
      "outputs": []
    },
    {
      "cell_type": "code",
      "source": [
        "# Define the LightningModule\n",
        "class RNNModel(pl.LightningModule):\n",
        "    def __init__(self, input_size, hidden_size, num_layers, num_classes):\n",
        "        super(RNNModel, self).__init__()\n",
        "        self.hidden_size = hidden_size\n",
        "        self.num_layers = num_layers\n",
        "        self.rnn = nn.LSTM(input_size, hidden_size, num_layers, batch_first=True, dropout=0.2)\n",
        "        self.fc = nn.Linear(hidden_size, num_classes)\n",
        "        self.train_loss = []\n",
        "        self.train_acc = []\n",
        "        self.train_loss_step = []\n",
        "        self.train_acc_step = []\n",
        "        self.val_loss_step = []\n",
        "        self.val_acc_step = []\n",
        "        self.val_loss = []\n",
        "        self.val_acc = []\n",
        "        self.clf_report = \"\"\n",
        "\n",
        "    def forward(self, x):\n",
        "        h0 = torch.zeros(self.num_layers, x.size(0), self.hidden_size).to(self.device)\n",
        "        c0 = torch.zeros(self.num_layers, x.size(0), self.hidden_size).to(self.device)\n",
        "        out, _ = self.rnn(x, (h0, c0))\n",
        "        out = self.fc(out[:, -1, :])\n",
        "        return out\n",
        "        \n",
        "    def training_step(self, batch, batch_idx):\n",
        "        x, y = batch\n",
        "        x = x.permute(0, 2, 1)  # permute to [batch_size, input_size, seq_len]\n",
        "        x = x.to(self.device)\n",
        "        y = y.to(torch.long).to(self.device) # cast y to long\n",
        "        outputs = self(x)\n",
        "        loss = F.cross_entropy(outputs, y)\n",
        "        self.log('train_loss', loss)\n",
        "        _, predicted = torch.max(outputs.data, 1)\n",
        "        correct = (predicted == y).sum().item()\n",
        "        total = y.size(0)\n",
        "        accuracy = correct / total\n",
        "        self.log('train_accuracy', accuracy)\n",
        "        self.train_loss_step.append(loss.item())\n",
        "        self.train_acc_step.append(accuracy)\n",
        "        return {\"loss\": loss}\n",
        "        \n",
        "    def validation_step(self, batch, batch_idx):\n",
        "        x, y = batch\n",
        "        x = x.permute(0, 2, 1)  # permute to [batch_size, input_size, seq_len]\n",
        "        x = x.to(self.device)\n",
        "        y = y.to(torch.long).to(self.device) # cast y to long\n",
        "        outputs = self(x)\n",
        "        loss = F.cross_entropy(outputs, y)\n",
        "        self.log('val_loss', loss)\n",
        "        _, predicted = torch.max(outputs.data, 1)\n",
        "        correct = (predicted == y).sum().item()\n",
        "        total = y.size(0)\n",
        "        accuracy = correct / total\n",
        "        self.log('val_accuracy', accuracy)\n",
        "        self.val_loss_step.append(loss.item())\n",
        "        self.val_acc_step.append(accuracy)\n",
        "        return {\"val_loss\": loss}\n",
        "\n",
        "    def on_train_epoch_end(self):\n",
        "        self.train_loss.append(self.train_loss_step[-1])\n",
        "        self.train_acc.append(self.train_acc_step[-1])\n",
        "        self.train_loss_step = []\n",
        "        self.train_acc_step = []\n",
        "        self.val_loss.append(self.val_loss_step[-1])\n",
        "        self.val_acc.append(self.val_acc_step[-1])\n",
        "        self.val_loss_step = []\n",
        "        self.val_acc_step = []\n",
        "\n",
        "    def test_step(self, batch, batch_idx):\n",
        "        x, y = batch\n",
        "        x = x.permute(0, 2, 1)  # permute to [batch_size, input_size, seq_len]\n",
        "        x = x.to(self.device)\n",
        "        y = y.to(torch.long).to(self.device) # cast y to long\n",
        "        outputs = self(x)\n",
        "        _, predicted = torch.max(outputs.data, 1)\n",
        "        correct = (predicted == y).sum().item()\n",
        "        total = y.size(0)\n",
        "        accuracy = correct / total\n",
        "        self.log('test_accuracy', accuracy)\n",
        "        return {\"test_accuracy\": accuracy}\n",
        "\n",
        "    def configure_optimizers(self):\n",
        "        optimizer = torch.optim.AdamW(self.parameters(), lr=learning_rate)\n",
        "        scheduler = torch.optim.lr_scheduler.ReduceLROnPlateau(optimizer, patience=5)\n",
        "        return {\"optimizer\": optimizer, \"lr_scheduler\": scheduler, \"monitor\": \"val_loss\"}\n",
        "        \n",
        "# Define the LightningDataModule\n",
        "class SequentialDataModule(pl.LightningDataModule):\n",
        "    def __init__(self, batch_size, train_sequential_X, val_sequential_X, train_sequential_y, val_sequential_y):\n",
        "        super(SequentialDataModule, self).__init__()\n",
        "        self.batch_size = batch_size\n",
        "        self.train_sequential_X = train_sequential_X\n",
        "        self.val_sequential_X = val_sequential_X\n",
        "        self.train_sequential_y = train_sequential_y\n",
        "        self.val_sequential_y = val_sequential_y\n",
        "        \n",
        "    def prepare_data(self):\n",
        "        # No data download required\n",
        "        pass\n",
        "        \n",
        "    def setup(self, stage=None):\n",
        "        self.train_dataset = data.TensorDataset(torch.Tensor(self.train_sequential_X), torch.Tensor(self.train_sequential_y))\n",
        "        self.val_dataset = data.TensorDataset(torch.Tensor(self.val_sequential_X), torch.Tensor(self.val_sequential_y))\n",
        "        \n",
        "    def train_dataloader(self):\n",
        "        return DataLoader(dataset=self.train_dataset, batch_size=self.batch_size, shuffle=True)\n",
        "    \n",
        "    def val_dataloader(self):\n",
        "        return DataLoader(dataset=self.val_dataset, batch_size=self.batch_size, shuffle=False)\n",
        "    \n",
        "    def test_dataloader(self):\n",
        "        # Use Val for Testing\n",
        "        return torch.utils.data.DataLoader(dataset=self.val_dataset, batch_size=self.batch_size, shuffle=False)\n",
        "\n",
        "\n",
        "class PermutedMNISTDataModule(pl.LightningDataModule):\n",
        "    def __init__(self, batch_size, train_permuted_X, val_permuted_X, train_permuted_y, val_permuted_y):\n",
        "        super(PermutedMNISTDataModule, self).__init__()\n",
        "        self.batch_size = batch_size\n",
        "        self.train_permuted_X = train_permuted_X\n",
        "        self.val_permuted_X = val_permuted_X\n",
        "        self.train_permuted_y = train_permuted_y\n",
        "        self.val_permuted_y = val_permuted_y\n",
        "        \n",
        "    def prepare_data(self):\n",
        "        # No data download required\n",
        "        pass\n",
        "        \n",
        "    def setup(self, stage=None):\n",
        "        self.train_dataset = data.TensorDataset(torch.Tensor(self.train_permuted_X), torch.Tensor(self.train_permuted_y))\n",
        "        self.val_dataset = data.TensorDataset(torch.Tensor(self.val_permuted_X), torch.Tensor(self.val_permuted_y))\n",
        "        \n",
        "    def train_dataloader(self):\n",
        "        train_dataloader = torch.utils.data.DataLoader(dataset=self.train_dataset, batch_size=self.batch_size, shuffle=True)\n",
        "        return train_dataloader\n",
        "    \n",
        "    def val_dataloader(self):\n",
        "        return torch.utils.data.DataLoader(dataset=self.val_dataset, batch_size=self.batch_size, shuffle=False)\n",
        "    \n",
        "    def test_dataloader(self):\n",
        "        # Use Val for Testing\n",
        "        return torch.utils.data.DataLoader(dataset=self.val_dataset, batch_size=self.batch_size, shuffle=False)"
      ],
      "metadata": {
        "id": "CNP-nPuGY5nI"
      },
      "execution_count": null,
      "outputs": []
    },
    {
      "cell_type": "code",
      "source": [
        "# Define the LightningModule\n",
        "class RNNModel_Deeper(pl.LightningModule):\n",
        "    def __init__(self, input_size, hidden_size, num_layers, num_classes):\n",
        "        super(RNNModel_Deeper, self).__init__()\n",
        "        self.hidden_size = hidden_size\n",
        "        self.num_layers = num_layers\n",
        "        self.rnn = nn.LSTM(input_size, hidden_size, num_layers, batch_first=True, dropout=0.2)\n",
        "        self.fc = nn.Linear(hidden_size, num_classes)\n",
        "        self.train_loss = []\n",
        "        self.train_acc = []\n",
        "        self.train_loss_step = []\n",
        "        self.train_acc_step = []\n",
        "        self.val_loss_step = []\n",
        "        self.val_acc_step = []\n",
        "        self.val_loss = []\n",
        "        self.val_acc = []\n",
        "        self.clf_report = \"\"\n",
        "        # Add more LSTM layers and skip connections\n",
        "        self.rnn = nn.LSTM(input_size, hidden_size, num_layers=num_layers, batch_first=True, bidirectional=True)\n",
        "        self.attention = nn.Sequential(\n",
        "            nn.Linear(hidden_size * 2, hidden_size),\n",
        "            nn.Tanh(),\n",
        "            nn.Linear(hidden_size, 1),\n",
        "            nn.Softmax(dim=1)\n",
        "        )\n",
        "        self.fc1 = nn.Linear(hidden_size * 2, hidden_size)\n",
        "        self.fc2 = nn.Linear(hidden_size * 3, num_classes)\n",
        "\n",
        "    def forward(self, x):\n",
        "        h0 = torch.zeros(self.num_layers * 2, x.size(0), self.hidden_size).to(device=self.device)\n",
        "        c0 = torch.zeros(self.num_layers * 2, x.size(0), self.hidden_size).to(device=self.device)\n",
        "        out, _ = self.rnn(x, (h0, c0))\n",
        "        attention_weights = self.attention(out)\n",
        "        attended_out = torch.sum(out * attention_weights, dim=1)\n",
        "\n",
        "        # Add skip connection\n",
        "        out = self.fc1(attended_out)\n",
        "        out = torch.cat([out, attended_out], dim=1)\n",
        "        out = self.fc2(out)\n",
        "        return out\n",
        "        \n",
        "    def training_step(self, batch, batch_idx):\n",
        "        x, y = batch\n",
        "        x = x.permute(0, 2, 1)  # permute to [batch_size, input_size, seq_len]\n",
        "        x = x.to(self.device)\n",
        "        y = y.to(torch.long).to(self.device) # cast y to long\n",
        "        outputs = self(x)\n",
        "        loss = F.cross_entropy(outputs, y)\n",
        "        self.log('train_loss', loss)\n",
        "        _, predicted = torch.max(outputs.data, 1)\n",
        "        correct = (predicted == y).sum().item()\n",
        "        total = y.size(0)\n",
        "        accuracy = correct / total\n",
        "        self.log('train_accuracy', accuracy)\n",
        "        self.train_loss_step.append(loss.item())\n",
        "        self.train_acc_step.append(accuracy)\n",
        "        return {\"loss\": loss}\n",
        "        \n",
        "    def validation_step(self, batch, batch_idx):\n",
        "        x, y = batch\n",
        "        x = x.permute(0, 2, 1)  # permute to [batch_size, input_size, seq_len]\n",
        "        x = x.to(self.device)\n",
        "        y = y.to(torch.long).to(self.device) # cast y to long\n",
        "        outputs = self(x)\n",
        "        loss = F.cross_entropy(outputs, y)\n",
        "        self.log('val_loss', loss)\n",
        "        _, predicted = torch.max(outputs.data, 1)\n",
        "        correct = (predicted == y).sum().item()\n",
        "        total = y.size(0)\n",
        "        accuracy = correct / total\n",
        "        self.log('val_accuracy', accuracy)\n",
        "        self.val_loss_step.append(loss.item())\n",
        "        self.val_acc_step.append(accuracy)\n",
        "        return {\"val_loss\": loss}\n",
        "\n",
        "    def on_train_epoch_end(self):\n",
        "        self.train_loss.append(self.train_loss_step[-1])\n",
        "        self.train_acc.append(self.train_acc_step[-1])\n",
        "        self.train_loss_step = []\n",
        "        self.train_acc_step = []\n",
        "        self.val_loss.append(self.val_loss_step[-1])\n",
        "        self.val_acc.append(self.val_acc_step[-1])\n",
        "        self.val_loss_step = []\n",
        "        self.val_acc_step = []\n",
        "\n",
        "    def test_step(self, batch, batch_idx):\n",
        "        x, y = batch\n",
        "        x = x.permute(0, 2, 1)  # permute to [batch_size, input_size, seq_len]\n",
        "        x = x.to(self.device)\n",
        "        y = y.to(torch.long).to(self.device) # cast y to long\n",
        "        outputs = self(x)\n",
        "        _, predicted = torch.max(outputs.data, 1)\n",
        "        correct = (predicted == y).sum().item()\n",
        "        total = y.size(0)\n",
        "        accuracy = correct / total\n",
        "        self.log('test_accuracy', accuracy)\n",
        "        return {\"test_accuracy\": accuracy}\n",
        "\n",
        "    def configure_optimizers(self):\n",
        "        optimizer = torch.optim.AdamW(self.parameters(), lr=learning_rate)\n",
        "        scheduler = torch.optim.lr_scheduler.ReduceLROnPlateau(optimizer, patience=5)\n",
        "        return {\"optimizer\": optimizer, \"lr_scheduler\": scheduler, \"monitor\": \"val_loss\"}"
      ],
      "metadata": {
        "id": "SeVNOR649T1W"
      },
      "execution_count": null,
      "outputs": []
    },
    {
      "cell_type": "code",
      "source": [
        "# Define the LightningModule\n",
        "class RNNModel_Deeper_GRU(pl.LightningModule):\n",
        "    def __init__(self, input_size, hidden_size, num_layers, num_classes):\n",
        "        super(RNNModel_Deeper_GRU, self).__init__()\n",
        "        self.hidden_size = hidden_size\n",
        "        self.num_layers = num_layers\n",
        "        self.rnn = nn.GRU(input_size, hidden_size, num_layers, batch_first=True, dropout=0.2)\n",
        "        self.fc = nn.Linear(hidden_size, num_classes)\n",
        "        self.train_loss = []\n",
        "        self.train_acc = []\n",
        "        self.train_loss_step = []\n",
        "        self.train_acc_step = []\n",
        "        self.val_loss_step = []\n",
        "        self.val_acc_step = []\n",
        "        self.val_loss = []\n",
        "        self.val_acc = []\n",
        "        self.clf_report = \"\"\n",
        "        # Add more GRU layers and skip connections\n",
        "        self.rnn = nn.GRU(input_size, hidden_size, num_layers=num_layers, batch_first=True, bidirectional=True)\n",
        "        self.attention = nn.Sequential(\n",
        "            nn.Linear(hidden_size * 2, hidden_size),\n",
        "            nn.Tanh(),\n",
        "            nn.Linear(hidden_size, 1),\n",
        "            nn.Softmax(dim=1)\n",
        "        )\n",
        "        self.fc1 = nn.Linear(hidden_size * 2, hidden_size)\n",
        "        self.fc2 = nn.Linear(hidden_size * 3, num_classes)\n",
        "\n",
        "    def forward(self, x):\n",
        "        h0 = torch.zeros(self.num_layers * 2, x.size(0), self.hidden_size).to(device=self.device)\n",
        "        out, _ = self.rnn(x, h0)\n",
        "        attention_weights = self.attention(out)\n",
        "        attended_out = torch.sum(out * attention_weights, dim=1)\n",
        "\n",
        "        # Add skip connection\n",
        "        out = self.fc1(attended_out)\n",
        "        out = torch.cat([out, attended_out], dim=1)\n",
        "        out = self.fc2(out)\n",
        "        return out\n",
        "        \n",
        "    def training_step(self, batch, batch_idx):\n",
        "        x, y = batch\n",
        "        x = x.permute(0, 2, 1)  # permute to [batch_size, input_size, seq_len]\n",
        "        x = x.to(self.device)\n",
        "        y = y.to(torch.long).to(self.device) # cast y to long\n",
        "        outputs = self(x)\n",
        "        loss = F.cross_entropy(outputs, y)\n",
        "        self.log('train_loss', loss)\n",
        "        _, predicted = torch.max(outputs.data, 1)\n",
        "        correct = (predicted == y).sum().item()\n",
        "        total = y.size(0)\n",
        "        accuracy = correct / total\n",
        "        self.log('train_accuracy', accuracy)\n",
        "        self.train_loss_step.append(loss.item())\n",
        "        self.train_acc_step.append(accuracy)\n",
        "        return {\"loss\": loss}\n",
        "        \n",
        "    def validation_step(self, batch, batch_idx):\n",
        "        x, y = batch\n",
        "        x = x.permute(0, 2, 1)  # permute to [batch_size, input_size, seq_len]\n",
        "        x = x.to(self.device)\n",
        "        y = y.to(torch.long).to(self.device) # cast y to long\n",
        "        outputs = self(x)\n",
        "        loss = F.cross_entropy(outputs, y)\n",
        "        self.log('val_loss', loss)\n",
        "        _, predicted = torch.max(outputs.data, 1)\n",
        "        correct = (predicted == y).sum().item()\n",
        "        total = y.size(0)\n",
        "        accuracy = correct / total\n",
        "        self.log('val_accuracy', accuracy)\n",
        "        self.val_loss_step.append(loss.item())\n",
        "        self.val_acc_step.append(accuracy)\n",
        "        return {\"val_loss\": loss}\n",
        "\n",
        "    def on_train_epoch_end(self):\n",
        "        self.train_loss.append(self.train_loss_step[-1])\n",
        "        self.train_acc.append(self.train_acc_step[-1])\n",
        "        self.train_loss_step = []\n",
        "        self.train_acc_step = []\n",
        "        self.val_loss.append(self.val_loss_step[-1])\n",
        "        self.val_acc.append(self.val_acc_step[-1])\n",
        "        self.val_loss_step = []\n",
        "        self.val_acc_step = []\n",
        "\n",
        "    def test_step(self, batch, batch_idx):\n",
        "        x, y = batch\n",
        "        x = x.permute(0, 2, 1)  # permute to [batch_size, input_size, seq_len]\n",
        "        x = x.to(self.device)\n",
        "        y = y.to(torch.long).to(self.device) # cast y to long\n",
        "        outputs = self(x)\n",
        "        _, predicted = torch.max(outputs.data, 1)\n",
        "        correct = (predicted == y).sum().item()\n",
        "        total = y.size(0)\n",
        "        accuracy = correct / total\n",
        "        self.log('test_accuracy', accuracy)\n",
        "        return {\"test_accuracy\": accuracy}\n",
        "\n",
        "    def configure_optimizers(self):\n",
        "        optimizer = torch.optim.AdamW(self.parameters(), lr=learning_rate)\n",
        "        scheduler = torch.optim.lr_scheduler.ReduceLROnPlateau(optimizer, patience=5)\n",
        "        return {\"optimizer\": optimizer, \"lr_scheduler\": scheduler, \"monitor\": \"val_loss\"}"
      ],
      "metadata": {
        "id": "ZsUy7Su5LkjC"
      },
      "execution_count": null,
      "outputs": []
    },
    {
      "cell_type": "code",
      "source": [
        "# Define the LightningModule\n",
        "class RNNModel_EvenDeeper(pl.LightningModule):\n",
        "    def __init__(self, input_size, hidden_size, num_layers, num_classes):\n",
        "        super(RNNModel_EvenDeeper, self).__init__()\n",
        "        self.hidden_size = hidden_size\n",
        "        self.num_layers = num_layers\n",
        "        self.train_loss = []\n",
        "        self.train_acc = []\n",
        "        self.train_loss_step = []\n",
        "        self.train_acc_step = []\n",
        "        self.val_loss_step = []\n",
        "        self.val_acc_step = []\n",
        "        self.val_loss = []\n",
        "        self.val_acc = []\n",
        "        self.clf_report = \"\"\n",
        "        self.rnn = nn.LSTM(input_size, hidden_size, num_layers=num_layers, batch_first=True, bidirectional=True)\n",
        "        self.attention = nn.Sequential(\n",
        "            nn.Linear(hidden_size * 2, hidden_size),\n",
        "            nn.Tanh(),\n",
        "            nn.Linear(hidden_size, 1),\n",
        "            nn.Softmax(dim=1)\n",
        "        )\n",
        "        self.fc1 = nn.Linear(hidden_size * 2, hidden_size)\n",
        "        self.fc2 = nn.Linear(hidden_size * 3, hidden_size)\n",
        "        self.fc3 = nn.Linear(hidden_size * 3, num_classes)\n",
        "        self.dropout = nn.Dropout(0.2)\n",
        "        self.relu = nn.ReLU()\n",
        "\n",
        "    def forward(self, x):\n",
        "        h0 = torch.zeros(self.num_layers * 2, x.size(0), self.hidden_size).to(device=self.device)\n",
        "        c0 = torch.zeros(self.num_layers * 2, x.size(0), self.hidden_size).to(device=self.device)\n",
        "        out, _ = self.rnn(x, (h0, c0))\n",
        "        attention_weights = self.attention(out)\n",
        "        attended_out = torch.sum(out * attention_weights, dim=1)\n",
        "\n",
        "        # Add skip connection\n",
        "        out = self.dropout(self.relu(self.fc1(attended_out)))\n",
        "        out = torch.cat([out, attended_out], dim=1)\n",
        "        out = self.dropout(self.relu(self.fc2(out)))\n",
        "        out = torch.cat([out, attended_out], dim=1)\n",
        "        out = self.fc3(out)\n",
        "        return out\n",
        "        \n",
        "    def training_step(self, batch, batch_idx):\n",
        "        x, y = batch\n",
        "        x = x.permute(0, 2, 1)  # permute to [batch_size, input_size, seq_len]\n",
        "        x = x.to(self.device)\n",
        "        y = y.to(torch.long).to(self.device) # cast y to long\n",
        "        outputs = self(x)\n",
        "        loss = F.cross_entropy(outputs, y)\n",
        "        self.log('train_loss', loss)\n",
        "        _, predicted = torch.max(outputs.data, 1)\n",
        "        correct = (predicted == y).sum().item()\n",
        "        total = y.size(0)\n",
        "        accuracy = correct / total\n",
        "        self.log('train_accuracy', accuracy)\n",
        "        self.train_loss_step.append(loss.item())\n",
        "        self.train_acc_step.append(accuracy)\n",
        "        return {\"loss\": loss}\n",
        "        \n",
        "    def validation_step(self, batch, batch_idx):\n",
        "        x, y = batch\n",
        "        x = x.permute(0, 2, 1)  # permute to [batch_size, input_size, seq_len]\n",
        "        x = x.to(self.device)\n",
        "        y = y.to(torch.long).to(self.device) # cast y to long\n",
        "        outputs = self(x)\n",
        "        loss = F.cross_entropy(outputs, y)\n",
        "        self.log('val_loss', loss)\n",
        "        _, predicted = torch.max(outputs.data, 1)\n",
        "        correct = (predicted == y).sum().item()\n",
        "        total = y.size(0)\n",
        "        accuracy = correct / total\n",
        "        self.log('val_accuracy', accuracy)\n",
        "        self.val_loss_step.append(loss.item())\n",
        "        self.val_acc_step.append(accuracy)\n",
        "        return {\"val_loss\": loss}\n",
        "\n",
        "    def on_train_epoch_end(self):\n",
        "        self.train_loss.append(self.train_loss_step[-1])\n",
        "        self.train_acc.append(self.train_acc_step[-1])\n",
        "        self.train_loss_step = []\n",
        "        self.train_acc_step = []\n",
        "        self.val_loss.append(self.val_loss_step[-1])\n",
        "        self.val_acc.append(self.val_acc_step[-1])\n",
        "        self.val_loss_step = []\n",
        "        self.val_acc_step = []\n",
        "\n",
        "    def test_step(self, batch, batch_idx):\n",
        "        x, y = batch\n",
        "        x = x.permute(0, 2, 1)  # permute to [batch_size, input_size, seq_len]\n",
        "        x = x.to(self.device)\n",
        "        y = y.to(torch.long).to(self.device) # cast y to long\n",
        "        outputs = self(x)\n",
        "        _, predicted = torch.max(outputs.data, 1)\n",
        "        correct = (predicted == y).sum().item()\n",
        "        total = y.size(0)\n",
        "        accuracy = correct / total\n",
        "        self.log('test_accuracy', accuracy)\n",
        "        return {\"test_accuracy\": accuracy}\n",
        "\n",
        "    def configure_optimizers(self):\n",
        "        optimizer = torch.optim.AdamW(self.parameters(), lr=learning_rate)\n",
        "        scheduler = torch.optim.lr_scheduler.ReduceLROnPlateau(optimizer, patience=5)\n",
        "        return {\"optimizer\": optimizer, \"lr_scheduler\": scheduler, \"monitor\": \"val_loss\"}"
      ],
      "metadata": {
        "id": "WUuA8pqUX_6o"
      },
      "execution_count": null,
      "outputs": []
    },
    {
      "cell_type": "code",
      "source": [
        "# Define the LightningModule\n",
        "class RNNModel_T2(pl.LightningModule):\n",
        "    def __init__(self, input_size, hidden_size, num_layers, num_classes):\n",
        "        super(RNNModel_T2, self).__init__()\n",
        "        self.train_loss = []\n",
        "        self.train_acc = []\n",
        "        self.train_loss_step = []\n",
        "        self.train_acc_step = []\n",
        "        self.val_loss_step = []\n",
        "        self.val_acc_step = []\n",
        "        self.val_loss = []\n",
        "        self.val_acc = []\n",
        "        self.clf_report = \"\"\n",
        "        # Add more LSTM layers and skip connections\n",
        "        self.num_layers = num_layers\n",
        "        self.hidden_size = hidden_size\n",
        "        self.rnn1 = nn.LSTM(input_size, hidden_size, num_layers=num_layers, batch_first=True, bidirectional=True)\n",
        "        self.rnn2 = nn.LSTM(hidden_size * 2, hidden_size, num_layers=num_layers, batch_first=True, bidirectional=True)\n",
        "        self.attention = nn.Sequential(\n",
        "            nn.Linear(hidden_size * 2, hidden_size),\n",
        "            nn.Tanh(),\n",
        "            nn.Linear(hidden_size, 1),\n",
        "            nn.Softmax(dim=1)\n",
        "        )\n",
        "        self.fc1 = nn.Linear(hidden_size * 2, hidden_size)\n",
        "        self.fc2 = nn.Linear(hidden_size * 3, hidden_size)\n",
        "        self.fc3 = nn.Linear(hidden_size * 3, num_classes)\n",
        "        self.dropout = nn.Dropout(0.2)\n",
        "        self.relu = nn.ReLU()\n",
        "\n",
        "    def forward(self, x):\n",
        "        h0 = torch.zeros(self.num_layers * 2, x.size(0), self.hidden_size).to(device=self.device)\n",
        "        c0 = torch.zeros(self.num_layers * 2, x.size(0), self.hidden_size).to(device=self.device)\n",
        "        out1, _ = self.rnn1(x, (h0, c0))\n",
        "        attention_weights = self.attention(out1)\n",
        "        attended_out1 = torch.sum(out1 * attention_weights, dim=1)\n",
        "        out2, _ = self.rnn2(out1, (h0, c0))\n",
        "        attention_weights = self.attention(out2)\n",
        "        attended_out2 = torch.sum(out2 * attention_weights, dim=1)\n",
        "\n",
        "        # Add skip connection\n",
        "        out = self.dropout(self.relu(self.fc1(attended_out2)))\n",
        "        out = torch.cat([out, attended_out2], dim=1)\n",
        "        out = self.dropout(self.relu(self.fc2(out)))\n",
        "        out = torch.cat([out, attended_out1], dim=1)\n",
        "        out = self.fc3(out)\n",
        "        return out\n",
        "        \n",
        "    def training_step(self, batch, batch_idx):\n",
        "        x, y = batch\n",
        "        x = x.permute(0, 2, 1)  # permute to [batch_size, input_size, seq_len]\n",
        "        x = x.to(self.device)\n",
        "        y = y.to(torch.long).to(self.device) # cast y to long\n",
        "        outputs = self(x)\n",
        "        loss = F.cross_entropy(outputs, y)\n",
        "        self.log('train_loss', loss)\n",
        "        _, predicted = torch.max(outputs.data, 1)\n",
        "        correct = (predicted == y).sum().item()\n",
        "        total = y.size(0)\n",
        "        accuracy = correct / total\n",
        "        self.log('train_accuracy', accuracy)\n",
        "        self.train_loss_step.append(loss.item())\n",
        "        self.train_acc_step.append(accuracy)\n",
        "        return {\"loss\": loss}\n",
        "        \n",
        "    def validation_step(self, batch, batch_idx):\n",
        "        x, y = batch\n",
        "        x = x.permute(0, 2, 1)  # permute to [batch_size, input_size, seq_len]\n",
        "        x = x.to(self.device)\n",
        "        y = y.to(torch.long).to(self.device) # cast y to long\n",
        "        outputs = self(x)\n",
        "        loss = F.cross_entropy(outputs, y)\n",
        "        self.log('val_loss', loss)\n",
        "        _, predicted = torch.max(outputs.data, 1)\n",
        "        correct = (predicted == y).sum().item()\n",
        "        total = y.size(0)\n",
        "        accuracy = correct / total\n",
        "        self.log('val_accuracy', accuracy)\n",
        "        self.val_loss_step.append(loss.item())\n",
        "        self.val_acc_step.append(accuracy)\n",
        "        return {\"val_loss\": loss}\n",
        "\n",
        "    def on_train_epoch_end(self):\n",
        "        self.train_loss.append(self.train_loss_step[-1])\n",
        "        self.train_acc.append(self.train_acc_step[-1])\n",
        "        self.train_loss_step = []\n",
        "        self.train_acc_step = []\n",
        "        self.val_loss.append(self.val_loss_step[-1])\n",
        "        self.val_acc.append(self.val_acc_step[-1])\n",
        "        self.val_loss_step = []\n",
        "        self.val_acc_step = []\n",
        "\n",
        "    def test_step(self, batch, batch_idx):\n",
        "        x, y = batch\n",
        "        x = x.permute(0, 2, 1)  # permute to [batch_size, input_size, seq_len]\n",
        "        x = x.to(self.device)\n",
        "        y = y.to(torch.long).to(self.device) # cast y to long\n",
        "        outputs = self(x)\n",
        "        _, predicted = torch.max(outputs.data, 1)\n",
        "        correct = (predicted == y).sum().item()\n",
        "        total = y.size(0)\n",
        "        accuracy = correct / total\n",
        "        self.log('test_accuracy', accuracy)\n",
        "        return {\"test_accuracy\": accuracy}\n",
        "\n",
        "    def configure_optimizers(self):\n",
        "        optimizer = torch.optim.AdamW(self.parameters(), lr=learning_rate)\n",
        "        scheduler = torch.optim.lr_scheduler.ReduceLROnPlateau(optimizer, patience=5)\n",
        "        return {\"optimizer\": optimizer, \"lr_scheduler\": scheduler, \"monitor\": \"val_loss\"}"
      ],
      "metadata": {
        "id": "Ch4K0hCKjXT0"
      },
      "execution_count": null,
      "outputs": []
    },
    {
      "cell_type": "code",
      "source": [
        "from torch.nn.modules import Conv2d\n",
        "class RNNModel_T3(pl.LightningModule):\n",
        "    def __init__(self, input_size, hidden_size, num_layers, num_classes):\n",
        "        super(RNNModel_T3, self).__init__()\n",
        "        self.train_loss = []\n",
        "        self.train_acc = []\n",
        "        self.train_loss_step = []\n",
        "        self.train_acc_step = []\n",
        "        self.val_loss_step = []\n",
        "        self.val_acc_step = []\n",
        "        self.val_loss = []\n",
        "        self.val_acc = []\n",
        "        self.clf_report = \"\"\n",
        "\n",
        "        self.num_layers = num_layers\n",
        "        self.hidden_size = hidden_size\n",
        "\n",
        "        # Define the RNN layers\n",
        "        self.rnn1 = nn.LSTM(input_size, hidden_size, num_layers=num_layers, batch_first=True, bidirectional=True)\n",
        "        self.rnn2 = nn.LSTM(hidden_size * 2, hidden_size, num_layers=num_layers, batch_first=True, bidirectional=True)\n",
        "        self.rnn3 = nn.LSTM(hidden_size * 2, hidden_size, num_layers=num_layers, batch_first=True, bidirectional=True)\n",
        "\n",
        "        # Define the attention layer\n",
        "        self.attention1 = nn.Sequential(\n",
        "            nn.Linear(hidden_size * 2, hidden_size),\n",
        "            nn.Tanh(),\n",
        "            nn.Linear(hidden_size, 1),\n",
        "            nn.Softmax(dim=1)\n",
        "        )\n",
        "\n",
        "        self.attention2 = nn.Sequential(\n",
        "            nn.Linear(hidden_size * 2, hidden_size),\n",
        "            nn.Tanh(),\n",
        "            nn.Linear(hidden_size, 1),\n",
        "            nn.Softmax(dim=1)\n",
        "        )\n",
        "\n",
        "        self.attention3 = nn.Sequential(\n",
        "            nn.Linear(hidden_size * 2, hidden_size),\n",
        "            nn.Tanh(),\n",
        "            nn.Linear(hidden_size, 1),\n",
        "            nn.Softmax(dim=1)\n",
        "        )\n",
        "        # Define the fully connected layers\n",
        "        self.fc1 = nn.Linear(hidden_size * 2, hidden_size)\n",
        "        self.fc2 = nn.Linear(hidden_size * 3, hidden_size)\n",
        "        self.fc3 = nn.Linear(hidden_size * 3, num_classes)\n",
        "\n",
        "        # Define the dropout and activation functions\n",
        "        self.dropout = nn.Dropout(0.2)\n",
        "        self.relu = nn.ReLU()\n",
        "\n",
        "    def forward(self, x):\n",
        "        h0 = torch.zeros(self.num_layers * 2, x.size(0), self.hidden_size).to(device=self.device)\n",
        "        c0 = torch.zeros(self.num_layers * 2, x.size(0), self.hidden_size).to(device=self.device)\n",
        "\n",
        "        h1 = torch.zeros(self.num_layers * 2, x.size(0), self.hidden_size).to(device=self.device)\n",
        "        c1 = torch.zeros(self.num_layers * 2, x.size(0), self.hidden_size).to(device=self.device)\n",
        "\n",
        "        h2 = torch.zeros(self.num_layers * 2, x.size(0), self.hidden_size).to(device=self.device)\n",
        "        c2 = torch.zeros(self.num_layers * 2, x.size(0), self.hidden_size).to(device=self.device)\n",
        "\n",
        "        # Pass the input through the RNN layers\n",
        "        out1, _ = self.rnn1(x, (h0, c0))\n",
        "        attention_weights = self.attention1(out1)\n",
        "        attended_out1 = torch.sum(out1 * attention_weights, dim=1)\n",
        "\n",
        "        out2, _ = self.rnn2(out1, (h1, c1))\n",
        "        attention_weights = self.attention2(out2)\n",
        "        attended_out2 = torch.sum(out2 * attention_weights, dim=1)\n",
        "\n",
        "        out3, _ = self.rnn3(out2, (h2, c2))\n",
        "        attention_weights = self.attention3(out3)\n",
        "        attended_out3 = torch.sum(out3 * attention_weights, dim=1)\n",
        "\n",
        "        # Concatenate the attended outputs and add the skip connection\n",
        "        out = self.dropout(self.relu(self.fc1(attended_out3)))\n",
        "        out = torch.cat([out, attended_out3], dim=1)\n",
        "        out = self.dropout(self.relu(self.fc2(out)))\n",
        "        out = torch.cat([out, attended_out2], dim=1)\n",
        "        out = self.fc3(out)\n",
        "\n",
        "        return out\n",
        "\n",
        "    def training_step(self, batch, batch_idx):\n",
        "        x, y = batch\n",
        "        x = x.permute(0, 2, 1)  # permute to [batch_size, input_size, seq_len]\n",
        "        x = x.to(self.device)\n",
        "        y = y.to(torch.long).to(self.device) # cast y to long\n",
        "        outputs = self(x)\n",
        "        loss = F.cross_entropy(outputs, y)\n",
        "        self.log('train_loss', loss)\n",
        "        _, predicted = torch.max(outputs.data, 1)\n",
        "        correct = (predicted == y).sum().item()\n",
        "        total = y.size(0)\n",
        "        accuracy = correct / total\n",
        "        self.log('train_accuracy', accuracy)\n",
        "        self.train_loss_step.append(loss.item())\n",
        "        self.train_acc_step.append(accuracy)\n",
        "        return {\"loss\": loss}\n",
        "        \n",
        "    def validation_step(self, batch, batch_idx):\n",
        "        x, y = batch\n",
        "        x = x.permute(0, 2, 1)  # permute to [batch_size, input_size, seq_len]\n",
        "        x = x.to(self.device)\n",
        "        y = y.to(torch.long).to(self.device) # cast y to long\n",
        "        outputs = self(x)\n",
        "        loss = F.cross_entropy(outputs, y)\n",
        "        self.log('val_loss', loss)\n",
        "        _, predicted = torch.max(outputs.data, 1)\n",
        "        correct = (predicted == y).sum().item()\n",
        "        total = y.size(0)\n",
        "        accuracy = correct / total\n",
        "        self.log('val_accuracy', accuracy)\n",
        "        self.val_loss_step.append(loss.item())\n",
        "        self.val_acc_step.append(accuracy)\n",
        "        return {\"val_loss\": loss}\n",
        "\n",
        "    def on_train_epoch_end(self):\n",
        "        self.train_loss.append(self.train_loss_step[-1])\n",
        "        self.train_acc.append(self.train_acc_step[-1])\n",
        "        self.train_loss_step = []\n",
        "        self.train_acc_step = []\n",
        "        self.val_loss.append(self.val_loss_step[-1])\n",
        "        self.val_acc.append(self.val_acc_step[-1])\n",
        "        self.val_loss_step = []\n",
        "        self.val_acc_step = []\n",
        "\n",
        "    def test_step(self, batch, batch_idx):\n",
        "        x, y = batch\n",
        "        x = x.permute(0, 2, 1)  # permute to [batch_size, input_size, seq_len]\n",
        "        x = x.to(self.device)\n",
        "        y = y.to(torch.long).to(self.device) # cast y to long\n",
        "        outputs = self(x)\n",
        "        _, predicted = torch.max(outputs.data, 1)\n",
        "        correct = (predicted == y).sum().item()\n",
        "        total = y.size(0)\n",
        "        accuracy = correct / total\n",
        "        self.log('test_accuracy', accuracy)\n",
        "        return {\"test_accuracy\": accuracy}\n",
        "\n",
        "    def configure_optimizers(self):\n",
        "        optimizer = torch.optim.AdamW(self.parameters(), lr=learning_rate)\n",
        "        scheduler = torch.optim.lr_scheduler.ReduceLROnPlateau(optimizer, patience=5)\n",
        "        return {\"optimizer\": optimizer, \"lr_scheduler\": scheduler, \"monitor\": \"val_loss\"}"
      ],
      "metadata": {
        "id": "cQ_s1yADqPfV"
      },
      "execution_count": null,
      "outputs": []
    },
    {
      "cell_type": "code",
      "source": [
        "from torch.nn.modules import Conv2d\n",
        "class RNNModel_T4(pl.LightningModule):\n",
        "    def __init__(self, input_size, hidden_size, num_layers, num_classes):\n",
        "        super(RNNModel_T3, self).__init__()\n",
        "        self.train_loss = []\n",
        "        self.train_acc = []\n",
        "        self.train_loss_step = []\n",
        "        self.train_acc_step = []\n",
        "        self.val_loss_step = []\n",
        "        self.val_acc_step = []\n",
        "        self.val_loss = []\n",
        "        self.val_acc = []\n",
        "        self.clf_report = \"\"\n",
        "\n",
        "        self.num_layers = num_layers\n",
        "        self.hidden_size = hidden_size\n",
        "\n",
        "        # Define the RNN layers\n",
        "        self.rnn1 = nn.LSTM(input_size, hidden_size, num_layers=num_layers, batch_first=True, bidirectional=True)\n",
        "        self.rnn2 = nn.LSTM(hidden_size * 2, hidden_size, num_layers=num_layers, batch_first=True, bidirectional=True)\n",
        "        self.rnn3 = nn.LSTM(hidden_size * 2, hidden_size, num_layers=num_layers, batch_first=True, bidirectional=True)\n",
        "\n",
        "        # Define the attention layers\n",
        "        self.attention1 = nn.Sequential(\n",
        "            nn.Linear(hidden_size * 2, hidden_size),\n",
        "            nn.Tanh(),\n",
        "            nn.Linear(hidden_size, 1),\n",
        "            nn.Softmax(dim=1)\n",
        "        )\n",
        "\n",
        "        self.attention2 = nn.Sequential(\n",
        "            nn.Linear(hidden_size * 2, hidden_size),\n",
        "            nn.Tanh(),\n",
        "            nn.Linear(hidden_size, 1),\n",
        "            nn.Softmax(dim=1)\n",
        "        )\n",
        "\n",
        "        self.attention3 = nn.Sequential(\n",
        "            nn.Linear(hidden_size * 2, hidden_size),\n",
        "            nn.Tanh(),\n",
        "            nn.Linear(hidden_size, 1),\n",
        "            nn.Softmax(dim=1)\n",
        "        )\n",
        "\n",
        "        # Define the fully connected layers\n",
        "        self.fc1 = nn.Linear(hidden_size * 2, hidden_size)\n",
        "        self.fc2 = nn.Linear(hidden_size * 4, hidden_size)\n",
        "        self.fc3 = nn.Linear(hidden_size * 3, num_classes)\n",
        "\n",
        "        # Define the dropout and activation functions\n",
        "        self.dropout = nn.Dropout(0.2)\n",
        "        self.relu = nn.ReLU()\n",
        "\n",
        "    def forward(self, x):\n",
        "        h0 = torch.zeros(self.num_layers * 2, x.size(0), self.hidden_size).to(device=self.device)\n",
        "        c0 = torch.zeros(self.num_layers * 2, x.size(0), self.hidden_size).to(device=self.device)\n",
        "\n",
        "        h1 = torch.zeros(self.num_layers * 2, x.size(0), self.hidden_size).to(device=self.device)\n",
        "        c1 = torch.zeros(self.num_layers * 2, x.size(0), self.hidden_size).to(device=self.device)\n",
        "\n",
        "        h2 = torch.zeros(self.num_layers * 2, x.size(0), self.hidden_size).to(device=self.device)\n",
        "        c2 = torch.zeros(self.num_layers * 2, x.size(0), self.hidden_size).to(device=self.device)\n",
        "\n",
        "        # Pass the input through the RNN layers\n",
        "        out1, _ = self.rnn1(x, (h0, c0))\n",
        "        attention_weights1 = self.attention1(out1)\n",
        "        attended_out1 = torch.sum(out1 * attention_weights1, dim=1)\n",
        "\n",
        "        out2, _ = self.rnn2(torch.cat([out1, attended_out1], dim=2), (h1, c1))\n",
        "        attention_weights2 = self.attention2(out2)\n",
        "        attended_out2 = torch.sum(out2 * attention_weights2, dim=1)\n",
        "        out3, _ = self.rnn3(torch.cat([out2, attended_out2], dim=2), (h2, c2))\n",
        "        attention_weights3 = self.attention3(out3)\n",
        "        attended_out3 = torch.sum(out3 * attention_weights3, dim=1)\n",
        "\n",
        "        # Pass the output through the fully connected layers\n",
        "        fc1_out = self.relu(self.fc1(attended_out3))\n",
        "        fc2_out = self.relu(self.fc2(torch.cat([attended_out1, attended_out2, fc1_out], dim=1)))\n",
        "        out = self.fc3(torch.cat([fc1_out, fc2_out, attended_out3], dim=1))\n",
        "\n",
        "        return out\n",
        "        \n",
        "    def training_step(self, batch, batch_idx):\n",
        "        x, y = batch\n",
        "        x = x.permute(0, 2, 1)  # permute to [batch_size, input_size, seq_len]\n",
        "        x = x.to(self.device)\n",
        "        y = y.to(torch.long).to(self.device) # cast y to long\n",
        "        outputs = self(x)\n",
        "        loss = F.cross_entropy(outputs, y)\n",
        "        self.log('train_loss', loss)\n",
        "        _, predicted = torch.max(outputs.data, 1)\n",
        "        correct = (predicted == y).sum().item()\n",
        "        total = y.size(0)\n",
        "        accuracy = correct / total\n",
        "        self.log('train_accuracy', accuracy)\n",
        "        self.train_loss_step.append(loss.item())\n",
        "        self.train_acc_step.append(accuracy)\n",
        "        return {\"loss\": loss}\n",
        "        \n",
        "    def validation_step(self, batch, batch_idx):\n",
        "        x, y = batch\n",
        "        x = x.permute(0, 2, 1)  # permute to [batch_size, input_size, seq_len]\n",
        "        x = x.to(self.device)\n",
        "        y = y.to(torch.long).to(self.device) # cast y to long\n",
        "        outputs = self(x)\n",
        "        loss = F.cross_entropy(outputs, y)\n",
        "        self.log('val_loss', loss)\n",
        "        _, predicted = torch.max(outputs.data, 1)\n",
        "        correct = (predicted == y).sum().item()\n",
        "        total = y.size(0)\n",
        "        accuracy = correct / total\n",
        "        self.log('val_accuracy', accuracy)\n",
        "        self.val_loss_step.append(loss.item())\n",
        "        self.val_acc_step.append(accuracy)\n",
        "        return {\"val_loss\": loss}\n",
        "\n",
        "    def on_train_epoch_end(self):\n",
        "        self.train_loss.append(self.train_loss_step[-1])\n",
        "        self.train_acc.append(self.train_acc_step[-1])\n",
        "        self.train_loss_step = []\n",
        "        self.train_acc_step = []\n",
        "        self.val_loss.append(self.val_loss_step[-1])\n",
        "        self.val_acc.append(self.val_acc_step[-1])\n",
        "        self.val_loss_step = []\n",
        "        self.val_acc_step = []\n",
        "\n",
        "    def test_step(self, batch, batch_idx):\n",
        "        x, y = batch\n",
        "        x = x.permute(0, 2, 1)  # permute to [batch_size, input_size, seq_len]\n",
        "        x = x.to(self.device)\n",
        "        y = y.to(torch.long).to(self.device) # cast y to long\n",
        "        outputs = self(x)\n",
        "        _, predicted = torch.max(outputs.data, 1)\n",
        "        correct = (predicted == y).sum().item()\n",
        "        total = y.size(0)\n",
        "        accuracy = correct / total\n",
        "        self.log('test_accuracy', accuracy)\n",
        "        return {\"test_accuracy\": accuracy}\n",
        "\n",
        "    def configure_optimizers(self):\n",
        "        optimizer = torch.optim.AdamW(self.parameters(), lr=learning_rate)\n",
        "        scheduler = torch.optim.lr_scheduler.ReduceLROnPlateau(optimizer, patience=5)\n",
        "        return {\"optimizer\": optimizer, \"lr_scheduler\": scheduler, \"monitor\": \"val_loss\"}"
      ],
      "metadata": {
        "id": "dDgtIscNzOJJ"
      },
      "execution_count": null,
      "outputs": []
    },
    {
      "cell_type": "code",
      "source": [
        "# import matplotlib.pyplot as plt\n",
        "\n",
        "# # Create the data module and the model, and train the model with early stopping\n",
        "# data_module_sequential = SequentialDataModule(batch_size, train_sequential_X, val_sequential_X, train_sequential_y, val_sequential_y)\n",
        "# model_sequential = RNNModel_Deeper(input_size=input_size, hidden_size=hidden_size, num_layers=num_layers, num_classes=num_classes)\n",
        "\n",
        "# # Define the EarlyStopping callback\n",
        "# early_stop_callback = pl.callbacks.EarlyStopping(monitor='val_loss', patience=5)\n",
        "\n",
        "# # Create a PyTorch Lightning Trainer\n",
        "# trainer_sequential = pl.Trainer(max_epochs=num_epochs, callbacks=[early_stop_callback])\n",
        "\n",
        "# # Train the model\n",
        "# for epoch in range(num_epochs):\n",
        "#     trainer_sequential.fit(model_sequential, datamodule=data_module_sequential)\n",
        "    \n",
        "# # Test the model\n",
        "# trainer_sequential.test(datamodule=data_module_sequential)"
      ],
      "metadata": {
        "id": "C8zdM3sLY9yz"
      },
      "execution_count": null,
      "outputs": []
    },
    {
      "cell_type": "code",
      "source": [
        "# save_model_as_pickle(model_sequential, \"sequential_save\")\n",
        "model_sequential = load_model_from_pickle(\"sequential_save\")"
      ],
      "metadata": {
        "id": "clqCYHNQLHgd"
      },
      "execution_count": null,
      "outputs": []
    },
    {
      "cell_type": "code",
      "source": [
        "test_dataset_sequential = TensorDataset(torch.Tensor(val_sequential_X), torch.Tensor(val_sequential_y))\n",
        "test_loader_sequential = DataLoader(test_dataset_sequential, batch_size=batch_size, shuffle=False)\n",
        "num_samples_sequential = len(test_dataset_sequential)  # get number of samples in dataset\n",
        "\n",
        "# Evaluate model on test set\n",
        "predictions_sequential = []\n",
        "true_labels_sequential = []\n",
        "with torch.no_grad():\n",
        "    for batch in test_loader_sequential:\n",
        "        x, y = batch\n",
        "        x = x.view(100, 1, 784)\n",
        "        output_sequential = model_sequential(x)\n",
        "        _, predicted_sequential = torch.max(output_sequential.data, 1)\n",
        "        predictions_sequential.extend(predicted_sequential.cpu().numpy())\n",
        "        true_labels_sequential.extend(y.cpu().numpy())\n",
        "\n",
        "# Calculate classification report\n",
        "report_sequential = classification_report(true_labels_sequential, predictions_sequential)\n",
        "print(report_sequential)"
      ],
      "metadata": {
        "colab": {
          "base_uri": "https://localhost:8080/"
        },
        "id": "fkQZF6Gy34jd",
        "outputId": "bac77ed8-b1b1-4c27-aed3-4e8987e5be44"
      },
      "execution_count": null,
      "outputs": [
        {
          "output_type": "stream",
          "name": "stdout",
          "text": [
            "              precision    recall  f1-score   support\n",
            "\n",
            "         0.0       0.99      0.98      0.99      1185\n",
            "         1.0       0.98      0.99      0.98      1348\n",
            "         2.0       0.97      0.97      0.97      1192\n",
            "         3.0       0.98      0.96      0.97      1226\n",
            "         4.0       0.98      0.99      0.98      1168\n",
            "         5.0       0.97      0.97      0.97      1084\n",
            "         6.0       0.98      0.98      0.98      1184\n",
            "         7.0       0.98      0.98      0.98      1253\n",
            "         8.0       0.94      0.98      0.96      1170\n",
            "         9.0       0.98      0.97      0.97      1190\n",
            "\n",
            "    accuracy                           0.98     12000\n",
            "   macro avg       0.98      0.98      0.98     12000\n",
            "weighted avg       0.98      0.98      0.98     12000\n",
            "\n"
          ]
        }
      ]
    },
    {
      "cell_type": "code",
      "source": [
        "def plot_train_val(train_loss, val_loss, type):\n",
        "  epochs = len(val_loss)\n",
        "  plt.plot(train_loss, label = f\"Train {type}\")\n",
        "  plt.plot(val_loss, label = f\"Val {type}\")\n",
        "  plt.legend()"
      ],
      "metadata": {
        "id": "52EgKhAbmz13"
      },
      "execution_count": null,
      "outputs": []
    },
    {
      "cell_type": "code",
      "source": [
        "plot_train_val(model_sequential.train_loss, model_sequential.val_loss, \"Loss\")"
      ],
      "metadata": {
        "colab": {
          "base_uri": "https://localhost:8080/",
          "height": 430
        },
        "id": "umWtq8OAnLUD",
        "outputId": "0b179670-2632-44d7-b356-af97dbca93e3"
      },
      "execution_count": null,
      "outputs": [
        {
          "output_type": "display_data",
          "data": {
            "text/plain": [
              "<Figure size 640x480 with 1 Axes>"
            ],
            "image/png": "[encoded data removed]"
          },
          "metadata": {}
        }
      ]
    },
    {
      "cell_type": "code",
      "source": [
        "plot_train_val(model_sequential.train_acc, model_sequential.val_acc, \"Accuracy\")"
      ],
      "metadata": {
        "colab": {
          "base_uri": "https://localhost:8080/",
          "height": 430
        },
        "id": "y4ySoG03wQYK",
        "outputId": "076a5808-54e0-4e35-e647-393dfd5d297a"
      },
      "execution_count": null,
      "outputs": [
        {
          "output_type": "display_data",
          "data": {
            "text/plain": [
              "<Figure size 640x480 with 1 Axes>"
            ],
            "image/png": "[encoded data removed]"
          },
          "metadata": {}
        }
      ]
    },
    {
      "cell_type": "code",
      "source": [
        "# # Create the data module and the model, and train the model with early stopping\n",
        "# data_module_permuted = PermutedMNISTDataModule(batch_size, train_permuted_X, val_permuted_X, train_permuted_y, val_permuted_y)\n",
        "# model_permuted = RNNModel_Deeper(input_size=input_size, hidden_size=hidden_size, num_layers=num_layers, num_classes=num_classes)\n",
        "\n",
        "# # Define the EarlyStopping callback\n",
        "# early_stop_callback_permuted = pl.callbacks.EarlyStopping(monitor='val_loss', patience=10)\n",
        "\n",
        "# # Create a PyTorch Lightning Trainer\n",
        "# trainer_permuted = pl.Trainer(max_epochs=num_epochs, callbacks=[early_stop_callback_permuted])\n",
        "\n",
        "# # Train the model\n",
        "# trainer_permuted.fit(model_permuted, datamodule=data_module_permuted)\n",
        "\n",
        "# # Test the model\n",
        "# trainer_permuted.test(datamodule=data_module_permuted)"
      ],
      "metadata": {
        "id": "ictWYQDvcZSa"
      },
      "execution_count": null,
      "outputs": []
    },
    {
      "cell_type": "code",
      "source": [
        "# save_model_as_pickle(model_permuted, \"permuted_save\")\n",
        "model_permuted = load_model_from_pickle(\"permuted_save\")"
      ],
      "metadata": {
        "id": "7zMVfpaUMIL7"
      },
      "execution_count": null,
      "outputs": []
    },
    {
      "cell_type": "code",
      "source": [
        "test_dataset_permuted = TensorDataset(torch.Tensor(val_permuted_X), torch.Tensor(val_permuted_y))\n",
        "test_loader_permuted = DataLoader(test_dataset_permuted, batch_size=batch_size, shuffle=False)\n",
        "num_samples_permuted = len(test_dataset_permuted)  # get number of samples in dataset\n",
        "\n",
        "# Evaluate model on test set\n",
        "predictions_permuted = []\n",
        "true_labels_permuted = []\n",
        "with torch.no_grad():\n",
        "    for batch in test_loader_permuted:\n",
        "        x, y = batch\n",
        "        x = x.view(100, 1, 784)\n",
        "        output_permuted = model_permuted(x)\n",
        "        _, predicted_permuted = torch.max(output_permuted.data, 1)\n",
        "        predictions_permuted.extend(predicted_permuted.cpu().numpy())\n",
        "        true_labels_permuted.extend(y.cpu().numpy())\n",
        "\n",
        "# Calculate classification report\n",
        "report_permuted = classification_report(true_labels_permuted, predictions_permuted)\n",
        "print(report_permuted)"
      ],
      "metadata": {
        "id": "lkIJc-LiiNbl",
        "colab": {
          "base_uri": "https://localhost:8080/"
        },
        "outputId": "f8fe3a83-dbc2-48a6-e5ae-e1e15037d7b8"
      },
      "execution_count": null,
      "outputs": [
        {
          "output_type": "stream",
          "name": "stdout",
          "text": [
            "              precision    recall  f1-score   support\n",
            "\n",
            "         0.0       0.98      0.99      0.99      1185\n",
            "         1.0       0.98      0.99      0.99      1348\n",
            "         2.0       0.97      0.98      0.97      1192\n",
            "         3.0       0.98      0.96      0.97      1226\n",
            "         4.0       0.98      0.98      0.98      1168\n",
            "         5.0       0.97      0.97      0.97      1084\n",
            "         6.0       0.99      0.98      0.98      1184\n",
            "         7.0       0.98      0.97      0.98      1253\n",
            "         8.0       0.97      0.97      0.97      1170\n",
            "         9.0       0.97      0.97      0.97      1190\n",
            "\n",
            "    accuracy                           0.98     12000\n",
            "   macro avg       0.98      0.98      0.98     12000\n",
            "weighted avg       0.98      0.98      0.98     12000\n",
            "\n"
          ]
        }
      ]
    },
    {
      "cell_type": "code",
      "source": [
        "plot_train_val(model_permuted.train_loss, model_permuted.val_loss, \"Loss\")"
      ],
      "metadata": {
        "colab": {
          "base_uri": "https://localhost:8080/",
          "height": 430
        },
        "id": "1C8S8bhC6Igu",
        "outputId": "7015cd8c-66c9-4e60-fa07-e8c3232bef9f"
      },
      "execution_count": null,
      "outputs": [
        {
          "output_type": "display_data",
          "data": {
            "text/plain": [
              "<Figure size 640x480 with 1 Axes>"
            ],
            "image/png": "[encoded data removed]"
          },
          "metadata": {}
        }
      ]
    },
    {
      "cell_type": "code",
      "source": [
        "plot_train_val(model_permuted.train_acc, model_permuted.val_acc, \"Accuracy\")"
      ],
      "metadata": {
        "colab": {
          "base_uri": "https://localhost:8080/",
          "height": 430
        },
        "id": "6cAvcAUg6JzQ",
        "outputId": "7f051c3d-60e6-4bf3-f93d-9d79de012be4"
      },
      "execution_count": null,
      "outputs": [
        {
          "output_type": "display_data",
          "data": {
            "text/plain": [
              "<Figure size 640x480 with 1 Axes>"
            ],
            "image/png": "[encoded data removed]"
          },
          "metadata": {}
        }
      ]
    },
    {
      "cell_type": "markdown",
      "source": [
        "## Combine Train and Val"
      ],
      "metadata": {
        "id": "gpWuWFveCfsg"
      }
    },
    {
      "cell_type": "markdown",
      "source": [
        "### Sequential"
      ],
      "metadata": {
        "id": "gOhHwHmkNJQo"
      }
    },
    {
      "cell_type": "code",
      "source": [
        "# import matplotlib.pyplot as plt\n",
        "\n",
        "# # Create the data module and the model, and train the model with early stopping\n",
        "# data_module_sequential_full_data = SequentialDataModule(batch_size, sequential_X, val_sequential_X, sequential_y, val_sequential_y)\n",
        "# model_sequential_full_data = RNNModel_Deeper(input_size=input_size, hidden_size=hidden_size, num_layers=num_layers, num_classes=num_classes)\n",
        "\n",
        "# # Define the EarlyStopping callback\n",
        "# early_stop_callback = pl.callbacks.EarlyStopping(monitor='val_loss', patience=5)\n",
        "\n",
        "# # Create a PyTorch Lightning Trainer\n",
        "# trainer_sequential_full_data = pl.Trainer(max_epochs=num_epochs, callbacks=[early_stop_callback])\n",
        "\n",
        "# # Train the model\n",
        "# for epoch in range(num_epochs):\n",
        "#     trainer_sequential_full_data.fit(model_sequential_full_data, datamodule=data_module_sequential_full_data)\n",
        "    \n",
        "# # Test the model\n",
        "# trainer_sequential_full_data.test(datamodule=data_module_sequential_full_data)"
      ],
      "metadata": {
        "id": "hk3UDOjnChR7"
      },
      "execution_count": null,
      "outputs": []
    },
    {
      "cell_type": "code",
      "source": [
        "# save_model_as_pickle(model_sequential_full_data, \"model_sequential_full_data_save\")\n",
        "model_sequential_full_data = load_model_from_pickle(\"model_sequential_full_data_save\")"
      ],
      "metadata": {
        "id": "edV5wBT6MqBl"
      },
      "execution_count": null,
      "outputs": []
    },
    {
      "cell_type": "code",
      "source": [
        "test_dataset_sequential = TensorDataset(torch.Tensor(val_sequential_X), torch.Tensor(val_sequential_y))\n",
        "test_loader_sequential = DataLoader(test_dataset_sequential, batch_size=batch_size, shuffle=False)\n",
        "num_samples_sequential = len(test_dataset_sequential)  # get number of samples in dataset\n",
        "\n",
        "# Evaluate model on test set\n",
        "predictions_sequential = []\n",
        "true_labels_sequential = []\n",
        "with torch.no_grad():\n",
        "    for batch in test_loader_sequential:\n",
        "        x, y = batch\n",
        "        x = x.view(100, 1, 784)\n",
        "        output_sequential = model_sequential_full_data(x)\n",
        "        _, predicted_sequential = torch.max(output_sequential.data, 1)\n",
        "        predictions_sequential.extend(predicted_sequential.cpu().numpy())\n",
        "        true_labels_sequential.extend(y.cpu().numpy())\n",
        "\n",
        "# Calculate classification report\n",
        "report_sequential = classification_report(true_labels_sequential, predictions_sequential)\n",
        "print(report_sequential)"
      ],
      "metadata": {
        "id": "yZRpUVJsCn6z",
        "colab": {
          "base_uri": "https://localhost:8080/"
        },
        "outputId": "f5eca7ae-f2b8-4320-d901-39e590340af5"
      },
      "execution_count": null,
      "outputs": [
        {
          "output_type": "stream",
          "name": "stdout",
          "text": [
            "              precision    recall  f1-score   support\n",
            "\n",
            "         0.0       1.00      1.00      1.00      1185\n",
            "         1.0       1.00      1.00      1.00      1348\n",
            "         2.0       1.00      1.00      1.00      1192\n",
            "         3.0       1.00      1.00      1.00      1226\n",
            "         4.0       1.00      1.00      1.00      1168\n",
            "         5.0       1.00      1.00      1.00      1084\n",
            "         6.0       1.00      1.00      1.00      1184\n",
            "         7.0       1.00      1.00      1.00      1253\n",
            "         8.0       1.00      1.00      1.00      1170\n",
            "         9.0       1.00      1.00      1.00      1190\n",
            "\n",
            "    accuracy                           1.00     12000\n",
            "   macro avg       1.00      1.00      1.00     12000\n",
            "weighted avg       1.00      1.00      1.00     12000\n",
            "\n"
          ]
        }
      ]
    },
    {
      "cell_type": "markdown",
      "source": [
        "### Permuted"
      ],
      "metadata": {
        "id": "t1IOp8OHNLXd"
      }
    },
    {
      "cell_type": "code",
      "source": [
        "# # Create the data module and the model, and train the model with early stopping\n",
        "# data_module_permuted_full_data = PermutedMNISTDataModule(batch_size, train_permuted_X, val_permuted_X, train_permuted_y, val_permuted_y)\n",
        "# model_permuted_full_data = RNNModel_Deeper(input_size=input_size, hidden_size=hidden_size, num_layers=num_layers, num_classes=num_classes)\n",
        "\n",
        "# # Define the EarlyStopping callback\n",
        "# early_stop_callback_permuted = pl.callbacks.EarlyStopping(monitor='val_loss', patience=10)\n",
        "\n",
        "# # Create a PyTorch Lightning Trainer\n",
        "# trainer_permuted_full_data = pl.Trainer(max_epochs=num_epochs, callbacks=[early_stop_callback_permuted])\n",
        "\n",
        "# # Train the model\n",
        "# trainer_permuted_full_data.fit(model_permuted_full_data, datamodule=data_module_permuted_full_data)\n",
        "\n",
        "# # Test the model\n",
        "# trainer_permuted_full_data.test(datamodule=data_module_permuted_full_data)"
      ],
      "metadata": {
        "id": "lh9SBfJzM1hk"
      },
      "execution_count": null,
      "outputs": []
    },
    {
      "cell_type": "code",
      "source": [
        "# save_model_as_pickle(model_permuted_full_data, \"model_permuted_full_data_save\")\n",
        "model_permuted_full_data = load_model_from_pickle(\"model_permuted_full_data_save\")"
      ],
      "metadata": {
        "id": "ddq41I-_Ni01"
      },
      "execution_count": null,
      "outputs": []
    },
    {
      "cell_type": "code",
      "source": [
        "test_dataset_permuted = TensorDataset(torch.Tensor(val_permuted_X), torch.Tensor(val_permuted_y))\n",
        "test_loader_permuted = DataLoader(test_dataset_permuted, batch_size=batch_size, shuffle=False)\n",
        "num_samples_permuted = len(test_dataset_permuted)  # get number of samples in dataset\n",
        "\n",
        "# Evaluate model on test set\n",
        "predictions_permuted = []\n",
        "true_labels_permuted = []\n",
        "with torch.no_grad():\n",
        "    for batch in test_loader_permuted:\n",
        "        x, y = batch\n",
        "        x = x.view(100, 1, 784)\n",
        "        output_permuted = model_permuted_full_data(x)\n",
        "        _, predicted_permuted = torch.max(output_permuted.data, 1)\n",
        "        predictions_permuted.extend(predicted_permuted.cpu().numpy())\n",
        "        true_labels_permuted.extend(y.cpu().numpy())\n",
        "\n",
        "# Calculate classification report\n",
        "report_permuted = classification_report(true_labels_permuted, predictions_permuted)\n",
        "print(report_permuted)"
      ],
      "metadata": {
        "colab": {
          "base_uri": "https://localhost:8080/"
        },
        "id": "wN8rKKvxNmqR",
        "outputId": "d0accf30-ab0b-44f2-eaa6-e12a0f306c56"
      },
      "execution_count": null,
      "outputs": [
        {
          "output_type": "stream",
          "name": "stdout",
          "text": [
            "              precision    recall  f1-score   support\n",
            "\n",
            "         0.0       0.98      0.99      0.99      1185\n",
            "         1.0       0.99      0.99      0.99      1348\n",
            "         2.0       0.96      0.98      0.97      1192\n",
            "         3.0       0.98      0.96      0.97      1226\n",
            "         4.0       0.98      0.98      0.98      1168\n",
            "         5.0       0.97      0.98      0.97      1084\n",
            "         6.0       0.99      0.98      0.98      1184\n",
            "         7.0       0.98      0.97      0.98      1253\n",
            "         8.0       0.96      0.97      0.96      1170\n",
            "         9.0       0.97      0.97      0.97      1190\n",
            "\n",
            "    accuracy                           0.98     12000\n",
            "   macro avg       0.98      0.98      0.98     12000\n",
            "weighted avg       0.98      0.98      0.98     12000\n",
            "\n"
          ]
        }
      ]
    },
    {
      "cell_type": "markdown",
      "source": [
        "### Inference Pipeline"
      ],
      "metadata": {
        "id": "VgURgYDdQrkF"
      }
    },
    {
      "cell_type": "code",
      "source": [
        "def inference_pipeline(dataset, splitName, model_name, trained_on_val=True):\n",
        "  data_X = dataset[splitName]['images']\n",
        "  data_y = dataset[splitName]['labels']\n",
        "  data_X = data_X/255\n",
        "  model = None\n",
        "  if model_name == \"sequential\":\n",
        "    if trained_on_val:\n",
        "      model = load_model_from_pickle(\"model_sequential_full_data_save\")\n",
        "    else:\n",
        "      model = load_model_from_pickle(\"sequential_save\")\n",
        "  else:\n",
        "    if trained_on_val:\n",
        "      model = load_model_from_pickle(\"model_permuted_full_data_save\")\n",
        "    else:\n",
        "      model = load_model_from_pickle(\"permuted_save\")\n",
        "  \n",
        "  test_dataset = TensorDataset(torch.Tensor(data_X), torch.Tensor(data_y))\n",
        "  test_loader = DataLoader(test_dataset, batch_size=batch_size, shuffle=False)\n",
        "  num_samples = len(test_dataset)  # get number of samples in dataset\n",
        "\n",
        "  # Evaluate model on test set\n",
        "  predictions = []\n",
        "  true_labels = []\n",
        "  with torch.no_grad():\n",
        "      for batch in test_loader:\n",
        "          x, y = batch\n",
        "          x = x.view(100, 1, 784)\n",
        "          output = model(x)\n",
        "          _, predicted = torch.max(output.data, 1)\n",
        "          predictions.extend(predicted.cpu().numpy())\n",
        "          true_labels.extend(y.cpu().numpy())\n",
        "\n",
        "  # Calculate classification report\n",
        "  report_permuted = classification_report(true_labels, predictions)\n",
        "  print(report_permuted)"
      ],
      "metadata": {
        "id": "MNc4YfWhN9Ko"
      },
      "execution_count": null,
      "outputs": []
    },
    {
      "cell_type": "code",
      "source": [
        "inference_pipeline(sequentialMNIST, \"train\", \"sequential\", True)"
      ],
      "metadata": {
        "colab": {
          "base_uri": "https://localhost:8080/"
        },
        "id": "A0Zm3lkLSGkv",
        "outputId": "1cac5875-ec54-47fe-c080-fd4dba7b73dc"
      },
      "execution_count": null,
      "outputs": [
        {
          "output_type": "stream",
          "name": "stdout",
          "text": [
            "              precision    recall  f1-score   support\n",
            "\n",
            "         0.0       1.00      1.00      1.00      5923\n",
            "         1.0       1.00      1.00      1.00      6742\n",
            "         2.0       1.00      1.00      1.00      5958\n",
            "         3.0       1.00      1.00      1.00      6131\n",
            "         4.0       1.00      1.00      1.00      5842\n",
            "         5.0       1.00      1.00      1.00      5421\n",
            "         6.0       1.00      1.00      1.00      5918\n",
            "         7.0       1.00      1.00      1.00      6265\n",
            "         8.0       1.00      1.00      1.00      5851\n",
            "         9.0       1.00      1.00      1.00      5949\n",
            "\n",
            "    accuracy                           1.00     60000\n",
            "   macro avg       1.00      1.00      1.00     60000\n",
            "weighted avg       1.00      1.00      1.00     60000\n",
            "\n"
          ]
        }
      ]
    },
    {
      "cell_type": "code",
      "source": [
        "inference_pipeline(sequentialMNIST, \"train\", \"sequential\", False)"
      ],
      "metadata": {
        "colab": {
          "base_uri": "https://localhost:8080/"
        },
        "id": "sdH94xbGSSvP",
        "outputId": "1f9823ca-3add-4c0a-db54-e88bb85b22e9"
      },
      "execution_count": null,
      "outputs": [
        {
          "output_type": "stream",
          "name": "stdout",
          "text": [
            "              precision    recall  f1-score   support\n",
            "\n",
            "         0.0       1.00      0.99      1.00      5923\n",
            "         1.0       0.99      1.00      1.00      6742\n",
            "         2.0       0.99      0.99      0.99      5958\n",
            "         3.0       1.00      0.99      0.99      6131\n",
            "         4.0       0.99      0.99      0.99      5842\n",
            "         5.0       0.99      0.99      0.99      5421\n",
            "         6.0       0.99      0.99      0.99      5918\n",
            "         7.0       0.99      0.99      0.99      6265\n",
            "         8.0       0.98      0.99      0.99      5851\n",
            "         9.0       0.99      0.99      0.99      5949\n",
            "\n",
            "    accuracy                           0.99     60000\n",
            "   macro avg       0.99      0.99      0.99     60000\n",
            "weighted avg       0.99      0.99      0.99     60000\n",
            "\n"
          ]
        }
      ]
    },
    {
      "cell_type": "code",
      "source": [
        "inference_pipeline(permutedMNIST, \"train\", \"permuted\", True)"
      ],
      "metadata": {
        "colab": {
          "base_uri": "https://localhost:8080/"
        },
        "id": "CXo9Bj5YSupp",
        "outputId": "9a8db615-8a75-4fcb-9799-fa14cd63fb76"
      },
      "execution_count": null,
      "outputs": [
        {
          "output_type": "stream",
          "name": "stdout",
          "text": [
            "              precision    recall  f1-score   support\n",
            "\n",
            "         0.0       1.00      1.00      1.00      5923\n",
            "         1.0       1.00      1.00      1.00      6742\n",
            "         2.0       0.99      0.99      0.99      5958\n",
            "         3.0       1.00      0.99      0.99      6131\n",
            "         4.0       0.99      0.99      0.99      5842\n",
            "         5.0       0.99      1.00      0.99      5421\n",
            "         6.0       1.00      1.00      1.00      5918\n",
            "         7.0       1.00      0.99      0.99      6265\n",
            "         8.0       0.99      0.99      0.99      5851\n",
            "         9.0       0.99      0.99      0.99      5949\n",
            "\n",
            "    accuracy                           0.99     60000\n",
            "   macro avg       0.99      0.99      0.99     60000\n",
            "weighted avg       0.99      0.99      0.99     60000\n",
            "\n"
          ]
        }
      ]
    },
    {
      "cell_type": "code",
      "source": [
        "inference_pipeline(permutedMNIST, \"train\", \"permuted\", False)"
      ],
      "metadata": {
        "colab": {
          "base_uri": "https://localhost:8080/"
        },
        "id": "SUypeymySyZC",
        "outputId": "a743aed5-b39b-4b8e-a87d-b60aac45bc54"
      },
      "execution_count": null,
      "outputs": [
        {
          "output_type": "stream",
          "name": "stdout",
          "text": [
            "              precision    recall  f1-score   support\n",
            "\n",
            "         0.0       1.00      1.00      1.00      5923\n",
            "         1.0       1.00      1.00      1.00      6742\n",
            "         2.0       0.99      0.99      0.99      5958\n",
            "         3.0       1.00      0.99      0.99      6131\n",
            "         4.0       1.00      1.00      1.00      5842\n",
            "         5.0       0.99      0.99      0.99      5421\n",
            "         6.0       1.00      0.99      1.00      5918\n",
            "         7.0       1.00      0.99      0.99      6265\n",
            "         8.0       0.99      0.99      0.99      5851\n",
            "         9.0       0.99      0.99      0.99      5949\n",
            "\n",
            "    accuracy                           0.99     60000\n",
            "   macro avg       0.99      0.99      0.99     60000\n",
            "weighted avg       0.99      0.99      0.99     60000\n",
            "\n"
          ]
        }
      ]
    }
  ]
}