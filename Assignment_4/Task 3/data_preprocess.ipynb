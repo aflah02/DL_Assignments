{
 "cells": [
  {
   "cell_type": "code",
   "execution_count": 16,
   "metadata": {},
   "outputs": [],
   "source": [
    "import os\n",
    "import pandas as pd\n",
    "import numpy as np\n",
    "import matplotlib.pyplot as plt\n",
    "import seaborn as sns\n",
    "from sklearn import preprocessing\n",
    "import pickle\n",
    "import PIL\n",
    "import string\n",
    "from tqdm.notebook import tqdm\n",
    "from sklearn.model_selection import train_test_split"
   ]
  },
  {
   "cell_type": "code",
   "execution_count": 17,
   "metadata": {},
   "outputs": [],
   "source": [
    "path ='../Data'\n",
    "save_path = '../Preprocessed_Data'"
   ]
  },
  {
   "cell_type": "code",
   "execution_count": 18,
   "metadata": {},
   "outputs": [],
   "source": [
    "train_df = pd.read_csv(save_path + '/df_train.csv')\n",
    "test_df = pd.read_csv(save_path + '/df_test_seen.csv')\n",
    "dev_df = pd.read_csv(save_path + '/df_dev_seen.csv')"
   ]
  },
  {
   "cell_type": "code",
   "execution_count": 19,
   "metadata": {},
   "outputs": [],
   "source": [
    "train_text = train_df['text'].values\n",
    "test_text = test_df['text'].values\n",
    "dev_text = dev_df['text'].values"
   ]
  },
  {
   "cell_type": "code",
   "execution_count": 20,
   "metadata": {},
   "outputs": [],
   "source": [
    "def remove_extra_whitespace(text):\n",
    "    return ' '.join(text.split())\n",
    "\n",
    "def lower_case(text):\n",
    "    return text.lower()"
   ]
  },
  {
   "cell_type": "code",
   "execution_count": 21,
   "metadata": {},
   "outputs": [],
   "source": [
    "train_cleaned = [remove_extra_whitespace(text) for text in train_text]\n",
    "test_cleaned = [remove_extra_whitespace(text) for text in test_text]\n",
    "dev_cleaned = [remove_extra_whitespace(text) for text in dev_text]\n",
    "\n",
    "train_cleaned = [lower_case(text) for text in train_cleaned]\n",
    "test_cleaned = [lower_case(text) for text in test_cleaned]\n",
    "dev_cleaned = [lower_case(text) for text in dev_cleaned]"
   ]
  },
  {
   "cell_type": "code",
   "execution_count": 22,
   "metadata": {},
   "outputs": [],
   "source": [
    "train_df['Cleaned_Text'] = train_cleaned\n",
    "test_df['Cleaned_Text'] = test_cleaned\n",
    "dev_df['Cleaned_Text'] = dev_cleaned"
   ]
  },
  {
   "cell_type": "code",
   "execution_count": 23,
   "metadata": {},
   "outputs": [
    {
     "data": {
      "text/html": [
       "<div>\n",
       "<style scoped>\n",
       "    .dataframe tbody tr th:only-of-type {\n",
       "        vertical-align: middle;\n",
       "    }\n",
       "\n",
       "    .dataframe tbody tr th {\n",
       "        vertical-align: top;\n",
       "    }\n",
       "\n",
       "    .dataframe thead th {\n",
       "        text-align: right;\n",
       "    }\n",
       "</style>\n",
       "<table border=\"1\" class=\"dataframe\">\n",
       "  <thead>\n",
       "    <tr style=\"text-align: right;\">\n",
       "      <th></th>\n",
       "      <th>id</th>\n",
       "      <th>img</th>\n",
       "      <th>label</th>\n",
       "      <th>text</th>\n",
       "      <th>img_exists</th>\n",
       "      <th>Cleaned_Text</th>\n",
       "    </tr>\n",
       "  </thead>\n",
       "  <tbody>\n",
       "    <tr>\n",
       "      <th>0</th>\n",
       "      <td>42953</td>\n",
       "      <td>img/42953.png</td>\n",
       "      <td>0</td>\n",
       "      <td>its their character not their color that matters</td>\n",
       "      <td>True</td>\n",
       "      <td>its their character not their color that matters</td>\n",
       "    </tr>\n",
       "    <tr>\n",
       "      <th>1</th>\n",
       "      <td>23058</td>\n",
       "      <td>img/23058.png</td>\n",
       "      <td>0</td>\n",
       "      <td>don't be afraid to love again everyone is not ...</td>\n",
       "      <td>True</td>\n",
       "      <td>don't be afraid to love again everyone is not ...</td>\n",
       "    </tr>\n",
       "    <tr>\n",
       "      <th>2</th>\n",
       "      <td>13894</td>\n",
       "      <td>img/13894.png</td>\n",
       "      <td>0</td>\n",
       "      <td>putting bows on your pet</td>\n",
       "      <td>True</td>\n",
       "      <td>putting bows on your pet</td>\n",
       "    </tr>\n",
       "    <tr>\n",
       "      <th>3</th>\n",
       "      <td>82403</td>\n",
       "      <td>img/82403.png</td>\n",
       "      <td>0</td>\n",
       "      <td>everybody loves chocolate chip cookies, even h...</td>\n",
       "      <td>True</td>\n",
       "      <td>everybody loves chocolate chip cookies, even h...</td>\n",
       "    </tr>\n",
       "    <tr>\n",
       "      <th>4</th>\n",
       "      <td>76932</td>\n",
       "      <td>img/76932.png</td>\n",
       "      <td>0</td>\n",
       "      <td>fine you're right. now can we fucking drop it?</td>\n",
       "      <td>True</td>\n",
       "      <td>fine you're right. now can we fucking drop it?</td>\n",
       "    </tr>\n",
       "    <tr>\n",
       "      <th>...</th>\n",
       "      <td>...</td>\n",
       "      <td>...</td>\n",
       "      <td>...</td>\n",
       "      <td>...</td>\n",
       "      <td>...</td>\n",
       "      <td>...</td>\n",
       "    </tr>\n",
       "    <tr>\n",
       "      <th>4187</th>\n",
       "      <td>50739</td>\n",
       "      <td>img/50739.png</td>\n",
       "      <td>1</td>\n",
       "      <td>whats the difference between a scout and a jew...</td>\n",
       "      <td>True</td>\n",
       "      <td>whats the difference between a scout and a jew...</td>\n",
       "    </tr>\n",
       "    <tr>\n",
       "      <th>4188</th>\n",
       "      <td>19372</td>\n",
       "      <td>img/19372.png</td>\n",
       "      <td>1</td>\n",
       "      <td>if you say these muslim protesters are violent...</td>\n",
       "      <td>True</td>\n",
       "      <td>if you say these muslim protesters are violent...</td>\n",
       "    </tr>\n",
       "    <tr>\n",
       "      <th>4189</th>\n",
       "      <td>10423</td>\n",
       "      <td>img/10423.png</td>\n",
       "      <td>1</td>\n",
       "      <td>nobody wants to hang auschwitz me</td>\n",
       "      <td>True</td>\n",
       "      <td>nobody wants to hang auschwitz me</td>\n",
       "    </tr>\n",
       "    <tr>\n",
       "      <th>4190</th>\n",
       "      <td>16492</td>\n",
       "      <td>img/16492.png</td>\n",
       "      <td>1</td>\n",
       "      <td>having a bad day? you could be a siamese twin ...</td>\n",
       "      <td>True</td>\n",
       "      <td>having a bad day? you could be a siamese twin ...</td>\n",
       "    </tr>\n",
       "    <tr>\n",
       "      <th>4191</th>\n",
       "      <td>15937</td>\n",
       "      <td>img/15937.png</td>\n",
       "      <td>1</td>\n",
       "      <td>i hate muslims too they take their religion to...</td>\n",
       "      <td>True</td>\n",
       "      <td>i hate muslims too they take their religion to...</td>\n",
       "    </tr>\n",
       "  </tbody>\n",
       "</table>\n",
       "<p>4192 rows × 6 columns</p>\n",
       "</div>"
      ],
      "text/plain": [
       "         id            img  label  \\\n",
       "0     42953  img/42953.png      0   \n",
       "1     23058  img/23058.png      0   \n",
       "2     13894  img/13894.png      0   \n",
       "3     82403  img/82403.png      0   \n",
       "4     76932  img/76932.png      0   \n",
       "...     ...            ...    ...   \n",
       "4187  50739  img/50739.png      1   \n",
       "4188  19372  img/19372.png      1   \n",
       "4189  10423  img/10423.png      1   \n",
       "4190  16492  img/16492.png      1   \n",
       "4191  15937  img/15937.png      1   \n",
       "\n",
       "                                                   text  img_exists  \\\n",
       "0      its their character not their color that matters        True   \n",
       "1     don't be afraid to love again everyone is not ...        True   \n",
       "2                              putting bows on your pet        True   \n",
       "3     everybody loves chocolate chip cookies, even h...        True   \n",
       "4        fine you're right. now can we fucking drop it?        True   \n",
       "...                                                 ...         ...   \n",
       "4187  whats the difference between a scout and a jew...        True   \n",
       "4188  if you say these muslim protesters are violent...        True   \n",
       "4189                  nobody wants to hang auschwitz me        True   \n",
       "4190  having a bad day? you could be a siamese twin ...        True   \n",
       "4191  i hate muslims too they take their religion to...        True   \n",
       "\n",
       "                                           Cleaned_Text  \n",
       "0      its their character not their color that matters  \n",
       "1     don't be afraid to love again everyone is not ...  \n",
       "2                              putting bows on your pet  \n",
       "3     everybody loves chocolate chip cookies, even h...  \n",
       "4        fine you're right. now can we fucking drop it?  \n",
       "...                                                 ...  \n",
       "4187  whats the difference between a scout and a jew...  \n",
       "4188  if you say these muslim protesters are violent...  \n",
       "4189                  nobody wants to hang auschwitz me  \n",
       "4190  having a bad day? you could be a siamese twin ...  \n",
       "4191  i hate muslims too they take their religion to...  \n",
       "\n",
       "[4192 rows x 6 columns]"
      ]
     },
     "execution_count": 23,
     "metadata": {},
     "output_type": "execute_result"
    }
   ],
   "source": [
    "train_df"
   ]
  },
  {
   "cell_type": "code",
   "execution_count": 34,
   "metadata": {},
   "outputs": [
    {
     "name": "stderr",
     "output_type": "stream",
     "text": [
      "Some weights of the model checkpoint at bert-base-uncased were not used when initializing BertModel: ['cls.predictions.transform.dense.weight', 'cls.seq_relationship.bias', 'cls.predictions.decoder.weight', 'cls.predictions.transform.LayerNorm.weight', 'cls.predictions.transform.dense.bias', 'cls.seq_relationship.weight', 'cls.predictions.bias', 'cls.predictions.transform.LayerNorm.bias']\n",
      "- This IS expected if you are initializing BertModel from the checkpoint of a model trained on another task or with another architecture (e.g. initializing a BertForSequenceClassification model from a BertForPreTraining model).\n",
      "- This IS NOT expected if you are initializing BertModel from the checkpoint of a model that you expect to be exactly identical (initializing a BertForSequenceClassification model from a BertForSequenceClassification model).\n"
     ]
    }
   ],
   "source": [
    "from transformers import AutoTokenizer, AutoModel\n",
    "import torch\n",
    "# Load BERT tokenizer and model\n",
    "tokenizer = AutoTokenizer.from_pretrained('bert-base-uncased')\n",
    "model = AutoModel.from_pretrained('bert-base-uncased')\n",
    "\n",
    "def get_embeddings(sentences):\n",
    "    sentences = list(sentences)\n",
    "    # Tokenize the sentences\n",
    "    tokens = tokenizer(sentences, padding=True, truncation=True, return_tensors='pt')\n",
    "\n",
    "    # Get BERT embeddings\n",
    "    with torch.no_grad():\n",
    "        outputs = model(**tokens)\n",
    "        embeddings = outputs.last_hidden_state\n",
    "\n",
    "    cls_embedding = embeddings[:, 0, :]\n",
    "    return cls_embedding"
   ]
  },
  {
   "cell_type": "code",
   "execution_count": 37,
   "metadata": {},
   "outputs": [],
   "source": [
    "train_embeddings = get_embeddings(train_df['Cleaned_Text'].values)\n",
    "test_embeddings = get_embeddings(test_df['Cleaned_Text'].values)\n",
    "dev_embeddings = get_embeddings(dev_df['Cleaned_Text'].values)"
   ]
  },
  {
   "cell_type": "code",
   "execution_count": 38,
   "metadata": {},
   "outputs": [],
   "source": [
    "# Save the embeddings\n",
    "with open(save_path + '/train_bert_embeddings.pkl', 'wb') as f:\n",
    "    pickle.dump(train_embeddings, f)\n",
    "\n",
    "with open(save_path + '/test_bert_embeddings.pkl', 'wb') as f:\n",
    "    pickle.dump(test_embeddings, f)\n",
    "\n",
    "with open(save_path + '/dev_bert_embeddings.pkl', 'wb') as f:\n",
    "    pickle.dump(dev_embeddings, f)\n"
   ]
  },
  {
   "cell_type": "code",
   "execution_count": 40,
   "metadata": {},
   "outputs": [],
   "source": [
    "# Save CSV files\n",
    "train_df.to_csv(save_path + '/df_train_cleaned.csv', index=False)\n",
    "test_df.to_csv(save_path + '/df_test_cleaned.csv', index=False)\n",
    "dev_df.to_csv(save_path + '/df_dev_cleaned.csv', index=False)"
   ]
  },
  {
   "cell_type": "code",
   "execution_count": null,
   "metadata": {},
   "outputs": [],
   "source": []
  }
 ],
 "metadata": {
  "kernelspec": {
   "display_name": "Python 3",
   "language": "python",
   "name": "python3"
  },
  "language_info": {
   "codemirror_mode": {
    "name": "ipython",
    "version": 3
   },
   "file_extension": ".py",
   "mimetype": "text/x-python",
   "name": "python",
   "nbconvert_exporter": "python",
   "pygments_lexer": "ipython3",
   "version": "3.9.13"
  },
  "orig_nbformat": 4
 },
 "nbformat": 4,
 "nbformat_minor": 2
}
