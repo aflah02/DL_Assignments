{
 "cells": [
  {
   "cell_type": "code",
   "execution_count": 44,
   "metadata": {},
   "outputs": [],
   "source": [
    "import os\n",
    "import pandas as pd\n",
    "import numpy as np\n",
    "import matplotlib.pyplot as plt\n",
    "import seaborn as sns\n",
    "from sklearn import preprocessing\n",
    "import pickle\n",
    "import PIL\n",
    "import torch\n",
    "from tqdm.notebook import tqdm\n",
    "from sklearn.model_selection import train_test_split"
   ]
  },
  {
   "cell_type": "code",
   "execution_count": 45,
   "metadata": {},
   "outputs": [],
   "source": [
    "path ='../Data'\n",
    "save_path = '../Preprocessed_Data'"
   ]
  },
  {
   "cell_type": "code",
   "execution_count": 46,
   "metadata": {},
   "outputs": [],
   "source": [
    "def load_embeddings(file_name):\n",
    "    with open(save_path + '/' + file_name, 'rb') as f:\n",
    "        embeddings = pickle.load(f)\n",
    "    return embeddings\n",
    "\n",
    "train_resnet_embeddings = load_embeddings('resnet_embedding_train_images.pkl')\n",
    "test_resnet_embeddings = load_embeddings('resnet_embedding_test_seen_images.pkl')\n",
    "dev_resnet_embeddings = load_embeddings('resnet_embedding_dev_seen_images.pkl')\n",
    "\n",
    "train_bert_embeddings = load_embeddings('train_bert_embeddings.pkl')\n",
    "test_bert_embeddings = load_embeddings('test_bert_embeddings.pkl')\n",
    "dev_bert_embeddings = load_embeddings('dev_bert_embeddings.pkl')\n",
    "\n",
    "train_df = pd.read_csv(save_path + '/df_train.csv')\n",
    "test_df = pd.read_csv(save_path + '/df_test_seen.csv')\n",
    "dev_df = pd.read_csv(save_path + '/df_dev_seen.csv')"
   ]
  },
  {
   "cell_type": "code",
   "execution_count": 47,
   "metadata": {},
   "outputs": [],
   "source": [
    "# Convert tensors to numpy arrays\n",
    "train_bert_embeddings = np.array([i.numpy() for i in train_bert_embeddings])\n",
    "test_bert_embeddings = np.array([i.numpy() for i in test_bert_embeddings])\n",
    "dev_bert_embeddings = np.array([i.numpy() for i in dev_bert_embeddings])"
   ]
  },
  {
   "cell_type": "code",
   "execution_count": 48,
   "metadata": {},
   "outputs": [
    {
     "data": {
      "text/plain": [
       "(numpy.ndarray, numpy.ndarray)"
      ]
     },
     "execution_count": 48,
     "metadata": {},
     "output_type": "execute_result"
    }
   ],
   "source": [
    "type(train_bert_embeddings), type(train_bert_embeddings[0])"
   ]
  },
  {
   "cell_type": "code",
   "execution_count": 49,
   "metadata": {},
   "outputs": [
    {
     "data": {
      "text/plain": [
       "((4192, 768), (768,))"
      ]
     },
     "execution_count": 49,
     "metadata": {},
     "output_type": "execute_result"
    }
   ],
   "source": [
    "train_bert_embeddings.shape, train_bert_embeddings[0].shape"
   ]
  },
  {
   "cell_type": "code",
   "execution_count": 50,
   "metadata": {},
   "outputs": [],
   "source": [
    "# concat resnet and bert embeddings\n",
    "train_embeddings = np.concatenate((train_resnet_embeddings, train_bert_embeddings), axis=1)\n",
    "test_embeddings = np.concatenate((test_resnet_embeddings, test_bert_embeddings), axis=1)\n",
    "dev_embeddings = np.concatenate((dev_resnet_embeddings, dev_bert_embeddings), axis=1)"
   ]
  },
  {
   "cell_type": "code",
   "execution_count": 51,
   "metadata": {},
   "outputs": [],
   "source": [
    "train_labels = train_df['label'].values\n",
    "test_labels = test_df['label'].values\n",
    "dev_labels = dev_df['label'].values"
   ]
  },
  {
   "cell_type": "code",
   "execution_count": 52,
   "metadata": {},
   "outputs": [],
   "source": [
    "import numpy as np\n",
    "import torch\n",
    "from torch.utils.data import Dataset, DataLoader\n",
    "\n",
    "# Define a custom PyTorch dataset for the ResNet embeddings and labels\n",
    "class MyDataset(Dataset):\n",
    "    def __init__(self, features, labels):\n",
    "        self.features = features\n",
    "        self.labels = labels\n",
    "\n",
    "    def __len__(self):\n",
    "        return len(self.features)\n",
    "\n",
    "    def __getitem__(self, idx):\n",
    "        x = torch.from_numpy(self.features[idx]).float()\n",
    "        y = torch.tensor(self.labels[idx]).long()\n",
    "        return x, y\n",
    "\n",
    "\n",
    "# Create a custom PyTorch dataset for the train set ResNet embeddings and labels\n",
    "train_dataset = MyDataset(train_embeddings, train_labels)\n",
    "\n",
    "# Create a custom PyTorch dataset for the test set ResNet embeddings and labels\n",
    "test_dataset = MyDataset(test_embeddings, test_labels)\n",
    "\n",
    "# Create a custom PyTorch dataset for the dev set ResNet embeddings and labels\n",
    "dev_dataset = MyDataset(dev_embeddings, dev_labels)\n",
    "\n",
    "# Create a PyTorch DataLoader for the train set with a batch size of 32\n",
    "train_loader = DataLoader(train_dataset, batch_size=32, shuffle=True)\n",
    "\n",
    "# Create a PyTorch DataLoader for the test set with a batch size of 32\n",
    "test_loader = DataLoader(test_dataset, batch_size=32, shuffle=False)\n",
    "\n",
    "# Create a PyTorch DataLoader for the dev set with a batch size of 32\n",
    "dev_loader = DataLoader(dev_dataset, batch_size=32, shuffle=False)"
   ]
  },
  {
   "cell_type": "code",
   "execution_count": 53,
   "metadata": {},
   "outputs": [
    {
     "name": "stdout",
     "output_type": "stream",
     "text": [
      "Epoch 1: Train Loss=0.020000, Train Accuracy=65.00%, Val Loss=0.022749, Val Accuracy=51.81%\n",
      "Epoch 2: Train Loss=0.018562, Train Accuracy=69.97%, Val Loss=0.022981, Val Accuracy=55.02%\n",
      "Epoch 3: Train Loss=0.017882, Train Accuracy=72.26%, Val Loss=0.023804, Val Accuracy=52.61%\n",
      "Epoch 4: Train Loss=0.017508, Train Accuracy=73.81%, Val Loss=0.023483, Val Accuracy=55.42%\n",
      "Epoch 5: Train Loss=0.017390, Train Accuracy=74.14%, Val Loss=0.023328, Val Accuracy=55.02%\n",
      "Epoch 6: Train Loss=0.017031, Train Accuracy=75.91%, Val Loss=0.022940, Val Accuracy=54.22%\n",
      "Epoch 7: Train Loss=0.016770, Train Accuracy=76.65%, Val Loss=0.023773, Val Accuracy=53.82%\n",
      "Epoch 8: Train Loss=0.016466, Train Accuracy=78.24%, Val Loss=0.023697, Val Accuracy=53.82%\n",
      "Epoch 9: Train Loss=0.016194, Train Accuracy=79.29%, Val Loss=0.023859, Val Accuracy=54.62%\n",
      "Epoch 10: Train Loss=0.016000, Train Accuracy=79.77%, Val Loss=0.023765, Val Accuracy=52.61%\n",
      "Epoch 11: Train Loss=0.015795, Train Accuracy=80.22%, Val Loss=0.024173, Val Accuracy=53.01%\n",
      "Epoch 12: Train Loss=0.015467, Train Accuracy=82.11%, Val Loss=0.023945, Val Accuracy=52.61%\n",
      "Epoch 13: Train Loss=0.015253, Train Accuracy=82.68%, Val Loss=0.024185, Val Accuracy=53.82%\n",
      "Epoch 14: Train Loss=0.015116, Train Accuracy=83.16%, Val Loss=0.024135, Val Accuracy=53.41%\n",
      "Epoch 15: Train Loss=0.014682, Train Accuracy=85.07%, Val Loss=0.024133, Val Accuracy=51.41%\n",
      "Epoch 16: Train Loss=0.014570, Train Accuracy=85.38%, Val Loss=0.024364, Val Accuracy=51.41%\n",
      "Epoch 17: Train Loss=0.014255, Train Accuracy=86.43%, Val Loss=0.023452, Val Accuracy=56.63%\n",
      "Epoch 18: Train Loss=0.014145, Train Accuracy=86.69%, Val Loss=0.024298, Val Accuracy=52.21%\n",
      "Epoch 19: Train Loss=0.013869, Train Accuracy=87.64%, Val Loss=0.024159, Val Accuracy=53.01%\n",
      "Epoch 20: Train Loss=0.013643, Train Accuracy=88.60%, Val Loss=0.023717, Val Accuracy=55.02%\n"
     ]
    }
   ],
   "source": [
    "import torch\n",
    "import torch.nn as nn\n",
    "import torch.optim as optim\n",
    "import matplotlib.pyplot as plt\n",
    "\n",
    "class MLPClassifier(nn.Module):\n",
    "    def __init__(self, input_size, hidden_size, output_size):\n",
    "        super(MLPClassifier, self).__init__()\n",
    "        self.fc1 = nn.Linear(input_size, hidden_size)\n",
    "        self.fc2 = nn.Linear(hidden_size, hidden_size)\n",
    "        self.fc3 = nn.Linear(hidden_size, output_size)\n",
    "        self.relu = nn.ReLU()\n",
    "        self.softmax = nn.Softmax(dim=1)\n",
    "\n",
    "    def forward(self, x):\n",
    "        x = self.fc1(x)\n",
    "        x = self.relu(x)\n",
    "        x = self.fc2(x)\n",
    "        x = self.relu(x)\n",
    "        x = self.fc3(x)\n",
    "        x = self.softmax(x)\n",
    "        return x\n",
    "    \n",
    "    def get_presoftmax_values(self, x):\n",
    "        x = self.fc1(x)\n",
    "        x = self.relu(x)\n",
    "        x = self.fc2(x)\n",
    "        x = self.relu(x)\n",
    "        x = self.fc3(x)\n",
    "        return x\n",
    "\n",
    "# Define the train function\n",
    "def train(model, device, train_loader, optimizer, criterion):\n",
    "    model.train()\n",
    "    train_loss = 0.0\n",
    "    correct = 0\n",
    "    for batch_idx, (data, target) in enumerate(train_loader):\n",
    "        data, target = data.to(device), target.to(device)\n",
    "        optimizer.zero_grad()\n",
    "        output = model(data)\n",
    "        loss = criterion(output, target)\n",
    "        train_loss += loss.item()\n",
    "        loss.backward()\n",
    "        optimizer.step()\n",
    "        pred = output.argmax(dim=1, keepdim=True)\n",
    "        correct += pred.eq(target.view_as(pred)).sum().item()\n",
    "    train_loss /= len(train_loader.dataset)\n",
    "    accuracy = 100. * correct / len(train_loader.dataset)\n",
    "    return train_loss, accuracy\n",
    "\n",
    "# Define the validation function\n",
    "def validate(model, device, val_loader, criterion):\n",
    "    model.eval()\n",
    "    val_loss = 0.0\n",
    "    correct = 0\n",
    "    with torch.no_grad():\n",
    "        for data, target in val_loader:\n",
    "            data, target = data.to(device), target.to(device)\n",
    "            output = model(data)\n",
    "            val_loss += criterion(output, target).item()\n",
    "            pred = output.argmax(dim=1, keepdim=True)\n",
    "            correct += pred.eq(target.view_as(pred)).sum().item()\n",
    "    val_loss /= len(val_loader.dataset)\n",
    "    accuracy = 100. * correct / len(val_loader.dataset)\n",
    "    return val_loss, accuracy\n",
    "\n",
    "# Set the device to use for training the model (e.g. CPU or GPU)\n",
    "device = torch.device(\"cuda\" if torch.cuda.is_available() else \"cpu\")\n",
    "\n",
    "# Define the model, optimizer, and loss criterion\n",
    "model = MLPClassifier(input_size=2816, hidden_size=256, output_size=2).to(device)\n",
    "optimizer = optim.Adam(model.parameters(), lr=0.0001)\n",
    "criterion = nn.CrossEntropyLoss()\n",
    "\n",
    "# Train the model and log the training and validation losses and accuracies\n",
    "num_epochs = 20\n",
    "train_losses = []\n",
    "train_accuracies = []\n",
    "val_losses = []\n",
    "val_accuracies = []\n",
    "best_val_loss = float('inf')\n",
    "patience = 6 # number of epochs to wait before stopping if validation loss doesn't improve\n",
    "for epoch in range(1, num_epochs + 1):\n",
    "    train_loss, train_accuracy = train(model, device, train_loader, optimizer, criterion)\n",
    "    val_loss, val_accuracy = validate(model, device, dev_loader, criterion)\n",
    "    train_losses.append(train_loss)\n",
    "    train_accuracies.append(train_accuracy)\n",
    "    val_losses.append(val_loss)\n",
    "    val_accuracies.append(val_accuracy)\n",
    "    print(f\"Epoch {epoch}: Train Loss={train_loss:.6f}, Train Accuracy={train_accuracy:.2f}%, Val Loss={val_loss:.6f}, Val Accuracy={val_accuracy:.2f}%\")\n",
    "    if val_loss < best_val_loss:\n",
    "        best_val_loss = val_loss\n",
    "        patience_counter = 0\n",
    "    else:\n",
    "        patience_counter += 1\n",
    "    # if patience_counter == patience:\n",
    "    #     print(f\"Stopping early after {epoch} epochs\")\n",
    "    #     break\n"
   ]
  },
  {
   "cell_type": "code",
   "execution_count": 54,
   "metadata": {},
   "outputs": [
    {
     "data": {
      "image/png": "[encoded data removed]",
      "text/plain": [
       "<Figure size 432x288 with 1 Axes>"
      ]
     },
     "metadata": {
      "needs_background": "light"
     },
     "output_type": "display_data"
    }
   ],
   "source": [
    "plt.plot(range(1, num_epochs + 1), train_losses, label=\"Training Loss\")\n",
    "plt.plot(range(1, num_epochs + 1), val_losses, label=\"Validation Loss\")\n",
    "plt.xlabel(\"Epoch\")\n",
    "plt.ylabel(\"Loss\")\n",
    "plt.legend()\n",
    "plt.show()"
   ]
  },
  {
   "cell_type": "code",
   "execution_count": 55,
   "metadata": {},
   "outputs": [
    {
     "data": {
      "image/png": "[encoded data removed]",
      "text/plain": [
       "<Figure size 432x288 with 1 Axes>"
      ]
     },
     "metadata": {
      "needs_background": "light"
     },
     "output_type": "display_data"
    }
   ],
   "source": [
    "plt.plot(range(1, num_epochs + 1), train_accuracies, label=\"Training Accuracy\")\n",
    "plt.plot(range(1, num_epochs + 1), val_accuracies, label=\"Validation Accuracy\")\n",
    "plt.xlabel(\"Epoch\")\n",
    "plt.ylabel(\"Accuracy\")\n",
    "plt.legend()\n",
    "plt.show()"
   ]
  },
  {
   "cell_type": "code",
   "execution_count": 56,
   "metadata": {},
   "outputs": [
    {
     "name": "stdout",
     "output_type": "stream",
     "text": [
      "              precision    recall  f1-score   support\n",
      "\n",
      "           0       0.54      0.71      0.61       221\n",
      "           1       0.60      0.42      0.49       233\n",
      "\n",
      "    accuracy                           0.56       454\n",
      "   macro avg       0.57      0.56      0.55       454\n",
      "weighted avg       0.57      0.56      0.55       454\n",
      "\n",
      "Test Accuracy:  0.5594713656387665\n"
     ]
    }
   ],
   "source": [
    "# Predict the labels for the test set\n",
    "model.eval()\n",
    "test_predictions = []\n",
    "with torch.no_grad():\n",
    "    for data, target in test_loader:\n",
    "        data, target = data.to(device), target.to(device)\n",
    "        output = model(data)\n",
    "        pred = output.argmax(dim=1, keepdim=True)\n",
    "        test_predictions.extend(pred.tolist())\n",
    "\n",
    "# Print the classification report\n",
    "from sklearn.metrics import classification_report\n",
    "print(classification_report(test_labels, test_predictions))\n",
    "\n",
    "accuracy = 0\n",
    "for i in range(len(test_predictions)):\n",
    "    if test_predictions[i] == test_labels[i]:\n",
    "        accuracy += 1\n",
    "print(\"Test Accuracy: \", accuracy/len(test_predictions))"
   ]
  },
  {
   "cell_type": "code",
   "execution_count": 57,
   "metadata": {},
   "outputs": [],
   "source": [
    "# Save the model\n",
    "torch.save(model.state_dict(), \"vision_text_model.pt\")"
   ]
  },
  {
   "attachments": {},
   "cell_type": "markdown",
   "metadata": {},
   "source": [
    "## TSNE Vis"
   ]
  },
  {
   "cell_type": "code",
   "execution_count": 69,
   "metadata": {},
   "outputs": [],
   "source": [
    "import random\n",
    "random.seed(42)\n",
    "# sample 100 indexes where value is 0\n",
    "zero_indexes = random.sample(list(np.where(test_labels == 0)[0]), 100)\n",
    "random.seed(42)\n",
    "# sample 100 indexes where value is 1\n",
    "one_indexes = random.sample(list(np.where(test_labels == 1)[0]), 100)"
   ]
  },
  {
   "cell_type": "code",
   "execution_count": 59,
   "metadata": {},
   "outputs": [],
   "source": [
    "# get the embeddings for the 100 indexes where value is 0\n",
    "zero_embeddings = [test_embeddings[i] for i in zero_indexes]\n",
    "# get the embeddings for the 100 indexes where value is 1\n",
    "one_embeddings = [test_embeddings[i] for i in one_indexes]"
   ]
  },
  {
   "cell_type": "code",
   "execution_count": 60,
   "metadata": {},
   "outputs": [],
   "source": [
    "# Get the penultimate layer values for the 100 indexes where value is 0\n",
    "zero_penultimate = []\n",
    "for i in range(len(zero_embeddings)):\n",
    "    zero_penultimate.append(model.get_presoftmax_values(torch.tensor(zero_embeddings[i]).to(device)).tolist())\n",
    "\n",
    "# Get the penultimate layer values for the 100 indexes where value is 1\n",
    "one_penultimate = []\n",
    "for i in range(len(one_embeddings)):\n",
    "    one_penultimate.append(model.get_presoftmax_values(torch.tensor(one_embeddings[i]).to(device)).tolist())"
   ]
  },
  {
   "cell_type": "code",
   "execution_count": 67,
   "metadata": {},
   "outputs": [
    {
     "name": "stderr",
     "output_type": "stream",
     "text": [
      "C:\\Users\\ASUS\\AppData\\Local\\Packages\\PythonSoftwareFoundation.Python.3.9_qbz5n2kfra8p0\\LocalCache\\local-packages\\Python39\\site-packages\\sklearn\\manifold\\_t_sne.py:795: FutureWarning:\n",
      "\n",
      "The default initialization in TSNE will change from 'random' to 'pca' in 1.2.\n",
      "\n",
      "C:\\Users\\ASUS\\AppData\\Local\\Packages\\PythonSoftwareFoundation.Python.3.9_qbz5n2kfra8p0\\LocalCache\\local-packages\\Python39\\site-packages\\sklearn\\manifold\\_t_sne.py:805: FutureWarning:\n",
      "\n",
      "The default learning rate in TSNE will change from 200.0 to 'auto' in 1.2.\n",
      "\n"
     ]
    },
    {
     "data": {
      "application/vnd.plotly.v1+json": {
       "config": {
        "plotlyServerURL": "https://plot.ly"
       },
       "data": [
        {
         "hovertemplate": "x=%{x}<br>y=%{y}<br>label=%{marker.color}<extra></extra>",
         "legendgroup": "",
         "marker": {
          "color": [
           0,
           0,
           0,
           0,
           0,
           0,
           0,
           0,
           0,
           0,
           0,
           0,
           0,
           0,
           0,
           0,
           0,
           0,
           0,
           0,
           0,
           0,
           0,
           0,
           0,
           0,
           0,
           0,
           0,
           0,
           0,
           0,
           0,
           0,
           0,
           0,
           0,
           0,
           0,
           0,
           0,
           0,
           0,
           0,
           0,
           0,
           0,
           0,
           0,
           0,
           0,
           0,
           0,
           0,
           0,
           0,
           0,
           0,
           0,
           0,
           0,
           0,
           0,
           0,
           0,
           0,
           0,
           0,
           0,
           0,
           0,
           0,
           0,
           0,
           0,
           0,
           0,
           0,
           0,
           0,
           0,
           0,
           0,
           0,
           0,
           0,
           0,
           0,
           0,
           0,
           0,
           0,
           0,
           0,
           0,
           0,
           0,
           0,
           0,
           0,
           1,
           1,
           1,
           1,
           1,
           1,
           1,
           1,
           1,
           1,
           1,
           1,
           1,
           1,
           1,
           1,
           1,
           1,
           1,
           1,
           1,
           1,
           1,
           1,
           1,
           1,
           1,
           1,
           1,
           1,
           1,
           1,
           1,
           1,
           1,
           1,
           1,
           1,
           1,
           1,
           1,
           1,
           1,
           1,
           1,
           1,
           1,
           1,
           1,
           1,
           1,
           1,
           1,
           1,
           1,
           1,
           1,
           1,
           1,
           1,
           1,
           1,
           1,
           1,
           1,
           1,
           1,
           1,
           1,
           1,
           1,
           1,
           1,
           1,
           1,
           1,
           1,
           1,
           1,
           1,
           1,
           1,
           1,
           1,
           1,
           1,
           1,
           1,
           1,
           1,
           1,
           1,
           1,
           1,
           1,
           1,
           1,
           1,
           1,
           1
          ],
          "coloraxis": "coloraxis",
          "symbol": "circle"
         },
         "mode": "markers",
         "name": "",
         "orientation": "v",
         "showlegend": false,
         "type": "scatter",
         "x": [
          -8.753077,
          -3.6901846,
          -0.95997983,
          9.850516,
          5.2039037,
          8.946295,
          -5.264964,
          -10.24017,
          -1.2043382,
          -6.336795,
          4.2913094,
          3.725595,
          -2.6107697,
          0.95404375,
          2.98112,
          9.789755,
          -7.671251,
          -8.762541,
          -5.2982044,
          7.558867,
          -10.579074,
          -0.8694931,
          3.2372334,
          -2.0767736,
          -1.1218598,
          12.472572,
          3.311076,
          1.4307842,
          2.5984852,
          -2.1365216,
          1.6454124,
          0.049098,
          -5.2379794,
          -3.6958563,
          -7.203379,
          5.0938177,
          -5.701501,
          0.055872414,
          -8.096364,
          -2.833191,
          -6.068335,
          -10.0939865,
          -6.8915544,
          -9.665358,
          -2.9682155,
          8.134629,
          4.7007604,
          -8.842291,
          -6.771074,
          6.8869114,
          0.7837247,
          3.2353442,
          3.7747076,
          -3.6592588,
          7.96876,
          -6.5771675,
          4.8538055,
          -11.367965,
          2.0532184,
          -14.770918,
          -0.46575472,
          6.2432733,
          -5.313194,
          2.7239802,
          -5.955137,
          -2.4686828,
          10.7293,
          4.715683,
          0.57718563,
          -10.02544,
          4.922897,
          -6.1782875,
          -0.80910134,
          4.269543,
          -10.994936,
          -4.8211803,
          -5.2621818,
          -3.0201452,
          -0.70572937,
          -1.000926,
          5.842383,
          -9.519169,
          0.61299026,
          -11.682085,
          4.891828,
          6.0212646,
          8.295787,
          2.9126337,
          9.359494,
          0.097865194,
          -3.286651,
          4.3668723,
          7.223265,
          5.1154885,
          2.671536,
          -0.9082082,
          4.0265784,
          -4.6369715,
          -9.727436,
          0.6914298,
          3.2328715,
          8.861746,
          8.080055,
          -10.159688,
          5.849182,
          2.9698684,
          5.197208,
          -1.4777002,
          -7.9580197,
          8.594905,
          5.0636063,
          2.6692197,
          -2.2979252,
          -5.1422825,
          -3.1651282,
          1.6497095,
          -9.5031595,
          -2.848734,
          2.800951,
          -1.1837969,
          -11.742772,
          -0.14052777,
          2.4078996,
          -7.7131705,
          -3.9762163,
          0.30694354,
          -3.7852285,
          0.62734854,
          -2.5135,
          5.0768123,
          -0.41992682,
          2.7677803,
          1.1153623,
          6.6025734,
          -1.7791495,
          -8.135711,
          -4.069376,
          -0.8105252,
          -9.394484,
          0.62998664,
          1.5474285,
          1.6663749,
          6.253771,
          -5.897087,
          -5.0870705,
          5.044682,
          1.6390747,
          5.0595274,
          2.606115,
          -10.312963,
          -11.062088,
          1.0908622,
          3.6215084,
          -11.067174,
          -5.0297823,
          8.153821,
          0.9217243,
          4.1089478,
          -4.3526187,
          -2.6154518,
          -5.725076,
          1.6586685,
          -8.542229,
          -1.9729999,
          -3.9000325,
          4.3054523,
          -5.2271113,
          -1.8947843,
          -5.219535,
          9.407898,
          -2.9002519,
          8.304145,
          -6.536679,
          4.556633,
          -4.3540964,
          -1.4808667,
          0.45489746,
          -14.763691,
          -0.4757938,
          12.470947,
          -2.7622304,
          3.9605827,
          -6.634387,
          -3.379867,
          -8.825321,
          1.730296,
          -0.95590055,
          6.136658,
          3.167581,
          -3.2983928,
          1.4254664,
          -7.1005774,
          -4.9631233,
          -3.9126647,
          2.2222455,
          0.7812452,
          2.6969533,
          3.1822312,
          1.5978986,
          4.379072
         ],
         "xaxis": "x",
         "y": [
          7.859399,
          -0.82469505,
          -6.5356507,
          -0.48015365,
          7.046577,
          -3.9664764,
          -4.667364,
          -7.0357366,
          -6.308796,
          3.4673429,
          2.1845484,
          4.6939783,
          2.40406,
          -1.6857468,
          1.2127074,
          5.9673285,
          0.0027304424,
          -1.662941,
          -0.91755396,
          1.901689,
          -1.5739413,
          0.37028363,
          3.4192939,
          -7.95751,
          -1.1909899,
          3.7721438,
          2.560717,
          3.687777,
          7.049806,
          0.40986973,
          -1.1955932,
          7.2839613,
          -3.9576557,
          3.0940812,
          3.7923813,
          4.2996902,
          0.27162275,
          3.630123,
          -1.3041563,
          -0.334598,
          5.3693066,
          -2.2613575,
          -0.43941793,
          -1.280449,
          -3.862745,
          7.188808,
          -0.44199646,
          6.9556203,
          2.345431,
          5.7316175,
          -3.1409473,
          -0.96524405,
          -1.6468227,
          -8.656941,
          2.9629364,
          -6.8794646,
          5.7614946,
          -1.6518434,
          -2.850977,
          0.08786426,
          -3.1379678,
          5.236003,
          1.818228,
          4.021778,
          1.4023877,
          -4.6227717,
          -2.3573785,
          3.3069584,
          2.373322,
          -6.707686,
          -1.2778276,
          -1.3461894,
          11.270149,
          -0.58537424,
          3.9614067,
          7.2564435,
          -2.385302,
          1.7951095,
          2.527432,
          1.1418892,
          -4.1706347,
          0.9942012,
          5.379562,
          -3.234562,
          -1.3035429,
          3.5031598,
          4.7019386,
          1.575279,
          1.9940062,
          1.7526748,
          -1.719927,
          4.113678,
          1.7326663,
          -6.683613,
          -7.9198804,
          -0.10118106,
          -4.7126284,
          7.1312327,
          0.98718566,
          -0.89094144,
          6.245669,
          -3.7250676,
          1.1197671,
          -1.8534651,
          -0.40080816,
          3.3867438,
          7.299162,
          -8.303427,
          -4.1276784,
          -1.3829406,
          1.7723539,
          -0.12965465,
          2.3297262,
          -2.3656783,
          -8.2216425,
          3.0566442,
          -3.2982075,
          -1.9399048,
          -4.3332486,
          -1.7196187,
          1.016474,
          0.03895886,
          -4.8654222,
          3.911545,
          7.2476993,
          -5.6670003,
          3.6453319,
          2.6049027,
          2.8115191,
          1.0839604,
          -0.835052,
          -2.925817,
          1.1734227,
          1.0997362,
          8.094514,
          -3.9994178,
          1.3412516,
          11.276491,
          -4.2459145,
          0.8492302,
          6.491885,
          1.0101938,
          2.4804068,
          1.2376955,
          2.7736735,
          -2.9937432,
          -0.26350498,
          -6.5582314,
          -0.683356,
          3.619513,
          4.0234847,
          -0.1870363,
          -2.8180957,
          0.064484894,
          4.236078,
          7.2366095,
          4.868631,
          8.976507,
          2.4385843,
          3.4421656,
          -2.0362945,
          9.172267,
          1.3063492,
          -3.4019463,
          -5.721081,
          -1.5169562,
          -3.8981023,
          6.175076,
          -3.946218,
          1.9451342,
          -3.884664,
          -1.919232,
          -6.919222,
          2.5859582,
          -0.56999755,
          -0.8394998,
          -4.5354695,
          0.08448753,
          -3.7456174,
          3.7749481,
          4.5008073,
          -2.6558893,
          -7.613065,
          1.3476627,
          7.2856164,
          2.7310972,
          4.523957,
          -1.3212684,
          1.0205446,
          0.5622576,
          -7.7255244,
          -1.7233922,
          -0.30965152,
          5.1503587,
          5.583852,
          -1.7230455,
          4.8539515,
          3.9433527,
          -6.6633854,
          0.9254703
         ],
         "yaxis": "y"
        }
       ],
       "layout": {
        "coloraxis": {
         "colorbar": {
          "title": {
           "text": "label"
          }
         },
         "colorscale": [
          [
           0,
           "#0d0887"
          ],
          [
           0.1111111111111111,
           "#46039f"
          ],
          [
           0.2222222222222222,
           "#7201a8"
          ],
          [
           0.3333333333333333,
           "#9c179e"
          ],
          [
           0.4444444444444444,
           "#bd3786"
          ],
          [
           0.5555555555555556,
           "#d8576b"
          ],
          [
           0.6666666666666666,
           "#ed7953"
          ],
          [
           0.7777777777777778,
           "#fb9f3a"
          ],
          [
           0.8888888888888888,
           "#fdca26"
          ],
          [
           1,
           "#f0f921"
          ]
         ]
        },
        "legend": {
         "tracegroupgap": 0
        },
        "margin": {
         "t": 60
        },
        "template": {
         "data": {
          "bar": [
           {
            "error_x": {
             "color": "#2a3f5f"
            },
            "error_y": {
             "color": "#2a3f5f"
            },
            "marker": {
             "line": {
              "color": "#E5ECF6",
              "width": 0.5
             },
             "pattern": {
              "fillmode": "overlay",
              "size": 10,
              "solidity": 0.2
             }
            },
            "type": "bar"
           }
          ],
          "barpolar": [
           {
            "marker": {
             "line": {
              "color": "#E5ECF6",
              "width": 0.5
             },
             "pattern": {
              "fillmode": "overlay",
              "size": 10,
              "solidity": 0.2
             }
            },
            "type": "barpolar"
           }
          ],
          "carpet": [
           {
            "aaxis": {
             "endlinecolor": "#2a3f5f",
             "gridcolor": "white",
             "linecolor": "white",
             "minorgridcolor": "white",
             "startlinecolor": "#2a3f5f"
            },
            "baxis": {
             "endlinecolor": "#2a3f5f",
             "gridcolor": "white",
             "linecolor": "white",
             "minorgridcolor": "white",
             "startlinecolor": "#2a3f5f"
            },
            "type": "carpet"
           }
          ],
          "choropleth": [
           {
            "colorbar": {
             "outlinewidth": 0,
             "ticks": ""
            },
            "type": "choropleth"
           }
          ],
          "contour": [
           {
            "colorbar": {
             "outlinewidth": 0,
             "ticks": ""
            },
            "colorscale": [
             [
              0,
              "#0d0887"
             ],
             [
              0.1111111111111111,
              "#46039f"
             ],
             [
              0.2222222222222222,
              "#7201a8"
             ],
             [
              0.3333333333333333,
              "#9c179e"
             ],
             [
              0.4444444444444444,
              "#bd3786"
             ],
             [
              0.5555555555555556,
              "#d8576b"
             ],
             [
              0.6666666666666666,
              "#ed7953"
             ],
             [
              0.7777777777777778,
              "#fb9f3a"
             ],
             [
              0.8888888888888888,
              "#fdca26"
             ],
             [
              1,
              "#f0f921"
             ]
            ],
            "type": "contour"
           }
          ],
          "contourcarpet": [
           {
            "colorbar": {
             "outlinewidth": 0,
             "ticks": ""
            },
            "type": "contourcarpet"
           }
          ],
          "heatmap": [
           {
            "colorbar": {
             "outlinewidth": 0,
             "ticks": ""
            },
            "colorscale": [
             [
              0,
              "#0d0887"
             ],
             [
              0.1111111111111111,
              "#46039f"
             ],
             [
              0.2222222222222222,
              "#7201a8"
             ],
             [
              0.3333333333333333,
              "#9c179e"
             ],
             [
              0.4444444444444444,
              "#bd3786"
             ],
             [
              0.5555555555555556,
              "#d8576b"
             ],
             [
              0.6666666666666666,
              "#ed7953"
             ],
             [
              0.7777777777777778,
              "#fb9f3a"
             ],
             [
              0.8888888888888888,
              "#fdca26"
             ],
             [
              1,
              "#f0f921"
             ]
            ],
            "type": "heatmap"
           }
          ],
          "heatmapgl": [
           {
            "colorbar": {
             "outlinewidth": 0,
             "ticks": ""
            },
            "colorscale": [
             [
              0,
              "#0d0887"
             ],
             [
              0.1111111111111111,
              "#46039f"
             ],
             [
              0.2222222222222222,
              "#7201a8"
             ],
             [
              0.3333333333333333,
              "#9c179e"
             ],
             [
              0.4444444444444444,
              "#bd3786"
             ],
             [
              0.5555555555555556,
              "#d8576b"
             ],
             [
              0.6666666666666666,
              "#ed7953"
             ],
             [
              0.7777777777777778,
              "#fb9f3a"
             ],
             [
              0.8888888888888888,
              "#fdca26"
             ],
             [
              1,
              "#f0f921"
             ]
            ],
            "type": "heatmapgl"
           }
          ],
          "histogram": [
           {
            "marker": {
             "pattern": {
              "fillmode": "overlay",
              "size": 10,
              "solidity": 0.2
             }
            },
            "type": "histogram"
           }
          ],
          "histogram2d": [
           {
            "colorbar": {
             "outlinewidth": 0,
             "ticks": ""
            },
            "colorscale": [
             [
              0,
              "#0d0887"
             ],
             [
              0.1111111111111111,
              "#46039f"
             ],
             [
              0.2222222222222222,
              "#7201a8"
             ],
             [
              0.3333333333333333,
              "#9c179e"
             ],
             [
              0.4444444444444444,
              "#bd3786"
             ],
             [
              0.5555555555555556,
              "#d8576b"
             ],
             [
              0.6666666666666666,
              "#ed7953"
             ],
             [
              0.7777777777777778,
              "#fb9f3a"
             ],
             [
              0.8888888888888888,
              "#fdca26"
             ],
             [
              1,
              "#f0f921"
             ]
            ],
            "type": "histogram2d"
           }
          ],
          "histogram2dcontour": [
           {
            "colorbar": {
             "outlinewidth": 0,
             "ticks": ""
            },
            "colorscale": [
             [
              0,
              "#0d0887"
             ],
             [
              0.1111111111111111,
              "#46039f"
             ],
             [
              0.2222222222222222,
              "#7201a8"
             ],
             [
              0.3333333333333333,
              "#9c179e"
             ],
             [
              0.4444444444444444,
              "#bd3786"
             ],
             [
              0.5555555555555556,
              "#d8576b"
             ],
             [
              0.6666666666666666,
              "#ed7953"
             ],
             [
              0.7777777777777778,
              "#fb9f3a"
             ],
             [
              0.8888888888888888,
              "#fdca26"
             ],
             [
              1,
              "#f0f921"
             ]
            ],
            "type": "histogram2dcontour"
           }
          ],
          "mesh3d": [
           {
            "colorbar": {
             "outlinewidth": 0,
             "ticks": ""
            },
            "type": "mesh3d"
           }
          ],
          "parcoords": [
           {
            "line": {
             "colorbar": {
              "outlinewidth": 0,
              "ticks": ""
             }
            },
            "type": "parcoords"
           }
          ],
          "pie": [
           {
            "automargin": true,
            "type": "pie"
           }
          ],
          "scatter": [
           {
            "fillpattern": {
             "fillmode": "overlay",
             "size": 10,
             "solidity": 0.2
            },
            "type": "scatter"
           }
          ],
          "scatter3d": [
           {
            "line": {
             "colorbar": {
              "outlinewidth": 0,
              "ticks": ""
             }
            },
            "marker": {
             "colorbar": {
              "outlinewidth": 0,
              "ticks": ""
             }
            },
            "type": "scatter3d"
           }
          ],
          "scattercarpet": [
           {
            "marker": {
             "colorbar": {
              "outlinewidth": 0,
              "ticks": ""
             }
            },
            "type": "scattercarpet"
           }
          ],
          "scattergeo": [
           {
            "marker": {
             "colorbar": {
              "outlinewidth": 0,
              "ticks": ""
             }
            },
            "type": "scattergeo"
           }
          ],
          "scattergl": [
           {
            "marker": {
             "colorbar": {
              "outlinewidth": 0,
              "ticks": ""
             }
            },
            "type": "scattergl"
           }
          ],
          "scattermapbox": [
           {
            "marker": {
             "colorbar": {
              "outlinewidth": 0,
              "ticks": ""
             }
            },
            "type": "scattermapbox"
           }
          ],
          "scatterpolar": [
           {
            "marker": {
             "colorbar": {
              "outlinewidth": 0,
              "ticks": ""
             }
            },
            "type": "scatterpolar"
           }
          ],
          "scatterpolargl": [
           {
            "marker": {
             "colorbar": {
              "outlinewidth": 0,
              "ticks": ""
             }
            },
            "type": "scatterpolargl"
           }
          ],
          "scatterternary": [
           {
            "marker": {
             "colorbar": {
              "outlinewidth": 0,
              "ticks": ""
             }
            },
            "type": "scatterternary"
           }
          ],
          "surface": [
           {
            "colorbar": {
             "outlinewidth": 0,
             "ticks": ""
            },
            "colorscale": [
             [
              0,
              "#0d0887"
             ],
             [
              0.1111111111111111,
              "#46039f"
             ],
             [
              0.2222222222222222,
              "#7201a8"
             ],
             [
              0.3333333333333333,
              "#9c179e"
             ],
             [
              0.4444444444444444,
              "#bd3786"
             ],
             [
              0.5555555555555556,
              "#d8576b"
             ],
             [
              0.6666666666666666,
              "#ed7953"
             ],
             [
              0.7777777777777778,
              "#fb9f3a"
             ],
             [
              0.8888888888888888,
              "#fdca26"
             ],
             [
              1,
              "#f0f921"
             ]
            ],
            "type": "surface"
           }
          ],
          "table": [
           {
            "cells": {
             "fill": {
              "color": "#EBF0F8"
             },
             "line": {
              "color": "white"
             }
            },
            "header": {
             "fill": {
              "color": "#C8D4E3"
             },
             "line": {
              "color": "white"
             }
            },
            "type": "table"
           }
          ]
         },
         "layout": {
          "annotationdefaults": {
           "arrowcolor": "#2a3f5f",
           "arrowhead": 0,
           "arrowwidth": 1
          },
          "autotypenumbers": "strict",
          "coloraxis": {
           "colorbar": {
            "outlinewidth": 0,
            "ticks": ""
           }
          },
          "colorscale": {
           "diverging": [
            [
             0,
             "#8e0152"
            ],
            [
             0.1,
             "#c51b7d"
            ],
            [
             0.2,
             "#de77ae"
            ],
            [
             0.3,
             "#f1b6da"
            ],
            [
             0.4,
             "#fde0ef"
            ],
            [
             0.5,
             "#f7f7f7"
            ],
            [
             0.6,
             "#e6f5d0"
            ],
            [
             0.7,
             "#b8e186"
            ],
            [
             0.8,
             "#7fbc41"
            ],
            [
             0.9,
             "#4d9221"
            ],
            [
             1,
             "#276419"
            ]
           ],
           "sequential": [
            [
             0,
             "#0d0887"
            ],
            [
             0.1111111111111111,
             "#46039f"
            ],
            [
             0.2222222222222222,
             "#7201a8"
            ],
            [
             0.3333333333333333,
             "#9c179e"
            ],
            [
             0.4444444444444444,
             "#bd3786"
            ],
            [
             0.5555555555555556,
             "#d8576b"
            ],
            [
             0.6666666666666666,
             "#ed7953"
            ],
            [
             0.7777777777777778,
             "#fb9f3a"
            ],
            [
             0.8888888888888888,
             "#fdca26"
            ],
            [
             1,
             "#f0f921"
            ]
           ],
           "sequentialminus": [
            [
             0,
             "#0d0887"
            ],
            [
             0.1111111111111111,
             "#46039f"
            ],
            [
             0.2222222222222222,
             "#7201a8"
            ],
            [
             0.3333333333333333,
             "#9c179e"
            ],
            [
             0.4444444444444444,
             "#bd3786"
            ],
            [
             0.5555555555555556,
             "#d8576b"
            ],
            [
             0.6666666666666666,
             "#ed7953"
            ],
            [
             0.7777777777777778,
             "#fb9f3a"
            ],
            [
             0.8888888888888888,
             "#fdca26"
            ],
            [
             1,
             "#f0f921"
            ]
           ]
          },
          "colorway": [
           "#636efa",
           "#EF553B",
           "#00cc96",
           "#ab63fa",
           "#FFA15A",
           "#19d3f3",
           "#FF6692",
           "#B6E880",
           "#FF97FF",
           "#FECB52"
          ],
          "font": {
           "color": "#2a3f5f"
          },
          "geo": {
           "bgcolor": "white",
           "lakecolor": "white",
           "landcolor": "#E5ECF6",
           "showlakes": true,
           "showland": true,
           "subunitcolor": "white"
          },
          "hoverlabel": {
           "align": "left"
          },
          "hovermode": "closest",
          "mapbox": {
           "style": "light"
          },
          "paper_bgcolor": "white",
          "plot_bgcolor": "#E5ECF6",
          "polar": {
           "angularaxis": {
            "gridcolor": "white",
            "linecolor": "white",
            "ticks": ""
           },
           "bgcolor": "#E5ECF6",
           "radialaxis": {
            "gridcolor": "white",
            "linecolor": "white",
            "ticks": ""
           }
          },
          "scene": {
           "xaxis": {
            "backgroundcolor": "#E5ECF6",
            "gridcolor": "white",
            "gridwidth": 2,
            "linecolor": "white",
            "showbackground": true,
            "ticks": "",
            "zerolinecolor": "white"
           },
           "yaxis": {
            "backgroundcolor": "#E5ECF6",
            "gridcolor": "white",
            "gridwidth": 2,
            "linecolor": "white",
            "showbackground": true,
            "ticks": "",
            "zerolinecolor": "white"
           },
           "zaxis": {
            "backgroundcolor": "#E5ECF6",
            "gridcolor": "white",
            "gridwidth": 2,
            "linecolor": "white",
            "showbackground": true,
            "ticks": "",
            "zerolinecolor": "white"
           }
          },
          "shapedefaults": {
           "line": {
            "color": "#2a3f5f"
           }
          },
          "ternary": {
           "aaxis": {
            "gridcolor": "white",
            "linecolor": "white",
            "ticks": ""
           },
           "baxis": {
            "gridcolor": "white",
            "linecolor": "white",
            "ticks": ""
           },
           "bgcolor": "#E5ECF6",
           "caxis": {
            "gridcolor": "white",
            "linecolor": "white",
            "ticks": ""
           }
          },
          "title": {
           "x": 0.05
          },
          "xaxis": {
           "automargin": true,
           "gridcolor": "white",
           "linecolor": "white",
           "ticks": "",
           "title": {
            "standoff": 15
           },
           "zerolinecolor": "white",
           "zerolinewidth": 2
          },
          "yaxis": {
           "automargin": true,
           "gridcolor": "white",
           "linecolor": "white",
           "ticks": "",
           "title": {
            "standoff": 15
           },
           "zerolinecolor": "white",
           "zerolinewidth": 2
          }
         }
        },
        "xaxis": {
         "anchor": "y",
         "domain": [
          0,
          1
         ],
         "title": {
          "text": "x"
         }
        },
        "yaxis": {
         "anchor": "x",
         "domain": [
          0,
          1
         ],
         "title": {
          "text": "y"
         }
        }
       }
      }
     },
     "metadata": {},
     "output_type": "display_data"
    }
   ],
   "source": [
    "# TSNE for combined embeddings\n",
    "from sklearn.manifold import TSNE\n",
    "import matplotlib.pyplot as plt\n",
    "import seaborn as sns\n",
    "import pandas as pd\n",
    "\n",
    "# Combine the embeddings and labels\n",
    "combined_embeddings = zero_embeddings + one_embeddings\n",
    "combined_labels = [0] * len(zero_embeddings) + [1] * len(one_embeddings)\n",
    "\n",
    "# Reduce the dimensionality of the embeddings using TSNE\n",
    "tsne = TSNE(n_components=2, random_state=42)\n",
    "\n",
    "# Get the embeddings in 2D\n",
    "embeddings_2d = tsne.fit_transform(combined_embeddings)\n",
    "\n",
    "# Create a dataframe with the embeddings and labels\n",
    "df = pd.DataFrame(embeddings_2d, columns=[\"x\", \"y\"])\n",
    "df[\"label\"] = combined_labels\n",
    "\n",
    "# Plot using plotly\n",
    "import plotly.express as px\n",
    "fig = px.scatter(df, x=\"x\", y=\"y\", color=\"label\")\n",
    "fig.show()\n"
   ]
  },
  {
   "cell_type": "code",
   "execution_count": 68,
   "metadata": {},
   "outputs": [
    {
     "name": "stderr",
     "output_type": "stream",
     "text": [
      "C:\\Users\\ASUS\\AppData\\Local\\Packages\\PythonSoftwareFoundation.Python.3.9_qbz5n2kfra8p0\\LocalCache\\local-packages\\Python39\\site-packages\\sklearn\\manifold\\_t_sne.py:795: FutureWarning:\n",
      "\n",
      "The default initialization in TSNE will change from 'random' to 'pca' in 1.2.\n",
      "\n",
      "C:\\Users\\ASUS\\AppData\\Local\\Packages\\PythonSoftwareFoundation.Python.3.9_qbz5n2kfra8p0\\LocalCache\\local-packages\\Python39\\site-packages\\sklearn\\manifold\\_t_sne.py:805: FutureWarning:\n",
      "\n",
      "The default learning rate in TSNE will change from 200.0 to 'auto' in 1.2.\n",
      "\n"
     ]
    },
    {
     "data": {
      "application/vnd.plotly.v1+json": {
       "config": {
        "plotlyServerURL": "https://plot.ly"
       },
       "data": [
        {
         "hovertemplate": "x=%{x}<br>y=%{y}<br>label=%{marker.color}<extra></extra>",
         "legendgroup": "",
         "marker": {
          "color": [
           0,
           0,
           0,
           0,
           0,
           0,
           0,
           0,
           0,
           0,
           0,
           0,
           0,
           0,
           0,
           0,
           0,
           0,
           0,
           0,
           0,
           0,
           0,
           0,
           0,
           0,
           0,
           0,
           0,
           0,
           0,
           0,
           0,
           0,
           0,
           0,
           0,
           0,
           0,
           0,
           0,
           0,
           0,
           0,
           0,
           0,
           0,
           0,
           0,
           0,
           0,
           0,
           0,
           0,
           0,
           0,
           0,
           0,
           0,
           0,
           0,
           0,
           0,
           0,
           0,
           0,
           0,
           0,
           0,
           0,
           0,
           0,
           0,
           0,
           0,
           0,
           0,
           0,
           0,
           0,
           0,
           0,
           0,
           0,
           0,
           0,
           0,
           0,
           0,
           0,
           0,
           0,
           0,
           0,
           0,
           0,
           0,
           0,
           0,
           0,
           1,
           1,
           1,
           1,
           1,
           1,
           1,
           1,
           1,
           1,
           1,
           1,
           1,
           1,
           1,
           1,
           1,
           1,
           1,
           1,
           1,
           1,
           1,
           1,
           1,
           1,
           1,
           1,
           1,
           1,
           1,
           1,
           1,
           1,
           1,
           1,
           1,
           1,
           1,
           1,
           1,
           1,
           1,
           1,
           1,
           1,
           1,
           1,
           1,
           1,
           1,
           1,
           1,
           1,
           1,
           1,
           1,
           1,
           1,
           1,
           1,
           1,
           1,
           1,
           1,
           1,
           1,
           1,
           1,
           1,
           1,
           1,
           1,
           1,
           1,
           1,
           1,
           1,
           1,
           1,
           1,
           1,
           1,
           1,
           1,
           1,
           1,
           1,
           1,
           1,
           1,
           1,
           1,
           1,
           1,
           1,
           1,
           1,
           1,
           1
          ],
          "coloraxis": "coloraxis",
          "symbol": "circle"
         },
         "mode": "markers",
         "name": "",
         "orientation": "v",
         "showlegend": false,
         "type": "scatter",
         "x": [
          8.891513,
          1.1837362,
          4.76429,
          8.556296,
          7.4175997,
          -12.335671,
          12.143452,
          3.5559528,
          -7.349956,
          5.832632,
          2.8384519,
          11.754733,
          -9.891179,
          -11.423354,
          -0.6801481,
          -6.204807,
          0.08956781,
          -7.5779657,
          0.41681647,
          11.684483,
          6.6803985,
          -12.631054,
          -4.4383693,
          -10.643792,
          -3.3706481,
          10.279148,
          5.2184296,
          1.5329454,
          8.510478,
          13.442798,
          9.254566,
          -12.47841,
          -9.732822,
          -13.569393,
          13.010355,
          -5.6316376,
          -5.36761,
          -11.269156,
          14.553725,
          -11.421394,
          -14.042948,
          -6.9294558,
          1.4638996,
          13.13739,
          13.302916,
          -11.817274,
          -4.3717504,
          12.662523,
          11.177236,
          -11.66264,
          -2.1183212,
          0.86893195,
          7.9157534,
          -2.718779,
          -2.8713148,
          5.862094,
          -1.6587278,
          14.330428,
          -8.147418,
          5.2415237,
          13.684625,
          -11.65832,
          9.463608,
          5.7465944,
          -4.0573397,
          2.9240038,
          -6.354059,
          12.437099,
          -3.241943,
          5.4883504,
          0.047101174,
          -4.1412787,
          13.609867,
          -6.7251573,
          13.094629,
          -13.015787,
          4.5667987,
          -10.430092,
          -1.8900889,
          1.439818,
          -8.166873,
          -13.212068,
          -10.485846,
          -13.402216,
          3.6392083,
          5.422027,
          -5.743022,
          10.209552,
          -6.7580447,
          -12.192466,
          -3.9241998,
          -10.156953,
          -3.7877429,
          -3.119812,
          3.4288924,
          -4.935602,
          -10.85531,
          -6.8419275,
          7.02366,
          -11.440542,
          -1.8519226,
          12.373792,
          -3.2979648,
          -5.9905663,
          -2.4201784,
          2.655743,
          7.385401,
          5.6087413,
          0.33708465,
          -11.090058,
          8.817587,
          2.4437141,
          1.0789354,
          14.098891,
          -0.024510777,
          -6.4832053,
          -1.555693,
          12.795628,
          -10.789623,
          0.80067974,
          12.568091,
          -9.590215,
          -11.729165,
          13.428535,
          -12.48592,
          2.4853756,
          12.708543,
          11.846757,
          -5.788009,
          8.351985,
          13.12817,
          8.995945,
          -12.964435,
          8.957577,
          14.131248,
          6.251001,
          12.831794,
          -5.3709874,
          8.458282,
          -13.542762,
          -6.9051914,
          -8.434363,
          4.194903,
          9.02748,
          8.5248,
          -10.911684,
          3.5199497,
          1.0404295,
          4.612005,
          13.917411,
          4.426405,
          -0.5508547,
          5.8415117,
          -11.940375,
          9.685939,
          -12.198287,
          3.132382,
          -4.7714877,
          -8.528619,
          -2.769688,
          10.52746,
          1.8355367,
          12.090479,
          -7.3910103,
          12.2023535,
          -6.2876215,
          11.733763,
          5.059531,
          13.970798,
          6.799108,
          14.138216,
          7.3961096,
          11.656509,
          3.322359,
          -0.52825564,
          -9.880765,
          -3.4958496,
          9.841217,
          14.3687725,
          8.064177,
          4.978714,
          8.111062,
          2.018823,
          2.8355846,
          11.0152235,
          -1.0775354,
          -7.2563906,
          1.8652107,
          10.470127,
          9.548801,
          10.064524,
          1.6517652,
          -8.110904,
          -4.4639096,
          -7.403734,
          -2.1352592,
          0.5153625,
          -7.5994706,
          -4.7194433,
          3.0015042
         ],
         "xaxis": "x",
         "y": [
          6.6122775,
          -0.5508125,
          3.0165744,
          7.070986,
          5.604274,
          -11.629393,
          10.113869,
          1.6184756,
          -7.328005,
          3.8837354,
          0.9976291,
          9.845238,
          -9.572774,
          -11.052317,
          -2.0188646,
          -7.0319057,
          -1.3245054,
          -7.588152,
          -1.0443708,
          9.783874,
          4.887278,
          -11.685276,
          -5.2444825,
          -10.214733,
          -4.187158,
          8.379587,
          3.7146866,
          -0.29183206,
          7.0270095,
          11.966335,
          7.3529644,
          -11.176759,
          -9.444604,
          -11.89116,
          10.827699,
          -6.2900643,
          -6.1009135,
          -10.373134,
          12.9119425,
          -11.0618105,
          -11.9184675,
          -7.609003,
          0.12694468,
          10.912888,
          11.204121,
          -10.66233,
          -5.107635,
          11.297608,
          9.278492,
          -10.581837,
          -3.2767537,
          -0.48301578,
          6.075877,
          -3.7936683,
          -3.9475737,
          4.05881,
          -2.8738964,
          12.535846,
          -8.230465,
          3.328547,
          12.357663,
          -11.222019,
          7.5049095,
          3.6749902,
          -5.0207047,
          1.0918516,
          -7.1109095,
          10.817619,
          -4.4261117,
          3.4731584,
          -1.3894047,
          -5.2704196,
          11.540663,
          -6.883544,
          11.54118,
          -11.540249,
          2.7881863,
          -9.975409,
          -3.091608,
          0.12835643,
          -8.25558,
          -11.812978,
          -10.023511,
          -11.850597,
          1.9121853,
          3.956554,
          -6.440285,
          8.328942,
          -6.906746,
          -11.544202,
          -4.867877,
          -9.7614355,
          -4.776034,
          -4.2109637,
          1.9327706,
          -5.7869697,
          -10.5311,
          -6.973342,
          5.2210207,
          -11.058445,
          -3.048963,
          10.3569565,
          -4.4510164,
          -6.439737,
          -3.5453541,
          1.2162895,
          5.570678,
          4.0559926,
          -1.1087377,
          -10.22927,
          6.6080422,
          0.8317147,
          -0.60171616,
          12.093487,
          -1.4570302,
          -7.2769833,
          -2.791317,
          11.380919,
          -10.097321,
          -0.7060664,
          11.129949,
          -9.339164,
          -10.612533,
          11.891171,
          -11.204021,
          0.87983257,
          11.33656,
          10.28072,
          -6.5601964,
          6.7289896,
          10.920137,
          6.8628592,
          -11.873013,
          6.7596483,
          12.649621,
          4.4808016,
          10.685141,
          -6.1179476,
          6.4245777,
          -11.887166,
          -7.575928,
          -8.4587345,
          2.4787872,
          7.363124,
          7.029181,
          -10.561132,
          1.8458064,
          -0.24155807,
          2.992309,
          11.889382,
          2.6893384,
          -1.9229995,
          4.0827894,
          -11.358618,
          7.7876024,
          -10.959507,
          1.2297549,
          -5.552453,
          -8.525493,
          -3.8596299,
          8.606398,
          0.09047542,
          10.0026865,
          -7.3660774,
          10.531635,
          -6.685906,
          10.047679,
          3.4971294,
          12.59331,
          4.9966464,
          12.137743,
          5.583769,
          9.767161,
          1.5080047,
          -1.8893663,
          -9.570978,
          -4.357523,
          7.9406576,
          12.673989,
          6.236877,
          3.1245146,
          6.2885914,
          0.43190637,
          1.4005513,
          9.114083,
          -2.374308,
          -7.844786,
          0.294807,
          8.559092,
          7.7477045,
          8.158162,
          -0.17339948,
          -8.1964445,
          -5.4589167,
          -7.893252,
          -3.2874265,
          -1.0580608,
          -7.7644053,
          -5.5871058,
          1.6414039
         ],
         "yaxis": "y"
        }
       ],
       "layout": {
        "coloraxis": {
         "colorbar": {
          "title": {
           "text": "label"
          }
         },
         "colorscale": [
          [
           0,
           "#0d0887"
          ],
          [
           0.1111111111111111,
           "#46039f"
          ],
          [
           0.2222222222222222,
           "#7201a8"
          ],
          [
           0.3333333333333333,
           "#9c179e"
          ],
          [
           0.4444444444444444,
           "#bd3786"
          ],
          [
           0.5555555555555556,
           "#d8576b"
          ],
          [
           0.6666666666666666,
           "#ed7953"
          ],
          [
           0.7777777777777778,
           "#fb9f3a"
          ],
          [
           0.8888888888888888,
           "#fdca26"
          ],
          [
           1,
           "#f0f921"
          ]
         ]
        },
        "legend": {
         "tracegroupgap": 0
        },
        "margin": {
         "t": 60
        },
        "template": {
         "data": {
          "bar": [
           {
            "error_x": {
             "color": "#2a3f5f"
            },
            "error_y": {
             "color": "#2a3f5f"
            },
            "marker": {
             "line": {
              "color": "#E5ECF6",
              "width": 0.5
             },
             "pattern": {
              "fillmode": "overlay",
              "size": 10,
              "solidity": 0.2
             }
            },
            "type": "bar"
           }
          ],
          "barpolar": [
           {
            "marker": {
             "line": {
              "color": "#E5ECF6",
              "width": 0.5
             },
             "pattern": {
              "fillmode": "overlay",
              "size": 10,
              "solidity": 0.2
             }
            },
            "type": "barpolar"
           }
          ],
          "carpet": [
           {
            "aaxis": {
             "endlinecolor": "#2a3f5f",
             "gridcolor": "white",
             "linecolor": "white",
             "minorgridcolor": "white",
             "startlinecolor": "#2a3f5f"
            },
            "baxis": {
             "endlinecolor": "#2a3f5f",
             "gridcolor": "white",
             "linecolor": "white",
             "minorgridcolor": "white",
             "startlinecolor": "#2a3f5f"
            },
            "type": "carpet"
           }
          ],
          "choropleth": [
           {
            "colorbar": {
             "outlinewidth": 0,
             "ticks": ""
            },
            "type": "choropleth"
           }
          ],
          "contour": [
           {
            "colorbar": {
             "outlinewidth": 0,
             "ticks": ""
            },
            "colorscale": [
             [
              0,
              "#0d0887"
             ],
             [
              0.1111111111111111,
              "#46039f"
             ],
             [
              0.2222222222222222,
              "#7201a8"
             ],
             [
              0.3333333333333333,
              "#9c179e"
             ],
             [
              0.4444444444444444,
              "#bd3786"
             ],
             [
              0.5555555555555556,
              "#d8576b"
             ],
             [
              0.6666666666666666,
              "#ed7953"
             ],
             [
              0.7777777777777778,
              "#fb9f3a"
             ],
             [
              0.8888888888888888,
              "#fdca26"
             ],
             [
              1,
              "#f0f921"
             ]
            ],
            "type": "contour"
           }
          ],
          "contourcarpet": [
           {
            "colorbar": {
             "outlinewidth": 0,
             "ticks": ""
            },
            "type": "contourcarpet"
           }
          ],
          "heatmap": [
           {
            "colorbar": {
             "outlinewidth": 0,
             "ticks": ""
            },
            "colorscale": [
             [
              0,
              "#0d0887"
             ],
             [
              0.1111111111111111,
              "#46039f"
             ],
             [
              0.2222222222222222,
              "#7201a8"
             ],
             [
              0.3333333333333333,
              "#9c179e"
             ],
             [
              0.4444444444444444,
              "#bd3786"
             ],
             [
              0.5555555555555556,
              "#d8576b"
             ],
             [
              0.6666666666666666,
              "#ed7953"
             ],
             [
              0.7777777777777778,
              "#fb9f3a"
             ],
             [
              0.8888888888888888,
              "#fdca26"
             ],
             [
              1,
              "#f0f921"
             ]
            ],
            "type": "heatmap"
           }
          ],
          "heatmapgl": [
           {
            "colorbar": {
             "outlinewidth": 0,
             "ticks": ""
            },
            "colorscale": [
             [
              0,
              "#0d0887"
             ],
             [
              0.1111111111111111,
              "#46039f"
             ],
             [
              0.2222222222222222,
              "#7201a8"
             ],
             [
              0.3333333333333333,
              "#9c179e"
             ],
             [
              0.4444444444444444,
              "#bd3786"
             ],
             [
              0.5555555555555556,
              "#d8576b"
             ],
             [
              0.6666666666666666,
              "#ed7953"
             ],
             [
              0.7777777777777778,
              "#fb9f3a"
             ],
             [
              0.8888888888888888,
              "#fdca26"
             ],
             [
              1,
              "#f0f921"
             ]
            ],
            "type": "heatmapgl"
           }
          ],
          "histogram": [
           {
            "marker": {
             "pattern": {
              "fillmode": "overlay",
              "size": 10,
              "solidity": 0.2
             }
            },
            "type": "histogram"
           }
          ],
          "histogram2d": [
           {
            "colorbar": {
             "outlinewidth": 0,
             "ticks": ""
            },
            "colorscale": [
             [
              0,
              "#0d0887"
             ],
             [
              0.1111111111111111,
              "#46039f"
             ],
             [
              0.2222222222222222,
              "#7201a8"
             ],
             [
              0.3333333333333333,
              "#9c179e"
             ],
             [
              0.4444444444444444,
              "#bd3786"
             ],
             [
              0.5555555555555556,
              "#d8576b"
             ],
             [
              0.6666666666666666,
              "#ed7953"
             ],
             [
              0.7777777777777778,
              "#fb9f3a"
             ],
             [
              0.8888888888888888,
              "#fdca26"
             ],
             [
              1,
              "#f0f921"
             ]
            ],
            "type": "histogram2d"
           }
          ],
          "histogram2dcontour": [
           {
            "colorbar": {
             "outlinewidth": 0,
             "ticks": ""
            },
            "colorscale": [
             [
              0,
              "#0d0887"
             ],
             [
              0.1111111111111111,
              "#46039f"
             ],
             [
              0.2222222222222222,
              "#7201a8"
             ],
             [
              0.3333333333333333,
              "#9c179e"
             ],
             [
              0.4444444444444444,
              "#bd3786"
             ],
             [
              0.5555555555555556,
              "#d8576b"
             ],
             [
              0.6666666666666666,
              "#ed7953"
             ],
             [
              0.7777777777777778,
              "#fb9f3a"
             ],
             [
              0.8888888888888888,
              "#fdca26"
             ],
             [
              1,
              "#f0f921"
             ]
            ],
            "type": "histogram2dcontour"
           }
          ],
          "mesh3d": [
           {
            "colorbar": {
             "outlinewidth": 0,
             "ticks": ""
            },
            "type": "mesh3d"
           }
          ],
          "parcoords": [
           {
            "line": {
             "colorbar": {
              "outlinewidth": 0,
              "ticks": ""
             }
            },
            "type": "parcoords"
           }
          ],
          "pie": [
           {
            "automargin": true,
            "type": "pie"
           }
          ],
          "scatter": [
           {
            "fillpattern": {
             "fillmode": "overlay",
             "size": 10,
             "solidity": 0.2
            },
            "type": "scatter"
           }
          ],
          "scatter3d": [
           {
            "line": {
             "colorbar": {
              "outlinewidth": 0,
              "ticks": ""
             }
            },
            "marker": {
             "colorbar": {
              "outlinewidth": 0,
              "ticks": ""
             }
            },
            "type": "scatter3d"
           }
          ],
          "scattercarpet": [
           {
            "marker": {
             "colorbar": {
              "outlinewidth": 0,
              "ticks": ""
             }
            },
            "type": "scattercarpet"
           }
          ],
          "scattergeo": [
           {
            "marker": {
             "colorbar": {
              "outlinewidth": 0,
              "ticks": ""
             }
            },
            "type": "scattergeo"
           }
          ],
          "scattergl": [
           {
            "marker": {
             "colorbar": {
              "outlinewidth": 0,
              "ticks": ""
             }
            },
            "type": "scattergl"
           }
          ],
          "scattermapbox": [
           {
            "marker": {
             "colorbar": {
              "outlinewidth": 0,
              "ticks": ""
             }
            },
            "type": "scattermapbox"
           }
          ],
          "scatterpolar": [
           {
            "marker": {
             "colorbar": {
              "outlinewidth": 0,
              "ticks": ""
             }
            },
            "type": "scatterpolar"
           }
          ],
          "scatterpolargl": [
           {
            "marker": {
             "colorbar": {
              "outlinewidth": 0,
              "ticks": ""
             }
            },
            "type": "scatterpolargl"
           }
          ],
          "scatterternary": [
           {
            "marker": {
             "colorbar": {
              "outlinewidth": 0,
              "ticks": ""
             }
            },
            "type": "scatterternary"
           }
          ],
          "surface": [
           {
            "colorbar": {
             "outlinewidth": 0,
             "ticks": ""
            },
            "colorscale": [
             [
              0,
              "#0d0887"
             ],
             [
              0.1111111111111111,
              "#46039f"
             ],
             [
              0.2222222222222222,
              "#7201a8"
             ],
             [
              0.3333333333333333,
              "#9c179e"
             ],
             [
              0.4444444444444444,
              "#bd3786"
             ],
             [
              0.5555555555555556,
              "#d8576b"
             ],
             [
              0.6666666666666666,
              "#ed7953"
             ],
             [
              0.7777777777777778,
              "#fb9f3a"
             ],
             [
              0.8888888888888888,
              "#fdca26"
             ],
             [
              1,
              "#f0f921"
             ]
            ],
            "type": "surface"
           }
          ],
          "table": [
           {
            "cells": {
             "fill": {
              "color": "#EBF0F8"
             },
             "line": {
              "color": "white"
             }
            },
            "header": {
             "fill": {
              "color": "#C8D4E3"
             },
             "line": {
              "color": "white"
             }
            },
            "type": "table"
           }
          ]
         },
         "layout": {
          "annotationdefaults": {
           "arrowcolor": "#2a3f5f",
           "arrowhead": 0,
           "arrowwidth": 1
          },
          "autotypenumbers": "strict",
          "coloraxis": {
           "colorbar": {
            "outlinewidth": 0,
            "ticks": ""
           }
          },
          "colorscale": {
           "diverging": [
            [
             0,
             "#8e0152"
            ],
            [
             0.1,
             "#c51b7d"
            ],
            [
             0.2,
             "#de77ae"
            ],
            [
             0.3,
             "#f1b6da"
            ],
            [
             0.4,
             "#fde0ef"
            ],
            [
             0.5,
             "#f7f7f7"
            ],
            [
             0.6,
             "#e6f5d0"
            ],
            [
             0.7,
             "#b8e186"
            ],
            [
             0.8,
             "#7fbc41"
            ],
            [
             0.9,
             "#4d9221"
            ],
            [
             1,
             "#276419"
            ]
           ],
           "sequential": [
            [
             0,
             "#0d0887"
            ],
            [
             0.1111111111111111,
             "#46039f"
            ],
            [
             0.2222222222222222,
             "#7201a8"
            ],
            [
             0.3333333333333333,
             "#9c179e"
            ],
            [
             0.4444444444444444,
             "#bd3786"
            ],
            [
             0.5555555555555556,
             "#d8576b"
            ],
            [
             0.6666666666666666,
             "#ed7953"
            ],
            [
             0.7777777777777778,
             "#fb9f3a"
            ],
            [
             0.8888888888888888,
             "#fdca26"
            ],
            [
             1,
             "#f0f921"
            ]
           ],
           "sequentialminus": [
            [
             0,
             "#0d0887"
            ],
            [
             0.1111111111111111,
             "#46039f"
            ],
            [
             0.2222222222222222,
             "#7201a8"
            ],
            [
             0.3333333333333333,
             "#9c179e"
            ],
            [
             0.4444444444444444,
             "#bd3786"
            ],
            [
             0.5555555555555556,
             "#d8576b"
            ],
            [
             0.6666666666666666,
             "#ed7953"
            ],
            [
             0.7777777777777778,
             "#fb9f3a"
            ],
            [
             0.8888888888888888,
             "#fdca26"
            ],
            [
             1,
             "#f0f921"
            ]
           ]
          },
          "colorway": [
           "#636efa",
           "#EF553B",
           "#00cc96",
           "#ab63fa",
           "#FFA15A",
           "#19d3f3",
           "#FF6692",
           "#B6E880",
           "#FF97FF",
           "#FECB52"
          ],
          "font": {
           "color": "#2a3f5f"
          },
          "geo": {
           "bgcolor": "white",
           "lakecolor": "white",
           "landcolor": "#E5ECF6",
           "showlakes": true,
           "showland": true,
           "subunitcolor": "white"
          },
          "hoverlabel": {
           "align": "left"
          },
          "hovermode": "closest",
          "mapbox": {
           "style": "light"
          },
          "paper_bgcolor": "white",
          "plot_bgcolor": "#E5ECF6",
          "polar": {
           "angularaxis": {
            "gridcolor": "white",
            "linecolor": "white",
            "ticks": ""
           },
           "bgcolor": "#E5ECF6",
           "radialaxis": {
            "gridcolor": "white",
            "linecolor": "white",
            "ticks": ""
           }
          },
          "scene": {
           "xaxis": {
            "backgroundcolor": "#E5ECF6",
            "gridcolor": "white",
            "gridwidth": 2,
            "linecolor": "white",
            "showbackground": true,
            "ticks": "",
            "zerolinecolor": "white"
           },
           "yaxis": {
            "backgroundcolor": "#E5ECF6",
            "gridcolor": "white",
            "gridwidth": 2,
            "linecolor": "white",
            "showbackground": true,
            "ticks": "",
            "zerolinecolor": "white"
           },
           "zaxis": {
            "backgroundcolor": "#E5ECF6",
            "gridcolor": "white",
            "gridwidth": 2,
            "linecolor": "white",
            "showbackground": true,
            "ticks": "",
            "zerolinecolor": "white"
           }
          },
          "shapedefaults": {
           "line": {
            "color": "#2a3f5f"
           }
          },
          "ternary": {
           "aaxis": {
            "gridcolor": "white",
            "linecolor": "white",
            "ticks": ""
           },
           "baxis": {
            "gridcolor": "white",
            "linecolor": "white",
            "ticks": ""
           },
           "bgcolor": "#E5ECF6",
           "caxis": {
            "gridcolor": "white",
            "linecolor": "white",
            "ticks": ""
           }
          },
          "title": {
           "x": 0.05
          },
          "xaxis": {
           "automargin": true,
           "gridcolor": "white",
           "linecolor": "white",
           "ticks": "",
           "title": {
            "standoff": 15
           },
           "zerolinecolor": "white",
           "zerolinewidth": 2
          },
          "yaxis": {
           "automargin": true,
           "gridcolor": "white",
           "linecolor": "white",
           "ticks": "",
           "title": {
            "standoff": 15
           },
           "zerolinecolor": "white",
           "zerolinewidth": 2
          }
         }
        },
        "xaxis": {
         "anchor": "y",
         "domain": [
          0,
          1
         ],
         "title": {
          "text": "x"
         }
        },
        "yaxis": {
         "anchor": "x",
         "domain": [
          0,
          1
         ],
         "title": {
          "text": "y"
         }
        }
       }
      }
     },
     "metadata": {},
     "output_type": "display_data"
    }
   ],
   "source": [
    "\n",
    "# TSNE for penultimate layer values\n",
    "# Combine the penultimate layer values and labels\n",
    "\n",
    "combined_penultimate = zero_penultimate + one_penultimate\n",
    "combined_labels = [0] * len(zero_penultimate) + [1] * len(one_penultimate)\n",
    "\n",
    "# Reduce the dimensionality of the embeddings using TSNE\n",
    "tsne = TSNE(n_components=2, random_state=42)\n",
    "\n",
    "# Get the embeddings in 2D\n",
    "embeddings_2d = tsne.fit_transform(combined_penultimate)\n",
    "\n",
    "# Create a dataframe with the embeddings and labels\n",
    "df = pd.DataFrame(embeddings_2d, columns=[\"x\", \"y\"])\n",
    "df[\"label\"] = combined_labels\n",
    "\n",
    "# Plot using plotly\n",
    "import plotly.express as px\n",
    "fig = px.scatter(df, x=\"x\", y=\"y\", color=\"label\")\n",
    "fig.show()\n",
    "  "
   ]
  },
  {
   "cell_type": "code",
   "execution_count": 65,
   "metadata": {},
   "outputs": [
    {
     "name": "stderr",
     "output_type": "stream",
     "text": [
      "C:\\Users\\ASUS\\AppData\\Local\\Packages\\PythonSoftwareFoundation.Python.3.9_qbz5n2kfra8p0\\LocalCache\\local-packages\\Python39\\site-packages\\sklearn\\manifold\\_t_sne.py:795: FutureWarning: The default initialization in TSNE will change from 'random' to 'pca' in 1.2.\n",
      "  warnings.warn(\n",
      "C:\\Users\\ASUS\\AppData\\Local\\Packages\\PythonSoftwareFoundation.Python.3.9_qbz5n2kfra8p0\\LocalCache\\local-packages\\Python39\\site-packages\\sklearn\\manifold\\_t_sne.py:805: FutureWarning: The default learning rate in TSNE will change from 200.0 to 'auto' in 1.2.\n",
      "  warnings.warn(\n"
     ]
    },
    {
     "data": {
      "application/vnd.plotly.v1+json": {
       "config": {
        "plotlyServerURL": "https://plot.ly"
       },
       "data": [
        {
         "hovertemplate": "x=%{x}<br>y=%{y}<br>z=%{z}<br>label=%{marker.color}<extra></extra>",
         "legendgroup": "",
         "marker": {
          "color": [
           0,
           0,
           0,
           0,
           0,
           0,
           0,
           0,
           0,
           0,
           0,
           0,
           0,
           0,
           0,
           0,
           0,
           0,
           0,
           0,
           0,
           0,
           0,
           0,
           0,
           0,
           0,
           0,
           0,
           0,
           0,
           0,
           0,
           0,
           0,
           0,
           0,
           0,
           0,
           0,
           0,
           0,
           0,
           0,
           0,
           0,
           0,
           0,
           0,
           0,
           0,
           0,
           0,
           0,
           0,
           0,
           0,
           0,
           0,
           0,
           0,
           0,
           0,
           0,
           0,
           0,
           0,
           0,
           0,
           0,
           0,
           0,
           0,
           0,
           0,
           0,
           0,
           0,
           0,
           0,
           0,
           0,
           0,
           0,
           0,
           0,
           0,
           0,
           0,
           0,
           0,
           0,
           0,
           0,
           0,
           0,
           0,
           0,
           0,
           0,
           1,
           1,
           1,
           1,
           1,
           1,
           1,
           1,
           1,
           1,
           1,
           1,
           1,
           1,
           1,
           1,
           1,
           1,
           1,
           1,
           1,
           1,
           1,
           1,
           1,
           1,
           1,
           1,
           1,
           1,
           1,
           1,
           1,
           1,
           1,
           1,
           1,
           1,
           1,
           1,
           1,
           1,
           1,
           1,
           1,
           1,
           1,
           1,
           1,
           1,
           1,
           1,
           1,
           1,
           1,
           1,
           1,
           1,
           1,
           1,
           1,
           1,
           1,
           1,
           1,
           1,
           1,
           1,
           1,
           1,
           1,
           1,
           1,
           1,
           1,
           1,
           1,
           1,
           1,
           1,
           1,
           1,
           1,
           1,
           1,
           1,
           1,
           1,
           1,
           1,
           1,
           1,
           1,
           1,
           1,
           1,
           1,
           1,
           1,
           1
          ],
          "coloraxis": "coloraxis",
          "symbol": "circle"
         },
         "mode": "markers",
         "name": "",
         "scene": "scene",
         "showlegend": false,
         "type": "scatter3d",
         "x": [
          57.978954,
          63.215103,
          -92.38574,
          41.12123,
          113.961624,
          -134.87903,
          -39.190945,
          6.3941703,
          -56.68959,
          134.36095,
          34.34864,
          0.23367558,
          -99.63237,
          -120.088524,
          5.543994,
          -26.34857,
          23.167896,
          -66.82757,
          92.41472,
          -9.991064,
          59.765587,
          -126.09824,
          1.9108192,
          95.97172,
          -24.736946,
          53.37341,
          124.78093,
          57.75676,
          52.589054,
          -68.381096,
          9.504593,
          -5.6894464,
          123.76771,
          76.016685,
          -37.471188,
          -19.82819,
          25.893555,
          -136.26637,
          -17.06411,
          86.893936,
          -58.7839,
          -47.169575,
          -35.25024,
          -16.837624,
          -92.10271,
          160.71808,
          18.940577,
          -93.31462,
          21.558065,
          -160.15094,
          4.756456,
          -8.892185,
          62.040676,
          23.317736,
          -9.242211,
          115.356155,
          -33.118885,
          -12.587642,
          -48.917686,
          81.21053,
          -69.64707,
          9.890011,
          71.587036,
          96.882996,
          -51.928562,
          38.405933,
          -49.36572,
          -37.99937,
          29.488323,
          104.80725,
          -32.132633,
          106.90407,
          -57.139217,
          -35.523582,
          -58.190514,
          -86.500595,
          64.6515,
          -100.13563,
          -18.020275,
          73.56351,
          -73.94378,
          106.40426,
          -135.7147,
          -90.5297,
          27.674376,
          104.51588,
          -7.851809,
          75.55378,
          -44.343536,
          46.22723,
          38.161774,
          -123.35751,
          19.096222,
          4.3388324,
          59.91717,
          50.04899,
          -125.26014,
          -35.8728,
          122.465515,
          -153.66211,
          -17.018778,
          -31.60869,
          10.906867,
          -15.546064,
          61.953243,
          19.481188,
          98.48676,
          115.22509,
          4.3043785,
          4.975826,
          29.768354,
          70.888725,
          -38.704525,
          -76.93937,
          -2.359235,
          -72.997314,
          119.4225,
          -75.561584,
          -104.29368,
          -27.96865,
          -68.66176,
          -101.08911,
          154.58025,
          -53.875374,
          -106.28467,
          35.302673,
          -63.36694,
          -20.82712,
          -6.434433,
          76.29395,
          -34.69635,
          61.46622,
          -124.53731,
          52.03687,
          -50.505775,
          117.323715,
          -71.82133,
          -119.15312,
          44.58109,
          -98.217766,
          -3.7245204,
          -57.406845,
          70.50811,
          88.50973,
          71.96868,
          -134.41924,
          66.97417,
          94.62409,
          88.02524,
          -38.304867,
          102.80389,
          -62.096752,
          3.905701,
          -139.99686,
          51.095867,
          -103.802284,
          25.066774,
          19.7657,
          -82.606155,
          -29.421404,
          24.227098,
          7.763671,
          -39.199097,
          -37.886192,
          -62.406734,
          -15.5789995,
          -39.36611,
          38.10352,
          -46.64548,
          108.46178,
          -30.15266,
          89.580505,
          -6.1079736,
          66.757,
          -41.433437,
          -112.97519,
          44.225365,
          21.323633,
          -104.93697,
          80.20125,
          70.24419,
          82.48221,
          -10.965666,
          37.44764,
          -2.0200493,
          36.529785,
          -70.77191,
          -16.018307,
          20.709726,
          24.040644,
          37.24923,
          74.787224,
          -69.40909,
          19.650764,
          -59.379875,
          0.76623034,
          112.938644,
          -65.35692,
          21.87181,
          35.095882
         ],
         "y": [
          33.636448,
          -3.7000022,
          24.797638,
          54.501385,
          14.647041,
          -49.60873,
          80.32129,
          42.90919,
          -118.28633,
          69.217224,
          40.368683,
          101.07162,
          -73.69521,
          -120.48355,
          -2.9946249,
          -71.84089,
          -7.482389,
          -63.37283,
          -5.6535296,
          103.53481,
          -23.56287,
          -97.93,
          -88.902985,
          -116.05332,
          -52.66051,
          108.08962,
          43.04692,
          -15.826368,
          22.875221,
          139.56885,
          43.447426,
          33.14289,
          -85.14428,
          -102.54481,
          128.1882,
          -103.76022,
          -81.18333,
          -117.7681,
          165.66165,
          -54.653706,
          -63.33972,
          -62.263092,
          38.14068,
          143.11797,
          101.411,
          6.71282,
          -88.560196,
          102.23197,
          116.96321,
          -79.59378,
          -23.154774,
          49.535595,
          -0.67573243,
          -26.611355,
          -51.20236,
          80.08949,
          5.360047,
          140.8618,
          -125.09831,
          96.63503,
          100.013596,
          69.41963,
          70.25971,
          65.80826,
          -21.14417,
          -48.54072,
          -99.38933,
          108.977,
          -52.639076,
          22.893726,
          53.826107,
          -39.081974,
          101.39544,
          -42.64464,
          67.79228,
          -89.33543,
          69.17554,
          -112.575424,
          -15.667714,
          -38.253685,
          -23.164608,
          -89.64426,
          -47.790676,
          -45.95081,
          75.435936,
          99.80122,
          -98.04292,
          -109.84309,
          -89.426186,
          86.71716,
          -89.42191,
          -87.21506,
          -78.98575,
          -44.70192,
          23.704386,
          -106.580666,
          -85.8911,
          -97.727936,
          21.469252,
          -106.74801,
          0.017357046,
          81.46856,
          -55.702263,
          -132.25954,
          -80.566574,
          -124.64258,
          -12.368018,
          35.40542,
          -16.822521,
          12.970582,
          19.257526,
          -34.50187,
          14.564734,
          132.1115,
          32.232796,
          -40.06746,
          -39.265526,
          72.28683,
          -67.7511,
          15.6280365,
          129.49956,
          -40.102875,
          -7.5622687,
          161.18483,
          -73.971924,
          25.09028,
          105.42211,
          77.78496,
          -63.0296,
          39.11093,
          130.10686,
          84.77142,
          -61.320454,
          46.82363,
          161.22577,
          68.499695,
          73.9816,
          -3.9091797,
          18.025328,
          -75.15871,
          -97.600624,
          -54.05378,
          9.845335,
          61.15403,
          73.12924,
          -56.98153,
          37.16777,
          -14.2419,
          45.429066,
          128.64635,
          58.057713,
          40.159008,
          -21.28503,
          -88.66031,
          81.58772,
          -114.83548,
          -76.31645,
          -119.36184,
          -36.692158,
          -30.611263,
          110.79203,
          19.35026,
          51.27232,
          -134.50221,
          99.400856,
          -105.31132,
          48.09313,
          -37.30201,
          132.6518,
          35.944702,
          102.305145,
          10.476957,
          72.571434,
          -65.041756,
          73.29941,
          -17.823666,
          -61.08699,
          58.850716,
          142.10715,
          3.7441247,
          65.731026,
          27.869123,
          -53.55271,
          52.371212,
          44.69392,
          -12.17448,
          -28.260527,
          -91.87559,
          86.41858,
          81.02864,
          60.55124,
          -45.43047,
          -85.47243,
          -122.46896,
          -72.73856,
          -11.553096,
          -43.366486,
          -109.387794,
          -117.42942,
          17.059816
         ],
         "z": [
          -57.66313,
          7.1724763,
          -32.578026,
          -122.73877,
          -98.19148,
          82.696335,
          -31.206402,
          12.676401,
          0.9362682,
          20.761183,
          62.41736,
          -3.09522,
          37.517372,
          48.085407,
          89.52209,
          47.66319,
          -28.09333,
          57.10281,
          30.63726,
          -39.555405,
          -125.49259,
          108.758446,
          15.6599,
          15.0230255,
          -31.13987,
          -50.622307,
          46.506844,
          -24.11925,
          126.368164,
          -57.32188,
          -100.79983,
          143.63701,
          6.744196,
          92.9897,
          -40.83358,
          -9.552282,
          79.25823,
          0.014128409,
          -67.81224,
          108.867676,
          144.52315,
          93.28218,
          32.854313,
          -16.98907,
          -62.127724,
          25.070631,
          44.589405,
          -22.36076,
          -28.707739,
          12.582408,
          55.03466,
          57.52733,
          -78.80078,
          24.32284,
          12.82973,
          50.671345,
          10.995549,
          -98.605896,
          83.50886,
          51.18107,
          -107.40561,
          122.05687,
          -49.44857,
          17.645266,
          -28.915815,
          -49.688103,
          -35.629948,
          -14.049576,
          4.0551972,
          70.756714,
          92.45894,
          71.32128,
          -71.92829,
          65.75117,
          -82.886116,
          112.20624,
          36.985317,
          12.523212,
          33.466198,
          8.650523,
          41.7815,
          69.40939,
          0.4338275,
          121.13262,
          44.52585,
          18.224714,
          89.616714,
          -62.3433,
          70.71337,
          120.43714,
          15.555743,
          18.366621,
          -13.457869,
          -16.774439,
          44.676136,
          46.955894,
          -21.537283,
          25.188374,
          -63.467354,
          39.598896,
          -21.237703,
          5.0690174,
          37.2018,
          12.0321245,
          -9.711896,
          -68.01103,
          -78.84568,
          9.557279,
          -57.350574,
          -154.4742,
          -77.70101,
          48.1412,
          99.8867,
          -91.43972,
          90.662254,
          -59.74507,
          25.00785,
          -48.956696,
          0.6232004,
          64.071434,
          -12.038168,
          -22.32295,
          -15.057903,
          -31.104156,
          82.551186,
          -12.027252,
          -38.679424,
          -59.150696,
          82.28786,
          -119.757744,
          13.167288,
          -19.008087,
          118.51842,
          -89.24322,
          -89.34284,
          -15.661827,
          -12.067317,
          44.526596,
          -110.99365,
          145.20366,
          -42.09154,
          23.808798,
          84.923996,
          -77.38244,
          -106.82775,
          37.538406,
          7.078346,
          -10.396127,
          47.60646,
          -76.364876,
          83.771835,
          67.976746,
          -113.19373,
          70.63168,
          -74.99708,
          81.259926,
          -86.36392,
          65.64276,
          13.052511,
          -0.6617699,
          -71.82578,
          43.75792,
          -14.994103,
          45.371834,
          10.713262,
          54.318512,
          -50.01362,
          -94.27112,
          -115.30699,
          -33.533165,
          -101.53645,
          -53.204716,
          -21.874216,
          -66.99925,
          62.16354,
          2.7162697,
          35.899128,
          -70.05824,
          -54.2205,
          -110.78586,
          73.33886,
          -85.13866,
          -75.574974,
          18.299238,
          -42.88428,
          64.16796,
          77.546196,
          -85.45615,
          -48.86681,
          -98.03213,
          -38.892616,
          -27.531403,
          21.473223,
          29.619787,
          -9.795294,
          5.721217,
          -30.245682,
          47.7687,
          -4.197679,
          22.01117
         ]
        }
       ],
       "layout": {
        "coloraxis": {
         "colorbar": {
          "title": {
           "text": "label"
          }
         },
         "colorscale": [
          [
           0,
           "#0d0887"
          ],
          [
           0.1111111111111111,
           "#46039f"
          ],
          [
           0.2222222222222222,
           "#7201a8"
          ],
          [
           0.3333333333333333,
           "#9c179e"
          ],
          [
           0.4444444444444444,
           "#bd3786"
          ],
          [
           0.5555555555555556,
           "#d8576b"
          ],
          [
           0.6666666666666666,
           "#ed7953"
          ],
          [
           0.7777777777777778,
           "#fb9f3a"
          ],
          [
           0.8888888888888888,
           "#fdca26"
          ],
          [
           1,
           "#f0f921"
          ]
         ]
        },
        "legend": {
         "tracegroupgap": 0
        },
        "margin": {
         "t": 60
        },
        "scene": {
         "domain": {
          "x": [
           0,
           1
          ],
          "y": [
           0,
           1
          ]
         },
         "xaxis": {
          "title": {
           "text": "x"
          }
         },
         "yaxis": {
          "title": {
           "text": "y"
          }
         },
         "zaxis": {
          "title": {
           "text": "z"
          }
         }
        },
        "template": {
         "data": {
          "bar": [
           {
            "error_x": {
             "color": "#2a3f5f"
            },
            "error_y": {
             "color": "#2a3f5f"
            },
            "marker": {
             "line": {
              "color": "#E5ECF6",
              "width": 0.5
             },
             "pattern": {
              "fillmode": "overlay",
              "size": 10,
              "solidity": 0.2
             }
            },
            "type": "bar"
           }
          ],
          "barpolar": [
           {
            "marker": {
             "line": {
              "color": "#E5ECF6",
              "width": 0.5
             },
             "pattern": {
              "fillmode": "overlay",
              "size": 10,
              "solidity": 0.2
             }
            },
            "type": "barpolar"
           }
          ],
          "carpet": [
           {
            "aaxis": {
             "endlinecolor": "#2a3f5f",
             "gridcolor": "white",
             "linecolor": "white",
             "minorgridcolor": "white",
             "startlinecolor": "#2a3f5f"
            },
            "baxis": {
             "endlinecolor": "#2a3f5f",
             "gridcolor": "white",
             "linecolor": "white",
             "minorgridcolor": "white",
             "startlinecolor": "#2a3f5f"
            },
            "type": "carpet"
           }
          ],
          "choropleth": [
           {
            "colorbar": {
             "outlinewidth": 0,
             "ticks": ""
            },
            "type": "choropleth"
           }
          ],
          "contour": [
           {
            "colorbar": {
             "outlinewidth": 0,
             "ticks": ""
            },
            "colorscale": [
             [
              0,
              "#0d0887"
             ],
             [
              0.1111111111111111,
              "#46039f"
             ],
             [
              0.2222222222222222,
              "#7201a8"
             ],
             [
              0.3333333333333333,
              "#9c179e"
             ],
             [
              0.4444444444444444,
              "#bd3786"
             ],
             [
              0.5555555555555556,
              "#d8576b"
             ],
             [
              0.6666666666666666,
              "#ed7953"
             ],
             [
              0.7777777777777778,
              "#fb9f3a"
             ],
             [
              0.8888888888888888,
              "#fdca26"
             ],
             [
              1,
              "#f0f921"
             ]
            ],
            "type": "contour"
           }
          ],
          "contourcarpet": [
           {
            "colorbar": {
             "outlinewidth": 0,
             "ticks": ""
            },
            "type": "contourcarpet"
           }
          ],
          "heatmap": [
           {
            "colorbar": {
             "outlinewidth": 0,
             "ticks": ""
            },
            "colorscale": [
             [
              0,
              "#0d0887"
             ],
             [
              0.1111111111111111,
              "#46039f"
             ],
             [
              0.2222222222222222,
              "#7201a8"
             ],
             [
              0.3333333333333333,
              "#9c179e"
             ],
             [
              0.4444444444444444,
              "#bd3786"
             ],
             [
              0.5555555555555556,
              "#d8576b"
             ],
             [
              0.6666666666666666,
              "#ed7953"
             ],
             [
              0.7777777777777778,
              "#fb9f3a"
             ],
             [
              0.8888888888888888,
              "#fdca26"
             ],
             [
              1,
              "#f0f921"
             ]
            ],
            "type": "heatmap"
           }
          ],
          "heatmapgl": [
           {
            "colorbar": {
             "outlinewidth": 0,
             "ticks": ""
            },
            "colorscale": [
             [
              0,
              "#0d0887"
             ],
             [
              0.1111111111111111,
              "#46039f"
             ],
             [
              0.2222222222222222,
              "#7201a8"
             ],
             [
              0.3333333333333333,
              "#9c179e"
             ],
             [
              0.4444444444444444,
              "#bd3786"
             ],
             [
              0.5555555555555556,
              "#d8576b"
             ],
             [
              0.6666666666666666,
              "#ed7953"
             ],
             [
              0.7777777777777778,
              "#fb9f3a"
             ],
             [
              0.8888888888888888,
              "#fdca26"
             ],
             [
              1,
              "#f0f921"
             ]
            ],
            "type": "heatmapgl"
           }
          ],
          "histogram": [
           {
            "marker": {
             "pattern": {
              "fillmode": "overlay",
              "size": 10,
              "solidity": 0.2
             }
            },
            "type": "histogram"
           }
          ],
          "histogram2d": [
           {
            "colorbar": {
             "outlinewidth": 0,
             "ticks": ""
            },
            "colorscale": [
             [
              0,
              "#0d0887"
             ],
             [
              0.1111111111111111,
              "#46039f"
             ],
             [
              0.2222222222222222,
              "#7201a8"
             ],
             [
              0.3333333333333333,
              "#9c179e"
             ],
             [
              0.4444444444444444,
              "#bd3786"
             ],
             [
              0.5555555555555556,
              "#d8576b"
             ],
             [
              0.6666666666666666,
              "#ed7953"
             ],
             [
              0.7777777777777778,
              "#fb9f3a"
             ],
             [
              0.8888888888888888,
              "#fdca26"
             ],
             [
              1,
              "#f0f921"
             ]
            ],
            "type": "histogram2d"
           }
          ],
          "histogram2dcontour": [
           {
            "colorbar": {
             "outlinewidth": 0,
             "ticks": ""
            },
            "colorscale": [
             [
              0,
              "#0d0887"
             ],
             [
              0.1111111111111111,
              "#46039f"
             ],
             [
              0.2222222222222222,
              "#7201a8"
             ],
             [
              0.3333333333333333,
              "#9c179e"
             ],
             [
              0.4444444444444444,
              "#bd3786"
             ],
             [
              0.5555555555555556,
              "#d8576b"
             ],
             [
              0.6666666666666666,
              "#ed7953"
             ],
             [
              0.7777777777777778,
              "#fb9f3a"
             ],
             [
              0.8888888888888888,
              "#fdca26"
             ],
             [
              1,
              "#f0f921"
             ]
            ],
            "type": "histogram2dcontour"
           }
          ],
          "mesh3d": [
           {
            "colorbar": {
             "outlinewidth": 0,
             "ticks": ""
            },
            "type": "mesh3d"
           }
          ],
          "parcoords": [
           {
            "line": {
             "colorbar": {
              "outlinewidth": 0,
              "ticks": ""
             }
            },
            "type": "parcoords"
           }
          ],
          "pie": [
           {
            "automargin": true,
            "type": "pie"
           }
          ],
          "scatter": [
           {
            "fillpattern": {
             "fillmode": "overlay",
             "size": 10,
             "solidity": 0.2
            },
            "type": "scatter"
           }
          ],
          "scatter3d": [
           {
            "line": {
             "colorbar": {
              "outlinewidth": 0,
              "ticks": ""
             }
            },
            "marker": {
             "colorbar": {
              "outlinewidth": 0,
              "ticks": ""
             }
            },
            "type": "scatter3d"
           }
          ],
          "scattercarpet": [
           {
            "marker": {
             "colorbar": {
              "outlinewidth": 0,
              "ticks": ""
             }
            },
            "type": "scattercarpet"
           }
          ],
          "scattergeo": [
           {
            "marker": {
             "colorbar": {
              "outlinewidth": 0,
              "ticks": ""
             }
            },
            "type": "scattergeo"
           }
          ],
          "scattergl": [
           {
            "marker": {
             "colorbar": {
              "outlinewidth": 0,
              "ticks": ""
             }
            },
            "type": "scattergl"
           }
          ],
          "scattermapbox": [
           {
            "marker": {
             "colorbar": {
              "outlinewidth": 0,
              "ticks": ""
             }
            },
            "type": "scattermapbox"
           }
          ],
          "scatterpolar": [
           {
            "marker": {
             "colorbar": {
              "outlinewidth": 0,
              "ticks": ""
             }
            },
            "type": "scatterpolar"
           }
          ],
          "scatterpolargl": [
           {
            "marker": {
             "colorbar": {
              "outlinewidth": 0,
              "ticks": ""
             }
            },
            "type": "scatterpolargl"
           }
          ],
          "scatterternary": [
           {
            "marker": {
             "colorbar": {
              "outlinewidth": 0,
              "ticks": ""
             }
            },
            "type": "scatterternary"
           }
          ],
          "surface": [
           {
            "colorbar": {
             "outlinewidth": 0,
             "ticks": ""
            },
            "colorscale": [
             [
              0,
              "#0d0887"
             ],
             [
              0.1111111111111111,
              "#46039f"
             ],
             [
              0.2222222222222222,
              "#7201a8"
             ],
             [
              0.3333333333333333,
              "#9c179e"
             ],
             [
              0.4444444444444444,
              "#bd3786"
             ],
             [
              0.5555555555555556,
              "#d8576b"
             ],
             [
              0.6666666666666666,
              "#ed7953"
             ],
             [
              0.7777777777777778,
              "#fb9f3a"
             ],
             [
              0.8888888888888888,
              "#fdca26"
             ],
             [
              1,
              "#f0f921"
             ]
            ],
            "type": "surface"
           }
          ],
          "table": [
           {
            "cells": {
             "fill": {
              "color": "#EBF0F8"
             },
             "line": {
              "color": "white"
             }
            },
            "header": {
             "fill": {
              "color": "#C8D4E3"
             },
             "line": {
              "color": "white"
             }
            },
            "type": "table"
           }
          ]
         },
         "layout": {
          "annotationdefaults": {
           "arrowcolor": "#2a3f5f",
           "arrowhead": 0,
           "arrowwidth": 1
          },
          "autotypenumbers": "strict",
          "coloraxis": {
           "colorbar": {
            "outlinewidth": 0,
            "ticks": ""
           }
          },
          "colorscale": {
           "diverging": [
            [
             0,
             "#8e0152"
            ],
            [
             0.1,
             "#c51b7d"
            ],
            [
             0.2,
             "#de77ae"
            ],
            [
             0.3,
             "#f1b6da"
            ],
            [
             0.4,
             "#fde0ef"
            ],
            [
             0.5,
             "#f7f7f7"
            ],
            [
             0.6,
             "#e6f5d0"
            ],
            [
             0.7,
             "#b8e186"
            ],
            [
             0.8,
             "#7fbc41"
            ],
            [
             0.9,
             "#4d9221"
            ],
            [
             1,
             "#276419"
            ]
           ],
           "sequential": [
            [
             0,
             "#0d0887"
            ],
            [
             0.1111111111111111,
             "#46039f"
            ],
            [
             0.2222222222222222,
             "#7201a8"
            ],
            [
             0.3333333333333333,
             "#9c179e"
            ],
            [
             0.4444444444444444,
             "#bd3786"
            ],
            [
             0.5555555555555556,
             "#d8576b"
            ],
            [
             0.6666666666666666,
             "#ed7953"
            ],
            [
             0.7777777777777778,
             "#fb9f3a"
            ],
            [
             0.8888888888888888,
             "#fdca26"
            ],
            [
             1,
             "#f0f921"
            ]
           ],
           "sequentialminus": [
            [
             0,
             "#0d0887"
            ],
            [
             0.1111111111111111,
             "#46039f"
            ],
            [
             0.2222222222222222,
             "#7201a8"
            ],
            [
             0.3333333333333333,
             "#9c179e"
            ],
            [
             0.4444444444444444,
             "#bd3786"
            ],
            [
             0.5555555555555556,
             "#d8576b"
            ],
            [
             0.6666666666666666,
             "#ed7953"
            ],
            [
             0.7777777777777778,
             "#fb9f3a"
            ],
            [
             0.8888888888888888,
             "#fdca26"
            ],
            [
             1,
             "#f0f921"
            ]
           ]
          },
          "colorway": [
           "#636efa",
           "#EF553B",
           "#00cc96",
           "#ab63fa",
           "#FFA15A",
           "#19d3f3",
           "#FF6692",
           "#B6E880",
           "#FF97FF",
           "#FECB52"
          ],
          "font": {
           "color": "#2a3f5f"
          },
          "geo": {
           "bgcolor": "white",
           "lakecolor": "white",
           "landcolor": "#E5ECF6",
           "showlakes": true,
           "showland": true,
           "subunitcolor": "white"
          },
          "hoverlabel": {
           "align": "left"
          },
          "hovermode": "closest",
          "mapbox": {
           "style": "light"
          },
          "paper_bgcolor": "white",
          "plot_bgcolor": "#E5ECF6",
          "polar": {
           "angularaxis": {
            "gridcolor": "white",
            "linecolor": "white",
            "ticks": ""
           },
           "bgcolor": "#E5ECF6",
           "radialaxis": {
            "gridcolor": "white",
            "linecolor": "white",
            "ticks": ""
           }
          },
          "scene": {
           "xaxis": {
            "backgroundcolor": "#E5ECF6",
            "gridcolor": "white",
            "gridwidth": 2,
            "linecolor": "white",
            "showbackground": true,
            "ticks": "",
            "zerolinecolor": "white"
           },
           "yaxis": {
            "backgroundcolor": "#E5ECF6",
            "gridcolor": "white",
            "gridwidth": 2,
            "linecolor": "white",
            "showbackground": true,
            "ticks": "",
            "zerolinecolor": "white"
           },
           "zaxis": {
            "backgroundcolor": "#E5ECF6",
            "gridcolor": "white",
            "gridwidth": 2,
            "linecolor": "white",
            "showbackground": true,
            "ticks": "",
            "zerolinecolor": "white"
           }
          },
          "shapedefaults": {
           "line": {
            "color": "#2a3f5f"
           }
          },
          "ternary": {
           "aaxis": {
            "gridcolor": "white",
            "linecolor": "white",
            "ticks": ""
           },
           "baxis": {
            "gridcolor": "white",
            "linecolor": "white",
            "ticks": ""
           },
           "bgcolor": "#E5ECF6",
           "caxis": {
            "gridcolor": "white",
            "linecolor": "white",
            "ticks": ""
           }
          },
          "title": {
           "x": 0.05
          },
          "xaxis": {
           "automargin": true,
           "gridcolor": "white",
           "linecolor": "white",
           "ticks": "",
           "title": {
            "standoff": 15
           },
           "zerolinecolor": "white",
           "zerolinewidth": 2
          },
          "yaxis": {
           "automargin": true,
           "gridcolor": "white",
           "linecolor": "white",
           "ticks": "",
           "title": {
            "standoff": 15
           },
           "zerolinecolor": "white",
           "zerolinewidth": 2
          }
         }
        }
       }
      }
     },
     "metadata": {},
     "output_type": "display_data"
    }
   ],
   "source": [
    "\n",
    "# TSNE for penultimate layer values\n",
    "# Combine the penultimate layer values and labels\n",
    "\n",
    "combined_penultimate = zero_penultimate + one_penultimate\n",
    "combined_labels = [0] * len(zero_penultimate) + [1] * len(one_penultimate)\n",
    "\n",
    "# Reduce the dimensionality of the embeddings using TSNE\n",
    "tsne = TSNE(n_components=3, random_state=42)\n",
    "\n",
    "# Get the embeddings in 3D\n",
    "embeddings_3d = tsne.fit_transform(combined_penultimate)\n",
    "\n",
    "# Create a dataframe with the embeddings and labels\n",
    "df = pd.DataFrame(embeddings_3d, columns=[\"x\", \"y\", \"z\"])\n",
    "df[\"label\"] = combined_labels\n",
    "\n",
    "# Plot using plotly\n",
    "import plotly.express as px\n",
    "fig = px.scatter_3d(df, x=\"x\", y=\"y\", z=\"z\", color=\"label\")\n",
    "fig.show()\n"
   ]
  },
  {
   "cell_type": "code",
   "execution_count": null,
   "metadata": {},
   "outputs": [],
   "source": []
  }
 ],
 "metadata": {
  "kernelspec": {
   "display_name": "Python 3",
   "language": "python",
   "name": "python3"
  },
  "language_info": {
   "codemirror_mode": {
    "name": "ipython",
    "version": 3
   },
   "file_extension": ".py",
   "mimetype": "text/x-python",
   "name": "python",
   "nbconvert_exporter": "python",
   "pygments_lexer": "ipython3",
   "version": "3.9.13"
  },
  "orig_nbformat": 4
 },
 "nbformat": 4,
 "nbformat_minor": 2
}
