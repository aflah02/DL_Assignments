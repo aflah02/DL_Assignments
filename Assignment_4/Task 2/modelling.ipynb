{
 "cells": [
  {
   "cell_type": "code",
   "execution_count": 22,
   "metadata": {},
   "outputs": [],
   "source": [
    "import os\n",
    "import pandas as pd\n",
    "import numpy as np\n",
    "import matplotlib.pyplot as plt\n",
    "import seaborn as sns\n",
    "from sklearn import preprocessing\n",
    "import pickle\n",
    "import PIL\n",
    "import torch\n",
    "from tqdm.notebook import tqdm\n",
    "from sklearn.model_selection import train_test_split"
   ]
  },
  {
   "cell_type": "code",
   "execution_count": 23,
   "metadata": {},
   "outputs": [],
   "source": [
    "# Set Seed\n",
    "torch.manual_seed(11)\n",
    "np.random.seed(11)"
   ]
  },
  {
   "cell_type": "code",
   "execution_count": 24,
   "metadata": {},
   "outputs": [],
   "source": [
    "path ='../Data'\n",
    "save_path = '../Preprocessed_Data'"
   ]
  },
  {
   "cell_type": "code",
   "execution_count": 25,
   "metadata": {},
   "outputs": [],
   "source": [
    "def load_embeddings(file_name):\n",
    "    with open(save_path + '/' + file_name, 'rb') as f:\n",
    "        embeddings = pickle.load(f)\n",
    "    return embeddings\n",
    "\n",
    "train_bert_embeddings = load_embeddings('train_bert_embeddings.pkl')\n",
    "test_bert_embeddings = load_embeddings('test_bert_embeddings.pkl')\n",
    "dev_bert_embeddings = load_embeddings('dev_bert_embeddings.pkl')\n",
    "\n",
    "train_df = pd.read_csv(save_path + '/df_train.csv')\n",
    "test_df = pd.read_csv(save_path + '/df_test_seen.csv')\n",
    "dev_df = pd.read_csv(save_path + '/df_dev_seen.csv')"
   ]
  },
  {
   "cell_type": "code",
   "execution_count": 26,
   "metadata": {},
   "outputs": [],
   "source": [
    "# Convert tensors to numpy arrays\n",
    "train_bert_embeddings = np.array([i.numpy() for i in train_bert_embeddings])\n",
    "test_bert_embeddings = np.array([i.numpy() for i in test_bert_embeddings])\n",
    "dev_bert_embeddings = np.array([i.numpy() for i in dev_bert_embeddings])"
   ]
  },
  {
   "cell_type": "code",
   "execution_count": 27,
   "metadata": {},
   "outputs": [
    {
     "data": {
      "text/plain": [
       "(numpy.ndarray, numpy.ndarray)"
      ]
     },
     "execution_count": 27,
     "metadata": {},
     "output_type": "execute_result"
    }
   ],
   "source": [
    "type(train_bert_embeddings), type(train_bert_embeddings[0])"
   ]
  },
  {
   "cell_type": "code",
   "execution_count": 28,
   "metadata": {},
   "outputs": [
    {
     "data": {
      "text/plain": [
       "((4192, 768), (768,))"
      ]
     },
     "execution_count": 28,
     "metadata": {},
     "output_type": "execute_result"
    }
   ],
   "source": [
    "train_bert_embeddings.shape, train_bert_embeddings[0].shape"
   ]
  },
  {
   "cell_type": "code",
   "execution_count": 29,
   "metadata": {},
   "outputs": [],
   "source": [
    "# concat resnet and bert embeddings\n",
    "train_embeddings = train_bert_embeddings\n",
    "test_embeddings = test_bert_embeddings\n",
    "dev_embeddings = dev_bert_embeddings"
   ]
  },
  {
   "cell_type": "code",
   "execution_count": 30,
   "metadata": {},
   "outputs": [],
   "source": [
    "train_labels = train_df['label'].values\n",
    "test_labels = test_df['label'].values\n",
    "dev_labels = dev_df['label'].values"
   ]
  },
  {
   "cell_type": "code",
   "execution_count": 31,
   "metadata": {},
   "outputs": [],
   "source": [
    "import numpy as np\n",
    "import torch\n",
    "from torch.utils.data import Dataset, DataLoader\n",
    "\n",
    "# Define a custom PyTorch dataset for the ResNet embeddings and labels\n",
    "class MyDataset(Dataset):\n",
    "    def __init__(self, features, labels):\n",
    "        self.features = features\n",
    "        self.labels = labels\n",
    "\n",
    "    def __len__(self):\n",
    "        return len(self.features)\n",
    "\n",
    "    def __getitem__(self, idx):\n",
    "        x = torch.from_numpy(self.features[idx]).float()\n",
    "        y = torch.tensor(self.labels[idx]).long()\n",
    "        return x, y\n",
    "\n",
    "\n",
    "# Create a custom PyTorch dataset for the train set ResNet embeddings and labels\n",
    "train_dataset = MyDataset(train_embeddings, train_labels)\n",
    "\n",
    "# Create a custom PyTorch dataset for the test set ResNet embeddings and labels\n",
    "test_dataset = MyDataset(test_embeddings, test_labels)\n",
    "\n",
    "# Create a custom PyTorch dataset for the dev set ResNet embeddings and labels\n",
    "dev_dataset = MyDataset(dev_embeddings, dev_labels)\n",
    "\n",
    "# Create a PyTorch DataLoader for the train set with a batch size of 32\n",
    "train_loader = DataLoader(train_dataset, batch_size=32, shuffle=True)\n",
    "\n",
    "# Create a PyTorch DataLoader for the test set with a batch size of 32\n",
    "test_loader = DataLoader(test_dataset, batch_size=32, shuffle=False)\n",
    "\n",
    "# Create a PyTorch DataLoader for the dev set with a batch size of 32\n",
    "dev_loader = DataLoader(dev_dataset, batch_size=32, shuffle=False)"
   ]
  },
  {
   "cell_type": "code",
   "execution_count": 32,
   "metadata": {},
   "outputs": [
    {
     "name": "stdout",
     "output_type": "stream",
     "text": [
      "Epoch 1: Train Loss=0.020098, Train Accuracy=65.10%, Val Loss=0.023334, Val Accuracy=51.41%\n",
      "Epoch 2: Train Loss=0.018872, Train Accuracy=69.06%, Val Loss=0.023364, Val Accuracy=53.82%\n",
      "Epoch 3: Train Loss=0.018213, Train Accuracy=71.64%, Val Loss=0.022168, Val Accuracy=57.03%\n",
      "Epoch 4: Train Loss=0.017847, Train Accuracy=73.09%, Val Loss=0.022604, Val Accuracy=56.63%\n",
      "Epoch 5: Train Loss=0.017533, Train Accuracy=73.54%, Val Loss=0.023342, Val Accuracy=54.22%\n",
      "Epoch 6: Train Loss=0.017366, Train Accuracy=74.09%, Val Loss=0.022556, Val Accuracy=55.82%\n",
      "Epoch 7: Train Loss=0.017043, Train Accuracy=76.38%, Val Loss=0.023343, Val Accuracy=53.82%\n",
      "Epoch 8: Train Loss=0.016921, Train Accuracy=76.19%, Val Loss=0.023137, Val Accuracy=54.22%\n",
      "Epoch 9: Train Loss=0.016661, Train Accuracy=77.15%, Val Loss=0.023336, Val Accuracy=53.82%\n",
      "Epoch 10: Train Loss=0.016393, Train Accuracy=78.34%, Val Loss=0.023105, Val Accuracy=55.42%\n",
      "Epoch 11: Train Loss=0.016309, Train Accuracy=78.77%, Val Loss=0.023560, Val Accuracy=54.62%\n",
      "Epoch 12: Train Loss=0.015990, Train Accuracy=79.87%, Val Loss=0.023434, Val Accuracy=53.41%\n",
      "Epoch 13: Train Loss=0.015798, Train Accuracy=80.89%, Val Loss=0.023586, Val Accuracy=53.82%\n",
      "Epoch 14: Train Loss=0.015638, Train Accuracy=81.32%, Val Loss=0.023437, Val Accuracy=53.01%\n",
      "Epoch 15: Train Loss=0.015568, Train Accuracy=81.66%, Val Loss=0.023957, Val Accuracy=54.22%\n",
      "Epoch 16: Train Loss=0.015218, Train Accuracy=82.99%, Val Loss=0.024087, Val Accuracy=53.41%\n",
      "Epoch 17: Train Loss=0.015073, Train Accuracy=83.61%, Val Loss=0.023317, Val Accuracy=54.22%\n",
      "Epoch 18: Train Loss=0.014887, Train Accuracy=84.38%, Val Loss=0.023587, Val Accuracy=54.62%\n",
      "Epoch 19: Train Loss=0.014690, Train Accuracy=84.61%, Val Loss=0.023675, Val Accuracy=52.21%\n",
      "Epoch 20: Train Loss=0.014623, Train Accuracy=84.92%, Val Loss=0.023552, Val Accuracy=55.02%\n"
     ]
    }
   ],
   "source": [
    "import torch\n",
    "import torch.nn as nn\n",
    "import torch.optim as optim\n",
    "import matplotlib.pyplot as plt\n",
    "\n",
    "class MLPClassifier(nn.Module):\n",
    "    def __init__(self, input_size, hidden_size, output_size):\n",
    "        super(MLPClassifier, self).__init__()\n",
    "        self.fc1 = nn.Linear(input_size, hidden_size)\n",
    "        self.fc2 = nn.Linear(hidden_size, hidden_size)\n",
    "        self.fc3 = nn.Linear(hidden_size, output_size)\n",
    "        self.relu = nn.ReLU()\n",
    "        self.softmax = nn.Softmax(dim=1)\n",
    "\n",
    "    def forward(self, x):\n",
    "        x = self.fc1(x)\n",
    "        x = self.relu(x)\n",
    "        x = self.fc2(x)\n",
    "        x = self.relu(x)\n",
    "        x = self.fc3(x)\n",
    "        x = self.softmax(x)\n",
    "        return x\n",
    "    \n",
    "    def get_presoftmax_values(self, x):\n",
    "        x = self.fc1(x)\n",
    "        x = self.relu(x)\n",
    "        x = self.fc2(x)\n",
    "        x = self.relu(x)\n",
    "        x = self.fc3(x)\n",
    "        return x\n",
    "\n",
    "# Define the train function\n",
    "def train(model, device, train_loader, optimizer, criterion):\n",
    "    model.train()\n",
    "    train_loss = 0.0\n",
    "    correct = 0\n",
    "    for batch_idx, (data, target) in enumerate(train_loader):\n",
    "        data, target = data.to(device), target.to(device)\n",
    "        optimizer.zero_grad()\n",
    "        output = model(data)\n",
    "        loss = criterion(output, target)\n",
    "        train_loss += loss.item()\n",
    "        loss.backward()\n",
    "        optimizer.step()\n",
    "        pred = output.argmax(dim=1, keepdim=True)\n",
    "        correct += pred.eq(target.view_as(pred)).sum().item()\n",
    "    train_loss /= len(train_loader.dataset)\n",
    "    accuracy = 100. * correct / len(train_loader.dataset)\n",
    "    return train_loss, accuracy\n",
    "\n",
    "# Define the validation function\n",
    "def validate(model, device, val_loader, criterion):\n",
    "    model.eval()\n",
    "    val_loss = 0.0\n",
    "    correct = 0\n",
    "    with torch.no_grad():\n",
    "        for data, target in val_loader:\n",
    "            data, target = data.to(device), target.to(device)\n",
    "            output = model(data)\n",
    "            val_loss += criterion(output, target).item()\n",
    "            pred = output.argmax(dim=1, keepdim=True)\n",
    "            correct += pred.eq(target.view_as(pred)).sum().item()\n",
    "    val_loss /= len(val_loader.dataset)\n",
    "    accuracy = 100. * correct / len(val_loader.dataset)\n",
    "    return val_loss, accuracy\n",
    "\n",
    "# Set the device to use for training the model (e.g. CPU or GPU)\n",
    "device = torch.device(\"cuda\" if torch.cuda.is_available() else \"cpu\")\n",
    "\n",
    "# Define the model, optimizer, and loss criterion\n",
    "model = MLPClassifier(input_size=768, hidden_size=256, output_size=2).to(device)\n",
    "optimizer = optim.Adam(model.parameters(), lr=0.0001)\n",
    "criterion = nn.CrossEntropyLoss()\n",
    "\n",
    "# Train the model and log the training and validation losses and accuracies\n",
    "num_epochs = 20\n",
    "train_losses = []\n",
    "train_accuracies = []\n",
    "val_losses = []\n",
    "val_accuracies = []\n",
    "best_val_accuracy = 0\n",
    "best_val_accuracy_epoch = 0\n",
    "\n",
    "for epoch in range(1, num_epochs + 1):\n",
    "    train_loss, train_accuracy = train(model, device, train_loader, optimizer, criterion)\n",
    "    val_loss, val_accuracy = validate(model, device, dev_loader, criterion)\n",
    "    train_losses.append(train_loss)\n",
    "    train_accuracies.append(train_accuracy)\n",
    "    val_losses.append(val_loss)\n",
    "    val_accuracies.append(val_accuracy)\n",
    "    print(f\"Epoch {epoch}: Train Loss={train_loss:.6f}, Train Accuracy={train_accuracy:.2f}%, Val Loss={val_loss:.6f}, Val Accuracy={val_accuracy:.2f}%\")\n",
    "    if val_accuracy > best_val_accuracy:\n",
    "        best_val_accuracy = val_accuracy\n",
    "        best_val_accuracy_epoch = epoch\n",
    "        torch.save(model.state_dict(), \"text_model.pt\")"
   ]
  },
  {
   "cell_type": "code",
   "execution_count": 33,
   "metadata": {},
   "outputs": [
    {
     "data": {
      "text/plain": [
       "<All keys matched successfully>"
      ]
     },
     "execution_count": 33,
     "metadata": {},
     "output_type": "execute_result"
    }
   ],
   "source": [
    "model = MLPClassifier(input_size=768, hidden_size=256, output_size=2).to(device)\n",
    "model.load_state_dict(torch.load(\"text_model.pt\"))"
   ]
  },
  {
   "cell_type": "code",
   "execution_count": 34,
   "metadata": {},
   "outputs": [
    {
     "data": {
      "image/png": "[encoded data removed]",
      "text/plain": [
       "<Figure size 432x288 with 1 Axes>"
      ]
     },
     "metadata": {
      "needs_background": "light"
     },
     "output_type": "display_data"
    }
   ],
   "source": [
    "plt.plot(range(1, num_epochs + 1), train_losses, label=\"Training Loss\")\n",
    "plt.plot(range(1, num_epochs + 1), val_losses, label=\"Validation Loss\")\n",
    "# Add a vertical line at the epoch with the best validation accuracy\n",
    "plt.axvline(x=best_val_accuracy_epoch, color=\"red\", linestyle=\"--\", label=\"Best Validation Accuracy\")\n",
    "plt.xlabel(\"Epoch\")\n",
    "plt.ylabel(\"Loss\")\n",
    "plt.legend()\n",
    "plt.show()"
   ]
  },
  {
   "cell_type": "code",
   "execution_count": 35,
   "metadata": {},
   "outputs": [
    {
     "data": {
      "image/png": "[encoded data removed]",
      "text/plain": [
       "<Figure size 432x288 with 1 Axes>"
      ]
     },
     "metadata": {
      "needs_background": "light"
     },
     "output_type": "display_data"
    }
   ],
   "source": [
    "plt.plot(range(1, num_epochs + 1), train_accuracies, label=\"Training Accuracy\")\n",
    "plt.plot(range(1, num_epochs + 1), val_accuracies, label=\"Validation Accuracy\")\n",
    "# Add a vertical line at the epoch with the best validation accuracy\n",
    "plt.axvline(x=best_val_accuracy_epoch, color=\"red\", linestyle=\"--\", label=\"Best Validation Accuracy\")\n",
    "plt.xlabel(\"Epoch\")\n",
    "plt.ylabel(\"Accuracy\")\n",
    "plt.legend()\n",
    "plt.show()"
   ]
  },
  {
   "cell_type": "code",
   "execution_count": 36,
   "metadata": {},
   "outputs": [
    {
     "name": "stdout",
     "output_type": "stream",
     "text": [
      "              precision    recall  f1-score   support\n",
      "\n",
      "           0       0.53      0.75      0.62       221\n",
      "           1       0.61      0.38      0.47       233\n",
      "\n",
      "    accuracy                           0.56       454\n",
      "   macro avg       0.57      0.56      0.55       454\n",
      "weighted avg       0.57      0.56      0.54       454\n",
      "\n",
      "Test Accuracy:  0.5594713656387665\n"
     ]
    }
   ],
   "source": [
    "# Predict the labels for the test set\n",
    "model.eval()\n",
    "test_predictions = []\n",
    "with torch.no_grad():\n",
    "    for data, target in test_loader:\n",
    "        data, target = data.to(device), target.to(device)\n",
    "        output = model(data)\n",
    "        pred = output.argmax(dim=1, keepdim=True)\n",
    "        test_predictions.extend(pred.tolist())\n",
    "\n",
    "# Print the classification report\n",
    "from sklearn.metrics import classification_report\n",
    "print(classification_report(test_labels, test_predictions))\n",
    "\n",
    "accuracy = 0\n",
    "for i in range(len(test_predictions)):\n",
    "    if test_predictions[i] == test_labels[i]:\n",
    "        accuracy += 1\n",
    "print(\"Test Accuracy: \", accuracy/len(test_predictions))"
   ]
  },
  {
   "attachments": {},
   "cell_type": "markdown",
   "metadata": {},
   "source": [
    "## TSNE Vis"
   ]
  },
  {
   "cell_type": "code",
   "execution_count": 37,
   "metadata": {},
   "outputs": [],
   "source": [
    "import random\n",
    "random.seed(42)\n",
    "# sample 100 indexes where value is 0\n",
    "zero_indexes = random.sample(list(np.where(test_labels == 0)[0]), 100)\n",
    "random.seed(42)\n",
    "# sample 100 indexes where value is 1\n",
    "one_indexes = random.sample(list(np.where(test_labels == 1)[0]), 100)"
   ]
  },
  {
   "cell_type": "code",
   "execution_count": 38,
   "metadata": {},
   "outputs": [],
   "source": [
    "# get the embeddings for the 100 indexes where value is 0\n",
    "zero_embeddings = [test_embeddings[i] for i in zero_indexes]\n",
    "# get the embeddings for the 100 indexes where value is 1\n",
    "one_embeddings = [test_embeddings[i] for i in one_indexes]"
   ]
  },
  {
   "cell_type": "code",
   "execution_count": 39,
   "metadata": {},
   "outputs": [],
   "source": [
    "# Get the penultimate layer values for the 100 indexes where value is 0\n",
    "zero_penultimate = []\n",
    "for i in range(len(zero_embeddings)):\n",
    "    zero_penultimate.append(model.get_presoftmax_values(torch.tensor(zero_embeddings[i]).to(device)).tolist())\n",
    "\n",
    "# Get the penultimate layer values for the 100 indexes where value is 1\n",
    "one_penultimate = []\n",
    "for i in range(len(one_embeddings)):\n",
    "    one_penultimate.append(model.get_presoftmax_values(torch.tensor(one_embeddings[i]).to(device)).tolist())"
   ]
  },
  {
   "cell_type": "code",
   "execution_count": 40,
   "metadata": {},
   "outputs": [
    {
     "name": "stderr",
     "output_type": "stream",
     "text": [
      "C:\\Users\\ASUS\\AppData\\Local\\Packages\\PythonSoftwareFoundation.Python.3.9_qbz5n2kfra8p0\\LocalCache\\local-packages\\Python39\\site-packages\\sklearn\\manifold\\_t_sne.py:795: FutureWarning:\n",
      "\n",
      "The default initialization in TSNE will change from 'random' to 'pca' in 1.2.\n",
      "\n",
      "C:\\Users\\ASUS\\AppData\\Local\\Packages\\PythonSoftwareFoundation.Python.3.9_qbz5n2kfra8p0\\LocalCache\\local-packages\\Python39\\site-packages\\sklearn\\manifold\\_t_sne.py:805: FutureWarning:\n",
      "\n",
      "The default learning rate in TSNE will change from 200.0 to 'auto' in 1.2.\n",
      "\n"
     ]
    },
    {
     "data": {
      "application/vnd.plotly.v1+json": {
       "config": {
        "plotlyServerURL": "https://plot.ly"
       },
       "data": [
        {
         "hovertemplate": "x=%{x}<br>y=%{y}<br>label=%{marker.color}<extra></extra>",
         "legendgroup": "",
         "marker": {
          "color": [
           0,
           0,
           0,
           0,
           0,
           0,
           0,
           0,
           0,
           0,
           0,
           0,
           0,
           0,
           0,
           0,
           0,
           0,
           0,
           0,
           0,
           0,
           0,
           0,
           0,
           0,
           0,
           0,
           0,
           0,
           0,
           0,
           0,
           0,
           0,
           0,
           0,
           0,
           0,
           0,
           0,
           0,
           0,
           0,
           0,
           0,
           0,
           0,
           0,
           0,
           0,
           0,
           0,
           0,
           0,
           0,
           0,
           0,
           0,
           0,
           0,
           0,
           0,
           0,
           0,
           0,
           0,
           0,
           0,
           0,
           0,
           0,
           0,
           0,
           0,
           0,
           0,
           0,
           0,
           0,
           0,
           0,
           0,
           0,
           0,
           0,
           0,
           0,
           0,
           0,
           0,
           0,
           0,
           0,
           0,
           0,
           0,
           0,
           0,
           0,
           1,
           1,
           1,
           1,
           1,
           1,
           1,
           1,
           1,
           1,
           1,
           1,
           1,
           1,
           1,
           1,
           1,
           1,
           1,
           1,
           1,
           1,
           1,
           1,
           1,
           1,
           1,
           1,
           1,
           1,
           1,
           1,
           1,
           1,
           1,
           1,
           1,
           1,
           1,
           1,
           1,
           1,
           1,
           1,
           1,
           1,
           1,
           1,
           1,
           1,
           1,
           1,
           1,
           1,
           1,
           1,
           1,
           1,
           1,
           1,
           1,
           1,
           1,
           1,
           1,
           1,
           1,
           1,
           1,
           1,
           1,
           1,
           1,
           1,
           1,
           1,
           1,
           1,
           1,
           1,
           1,
           1,
           1,
           1,
           1,
           1,
           1,
           1,
           1,
           1,
           1,
           1,
           1,
           1,
           1,
           1,
           1,
           1,
           1,
           1
          ],
          "coloraxis": "coloraxis",
          "symbol": "circle"
         },
         "mode": "markers",
         "name": "",
         "orientation": "v",
         "showlegend": false,
         "type": "scatter",
         "x": [
          6.8542714,
          6.4777656,
          -7.690817,
          2.2415068,
          -1.5932518,
          1.0171809,
          -6.283635,
          7.7797136,
          -0.8475693,
          5.9240236,
          3.2596076,
          -2.81448,
          -2.0356672,
          -0.2630926,
          10.493363,
          -7.225656,
          1.136754,
          -0.15869875,
          -3.372202,
          -6.0552034,
          -9.111833,
          9.155226,
          -3.193823,
          -3.7669413,
          11.503585,
          -3.979894,
          8.306207,
          2.7495236,
          2.8605673,
          3.1673145,
          3.4115374,
          -4.4973593,
          -9.393937,
          1.3837924,
          -12.750699,
          -1.5864699,
          2.850718,
          1.197919,
          -11.52673,
          -0.46033043,
          -5.1762238,
          0.38797835,
          6.5970964,
          -2.6180816,
          -5.2363076,
          -8.019322,
          -1.8121938,
          -9.101252,
          10.246694,
          10.502988,
          10.021965,
          7.6125636,
          2.8060112,
          14.149746,
          -6.1954885,
          -6.7362914,
          6.2185755,
          -11.298418,
          -8.675174,
          -8.338559,
          4.116285,
          1.2884123,
          7.6397142,
          -2.1024313,
          -5.82127,
          10.336298,
          2.2059653,
          -1.5129538,
          -4.6719875,
          3.1112127,
          4.286818,
          -1.2369395,
          0.9762934,
          6.0094705,
          3.7095153,
          6.0759645,
          3.2876415,
          12.324429,
          8.946107,
          -4.796833,
          -12.9838505,
          -3.0195053,
          -8.209927,
          7.9365716,
          1.8681875,
          1.7638631,
          -4.8475904,
          5.2874985,
          10.41373,
          -9.04959,
          1.6085523,
          -1.1923424,
          6.9874477,
          -4.2708187,
          -9.718576,
          -0.20343503,
          -6.1655464,
          5.923974,
          1.9172238,
          -1.0636969,
          2.7661624,
          0.2161179,
          0.084730245,
          2.2530146,
          -0.12513603,
          9.584478,
          -2.216466,
          -0.5003938,
          -2.7403464,
          1.6053947,
          -3.654178,
          1.200601,
          9.135365,
          3.940884,
          5.508123,
          2.6044805,
          -2.8286147,
          6.200968,
          -0.15425533,
          -1.3946208,
          8.897075,
          7.5610785,
          -4.3516665,
          2.2200503,
          6.234023,
          -3.4915056,
          5.61555,
          3.915726,
          -0.005186522,
          -3.2421134,
          3.3743181,
          -0.14111297,
          -4.3528275,
          4.2008767,
          -12.987045,
          -8.231142,
          4.2027154,
          4.028201,
          10.852575,
          9.218705,
          -2.356699,
          -0.8628141,
          -6.1657443,
          5.3420286,
          9.690084,
          9.89014,
          -3.1504004,
          10.436124,
          -2.284872,
          2.078951,
          -1.0079987,
          -10.929074,
          6.6506343,
          -0.020057615,
          -9.051602,
          -3.3257813,
          -1.9331453,
          2.7380528,
          -3.1608083,
          -2.63948,
          -5.499811,
          -2.3166556,
          1.6440849,
          -12.750139,
          -5.004093,
          -4.3668747,
          -6.6024914,
          6.459963,
          4.3742847,
          7.7798266,
          -11.111465,
          4.513447,
          4.033375,
          -6.4445996,
          -4.358419,
          -3.5908499,
          3.1857107,
          5.821911,
          4.1153116,
          -1.080358,
          4.2255807,
          -6.0562944,
          0.42746547,
          5.0972753,
          -6.026769,
          -0.18311815,
          -0.9619614,
          7.830093,
          -0.6011954,
          3.8289013,
          1.0148857,
          2.7563152,
          -2.1532962,
          2.8774986,
          14.149679,
          -2.294086,
          0.92126614,
          2.1926162,
          -8.965875,
          -2.580075
         ],
         "xaxis": "x",
         "y": [
          -3.2802448,
          -6.0542784,
          -1.1606011,
          4.7201343,
          6.7563944,
          0.25757396,
          0.64683807,
          -6.0156617,
          5.875811,
          1.2477331,
          7.792913,
          -0.10563068,
          2.1673262,
          6.911748,
          2.1307542,
          -1.9103452,
          4.149336,
          11.837404,
          4.34527,
          -7.6708755,
          0.99989116,
          -3.4277916,
          4.8636727,
          3.3308089,
          3.4666398,
          1.6620882,
          2.728707,
          2.346399,
          -2.461132,
          -5.6393228,
          4.6274123,
          -1.9616736,
          1.3968567,
          -0.18244901,
          3.2940369,
          9.158958,
          6.1598496,
          -1.1840858,
          -0.6169711,
          -1.9803836,
          -5.621756,
          5.6407213,
          2.0976605,
          2.6186469,
          -1.8859893,
          -0.092134565,
          11.355598,
          -0.81914914,
          -5.420808,
          2.7261317,
          0.676321,
          5.3068,
          3.624953,
          0.5672417,
          -3.2892966,
          2.674028,
          -3.1593077,
          -1.9386842,
          3.8308868,
          -6.6326756,
          -1.2720097,
          6.787798,
          -2.6291196,
          2.9232092,
          -0.70541066,
          1.9904321,
          -3.0260773,
          2.0346427,
          2.032551,
          0.75698763,
          4.5373693,
          -2.6468728,
          2.1527872,
          4.869721,
          1.6083423,
          -5.6479216,
          11.594173,
          3.8763244,
          -0.9314192,
          0.527027,
          -5.304532,
          5.5263505,
          1.8515903,
          -2.6519136,
          -5.020277,
          10.366567,
          4.339914,
          5.2311225,
          2.8796687,
          -4.7356396,
          0.9207052,
          0.95421976,
          0.8902804,
          -0.69266486,
          -5.9122963,
          -0.48061553,
          -4.690269,
          1.2483363,
          1.1765444,
          11.776337,
          -0.54188,
          -2.7816722,
          8.734935,
          -1.5683653,
          0.94891196,
          6.6454062,
          3.850643,
          -4.561909,
          -3.0914073,
          1.4805946,
          1.012256,
          6.942553,
          0.8789765,
          -2.539335,
          1.7911627,
          -3.8930576,
          3.4682517,
          6.2660074,
          2.4241235,
          3.3913264,
          7.646864,
          0.17460102,
          3.4277837,
          1.734015,
          -4.641349,
          1.8916831,
          -3.2001073,
          12.048368,
          -4.6854444,
          -1.7343153,
          -4.699811,
          11.779719,
          0.5950808,
          0.67117596,
          -5.3044224,
          -6.1666865,
          2.3347042,
          8.379499,
          5.6489186,
          0.4389822,
          -1.4503962,
          -1.2233994,
          -4.8534365,
          -0.26334047,
          5.501594,
          5.7458696,
          1.2063416,
          -0.7515899,
          0.8435372,
          5.726323,
          2.6209395,
          -1.293919,
          -0.92384624,
          8.64652,
          -4.7341743,
          2.6241164,
          1.3666333,
          9.861053,
          9.425216,
          2.0117867,
          1.5199676,
          -7.480278,
          2.9399495,
          3.293561,
          -3.2134023,
          6.34491,
          3.7506244,
          3.3376997,
          -5.8713307,
          -6.014708,
          -1.0124856,
          8.677897,
          9.396613,
          -2.5735855,
          -3.8944838,
          2.1568477,
          -7.6114335,
          3.881341,
          -1.2733308,
          -0.36700028,
          6.473063,
          -7.674138,
          1.5729657,
          6.5472045,
          2.225369,
          -7.170338,
          5.100902,
          -3.6513283,
          3.6635046,
          -4.2710805,
          4.1696014,
          6.711823,
          -0.36701438,
          -3.3003821,
          0.5663397,
          9.131122,
          4.93387,
          7.9453053,
          -2.9201443,
          -5.0780506
         ],
         "yaxis": "y"
        }
       ],
       "layout": {
        "coloraxis": {
         "colorbar": {
          "title": {
           "text": "label"
          }
         },
         "colorscale": [
          [
           0,
           "#0d0887"
          ],
          [
           0.1111111111111111,
           "#46039f"
          ],
          [
           0.2222222222222222,
           "#7201a8"
          ],
          [
           0.3333333333333333,
           "#9c179e"
          ],
          [
           0.4444444444444444,
           "#bd3786"
          ],
          [
           0.5555555555555556,
           "#d8576b"
          ],
          [
           0.6666666666666666,
           "#ed7953"
          ],
          [
           0.7777777777777778,
           "#fb9f3a"
          ],
          [
           0.8888888888888888,
           "#fdca26"
          ],
          [
           1,
           "#f0f921"
          ]
         ]
        },
        "legend": {
         "tracegroupgap": 0
        },
        "margin": {
         "t": 60
        },
        "template": {
         "data": {
          "bar": [
           {
            "error_x": {
             "color": "#2a3f5f"
            },
            "error_y": {
             "color": "#2a3f5f"
            },
            "marker": {
             "line": {
              "color": "#E5ECF6",
              "width": 0.5
             },
             "pattern": {
              "fillmode": "overlay",
              "size": 10,
              "solidity": 0.2
             }
            },
            "type": "bar"
           }
          ],
          "barpolar": [
           {
            "marker": {
             "line": {
              "color": "#E5ECF6",
              "width": 0.5
             },
             "pattern": {
              "fillmode": "overlay",
              "size": 10,
              "solidity": 0.2
             }
            },
            "type": "barpolar"
           }
          ],
          "carpet": [
           {
            "aaxis": {
             "endlinecolor": "#2a3f5f",
             "gridcolor": "white",
             "linecolor": "white",
             "minorgridcolor": "white",
             "startlinecolor": "#2a3f5f"
            },
            "baxis": {
             "endlinecolor": "#2a3f5f",
             "gridcolor": "white",
             "linecolor": "white",
             "minorgridcolor": "white",
             "startlinecolor": "#2a3f5f"
            },
            "type": "carpet"
           }
          ],
          "choropleth": [
           {
            "colorbar": {
             "outlinewidth": 0,
             "ticks": ""
            },
            "type": "choropleth"
           }
          ],
          "contour": [
           {
            "colorbar": {
             "outlinewidth": 0,
             "ticks": ""
            },
            "colorscale": [
             [
              0,
              "#0d0887"
             ],
             [
              0.1111111111111111,
              "#46039f"
             ],
             [
              0.2222222222222222,
              "#7201a8"
             ],
             [
              0.3333333333333333,
              "#9c179e"
             ],
             [
              0.4444444444444444,
              "#bd3786"
             ],
             [
              0.5555555555555556,
              "#d8576b"
             ],
             [
              0.6666666666666666,
              "#ed7953"
             ],
             [
              0.7777777777777778,
              "#fb9f3a"
             ],
             [
              0.8888888888888888,
              "#fdca26"
             ],
             [
              1,
              "#f0f921"
             ]
            ],
            "type": "contour"
           }
          ],
          "contourcarpet": [
           {
            "colorbar": {
             "outlinewidth": 0,
             "ticks": ""
            },
            "type": "contourcarpet"
           }
          ],
          "heatmap": [
           {
            "colorbar": {
             "outlinewidth": 0,
             "ticks": ""
            },
            "colorscale": [
             [
              0,
              "#0d0887"
             ],
             [
              0.1111111111111111,
              "#46039f"
             ],
             [
              0.2222222222222222,
              "#7201a8"
             ],
             [
              0.3333333333333333,
              "#9c179e"
             ],
             [
              0.4444444444444444,
              "#bd3786"
             ],
             [
              0.5555555555555556,
              "#d8576b"
             ],
             [
              0.6666666666666666,
              "#ed7953"
             ],
             [
              0.7777777777777778,
              "#fb9f3a"
             ],
             [
              0.8888888888888888,
              "#fdca26"
             ],
             [
              1,
              "#f0f921"
             ]
            ],
            "type": "heatmap"
           }
          ],
          "heatmapgl": [
           {
            "colorbar": {
             "outlinewidth": 0,
             "ticks": ""
            },
            "colorscale": [
             [
              0,
              "#0d0887"
             ],
             [
              0.1111111111111111,
              "#46039f"
             ],
             [
              0.2222222222222222,
              "#7201a8"
             ],
             [
              0.3333333333333333,
              "#9c179e"
             ],
             [
              0.4444444444444444,
              "#bd3786"
             ],
             [
              0.5555555555555556,
              "#d8576b"
             ],
             [
              0.6666666666666666,
              "#ed7953"
             ],
             [
              0.7777777777777778,
              "#fb9f3a"
             ],
             [
              0.8888888888888888,
              "#fdca26"
             ],
             [
              1,
              "#f0f921"
             ]
            ],
            "type": "heatmapgl"
           }
          ],
          "histogram": [
           {
            "marker": {
             "pattern": {
              "fillmode": "overlay",
              "size": 10,
              "solidity": 0.2
             }
            },
            "type": "histogram"
           }
          ],
          "histogram2d": [
           {
            "colorbar": {
             "outlinewidth": 0,
             "ticks": ""
            },
            "colorscale": [
             [
              0,
              "#0d0887"
             ],
             [
              0.1111111111111111,
              "#46039f"
             ],
             [
              0.2222222222222222,
              "#7201a8"
             ],
             [
              0.3333333333333333,
              "#9c179e"
             ],
             [
              0.4444444444444444,
              "#bd3786"
             ],
             [
              0.5555555555555556,
              "#d8576b"
             ],
             [
              0.6666666666666666,
              "#ed7953"
             ],
             [
              0.7777777777777778,
              "#fb9f3a"
             ],
             [
              0.8888888888888888,
              "#fdca26"
             ],
             [
              1,
              "#f0f921"
             ]
            ],
            "type": "histogram2d"
           }
          ],
          "histogram2dcontour": [
           {
            "colorbar": {
             "outlinewidth": 0,
             "ticks": ""
            },
            "colorscale": [
             [
              0,
              "#0d0887"
             ],
             [
              0.1111111111111111,
              "#46039f"
             ],
             [
              0.2222222222222222,
              "#7201a8"
             ],
             [
              0.3333333333333333,
              "#9c179e"
             ],
             [
              0.4444444444444444,
              "#bd3786"
             ],
             [
              0.5555555555555556,
              "#d8576b"
             ],
             [
              0.6666666666666666,
              "#ed7953"
             ],
             [
              0.7777777777777778,
              "#fb9f3a"
             ],
             [
              0.8888888888888888,
              "#fdca26"
             ],
             [
              1,
              "#f0f921"
             ]
            ],
            "type": "histogram2dcontour"
           }
          ],
          "mesh3d": [
           {
            "colorbar": {
             "outlinewidth": 0,
             "ticks": ""
            },
            "type": "mesh3d"
           }
          ],
          "parcoords": [
           {
            "line": {
             "colorbar": {
              "outlinewidth": 0,
              "ticks": ""
             }
            },
            "type": "parcoords"
           }
          ],
          "pie": [
           {
            "automargin": true,
            "type": "pie"
           }
          ],
          "scatter": [
           {
            "fillpattern": {
             "fillmode": "overlay",
             "size": 10,
             "solidity": 0.2
            },
            "type": "scatter"
           }
          ],
          "scatter3d": [
           {
            "line": {
             "colorbar": {
              "outlinewidth": 0,
              "ticks": ""
             }
            },
            "marker": {
             "colorbar": {
              "outlinewidth": 0,
              "ticks": ""
             }
            },
            "type": "scatter3d"
           }
          ],
          "scattercarpet": [
           {
            "marker": {
             "colorbar": {
              "outlinewidth": 0,
              "ticks": ""
             }
            },
            "type": "scattercarpet"
           }
          ],
          "scattergeo": [
           {
            "marker": {
             "colorbar": {
              "outlinewidth": 0,
              "ticks": ""
             }
            },
            "type": "scattergeo"
           }
          ],
          "scattergl": [
           {
            "marker": {
             "colorbar": {
              "outlinewidth": 0,
              "ticks": ""
             }
            },
            "type": "scattergl"
           }
          ],
          "scattermapbox": [
           {
            "marker": {
             "colorbar": {
              "outlinewidth": 0,
              "ticks": ""
             }
            },
            "type": "scattermapbox"
           }
          ],
          "scatterpolar": [
           {
            "marker": {
             "colorbar": {
              "outlinewidth": 0,
              "ticks": ""
             }
            },
            "type": "scatterpolar"
           }
          ],
          "scatterpolargl": [
           {
            "marker": {
             "colorbar": {
              "outlinewidth": 0,
              "ticks": ""
             }
            },
            "type": "scatterpolargl"
           }
          ],
          "scatterternary": [
           {
            "marker": {
             "colorbar": {
              "outlinewidth": 0,
              "ticks": ""
             }
            },
            "type": "scatterternary"
           }
          ],
          "surface": [
           {
            "colorbar": {
             "outlinewidth": 0,
             "ticks": ""
            },
            "colorscale": [
             [
              0,
              "#0d0887"
             ],
             [
              0.1111111111111111,
              "#46039f"
             ],
             [
              0.2222222222222222,
              "#7201a8"
             ],
             [
              0.3333333333333333,
              "#9c179e"
             ],
             [
              0.4444444444444444,
              "#bd3786"
             ],
             [
              0.5555555555555556,
              "#d8576b"
             ],
             [
              0.6666666666666666,
              "#ed7953"
             ],
             [
              0.7777777777777778,
              "#fb9f3a"
             ],
             [
              0.8888888888888888,
              "#fdca26"
             ],
             [
              1,
              "#f0f921"
             ]
            ],
            "type": "surface"
           }
          ],
          "table": [
           {
            "cells": {
             "fill": {
              "color": "#EBF0F8"
             },
             "line": {
              "color": "white"
             }
            },
            "header": {
             "fill": {
              "color": "#C8D4E3"
             },
             "line": {
              "color": "white"
             }
            },
            "type": "table"
           }
          ]
         },
         "layout": {
          "annotationdefaults": {
           "arrowcolor": "#2a3f5f",
           "arrowhead": 0,
           "arrowwidth": 1
          },
          "autotypenumbers": "strict",
          "coloraxis": {
           "colorbar": {
            "outlinewidth": 0,
            "ticks": ""
           }
          },
          "colorscale": {
           "diverging": [
            [
             0,
             "#8e0152"
            ],
            [
             0.1,
             "#c51b7d"
            ],
            [
             0.2,
             "#de77ae"
            ],
            [
             0.3,
             "#f1b6da"
            ],
            [
             0.4,
             "#fde0ef"
            ],
            [
             0.5,
             "#f7f7f7"
            ],
            [
             0.6,
             "#e6f5d0"
            ],
            [
             0.7,
             "#b8e186"
            ],
            [
             0.8,
             "#7fbc41"
            ],
            [
             0.9,
             "#4d9221"
            ],
            [
             1,
             "#276419"
            ]
           ],
           "sequential": [
            [
             0,
             "#0d0887"
            ],
            [
             0.1111111111111111,
             "#46039f"
            ],
            [
             0.2222222222222222,
             "#7201a8"
            ],
            [
             0.3333333333333333,
             "#9c179e"
            ],
            [
             0.4444444444444444,
             "#bd3786"
            ],
            [
             0.5555555555555556,
             "#d8576b"
            ],
            [
             0.6666666666666666,
             "#ed7953"
            ],
            [
             0.7777777777777778,
             "#fb9f3a"
            ],
            [
             0.8888888888888888,
             "#fdca26"
            ],
            [
             1,
             "#f0f921"
            ]
           ],
           "sequentialminus": [
            [
             0,
             "#0d0887"
            ],
            [
             0.1111111111111111,
             "#46039f"
            ],
            [
             0.2222222222222222,
             "#7201a8"
            ],
            [
             0.3333333333333333,
             "#9c179e"
            ],
            [
             0.4444444444444444,
             "#bd3786"
            ],
            [
             0.5555555555555556,
             "#d8576b"
            ],
            [
             0.6666666666666666,
             "#ed7953"
            ],
            [
             0.7777777777777778,
             "#fb9f3a"
            ],
            [
             0.8888888888888888,
             "#fdca26"
            ],
            [
             1,
             "#f0f921"
            ]
           ]
          },
          "colorway": [
           "#636efa",
           "#EF553B",
           "#00cc96",
           "#ab63fa",
           "#FFA15A",
           "#19d3f3",
           "#FF6692",
           "#B6E880",
           "#FF97FF",
           "#FECB52"
          ],
          "font": {
           "color": "#2a3f5f"
          },
          "geo": {
           "bgcolor": "white",
           "lakecolor": "white",
           "landcolor": "#E5ECF6",
           "showlakes": true,
           "showland": true,
           "subunitcolor": "white"
          },
          "hoverlabel": {
           "align": "left"
          },
          "hovermode": "closest",
          "mapbox": {
           "style": "light"
          },
          "paper_bgcolor": "white",
          "plot_bgcolor": "#E5ECF6",
          "polar": {
           "angularaxis": {
            "gridcolor": "white",
            "linecolor": "white",
            "ticks": ""
           },
           "bgcolor": "#E5ECF6",
           "radialaxis": {
            "gridcolor": "white",
            "linecolor": "white",
            "ticks": ""
           }
          },
          "scene": {
           "xaxis": {
            "backgroundcolor": "#E5ECF6",
            "gridcolor": "white",
            "gridwidth": 2,
            "linecolor": "white",
            "showbackground": true,
            "ticks": "",
            "zerolinecolor": "white"
           },
           "yaxis": {
            "backgroundcolor": "#E5ECF6",
            "gridcolor": "white",
            "gridwidth": 2,
            "linecolor": "white",
            "showbackground": true,
            "ticks": "",
            "zerolinecolor": "white"
           },
           "zaxis": {
            "backgroundcolor": "#E5ECF6",
            "gridcolor": "white",
            "gridwidth": 2,
            "linecolor": "white",
            "showbackground": true,
            "ticks": "",
            "zerolinecolor": "white"
           }
          },
          "shapedefaults": {
           "line": {
            "color": "#2a3f5f"
           }
          },
          "ternary": {
           "aaxis": {
            "gridcolor": "white",
            "linecolor": "white",
            "ticks": ""
           },
           "baxis": {
            "gridcolor": "white",
            "linecolor": "white",
            "ticks": ""
           },
           "bgcolor": "#E5ECF6",
           "caxis": {
            "gridcolor": "white",
            "linecolor": "white",
            "ticks": ""
           }
          },
          "title": {
           "x": 0.05
          },
          "xaxis": {
           "automargin": true,
           "gridcolor": "white",
           "linecolor": "white",
           "ticks": "",
           "title": {
            "standoff": 15
           },
           "zerolinecolor": "white",
           "zerolinewidth": 2
          },
          "yaxis": {
           "automargin": true,
           "gridcolor": "white",
           "linecolor": "white",
           "ticks": "",
           "title": {
            "standoff": 15
           },
           "zerolinecolor": "white",
           "zerolinewidth": 2
          }
         }
        },
        "xaxis": {
         "anchor": "y",
         "domain": [
          0,
          1
         ],
         "title": {
          "text": "x"
         }
        },
        "yaxis": {
         "anchor": "x",
         "domain": [
          0,
          1
         ],
         "title": {
          "text": "y"
         }
        }
       }
      }
     },
     "metadata": {},
     "output_type": "display_data"
    }
   ],
   "source": [
    "# TSNE for combined embeddings\n",
    "from sklearn.manifold import TSNE\n",
    "import matplotlib.pyplot as plt\n",
    "import seaborn as sns\n",
    "import pandas as pd\n",
    "\n",
    "# Combine the embeddings and labels\n",
    "combined_embeddings = zero_embeddings + one_embeddings\n",
    "combined_labels = [0] * len(zero_embeddings) + [1] * len(one_embeddings)\n",
    "\n",
    "# Reduce the dimensionality of the embeddings using TSNE\n",
    "tsne = TSNE(n_components=2, random_state=42)\n",
    "\n",
    "# Get the embeddings in 2D\n",
    "embeddings_2d = tsne.fit_transform(combined_embeddings)\n",
    "\n",
    "# Create a dataframe with the embeddings and labels\n",
    "df = pd.DataFrame(embeddings_2d, columns=[\"x\", \"y\"])\n",
    "df[\"label\"] = combined_labels\n",
    "\n",
    "# Plot using plotly\n",
    "import plotly.express as px\n",
    "fig = px.scatter(df, x=\"x\", y=\"y\", color=\"label\")\n",
    "fig.show()\n"
   ]
  },
  {
   "cell_type": "code",
   "execution_count": 41,
   "metadata": {},
   "outputs": [
    {
     "name": "stderr",
     "output_type": "stream",
     "text": [
      "C:\\Users\\ASUS\\AppData\\Local\\Packages\\PythonSoftwareFoundation.Python.3.9_qbz5n2kfra8p0\\LocalCache\\local-packages\\Python39\\site-packages\\sklearn\\manifold\\_t_sne.py:795: FutureWarning:\n",
      "\n",
      "The default initialization in TSNE will change from 'random' to 'pca' in 1.2.\n",
      "\n",
      "C:\\Users\\ASUS\\AppData\\Local\\Packages\\PythonSoftwareFoundation.Python.3.9_qbz5n2kfra8p0\\LocalCache\\local-packages\\Python39\\site-packages\\sklearn\\manifold\\_t_sne.py:805: FutureWarning:\n",
      "\n",
      "The default learning rate in TSNE will change from 200.0 to 'auto' in 1.2.\n",
      "\n"
     ]
    },
    {
     "data": {
      "application/vnd.plotly.v1+json": {
       "config": {
        "plotlyServerURL": "https://plot.ly"
       },
       "data": [
        {
         "hovertemplate": "x=%{x}<br>y=%{y}<br>label=%{marker.color}<extra></extra>",
         "legendgroup": "",
         "marker": {
          "color": [
           0,
           0,
           0,
           0,
           0,
           0,
           0,
           0,
           0,
           0,
           0,
           0,
           0,
           0,
           0,
           0,
           0,
           0,
           0,
           0,
           0,
           0,
           0,
           0,
           0,
           0,
           0,
           0,
           0,
           0,
           0,
           0,
           0,
           0,
           0,
           0,
           0,
           0,
           0,
           0,
           0,
           0,
           0,
           0,
           0,
           0,
           0,
           0,
           0,
           0,
           0,
           0,
           0,
           0,
           0,
           0,
           0,
           0,
           0,
           0,
           0,
           0,
           0,
           0,
           0,
           0,
           0,
           0,
           0,
           0,
           0,
           0,
           0,
           0,
           0,
           0,
           0,
           0,
           0,
           0,
           0,
           0,
           0,
           0,
           0,
           0,
           0,
           0,
           0,
           0,
           0,
           0,
           0,
           0,
           0,
           0,
           0,
           0,
           0,
           0,
           1,
           1,
           1,
           1,
           1,
           1,
           1,
           1,
           1,
           1,
           1,
           1,
           1,
           1,
           1,
           1,
           1,
           1,
           1,
           1,
           1,
           1,
           1,
           1,
           1,
           1,
           1,
           1,
           1,
           1,
           1,
           1,
           1,
           1,
           1,
           1,
           1,
           1,
           1,
           1,
           1,
           1,
           1,
           1,
           1,
           1,
           1,
           1,
           1,
           1,
           1,
           1,
           1,
           1,
           1,
           1,
           1,
           1,
           1,
           1,
           1,
           1,
           1,
           1,
           1,
           1,
           1,
           1,
           1,
           1,
           1,
           1,
           1,
           1,
           1,
           1,
           1,
           1,
           1,
           1,
           1,
           1,
           1,
           1,
           1,
           1,
           1,
           1,
           1,
           1,
           1,
           1,
           1,
           1,
           1,
           1,
           1,
           1,
           1,
           1
          ],
          "coloraxis": "coloraxis",
          "symbol": "circle"
         },
         "mode": "markers",
         "name": "",
         "orientation": "v",
         "showlegend": false,
         "type": "scatter",
         "x": [
          -1.5124764,
          -3.352963,
          -0.7195581,
          -0.1215373,
          0.6044602,
          -2.3030002,
          -3.0680187,
          -1.0263838,
          -3.2886496,
          1.1309017,
          3.7047505,
          -2.3159068,
          -2.3913589,
          -2.381923,
          2.9871552,
          -1.7116766,
          -2.2931802,
          -0.98598045,
          -2.8255432,
          0.98811644,
          -0.40054113,
          -2.5105815,
          -3.7326102,
          -2.6550996,
          0.24133155,
          -3.8937151,
          -2.4175334,
          0.32006592,
          4.3182745,
          3.078409,
          3.271768,
          -4.235542,
          -3.3540628,
          -4.274778,
          4.6469846,
          2.687964,
          -3.517195,
          -3.3163133,
          5.305949,
          -3.9943106,
          -4.271384,
          -3.9545417,
          0.43273866,
          -0.75443316,
          -2.279983,
          -2.139388,
          -2.983703,
          2.8248103,
          -0.89782065,
          2.8228555,
          -3.8266525,
          2.326207,
          3.7323747,
          1.3390998,
          -2.5275455,
          -2.94128,
          -1.1326362,
          -3.823057,
          0.6074788,
          -0.5075453,
          4.821669,
          -2.3995104,
          2.3555658,
          -1.2728465,
          -3.299247,
          -1.4640093,
          1.0572461,
          2.1257439,
          -3.932389,
          -1.7384623,
          2.8286586,
          0.7849401,
          2.1572871,
          2.2611094,
          2.6214483,
          -3.939978,
          -0.60270894,
          3.3180223,
          -1.5898117,
          -0.06872548,
          0.7454385,
          -2.5877717,
          -4.247842,
          -4.1369715,
          2.834098,
          4.389891,
          -3.855679,
          5.1574216,
          -1.1643925,
          -4.1431346,
          -3.4379637,
          -3.8785775,
          -1.7839057,
          -3.291015,
          -2.8519,
          -0.5124148,
          -1.7922713,
          1.1314083,
          -1.5086662,
          -2.4997346,
          4.051692,
          4.417687,
          -0.23242581,
          0.079020485,
          -0.6307436,
          -0.10747079,
          -3.006813,
          4.5362067,
          -3.1062315,
          -1.965336,
          0.14453915,
          3.8522084,
          -2.9584117,
          -0.45883575,
          2.178758,
          4.8592634,
          -3.9006615,
          3.9950283,
          -2.239776,
          0.51108223,
          3.5528872,
          1.8580819,
          -0.8044407,
          -1.8138033,
          -3.8923593,
          -1.2845615,
          -1.6539996,
          -1.7893169,
          5.2471232,
          0.0725378,
          2.4012196,
          -2.061048,
          -2.7093303,
          -3.0254612,
          1.1616278,
          -2.0752623,
          5.2800164,
          5.0441084,
          0.13016891,
          -3.0484025,
          0.758624,
          -3.432139,
          -3.1250181,
          3.771074,
          2.5866947,
          4.904872,
          -0.76338303,
          -0.6928444,
          2.7863877,
          -2.960524,
          1.3327461,
          -0.39131036,
          0.25042808,
          4.0675497,
          -4.1431346,
          -2.0380924,
          -3.3945436,
          4.8955607,
          4.9994392,
          -3.8094633,
          -1.458791,
          3.212333,
          1.5852758,
          4.6469846,
          2.1459444,
          -3.8615742,
          -3.0639458,
          4.1297116,
          3.1091084,
          -1.167762,
          3.403515,
          5.2528462,
          5.240883,
          -2.4964287,
          -2.6187217,
          -3.6661413,
          1.6691239,
          1.4075463,
          4.818641,
          2.0980322,
          -1.3055518,
          0.98811644,
          -1.8861178,
          -1.4787843,
          -3.4000232,
          3.774314,
          3.26204,
          -3.2124934,
          3.8489075,
          4.384963,
          -0.5280335,
          -1.8215908,
          -0.8346599,
          3.544049,
          1.3390996,
          4.4441214,
          -2.7563221,
          1.5877675,
          -0.37250236,
          -3.807013
         ],
         "xaxis": "x",
         "y": [
          -2.590021,
          -14.30462,
          -0.6010252,
          2.097527,
          5.5548363,
          -8.375342,
          -12.975356,
          -1.515506,
          -13.422726,
          6.0738087,
          13.181495,
          -6.8654213,
          -8.606312,
          -9.160055,
          11.271372,
          -4.868029,
          -6.931002,
          -2.422517,
          -11.651961,
          5.455348,
          1.097757,
          -9.60798,
          -16.534653,
          -10.101269,
          2.9591222,
          -16.13116,
          -8.570871,
          3.6724138,
          14.918245,
          11.508358,
          12.758834,
          -18.236675,
          -15.734498,
          -18.808903,
          16.781994,
          10.227536,
          -16.175482,
          -15.492494,
          17.894388,
          -17.604025,
          -18.370106,
          -17.579845,
          4.0748014,
          -1.1597624,
          -7.537402,
          -6.738387,
          -12.16255,
          11.80209,
          -0.5555951,
          11.731111,
          -18.191679,
          10.734734,
          13.743249,
          6.779137,
          -11.015203,
          -11.907159,
          -2.2826767,
          -18.253105,
          5.1125784,
          -1.3764606,
          17.437695,
          -9.046249,
          10.977194,
          -1.1022503,
          -13.029052,
          -1.9735248,
          6.7949047,
          9.402302,
          -17.476578,
          -5.390995,
          10.801134,
          5.517855,
          9.623829,
          10.645118,
          10.044886,
          -17.541988,
          0.50112194,
          13.138632,
          -2.2988908,
          1.8541063,
          4.8319488,
          -10.221629,
          -18.282885,
          -19.159304,
          10.884897,
          15.374547,
          -16.163467,
          17.462149,
          -1.0663548,
          -19.159077,
          -16.065289,
          -18.690683,
          -5.758878,
          -15.278321,
          -10.376236,
          0.68340117,
          -7.138985,
          6.074785,
          -1.7982118,
          -9.382999,
          15.415994,
          15.659494,
          2.6039937,
          3.1330605,
          0.34931195,
          2.7147708,
          -12.247005,
          16.118294,
          -13.18135,
          -5.611698,
          2.3261628,
          14.819235,
          -10.972425,
          0.8783565,
          10.243249,
          16.769737,
          -15.810252,
          14.569982,
          -7.799137,
          4.3387227,
          13.032254,
          8.57059,
          -2.6264176,
          -5.7540784,
          -15.550696,
          -3.2168179,
          -2.5857542,
          -5.308757,
          18.306335,
          2.4449599,
          9.743062,
          -6.31276,
          -9.244426,
          -11.197025,
          5.370326,
          -7.4551826,
          17.819408,
          18.23113,
          3.2435148,
          -12.706899,
          5.8349175,
          -15.104745,
          -14.981513,
          13.382602,
          11.447405,
          16.84785,
          -2.0584614,
          -0.13848431,
          10.500769,
          -11.355097,
          6.928264,
          1.1785274,
          3.1308956,
          15.384944,
          -19.159077,
          -6.031411,
          -13.895804,
          17.937752,
          16.966394,
          -15.0956,
          -3.6592593,
          12.4967985,
          7.7437057,
          16.781994,
          10.067577,
          -18.64848,
          -13.650964,
          14.605984,
          12.126445,
          -1.4800146,
          13.554554,
          18.389421,
          18.338238,
          -10.371364,
          -11.2989,
          -14.657526,
          7.9899087,
          7.2083197,
          17.438131,
          9.278639,
          -2.9372883,
          5.455348,
          -6.830241,
          -3.641696,
          -14.6040945,
          13.898042,
          13.282582,
          -13.877794,
          14.924846,
          15.038221,
          0.1707028,
          -6.216765,
          -1.6869628,
          13.809853,
          6.7791376,
          15.953663,
          -10.667502,
          7.7307286,
          2.0403926,
          -15.161342
         ],
         "yaxis": "y"
        }
       ],
       "layout": {
        "coloraxis": {
         "colorbar": {
          "title": {
           "text": "label"
          }
         },
         "colorscale": [
          [
           0,
           "#0d0887"
          ],
          [
           0.1111111111111111,
           "#46039f"
          ],
          [
           0.2222222222222222,
           "#7201a8"
          ],
          [
           0.3333333333333333,
           "#9c179e"
          ],
          [
           0.4444444444444444,
           "#bd3786"
          ],
          [
           0.5555555555555556,
           "#d8576b"
          ],
          [
           0.6666666666666666,
           "#ed7953"
          ],
          [
           0.7777777777777778,
           "#fb9f3a"
          ],
          [
           0.8888888888888888,
           "#fdca26"
          ],
          [
           1,
           "#f0f921"
          ]
         ]
        },
        "legend": {
         "tracegroupgap": 0
        },
        "margin": {
         "t": 60
        },
        "template": {
         "data": {
          "bar": [
           {
            "error_x": {
             "color": "#2a3f5f"
            },
            "error_y": {
             "color": "#2a3f5f"
            },
            "marker": {
             "line": {
              "color": "#E5ECF6",
              "width": 0.5
             },
             "pattern": {
              "fillmode": "overlay",
              "size": 10,
              "solidity": 0.2
             }
            },
            "type": "bar"
           }
          ],
          "barpolar": [
           {
            "marker": {
             "line": {
              "color": "#E5ECF6",
              "width": 0.5
             },
             "pattern": {
              "fillmode": "overlay",
              "size": 10,
              "solidity": 0.2
             }
            },
            "type": "barpolar"
           }
          ],
          "carpet": [
           {
            "aaxis": {
             "endlinecolor": "#2a3f5f",
             "gridcolor": "white",
             "linecolor": "white",
             "minorgridcolor": "white",
             "startlinecolor": "#2a3f5f"
            },
            "baxis": {
             "endlinecolor": "#2a3f5f",
             "gridcolor": "white",
             "linecolor": "white",
             "minorgridcolor": "white",
             "startlinecolor": "#2a3f5f"
            },
            "type": "carpet"
           }
          ],
          "choropleth": [
           {
            "colorbar": {
             "outlinewidth": 0,
             "ticks": ""
            },
            "type": "choropleth"
           }
          ],
          "contour": [
           {
            "colorbar": {
             "outlinewidth": 0,
             "ticks": ""
            },
            "colorscale": [
             [
              0,
              "#0d0887"
             ],
             [
              0.1111111111111111,
              "#46039f"
             ],
             [
              0.2222222222222222,
              "#7201a8"
             ],
             [
              0.3333333333333333,
              "#9c179e"
             ],
             [
              0.4444444444444444,
              "#bd3786"
             ],
             [
              0.5555555555555556,
              "#d8576b"
             ],
             [
              0.6666666666666666,
              "#ed7953"
             ],
             [
              0.7777777777777778,
              "#fb9f3a"
             ],
             [
              0.8888888888888888,
              "#fdca26"
             ],
             [
              1,
              "#f0f921"
             ]
            ],
            "type": "contour"
           }
          ],
          "contourcarpet": [
           {
            "colorbar": {
             "outlinewidth": 0,
             "ticks": ""
            },
            "type": "contourcarpet"
           }
          ],
          "heatmap": [
           {
            "colorbar": {
             "outlinewidth": 0,
             "ticks": ""
            },
            "colorscale": [
             [
              0,
              "#0d0887"
             ],
             [
              0.1111111111111111,
              "#46039f"
             ],
             [
              0.2222222222222222,
              "#7201a8"
             ],
             [
              0.3333333333333333,
              "#9c179e"
             ],
             [
              0.4444444444444444,
              "#bd3786"
             ],
             [
              0.5555555555555556,
              "#d8576b"
             ],
             [
              0.6666666666666666,
              "#ed7953"
             ],
             [
              0.7777777777777778,
              "#fb9f3a"
             ],
             [
              0.8888888888888888,
              "#fdca26"
             ],
             [
              1,
              "#f0f921"
             ]
            ],
            "type": "heatmap"
           }
          ],
          "heatmapgl": [
           {
            "colorbar": {
             "outlinewidth": 0,
             "ticks": ""
            },
            "colorscale": [
             [
              0,
              "#0d0887"
             ],
             [
              0.1111111111111111,
              "#46039f"
             ],
             [
              0.2222222222222222,
              "#7201a8"
             ],
             [
              0.3333333333333333,
              "#9c179e"
             ],
             [
              0.4444444444444444,
              "#bd3786"
             ],
             [
              0.5555555555555556,
              "#d8576b"
             ],
             [
              0.6666666666666666,
              "#ed7953"
             ],
             [
              0.7777777777777778,
              "#fb9f3a"
             ],
             [
              0.8888888888888888,
              "#fdca26"
             ],
             [
              1,
              "#f0f921"
             ]
            ],
            "type": "heatmapgl"
           }
          ],
          "histogram": [
           {
            "marker": {
             "pattern": {
              "fillmode": "overlay",
              "size": 10,
              "solidity": 0.2
             }
            },
            "type": "histogram"
           }
          ],
          "histogram2d": [
           {
            "colorbar": {
             "outlinewidth": 0,
             "ticks": ""
            },
            "colorscale": [
             [
              0,
              "#0d0887"
             ],
             [
              0.1111111111111111,
              "#46039f"
             ],
             [
              0.2222222222222222,
              "#7201a8"
             ],
             [
              0.3333333333333333,
              "#9c179e"
             ],
             [
              0.4444444444444444,
              "#bd3786"
             ],
             [
              0.5555555555555556,
              "#d8576b"
             ],
             [
              0.6666666666666666,
              "#ed7953"
             ],
             [
              0.7777777777777778,
              "#fb9f3a"
             ],
             [
              0.8888888888888888,
              "#fdca26"
             ],
             [
              1,
              "#f0f921"
             ]
            ],
            "type": "histogram2d"
           }
          ],
          "histogram2dcontour": [
           {
            "colorbar": {
             "outlinewidth": 0,
             "ticks": ""
            },
            "colorscale": [
             [
              0,
              "#0d0887"
             ],
             [
              0.1111111111111111,
              "#46039f"
             ],
             [
              0.2222222222222222,
              "#7201a8"
             ],
             [
              0.3333333333333333,
              "#9c179e"
             ],
             [
              0.4444444444444444,
              "#bd3786"
             ],
             [
              0.5555555555555556,
              "#d8576b"
             ],
             [
              0.6666666666666666,
              "#ed7953"
             ],
             [
              0.7777777777777778,
              "#fb9f3a"
             ],
             [
              0.8888888888888888,
              "#fdca26"
             ],
             [
              1,
              "#f0f921"
             ]
            ],
            "type": "histogram2dcontour"
           }
          ],
          "mesh3d": [
           {
            "colorbar": {
             "outlinewidth": 0,
             "ticks": ""
            },
            "type": "mesh3d"
           }
          ],
          "parcoords": [
           {
            "line": {
             "colorbar": {
              "outlinewidth": 0,
              "ticks": ""
             }
            },
            "type": "parcoords"
           }
          ],
          "pie": [
           {
            "automargin": true,
            "type": "pie"
           }
          ],
          "scatter": [
           {
            "fillpattern": {
             "fillmode": "overlay",
             "size": 10,
             "solidity": 0.2
            },
            "type": "scatter"
           }
          ],
          "scatter3d": [
           {
            "line": {
             "colorbar": {
              "outlinewidth": 0,
              "ticks": ""
             }
            },
            "marker": {
             "colorbar": {
              "outlinewidth": 0,
              "ticks": ""
             }
            },
            "type": "scatter3d"
           }
          ],
          "scattercarpet": [
           {
            "marker": {
             "colorbar": {
              "outlinewidth": 0,
              "ticks": ""
             }
            },
            "type": "scattercarpet"
           }
          ],
          "scattergeo": [
           {
            "marker": {
             "colorbar": {
              "outlinewidth": 0,
              "ticks": ""
             }
            },
            "type": "scattergeo"
           }
          ],
          "scattergl": [
           {
            "marker": {
             "colorbar": {
              "outlinewidth": 0,
              "ticks": ""
             }
            },
            "type": "scattergl"
           }
          ],
          "scattermapbox": [
           {
            "marker": {
             "colorbar": {
              "outlinewidth": 0,
              "ticks": ""
             }
            },
            "type": "scattermapbox"
           }
          ],
          "scatterpolar": [
           {
            "marker": {
             "colorbar": {
              "outlinewidth": 0,
              "ticks": ""
             }
            },
            "type": "scatterpolar"
           }
          ],
          "scatterpolargl": [
           {
            "marker": {
             "colorbar": {
              "outlinewidth": 0,
              "ticks": ""
             }
            },
            "type": "scatterpolargl"
           }
          ],
          "scatterternary": [
           {
            "marker": {
             "colorbar": {
              "outlinewidth": 0,
              "ticks": ""
             }
            },
            "type": "scatterternary"
           }
          ],
          "surface": [
           {
            "colorbar": {
             "outlinewidth": 0,
             "ticks": ""
            },
            "colorscale": [
             [
              0,
              "#0d0887"
             ],
             [
              0.1111111111111111,
              "#46039f"
             ],
             [
              0.2222222222222222,
              "#7201a8"
             ],
             [
              0.3333333333333333,
              "#9c179e"
             ],
             [
              0.4444444444444444,
              "#bd3786"
             ],
             [
              0.5555555555555556,
              "#d8576b"
             ],
             [
              0.6666666666666666,
              "#ed7953"
             ],
             [
              0.7777777777777778,
              "#fb9f3a"
             ],
             [
              0.8888888888888888,
              "#fdca26"
             ],
             [
              1,
              "#f0f921"
             ]
            ],
            "type": "surface"
           }
          ],
          "table": [
           {
            "cells": {
             "fill": {
              "color": "#EBF0F8"
             },
             "line": {
              "color": "white"
             }
            },
            "header": {
             "fill": {
              "color": "#C8D4E3"
             },
             "line": {
              "color": "white"
             }
            },
            "type": "table"
           }
          ]
         },
         "layout": {
          "annotationdefaults": {
           "arrowcolor": "#2a3f5f",
           "arrowhead": 0,
           "arrowwidth": 1
          },
          "autotypenumbers": "strict",
          "coloraxis": {
           "colorbar": {
            "outlinewidth": 0,
            "ticks": ""
           }
          },
          "colorscale": {
           "diverging": [
            [
             0,
             "#8e0152"
            ],
            [
             0.1,
             "#c51b7d"
            ],
            [
             0.2,
             "#de77ae"
            ],
            [
             0.3,
             "#f1b6da"
            ],
            [
             0.4,
             "#fde0ef"
            ],
            [
             0.5,
             "#f7f7f7"
            ],
            [
             0.6,
             "#e6f5d0"
            ],
            [
             0.7,
             "#b8e186"
            ],
            [
             0.8,
             "#7fbc41"
            ],
            [
             0.9,
             "#4d9221"
            ],
            [
             1,
             "#276419"
            ]
           ],
           "sequential": [
            [
             0,
             "#0d0887"
            ],
            [
             0.1111111111111111,
             "#46039f"
            ],
            [
             0.2222222222222222,
             "#7201a8"
            ],
            [
             0.3333333333333333,
             "#9c179e"
            ],
            [
             0.4444444444444444,
             "#bd3786"
            ],
            [
             0.5555555555555556,
             "#d8576b"
            ],
            [
             0.6666666666666666,
             "#ed7953"
            ],
            [
             0.7777777777777778,
             "#fb9f3a"
            ],
            [
             0.8888888888888888,
             "#fdca26"
            ],
            [
             1,
             "#f0f921"
            ]
           ],
           "sequentialminus": [
            [
             0,
             "#0d0887"
            ],
            [
             0.1111111111111111,
             "#46039f"
            ],
            [
             0.2222222222222222,
             "#7201a8"
            ],
            [
             0.3333333333333333,
             "#9c179e"
            ],
            [
             0.4444444444444444,
             "#bd3786"
            ],
            [
             0.5555555555555556,
             "#d8576b"
            ],
            [
             0.6666666666666666,
             "#ed7953"
            ],
            [
             0.7777777777777778,
             "#fb9f3a"
            ],
            [
             0.8888888888888888,
             "#fdca26"
            ],
            [
             1,
             "#f0f921"
            ]
           ]
          },
          "colorway": [
           "#636efa",
           "#EF553B",
           "#00cc96",
           "#ab63fa",
           "#FFA15A",
           "#19d3f3",
           "#FF6692",
           "#B6E880",
           "#FF97FF",
           "#FECB52"
          ],
          "font": {
           "color": "#2a3f5f"
          },
          "geo": {
           "bgcolor": "white",
           "lakecolor": "white",
           "landcolor": "#E5ECF6",
           "showlakes": true,
           "showland": true,
           "subunitcolor": "white"
          },
          "hoverlabel": {
           "align": "left"
          },
          "hovermode": "closest",
          "mapbox": {
           "style": "light"
          },
          "paper_bgcolor": "white",
          "plot_bgcolor": "#E5ECF6",
          "polar": {
           "angularaxis": {
            "gridcolor": "white",
            "linecolor": "white",
            "ticks": ""
           },
           "bgcolor": "#E5ECF6",
           "radialaxis": {
            "gridcolor": "white",
            "linecolor": "white",
            "ticks": ""
           }
          },
          "scene": {
           "xaxis": {
            "backgroundcolor": "#E5ECF6",
            "gridcolor": "white",
            "gridwidth": 2,
            "linecolor": "white",
            "showbackground": true,
            "ticks": "",
            "zerolinecolor": "white"
           },
           "yaxis": {
            "backgroundcolor": "#E5ECF6",
            "gridcolor": "white",
            "gridwidth": 2,
            "linecolor": "white",
            "showbackground": true,
            "ticks": "",
            "zerolinecolor": "white"
           },
           "zaxis": {
            "backgroundcolor": "#E5ECF6",
            "gridcolor": "white",
            "gridwidth": 2,
            "linecolor": "white",
            "showbackground": true,
            "ticks": "",
            "zerolinecolor": "white"
           }
          },
          "shapedefaults": {
           "line": {
            "color": "#2a3f5f"
           }
          },
          "ternary": {
           "aaxis": {
            "gridcolor": "white",
            "linecolor": "white",
            "ticks": ""
           },
           "baxis": {
            "gridcolor": "white",
            "linecolor": "white",
            "ticks": ""
           },
           "bgcolor": "#E5ECF6",
           "caxis": {
            "gridcolor": "white",
            "linecolor": "white",
            "ticks": ""
           }
          },
          "title": {
           "x": 0.05
          },
          "xaxis": {
           "automargin": true,
           "gridcolor": "white",
           "linecolor": "white",
           "ticks": "",
           "title": {
            "standoff": 15
           },
           "zerolinecolor": "white",
           "zerolinewidth": 2
          },
          "yaxis": {
           "automargin": true,
           "gridcolor": "white",
           "linecolor": "white",
           "ticks": "",
           "title": {
            "standoff": 15
           },
           "zerolinecolor": "white",
           "zerolinewidth": 2
          }
         }
        },
        "xaxis": {
         "anchor": "y",
         "domain": [
          0,
          1
         ],
         "title": {
          "text": "x"
         }
        },
        "yaxis": {
         "anchor": "x",
         "domain": [
          0,
          1
         ],
         "title": {
          "text": "y"
         }
        }
       }
      }
     },
     "metadata": {},
     "output_type": "display_data"
    }
   ],
   "source": [
    "\n",
    "# TSNE for penultimate layer values\n",
    "# Combine the penultimate layer values and labels\n",
    "\n",
    "combined_penultimate = zero_penultimate + one_penultimate\n",
    "combined_labels = [0] * len(zero_penultimate) + [1] * len(one_penultimate)\n",
    "\n",
    "# Reduce the dimensionality of the embeddings using TSNE\n",
    "tsne = TSNE(n_components=2, random_state=42)\n",
    "\n",
    "# Get the embeddings in 2D\n",
    "embeddings_2d = tsne.fit_transform(combined_penultimate)\n",
    "\n",
    "# Create a dataframe with the embeddings and labels\n",
    "df = pd.DataFrame(embeddings_2d, columns=[\"x\", \"y\"])\n",
    "df[\"label\"] = combined_labels\n",
    "\n",
    "# Plot using plotly\n",
    "import plotly.express as px\n",
    "fig = px.scatter(df, x=\"x\", y=\"y\", color=\"label\")\n",
    "fig.show()\n",
    "  "
   ]
  },
  {
   "cell_type": "code",
   "execution_count": 42,
   "metadata": {},
   "outputs": [
    {
     "name": "stderr",
     "output_type": "stream",
     "text": [
      "C:\\Users\\ASUS\\AppData\\Local\\Packages\\PythonSoftwareFoundation.Python.3.9_qbz5n2kfra8p0\\LocalCache\\local-packages\\Python39\\site-packages\\sklearn\\manifold\\_t_sne.py:795: FutureWarning:\n",
      "\n",
      "The default initialization in TSNE will change from 'random' to 'pca' in 1.2.\n",
      "\n",
      "C:\\Users\\ASUS\\AppData\\Local\\Packages\\PythonSoftwareFoundation.Python.3.9_qbz5n2kfra8p0\\LocalCache\\local-packages\\Python39\\site-packages\\sklearn\\manifold\\_t_sne.py:805: FutureWarning:\n",
      "\n",
      "The default learning rate in TSNE will change from 200.0 to 'auto' in 1.2.\n",
      "\n"
     ]
    },
    {
     "data": {
      "application/vnd.plotly.v1+json": {
       "config": {
        "plotlyServerURL": "https://plot.ly"
       },
       "data": [
        {
         "hovertemplate": "x=%{x}<br>y=%{y}<br>z=%{z}<br>label=%{marker.color}<extra></extra>",
         "legendgroup": "",
         "marker": {
          "color": [
           0,
           0,
           0,
           0,
           0,
           0,
           0,
           0,
           0,
           0,
           0,
           0,
           0,
           0,
           0,
           0,
           0,
           0,
           0,
           0,
           0,
           0,
           0,
           0,
           0,
           0,
           0,
           0,
           0,
           0,
           0,
           0,
           0,
           0,
           0,
           0,
           0,
           0,
           0,
           0,
           0,
           0,
           0,
           0,
           0,
           0,
           0,
           0,
           0,
           0,
           0,
           0,
           0,
           0,
           0,
           0,
           0,
           0,
           0,
           0,
           0,
           0,
           0,
           0,
           0,
           0,
           0,
           0,
           0,
           0,
           0,
           0,
           0,
           0,
           0,
           0,
           0,
           0,
           0,
           0,
           0,
           0,
           0,
           0,
           0,
           0,
           0,
           0,
           0,
           0,
           0,
           0,
           0,
           0,
           0,
           0,
           0,
           0,
           0,
           0,
           1,
           1,
           1,
           1,
           1,
           1,
           1,
           1,
           1,
           1,
           1,
           1,
           1,
           1,
           1,
           1,
           1,
           1,
           1,
           1,
           1,
           1,
           1,
           1,
           1,
           1,
           1,
           1,
           1,
           1,
           1,
           1,
           1,
           1,
           1,
           1,
           1,
           1,
           1,
           1,
           1,
           1,
           1,
           1,
           1,
           1,
           1,
           1,
           1,
           1,
           1,
           1,
           1,
           1,
           1,
           1,
           1,
           1,
           1,
           1,
           1,
           1,
           1,
           1,
           1,
           1,
           1,
           1,
           1,
           1,
           1,
           1,
           1,
           1,
           1,
           1,
           1,
           1,
           1,
           1,
           1,
           1,
           1,
           1,
           1,
           1,
           1,
           1,
           1,
           1,
           1,
           1,
           1,
           1,
           1,
           1,
           1,
           1,
           1,
           1
          ],
          "coloraxis": "coloraxis",
          "symbol": "circle"
         },
         "mode": "markers",
         "name": "",
         "scene": "scene",
         "showlegend": false,
         "type": "scatter3d",
         "x": [
          -46.838326,
          -55.414173,
          86.68959,
          -43.135044,
          157.72218,
          -60.06334,
          -51.546,
          -89.32352,
          -54.586002,
          -5.573146,
          138.4834,
          49.459595,
          35.727062,
          40.439064,
          81.02003,
          7.709005,
          -71.15547,
          -8.342583,
          -34.05775,
          -12.154338,
          -92.467445,
          -93.88996,
          -57.31521,
          -72.73481,
          -6.56966,
          -44.462242,
          26.685942,
          -53.61719,
          -75.644966,
          72.178505,
          89.25013,
          -95.718864,
          -92.84131,
          91.01667,
          119.50951,
          45.93338,
          -130.49564,
          -63.07314,
          152.09029,
          -69.3081,
          -96.45867,
          -62.65564,
          -23.96079,
          92.13462,
          16.045094,
          -105.82975,
          -35.6041,
          91.27617,
          -79.11529,
          83.16531,
          -85.71511,
          44.63091,
          138.2086,
          10.311723,
          -7.44625,
          -55.463425,
          -26.532202,
          -58.247467,
          -20.424309,
          -42.723328,
          113.8832,
          7.8156896,
          60.96102,
          -110.93004,
          -36.705368,
          -45.83759,
          17.373394,
          -29.109995,
          -91.52142,
          25.607826,
          104.36077,
          12.443301,
          48.346436,
          32.151905,
          30.484314,
          -65.842926,
          64.31752,
          111.76479,
          -64.70258,
          -65.39361,
          33.51417,
          24.719856,
          -43.146946,
          -125.01395,
          63.054092,
          143.47572,
          -78.71496,
          -147.18153,
          -82.101944,
          -132.72867,
          -19.150482,
          -94.338326,
          58.026814,
          -64.66331,
          -53.749084,
          -75.676575,
          -38.023247,
          0.8719998,
          79.38962,
          -90.39131,
          101.24826,
          109.46017,
          -28.598713,
          -92.71964,
          -102.87893,
          -150.96875,
          -75.70239,
          78.66711,
          -43.102757,
          23.382822,
          -76.251465,
          117.95628,
          16.07701,
          -66.72994,
          -165.28093,
          89.20738,
          -39.40188,
          24.151361,
          58.351936,
          -38.610115,
          115.10597,
          41.487476,
          -8.211511,
          -119.66977,
          -10.6079855,
          -27.001974,
          -45.87463,
          42.57916,
          154.99875,
          -15.596371,
          5.6152225,
          10.972352,
          15.740542,
          -51.348576,
          4.586692,
          -121.83073,
          108.70056,
          95.01421,
          39.940605,
          -54.993866,
          1.1537315,
          -28.954641,
          -27.827833,
          99.55884,
          60.9626,
          97.58433,
          -55.822014,
          -109.52479,
          38.69016,
          -91.213554,
          37.302216,
          -30.119661,
          18.319162,
          108.37675,
          -128.12015,
          -93.17991,
          -129.58626,
          125.31135,
          126.759315,
          -2.5528107,
          11.572875,
          102.23707,
          -3.8453002,
          91.609055,
          75.9594,
          -120.52327,
          -15.782106,
          113.63451,
          32.247864,
          -79.879524,
          146.87547,
          123.50226,
          133.88972,
          -15.376588,
          -17.540329,
          -11.5622015,
          43.812126,
          13.33515,
          84.95745,
          50.1422,
          -12.990736,
          51.576485,
          34.279953,
          -16.311989,
          -34.80438,
          154.99702,
          120.39225,
          -83.29813,
          146.72906,
          -67.40442,
          -110.17913,
          50.5852,
          -55.789944,
          127.76825,
          45.48588,
          140.41692,
          -21.774439,
          27.653435,
          -43.2778,
          -10.807897
         ],
         "y": [
          4.996227,
          63.487007,
          97.68006,
          33.106094,
          -108.52374,
          13.551757,
          80.37047,
          38.40246,
          41.16616,
          -50.38775,
          -29.427137,
          95.37368,
          35.069138,
          65.27917,
          -0.2709848,
          52.890312,
          -123.06149,
          28.865278,
          -80.62415,
          -77.412636,
          -56.967346,
          32.677525,
          145.7704,
          -71.98016,
          45.288242,
          112.48641,
          7.942879,
          -57.896954,
          -125.3698,
          -54.20723,
          -64.52464,
          69.867615,
          67.44733,
          56.96363,
          6.476551,
          -4.901099,
          3.437907,
          83.977905,
          -29.298883,
          54.050655,
          114.02188,
          100.527916,
          -54.323524,
          56.410812,
          90.00684,
          -25.31997,
          116.23103,
          -25.300959,
          -1.774745,
          -31.05569,
          109.02744,
          -24.867674,
          -87.78657,
          -86.444496,
          63.12968,
          -50.7002,
          26.593987,
          82.05461,
          -47.771465,
          -4.767628,
          -18.443943,
          128.97496,
          -90.21911,
          7.9076953,
          -42.333622,
          -27.551208,
          -59.14295,
          -87.389305,
          125.64019,
          12.545554,
          38.424263,
          -47.563187,
          -14.916711,
          -109.75168,
          -62.480927,
          138.38112,
          34.090588,
          -93.81797,
          -5.94827,
          -48.10278,
          -43.71526,
          70.144844,
          118.468216,
          56.3355,
          -95.26908,
          -37.709503,
          11.185404,
          85.413124,
          -14.417994,
          120.54809,
          139.06935,
          77.831024,
          55.039642,
          111.1761,
          -105.345726,
          5.858976,
          -147.02959,
          -66.4563,
          68.6555,
          12.800721,
          -64.89912,
          -26.165009,
          -32.78443,
          -57.479313,
          -20.953226,
          14.955922,
          118.4132,
          -31.58831,
          18.297085,
          59.05233,
          -89.20446,
          -93.69972,
          96.19177,
          -29.470129,
          21.020454,
          -13.268351,
          72.03717,
          -44.791485,
          28.011147,
          -79.06218,
          -61.307354,
          -43.07323,
          -12.916507,
          -55.765236,
          95.677864,
          2.7968013,
          33.49259,
          68.7655,
          -64.57307,
          2.6500902,
          -89.97821,
          92.39118,
          40.114395,
          -15.306271,
          -29.373377,
          47.87759,
          -60.81793,
          -84.570656,
          -25.945925,
          100.7508,
          -82.817375,
          131.13477,
          75.814804,
          -83.824394,
          -37.955082,
          -49.993317,
          49.61427,
          11.972583,
          -66.26919,
          84.34152,
          -112.80708,
          -1.6968621,
          23.778448,
          5.200642,
          87.07749,
          -28.504421,
          -46.566288,
          -54.506126,
          -29.106104,
          -6.117303,
          22.153843,
          -30.148022,
          -117.87327,
          -72.08286,
          8.9331,
          93.41266,
          44.149014,
          -50.31743,
          55.67351,
          22.733192,
          -69.00598,
          -86.00501,
          -89.68111,
          -124.58711,
          1.484605,
          37.110184,
          -79.32456,
          -101.474785,
          -42.566895,
          -62.49779,
          -2.6549215,
          130.4325,
          12.515576,
          57.24856,
          93.845795,
          -46.96713,
          -55.87737,
          84.154274,
          -68.22513,
          -114.4688,
          -26.58203,
          36.616467,
          31.653025,
          -20.493576,
          -82.356575,
          -1.9660263,
          29.990788,
          -105.479004,
          -1.7674806,
          107.64585
         ],
         "z": [
          36.635548,
          -33.08116,
          -22.963795,
          120.754295,
          -16.86831,
          -29.208801,
          5.1006007,
          64.75678,
          -63.618008,
          -0.21814619,
          81.28104,
          34.323105,
          -1.4752167,
          -21.06606,
          85.31305,
          69.54598,
          -1.3124871,
          14.734809,
          -80.259155,
          21.505219,
          97.220146,
          -17.822695,
          -62.105797,
          -35.615135,
          123.69026,
          -76.3489,
          -24.346672,
          26.206377,
          70.32856,
          100.8544,
          68.25331,
          -140.74547,
          -55.73542,
          -109.25862,
          -49.822865,
          66.441605,
          -9.077853,
          -66.41293,
          -78.48054,
          -117.44415,
          -106.582184,
          -108.3753,
          80.61765,
          -12.225547,
          13.873646,
          -70.7934,
          12.432962,
          112.72152,
          74.35341,
          44.62361,
          -139.62698,
          101.00582,
          46.562965,
          -5.7680836,
          -16.078089,
          -68.013435,
          55.41751,
          -141.60452,
          42.770123,
          71.41619,
          -85.593155,
          29.055218,
          99.84557,
          48.860027,
          -104.19591,
          -10.118815,
          -25.104765,
          -14.376587,
          -71.78275,
          145.10234,
          52.276386,
          30.96121,
          27.423117,
          77.37189,
          108.20543,
          -104.41932,
          123.205215,
          74.149765,
          9.89454,
          71.89473,
          -58.02938,
          -59.91706,
          -134.4044,
          -100.58801,
          60.769363,
          -5.379651,
          -113.773796,
          -4.637728,
          41.13218,
          -107.43744,
          -78.369934,
          -103.39636,
          39.72059,
          -40.37266,
          -49.59095,
          113.23476,
          26.162361,
          -55.308353,
          -54.65697,
          -51.834846,
          -11.431484,
          -8.96698,
          117.96949,
          41.70353,
          112.71734,
          -46.56414,
          10.409691,
          -23.32636,
          -89.74774,
          35.64536,
          37.54934,
          6.3869348,
          -27.93864,
          106.038506,
          30.502676,
          -54.87652,
          -95.489586,
          150.2671,
          -33.50493,
          55.753887,
          96.61339,
          0.91363543,
          -19.203516,
          -44.94619,
          -94.552444,
          3.088707,
          14.161666,
          73.19569,
          -57.07213,
          108.30951,
          94.5909,
          59.783993,
          -38.471638,
          -62.721996,
          64.67715,
          19.890312,
          -107.63711,
          -76.17217,
          -98.20112,
          41.732758,
          51.29513,
          -33.055725,
          -59.43459,
          38.194813,
          70.4401,
          -49.31528,
          47.082283,
          91.786575,
          73.150696,
          27.776909,
          -10.854805,
          -151.46019,
          102.33882,
          6.4665446,
          -123.415855,
          -25.514904,
          3.2133868,
          -77.24351,
          -46.65877,
          -110.999504,
          45.574383,
          76.525955,
          5.847097,
          146.16127,
          45.403828,
          -81.300606,
          -74.44857,
          19.41268,
          -136.41489,
          31.667067,
          78.88405,
          -50.590836,
          -86.13408,
          -65.89695,
          -61.79511,
          -111.82604,
          5.038783,
          -37.334152,
          -82.82176,
          36.27226,
          34.15667,
          -5.7887,
          -64.84317,
          38.01594,
          -28.862722,
          45.63582,
          56.71986,
          -17.666033,
          12.421386,
          -97.71096,
          75.333305,
          -89.16105,
          78.4074,
          43.32051,
          -32.239902,
          -15.196623,
          -34.21194,
          24.624636,
          138.74113,
          -58.18886
         ]
        }
       ],
       "layout": {
        "coloraxis": {
         "colorbar": {
          "title": {
           "text": "label"
          }
         },
         "colorscale": [
          [
           0,
           "#0d0887"
          ],
          [
           0.1111111111111111,
           "#46039f"
          ],
          [
           0.2222222222222222,
           "#7201a8"
          ],
          [
           0.3333333333333333,
           "#9c179e"
          ],
          [
           0.4444444444444444,
           "#bd3786"
          ],
          [
           0.5555555555555556,
           "#d8576b"
          ],
          [
           0.6666666666666666,
           "#ed7953"
          ],
          [
           0.7777777777777778,
           "#fb9f3a"
          ],
          [
           0.8888888888888888,
           "#fdca26"
          ],
          [
           1,
           "#f0f921"
          ]
         ]
        },
        "legend": {
         "tracegroupgap": 0
        },
        "margin": {
         "t": 60
        },
        "scene": {
         "domain": {
          "x": [
           0,
           1
          ],
          "y": [
           0,
           1
          ]
         },
         "xaxis": {
          "title": {
           "text": "x"
          }
         },
         "yaxis": {
          "title": {
           "text": "y"
          }
         },
         "zaxis": {
          "title": {
           "text": "z"
          }
         }
        },
        "template": {
         "data": {
          "bar": [
           {
            "error_x": {
             "color": "#2a3f5f"
            },
            "error_y": {
             "color": "#2a3f5f"
            },
            "marker": {
             "line": {
              "color": "#E5ECF6",
              "width": 0.5
             },
             "pattern": {
              "fillmode": "overlay",
              "size": 10,
              "solidity": 0.2
             }
            },
            "type": "bar"
           }
          ],
          "barpolar": [
           {
            "marker": {
             "line": {
              "color": "#E5ECF6",
              "width": 0.5
             },
             "pattern": {
              "fillmode": "overlay",
              "size": 10,
              "solidity": 0.2
             }
            },
            "type": "barpolar"
           }
          ],
          "carpet": [
           {
            "aaxis": {
             "endlinecolor": "#2a3f5f",
             "gridcolor": "white",
             "linecolor": "white",
             "minorgridcolor": "white",
             "startlinecolor": "#2a3f5f"
            },
            "baxis": {
             "endlinecolor": "#2a3f5f",
             "gridcolor": "white",
             "linecolor": "white",
             "minorgridcolor": "white",
             "startlinecolor": "#2a3f5f"
            },
            "type": "carpet"
           }
          ],
          "choropleth": [
           {
            "colorbar": {
             "outlinewidth": 0,
             "ticks": ""
            },
            "type": "choropleth"
           }
          ],
          "contour": [
           {
            "colorbar": {
             "outlinewidth": 0,
             "ticks": ""
            },
            "colorscale": [
             [
              0,
              "#0d0887"
             ],
             [
              0.1111111111111111,
              "#46039f"
             ],
             [
              0.2222222222222222,
              "#7201a8"
             ],
             [
              0.3333333333333333,
              "#9c179e"
             ],
             [
              0.4444444444444444,
              "#bd3786"
             ],
             [
              0.5555555555555556,
              "#d8576b"
             ],
             [
              0.6666666666666666,
              "#ed7953"
             ],
             [
              0.7777777777777778,
              "#fb9f3a"
             ],
             [
              0.8888888888888888,
              "#fdca26"
             ],
             [
              1,
              "#f0f921"
             ]
            ],
            "type": "contour"
           }
          ],
          "contourcarpet": [
           {
            "colorbar": {
             "outlinewidth": 0,
             "ticks": ""
            },
            "type": "contourcarpet"
           }
          ],
          "heatmap": [
           {
            "colorbar": {
             "outlinewidth": 0,
             "ticks": ""
            },
            "colorscale": [
             [
              0,
              "#0d0887"
             ],
             [
              0.1111111111111111,
              "#46039f"
             ],
             [
              0.2222222222222222,
              "#7201a8"
             ],
             [
              0.3333333333333333,
              "#9c179e"
             ],
             [
              0.4444444444444444,
              "#bd3786"
             ],
             [
              0.5555555555555556,
              "#d8576b"
             ],
             [
              0.6666666666666666,
              "#ed7953"
             ],
             [
              0.7777777777777778,
              "#fb9f3a"
             ],
             [
              0.8888888888888888,
              "#fdca26"
             ],
             [
              1,
              "#f0f921"
             ]
            ],
            "type": "heatmap"
           }
          ],
          "heatmapgl": [
           {
            "colorbar": {
             "outlinewidth": 0,
             "ticks": ""
            },
            "colorscale": [
             [
              0,
              "#0d0887"
             ],
             [
              0.1111111111111111,
              "#46039f"
             ],
             [
              0.2222222222222222,
              "#7201a8"
             ],
             [
              0.3333333333333333,
              "#9c179e"
             ],
             [
              0.4444444444444444,
              "#bd3786"
             ],
             [
              0.5555555555555556,
              "#d8576b"
             ],
             [
              0.6666666666666666,
              "#ed7953"
             ],
             [
              0.7777777777777778,
              "#fb9f3a"
             ],
             [
              0.8888888888888888,
              "#fdca26"
             ],
             [
              1,
              "#f0f921"
             ]
            ],
            "type": "heatmapgl"
           }
          ],
          "histogram": [
           {
            "marker": {
             "pattern": {
              "fillmode": "overlay",
              "size": 10,
              "solidity": 0.2
             }
            },
            "type": "histogram"
           }
          ],
          "histogram2d": [
           {
            "colorbar": {
             "outlinewidth": 0,
             "ticks": ""
            },
            "colorscale": [
             [
              0,
              "#0d0887"
             ],
             [
              0.1111111111111111,
              "#46039f"
             ],
             [
              0.2222222222222222,
              "#7201a8"
             ],
             [
              0.3333333333333333,
              "#9c179e"
             ],
             [
              0.4444444444444444,
              "#bd3786"
             ],
             [
              0.5555555555555556,
              "#d8576b"
             ],
             [
              0.6666666666666666,
              "#ed7953"
             ],
             [
              0.7777777777777778,
              "#fb9f3a"
             ],
             [
              0.8888888888888888,
              "#fdca26"
             ],
             [
              1,
              "#f0f921"
             ]
            ],
            "type": "histogram2d"
           }
          ],
          "histogram2dcontour": [
           {
            "colorbar": {
             "outlinewidth": 0,
             "ticks": ""
            },
            "colorscale": [
             [
              0,
              "#0d0887"
             ],
             [
              0.1111111111111111,
              "#46039f"
             ],
             [
              0.2222222222222222,
              "#7201a8"
             ],
             [
              0.3333333333333333,
              "#9c179e"
             ],
             [
              0.4444444444444444,
              "#bd3786"
             ],
             [
              0.5555555555555556,
              "#d8576b"
             ],
             [
              0.6666666666666666,
              "#ed7953"
             ],
             [
              0.7777777777777778,
              "#fb9f3a"
             ],
             [
              0.8888888888888888,
              "#fdca26"
             ],
             [
              1,
              "#f0f921"
             ]
            ],
            "type": "histogram2dcontour"
           }
          ],
          "mesh3d": [
           {
            "colorbar": {
             "outlinewidth": 0,
             "ticks": ""
            },
            "type": "mesh3d"
           }
          ],
          "parcoords": [
           {
            "line": {
             "colorbar": {
              "outlinewidth": 0,
              "ticks": ""
             }
            },
            "type": "parcoords"
           }
          ],
          "pie": [
           {
            "automargin": true,
            "type": "pie"
           }
          ],
          "scatter": [
           {
            "fillpattern": {
             "fillmode": "overlay",
             "size": 10,
             "solidity": 0.2
            },
            "type": "scatter"
           }
          ],
          "scatter3d": [
           {
            "line": {
             "colorbar": {
              "outlinewidth": 0,
              "ticks": ""
             }
            },
            "marker": {
             "colorbar": {
              "outlinewidth": 0,
              "ticks": ""
             }
            },
            "type": "scatter3d"
           }
          ],
          "scattercarpet": [
           {
            "marker": {
             "colorbar": {
              "outlinewidth": 0,
              "ticks": ""
             }
            },
            "type": "scattercarpet"
           }
          ],
          "scattergeo": [
           {
            "marker": {
             "colorbar": {
              "outlinewidth": 0,
              "ticks": ""
             }
            },
            "type": "scattergeo"
           }
          ],
          "scattergl": [
           {
            "marker": {
             "colorbar": {
              "outlinewidth": 0,
              "ticks": ""
             }
            },
            "type": "scattergl"
           }
          ],
          "scattermapbox": [
           {
            "marker": {
             "colorbar": {
              "outlinewidth": 0,
              "ticks": ""
             }
            },
            "type": "scattermapbox"
           }
          ],
          "scatterpolar": [
           {
            "marker": {
             "colorbar": {
              "outlinewidth": 0,
              "ticks": ""
             }
            },
            "type": "scatterpolar"
           }
          ],
          "scatterpolargl": [
           {
            "marker": {
             "colorbar": {
              "outlinewidth": 0,
              "ticks": ""
             }
            },
            "type": "scatterpolargl"
           }
          ],
          "scatterternary": [
           {
            "marker": {
             "colorbar": {
              "outlinewidth": 0,
              "ticks": ""
             }
            },
            "type": "scatterternary"
           }
          ],
          "surface": [
           {
            "colorbar": {
             "outlinewidth": 0,
             "ticks": ""
            },
            "colorscale": [
             [
              0,
              "#0d0887"
             ],
             [
              0.1111111111111111,
              "#46039f"
             ],
             [
              0.2222222222222222,
              "#7201a8"
             ],
             [
              0.3333333333333333,
              "#9c179e"
             ],
             [
              0.4444444444444444,
              "#bd3786"
             ],
             [
              0.5555555555555556,
              "#d8576b"
             ],
             [
              0.6666666666666666,
              "#ed7953"
             ],
             [
              0.7777777777777778,
              "#fb9f3a"
             ],
             [
              0.8888888888888888,
              "#fdca26"
             ],
             [
              1,
              "#f0f921"
             ]
            ],
            "type": "surface"
           }
          ],
          "table": [
           {
            "cells": {
             "fill": {
              "color": "#EBF0F8"
             },
             "line": {
              "color": "white"
             }
            },
            "header": {
             "fill": {
              "color": "#C8D4E3"
             },
             "line": {
              "color": "white"
             }
            },
            "type": "table"
           }
          ]
         },
         "layout": {
          "annotationdefaults": {
           "arrowcolor": "#2a3f5f",
           "arrowhead": 0,
           "arrowwidth": 1
          },
          "autotypenumbers": "strict",
          "coloraxis": {
           "colorbar": {
            "outlinewidth": 0,
            "ticks": ""
           }
          },
          "colorscale": {
           "diverging": [
            [
             0,
             "#8e0152"
            ],
            [
             0.1,
             "#c51b7d"
            ],
            [
             0.2,
             "#de77ae"
            ],
            [
             0.3,
             "#f1b6da"
            ],
            [
             0.4,
             "#fde0ef"
            ],
            [
             0.5,
             "#f7f7f7"
            ],
            [
             0.6,
             "#e6f5d0"
            ],
            [
             0.7,
             "#b8e186"
            ],
            [
             0.8,
             "#7fbc41"
            ],
            [
             0.9,
             "#4d9221"
            ],
            [
             1,
             "#276419"
            ]
           ],
           "sequential": [
            [
             0,
             "#0d0887"
            ],
            [
             0.1111111111111111,
             "#46039f"
            ],
            [
             0.2222222222222222,
             "#7201a8"
            ],
            [
             0.3333333333333333,
             "#9c179e"
            ],
            [
             0.4444444444444444,
             "#bd3786"
            ],
            [
             0.5555555555555556,
             "#d8576b"
            ],
            [
             0.6666666666666666,
             "#ed7953"
            ],
            [
             0.7777777777777778,
             "#fb9f3a"
            ],
            [
             0.8888888888888888,
             "#fdca26"
            ],
            [
             1,
             "#f0f921"
            ]
           ],
           "sequentialminus": [
            [
             0,
             "#0d0887"
            ],
            [
             0.1111111111111111,
             "#46039f"
            ],
            [
             0.2222222222222222,
             "#7201a8"
            ],
            [
             0.3333333333333333,
             "#9c179e"
            ],
            [
             0.4444444444444444,
             "#bd3786"
            ],
            [
             0.5555555555555556,
             "#d8576b"
            ],
            [
             0.6666666666666666,
             "#ed7953"
            ],
            [
             0.7777777777777778,
             "#fb9f3a"
            ],
            [
             0.8888888888888888,
             "#fdca26"
            ],
            [
             1,
             "#f0f921"
            ]
           ]
          },
          "colorway": [
           "#636efa",
           "#EF553B",
           "#00cc96",
           "#ab63fa",
           "#FFA15A",
           "#19d3f3",
           "#FF6692",
           "#B6E880",
           "#FF97FF",
           "#FECB52"
          ],
          "font": {
           "color": "#2a3f5f"
          },
          "geo": {
           "bgcolor": "white",
           "lakecolor": "white",
           "landcolor": "#E5ECF6",
           "showlakes": true,
           "showland": true,
           "subunitcolor": "white"
          },
          "hoverlabel": {
           "align": "left"
          },
          "hovermode": "closest",
          "mapbox": {
           "style": "light"
          },
          "paper_bgcolor": "white",
          "plot_bgcolor": "#E5ECF6",
          "polar": {
           "angularaxis": {
            "gridcolor": "white",
            "linecolor": "white",
            "ticks": ""
           },
           "bgcolor": "#E5ECF6",
           "radialaxis": {
            "gridcolor": "white",
            "linecolor": "white",
            "ticks": ""
           }
          },
          "scene": {
           "xaxis": {
            "backgroundcolor": "#E5ECF6",
            "gridcolor": "white",
            "gridwidth": 2,
            "linecolor": "white",
            "showbackground": true,
            "ticks": "",
            "zerolinecolor": "white"
           },
           "yaxis": {
            "backgroundcolor": "#E5ECF6",
            "gridcolor": "white",
            "gridwidth": 2,
            "linecolor": "white",
            "showbackground": true,
            "ticks": "",
            "zerolinecolor": "white"
           },
           "zaxis": {
            "backgroundcolor": "#E5ECF6",
            "gridcolor": "white",
            "gridwidth": 2,
            "linecolor": "white",
            "showbackground": true,
            "ticks": "",
            "zerolinecolor": "white"
           }
          },
          "shapedefaults": {
           "line": {
            "color": "#2a3f5f"
           }
          },
          "ternary": {
           "aaxis": {
            "gridcolor": "white",
            "linecolor": "white",
            "ticks": ""
           },
           "baxis": {
            "gridcolor": "white",
            "linecolor": "white",
            "ticks": ""
           },
           "bgcolor": "#E5ECF6",
           "caxis": {
            "gridcolor": "white",
            "linecolor": "white",
            "ticks": ""
           }
          },
          "title": {
           "x": 0.05
          },
          "xaxis": {
           "automargin": true,
           "gridcolor": "white",
           "linecolor": "white",
           "ticks": "",
           "title": {
            "standoff": 15
           },
           "zerolinecolor": "white",
           "zerolinewidth": 2
          },
          "yaxis": {
           "automargin": true,
           "gridcolor": "white",
           "linecolor": "white",
           "ticks": "",
           "title": {
            "standoff": 15
           },
           "zerolinecolor": "white",
           "zerolinewidth": 2
          }
         }
        }
       }
      }
     },
     "metadata": {},
     "output_type": "display_data"
    }
   ],
   "source": [
    "\n",
    "# TSNE for penultimate layer values\n",
    "# Combine the penultimate layer values and labels\n",
    "\n",
    "combined_penultimate = zero_penultimate + one_penultimate\n",
    "combined_labels = [0] * len(zero_penultimate) + [1] * len(one_penultimate)\n",
    "\n",
    "# Reduce the dimensionality of the embeddings using TSNE\n",
    "tsne = TSNE(n_components=3, random_state=42)\n",
    "\n",
    "# Get the embeddings in 3D\n",
    "embeddings_3d = tsne.fit_transform(combined_penultimate)\n",
    "\n",
    "# Create a dataframe with the embeddings and labels\n",
    "df = pd.DataFrame(embeddings_3d, columns=[\"x\", \"y\", \"z\"])\n",
    "df[\"label\"] = combined_labels\n",
    "\n",
    "# Plot using plotly\n",
    "import plotly.express as px\n",
    "fig = px.scatter_3d(df, x=\"x\", y=\"y\", z=\"z\", color=\"label\")\n",
    "fig.show()\n"
   ]
  },
  {
   "cell_type": "code",
   "execution_count": null,
   "metadata": {},
   "outputs": [],
   "source": []
  }
 ],
 "metadata": {
  "kernelspec": {
   "display_name": "Python 3",
   "language": "python",
   "name": "python3"
  },
  "language_info": {
   "codemirror_mode": {
    "name": "ipython",
    "version": 3
   },
   "file_extension": ".py",
   "mimetype": "text/x-python",
   "name": "python",
   "nbconvert_exporter": "python",
   "pygments_lexer": "ipython3",
   "version": "3.9.13"
  },
  "orig_nbformat": 4
 },
 "nbformat": 4,
 "nbformat_minor": 2
}
