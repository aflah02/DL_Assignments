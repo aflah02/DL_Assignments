{
 "cells": [
  {
   "cell_type": "code",
   "execution_count": 1,
   "metadata": {},
   "outputs": [],
   "source": [
    "import pandas as pd\n",
    "import numpy as np\n",
    "import matplotlib.pyplot as plt\n",
    "import seaborn as sns\n",
    "from sklearn import preprocessing\n",
    "import os\n",
    "import PIL"
   ]
  },
  {
   "cell_type": "code",
   "execution_count": 2,
   "metadata": {},
   "outputs": [],
   "source": [
    "with open(\"../Data/train.jsonl\") as f:\n",
    "    train_lines = f.readlines()\n",
    "\n",
    "data_train = [eval(c) for c in train_lines]\n",
    "df_train = pd.DataFrame(data_train)\n",
    "\n",
    "with open(\"../Data/dev_seen.jsonl\") as f:\n",
    "    dev_seen_lines = f.readlines()\n",
    "\n",
    "data_dev_seen = [eval(c) for c in dev_seen_lines]\n",
    "df_dev_seen = pd.DataFrame(data_dev_seen)\n",
    "\n",
    "with open(\"../Data/test_seen.jsonl\") as f:\n",
    "    test_seen_lines = f.readlines()\n",
    "\n",
    "data_test_seen = [eval(c) for c in test_seen_lines]\n",
    "df_test_seen = pd.DataFrame(data_test_seen)"
   ]
  },
  {
   "cell_type": "code",
   "execution_count": null,
   "metadata": {},
   "outputs": [],
   "source": [
    "# stratified split\n",
    "from sklearn.model_selection import train_test_split\n",
    "df_train, df_dev_unseen = train_test_split(df_train, test_size=0.5, random_state=42, stratify=df_train['label'])\n"
   ]
  },
  {
   "cell_type": "code",
   "execution_count": 3,
   "metadata": {},
   "outputs": [],
   "source": [
    "def load_images(df):\n",
    "    images = []\n",
    "    ls_exists = []\n",
    "    for i in range(len(df)):\n",
    "        if not os.path.exists(\"../Data/\" + df['img'][i]):\n",
    "            ls_exists.append(False)\n",
    "            continue\n",
    "        ls_exists.append(True)\n",
    "        img = np.array(PIL.Image.open(\"../Data/\" + df['img'][i]))\n",
    "        images.append(img)\n",
    "    return images, ls_exists"
   ]
  },
  {
   "cell_type": "code",
   "execution_count": 4,
   "metadata": {},
   "outputs": [],
   "source": [
    "train_images, train_ls_exists = load_images(df_train)\n",
    "# dev_seen_images, dev_seen_ls_exists = load_images(df_dev_seen)\n",
    "# test_seen_images, test_seen_ls_exists = load_images(df_test_seen)"
   ]
  },
  {
   "cell_type": "code",
   "execution_count": null,
   "metadata": {},
   "outputs": [],
   "source": [
    "df_train['img_exists'] = train_ls_exists\n",
    "# df_dev_seen['img_exists'] = dev_seen_ls_exists\n",
    "# df_test_seen['img_exists'] = test_seen_ls_exists"
   ]
  },
  {
   "cell_type": "code",
   "execution_count": null,
   "metadata": {},
   "outputs": [
    {
     "name": "stdout",
     "output_type": "stream",
     "text": [
      "94 94 823 825\n"
     ]
    }
   ],
   "source": [
    "min_length = float('inf')\n",
    "min_breadth = float('inf')\n",
    "max_length = 0\n",
    "max_breadth = 0\n",
    "for i in range(len(train_images)):\n",
    "    if train_images[i].shape[0] < min_length:\n",
    "        min_length = train_images[i].shape[0]\n",
    "    if train_images[i].shape[1] < min_breadth:\n",
    "        min_breadth = train_images[i].shape[1]\n",
    "    if train_images[i].shape[0] > max_length:\n",
    "        max_length = train_images[i].shape[0]\n",
    "    if train_images[i].shape[1] > max_breadth:\n",
    "        max_breadth = train_images[i].shape[1]\n",
    "print(min_length, min_breadth, max_length, max_breadth)"
   ]
  },
  {
   "cell_type": "code",
   "execution_count": null,
   "metadata": {},
   "outputs": [
    {
     "name": "stdout",
     "output_type": "stream",
     "text": [
      "525 597\n"
     ]
    }
   ],
   "source": [
    "all_lengths = []\n",
    "all_breadths = []\n",
    "for i in range(len(train_images)):\n",
    "    all_lengths.append(train_images[i].shape[0])\n",
    "    all_breadths.append(train_images[i].shape[1])\n",
    "mean_length = int(np.mean(all_lengths))\n",
    "mean_breadth = int(np.mean(all_breadths))\n",
    "print(mean_length, mean_breadth)"
   ]
  },
  {
   "cell_type": "code",
   "execution_count": null,
   "metadata": {},
   "outputs": [],
   "source": [
    "def resize_images(images, length, breadth):\n",
    "    resized_images = []\n",
    "    for i in range(len(images)):\n",
    "        image_length = images[i].shape[0]\n",
    "        image_breadth = images[i].shape[1]\n",
    "        image_new = images[i]\n",
    "        if image_length > length:\n",
    "            image_new = image_new[:length, :, :]\n",
    "        elif image_length < length:\n",
    "            # repeat the image horizontally\n",
    "            extra = length - image_length\n",
    "            if extra < image_length:\n",
    "                chunk = image_new[image_length - extra:, :, :]\n",
    "            else:\n",
    "                number_of_full_chunks = int(extra / image_length)\n",
    "                remainder = extra % image_length\n",
    "                chunk = image_new\n",
    "                for j in range(number_of_full_chunks-1):\n",
    "                    chunk = np.concatenate((chunk, image_new), axis=0)\n",
    "                if remainder > 0:\n",
    "                    chunk = np.concatenate((chunk, image_new[:remainder, :, :]), axis=0)\n",
    "            image_new = np.concatenate((image_new, chunk), axis=0)\n",
    "        if image_breadth > breadth:\n",
    "            image_new = image_new[:, :breadth, :]\n",
    "        elif image_breadth < breadth:\n",
    "            # repeat the image vertically\n",
    "            extra = breadth - image_breadth\n",
    "            if extra < image_breadth:\n",
    "                chunk = image_new[:, image_breadth - extra:, :]\n",
    "            else:\n",
    "                number_of_full_chunks = int(extra / image_breadth)\n",
    "                remainder = extra % image_breadth\n",
    "                chunk = image_new\n",
    "                for j in range(number_of_full_chunks-1):\n",
    "                    chunk = np.concatenate((chunk, image_new), axis=1)\n",
    "                if remainder > 0:\n",
    "                    chunk = np.concatenate((chunk, image_new[:, :remainder, :]), axis=1)\n",
    "            image_new = np.concatenate((image_new, chunk), axis=1)\n",
    "        resized_images.append(image_new)\n",
    "    return resized_images"
   ]
  },
  {
   "cell_type": "code",
   "execution_count": null,
   "metadata": {},
   "outputs": [],
   "source": [
    "resized_train_images = resize_images(train_images, mean_length, mean_breadth)"
   ]
  },
  {
   "cell_type": "code",
   "execution_count": null,
   "metadata": {},
   "outputs": [
    {
     "name": "stdout",
     "output_type": "stream",
     "text": [
      "(400, 265, 3)\n"
     ]
    }
   ],
   "source": [
    "# find image smaller than mean_length and mean_breadth\n",
    "for i in range(len(train_images)):\n",
    "    if train_images[i].shape[0] < mean_length or train_images[i].shape[1] < mean_breadth:\n",
    "        print(train_images[i].shape)\n",
    "        # plt.imshow(train_images[i])\n",
    "        plt.imshow(resized_train_images[i])\n",
    "        break\n"
   ]
  },
  {
   "cell_type": "code",
   "execution_count": null,
   "metadata": {},
   "outputs": [],
   "source": []
  }
 ],
 "metadata": {
  "kernelspec": {
   "display_name": "Python 3",
   "language": "python",
   "name": "python3"
  },
  "language_info": {
   "codemirror_mode": {
    "name": "ipython",
    "version": 3
   },
   "file_extension": ".py",
   "mimetype": "text/x-python",
   "name": "python",
   "nbconvert_exporter": "python",
   "pygments_lexer": "ipython3",
   "version": "3.9.13"
  },
  "orig_nbformat": 4
 },
 "nbformat": 4,
 "nbformat_minor": 2
}
