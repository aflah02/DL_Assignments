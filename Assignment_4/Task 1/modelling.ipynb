{
 "cells": [
  {
   "cell_type": "code",
   "execution_count": 12,
   "metadata": {},
   "outputs": [],
   "source": [
    "import os\n",
    "import pandas as pd\n",
    "import numpy as np\n",
    "import matplotlib.pyplot as plt\n",
    "import seaborn as sns\n",
    "from sklearn import preprocessing\n",
    "import pickle\n",
    "import PIL\n",
    "from tqdm.notebook import tqdm\n",
    "from sklearn.model_selection import train_test_split"
   ]
  },
  {
   "cell_type": "code",
   "execution_count": 13,
   "metadata": {},
   "outputs": [],
   "source": [
    "path ='../Data'\n",
    "save_path = '../Preprocessed_Data'"
   ]
  },
  {
   "cell_type": "code",
   "execution_count": 14,
   "metadata": {},
   "outputs": [],
   "source": [
    "def load_resnet_embeddings(file_name):\n",
    "    with open(save_path + '/' + file_name, 'rb') as f:\n",
    "        embeddings = pickle.load(f)\n",
    "    return embeddings\n",
    "\n",
    "train_embeddings = load_resnet_embeddings('resnet_embedding_train_images.pkl')\n",
    "test_embeddings = load_resnet_embeddings('resnet_embedding_test_seen_images.pkl')\n",
    "dev_embeddings = load_resnet_embeddings('resnet_embedding_dev_seen_images.pkl')\n",
    "\n",
    "train_df = pd.read_csv(save_path + '/df_train.csv')\n",
    "test_df = pd.read_csv(save_path + '/df_test_seen.csv')\n",
    "dev_df = pd.read_csv(save_path + '/df_dev_seen.csv')"
   ]
  },
  {
   "cell_type": "code",
   "execution_count": 15,
   "metadata": {},
   "outputs": [],
   "source": [
    "train_labels = train_df['label'].values\n",
    "test_labels = test_df['label'].values\n",
    "dev_labels = dev_df['label'].values"
   ]
  },
  {
   "cell_type": "code",
   "execution_count": 16,
   "metadata": {},
   "outputs": [],
   "source": [
    "import numpy as np\n",
    "import torch\n",
    "from torch.utils.data import Dataset, DataLoader\n",
    "\n",
    "# Define a custom PyTorch dataset for the ResNet embeddings and labels\n",
    "class MyDataset(Dataset):\n",
    "    def __init__(self, features, labels):\n",
    "        self.features = features\n",
    "        self.labels = labels\n",
    "\n",
    "    def __len__(self):\n",
    "        return len(self.features)\n",
    "\n",
    "    def __getitem__(self, idx):\n",
    "        x = torch.from_numpy(self.features[idx]).float()\n",
    "        y = torch.tensor(self.labels[idx]).long()\n",
    "        return x, y\n",
    "\n",
    "\n",
    "# Create a custom PyTorch dataset for the train set ResNet embeddings and labels\n",
    "train_dataset = MyDataset(train_embeddings, train_labels)\n",
    "\n",
    "# Create a custom PyTorch dataset for the test set ResNet embeddings and labels\n",
    "test_dataset = MyDataset(test_embeddings, test_labels)\n",
    "\n",
    "# Create a custom PyTorch dataset for the dev set ResNet embeddings and labels\n",
    "dev_dataset = MyDataset(dev_embeddings, dev_labels)\n",
    "\n",
    "# Create a PyTorch DataLoader for the train set with a batch size of 32\n",
    "train_loader = DataLoader(train_dataset, batch_size=32, shuffle=True)\n",
    "\n",
    "# Create a PyTorch DataLoader for the test set with a batch size of 32\n",
    "test_loader = DataLoader(test_dataset, batch_size=32, shuffle=False)\n",
    "\n",
    "# Create a PyTorch DataLoader for the dev set with a batch size of 32\n",
    "dev_loader = DataLoader(dev_dataset, batch_size=32, shuffle=False)"
   ]
  },
  {
   "cell_type": "code",
   "execution_count": 17,
   "metadata": {},
   "outputs": [
    {
     "name": "stdout",
     "output_type": "stream",
     "text": [
      "Epoch 1: Train Loss=0.020457, Train Accuracy=64.65%, Val Loss=0.023289, Val Accuracy=51.41%\n",
      "Epoch 2: Train Loss=0.019822, Train Accuracy=65.29%, Val Loss=0.022790, Val Accuracy=51.81%\n",
      "Epoch 3: Train Loss=0.019509, Train Accuracy=66.39%, Val Loss=0.022776, Val Accuracy=55.02%\n",
      "Epoch 4: Train Loss=0.019263, Train Accuracy=67.06%, Val Loss=0.023881, Val Accuracy=52.21%\n",
      "Epoch 5: Train Loss=0.019127, Train Accuracy=67.75%, Val Loss=0.023650, Val Accuracy=53.01%\n",
      "Epoch 6: Train Loss=0.019009, Train Accuracy=68.25%, Val Loss=0.023548, Val Accuracy=52.61%\n",
      "Epoch 7: Train Loss=0.018835, Train Accuracy=69.13%, Val Loss=0.023865, Val Accuracy=53.41%\n",
      "Epoch 8: Train Loss=0.018633, Train Accuracy=70.56%, Val Loss=0.024274, Val Accuracy=53.01%\n",
      "Epoch 9: Train Loss=0.018452, Train Accuracy=70.85%, Val Loss=0.023902, Val Accuracy=50.60%\n",
      "Epoch 10: Train Loss=0.018401, Train Accuracy=71.16%, Val Loss=0.024589, Val Accuracy=52.21%\n",
      "Epoch 11: Train Loss=0.018200, Train Accuracy=71.66%, Val Loss=0.023982, Val Accuracy=53.41%\n",
      "Epoch 12: Train Loss=0.017845, Train Accuracy=73.16%, Val Loss=0.024146, Val Accuracy=48.59%\n",
      "Epoch 13: Train Loss=0.017699, Train Accuracy=73.52%, Val Loss=0.024069, Val Accuracy=53.01%\n",
      "Epoch 14: Train Loss=0.017406, Train Accuracy=75.07%, Val Loss=0.024161, Val Accuracy=49.00%\n",
      "Epoch 15: Train Loss=0.017062, Train Accuracy=76.88%, Val Loss=0.024257, Val Accuracy=50.20%\n",
      "Epoch 16: Train Loss=0.017011, Train Accuracy=76.53%, Val Loss=0.024175, Val Accuracy=50.60%\n",
      "Epoch 17: Train Loss=0.016629, Train Accuracy=77.74%, Val Loss=0.024225, Val Accuracy=51.41%\n",
      "Epoch 18: Train Loss=0.016219, Train Accuracy=80.06%, Val Loss=0.024318, Val Accuracy=51.41%\n",
      "Epoch 19: Train Loss=0.015916, Train Accuracy=80.70%, Val Loss=0.024479, Val Accuracy=52.21%\n",
      "Epoch 20: Train Loss=0.015639, Train Accuracy=81.73%, Val Loss=0.024326, Val Accuracy=51.41%\n"
     ]
    }
   ],
   "source": [
    "import torch\n",
    "import torch.nn as nn\n",
    "import torch.optim as optim\n",
    "import matplotlib.pyplot as plt\n",
    "\n",
    "class MLPClassifier(nn.Module):\n",
    "    def __init__(self, input_size, hidden_size, output_size):\n",
    "        super(MLPClassifier, self).__init__()\n",
    "        self.fc1 = nn.Linear(input_size, hidden_size)\n",
    "        self.fc2 = nn.Linear(hidden_size, hidden_size)\n",
    "        self.fc3 = nn.Linear(hidden_size, output_size)\n",
    "        self.relu = nn.ReLU()\n",
    "        self.softmax = nn.Softmax(dim=1)\n",
    "\n",
    "    def forward(self, x):\n",
    "        x = self.fc1(x)\n",
    "        x = self.relu(x)\n",
    "        x = self.fc2(x)\n",
    "        x = self.relu(x)\n",
    "        x = self.fc3(x)\n",
    "        x = self.softmax(x)\n",
    "        return x\n",
    "\n",
    "# Define the train function\n",
    "def train(model, device, train_loader, optimizer, criterion):\n",
    "    model.train()\n",
    "    train_loss = 0.0\n",
    "    correct = 0\n",
    "    for batch_idx, (data, target) in enumerate(train_loader):\n",
    "        data, target = data.to(device), target.to(device)\n",
    "        optimizer.zero_grad()\n",
    "        output = model(data)\n",
    "        loss = criterion(output, target)\n",
    "        train_loss += loss.item()\n",
    "        loss.backward()\n",
    "        optimizer.step()\n",
    "        pred = output.argmax(dim=1, keepdim=True)\n",
    "        correct += pred.eq(target.view_as(pred)).sum().item()\n",
    "    train_loss /= len(train_loader.dataset)\n",
    "    accuracy = 100. * correct / len(train_loader.dataset)\n",
    "    return train_loss, accuracy\n",
    "\n",
    "# Define the validation function\n",
    "def validate(model, device, val_loader, criterion):\n",
    "    model.eval()\n",
    "    val_loss = 0.0\n",
    "    correct = 0\n",
    "    with torch.no_grad():\n",
    "        for data, target in val_loader:\n",
    "            data, target = data.to(device), target.to(device)\n",
    "            output = model(data)\n",
    "            val_loss += criterion(output, target).item()\n",
    "            pred = output.argmax(dim=1, keepdim=True)\n",
    "            correct += pred.eq(target.view_as(pred)).sum().item()\n",
    "    val_loss /= len(val_loader.dataset)\n",
    "    accuracy = 100. * correct / len(val_loader.dataset)\n",
    "    return val_loss, accuracy\n",
    "\n",
    "# Set the device to use for training the model (e.g. CPU or GPU)\n",
    "device = torch.device(\"cuda\" if torch.cuda.is_available() else \"cpu\")\n",
    "\n",
    "# Define the model, optimizer, and loss criterion\n",
    "model = MLPClassifier(input_size=2048, hidden_size=256, output_size=2).to(device)\n",
    "optimizer = optim.Adam(model.parameters(), lr=0.0001)\n",
    "criterion = nn.CrossEntropyLoss()\n",
    "\n",
    "# Train the model and log the training and validation losses and accuracies\n",
    "num_epochs = 20\n",
    "train_losses = []\n",
    "train_accuracies = []\n",
    "val_losses = []\n",
    "val_accuracies = []\n",
    "best_val_loss = float('inf')\n",
    "patience = 3 # number of epochs to wait before stopping if validation loss doesn't improve\n",
    "for epoch in range(1, num_epochs + 1):\n",
    "    train_loss, train_accuracy = train(model, device, train_loader, optimizer, criterion)\n",
    "    val_loss, val_accuracy = validate(model, device, dev_loader, criterion)\n",
    "    train_losses.append(train_loss)\n",
    "    train_accuracies.append(train_accuracy)\n",
    "    val_losses.append(val_loss)\n",
    "    val_accuracies.append(val_accuracy)\n",
    "    print(f\"Epoch {epoch}: Train Loss={train_loss:.6f}, Train Accuracy={train_accuracy:.2f}%, Val Loss={val_loss:.6f}, Val Accuracy={val_accuracy:.2f}%\")\n",
    "    if val_loss < best_val_loss:\n",
    "        best_val_loss = val_loss\n",
    "        patience_counter = 0\n",
    "    else:\n",
    "        patience_counter += 1\n"
   ]
  },
  {
   "cell_type": "code",
   "execution_count": 18,
   "metadata": {},
   "outputs": [
    {
     "data": {
      "image/png": "[encoded data removed]",
      "text/plain": [
       "<Figure size 432x288 with 1 Axes>"
      ]
     },
     "metadata": {
      "needs_background": "light"
     },
     "output_type": "display_data"
    }
   ],
   "source": [
    "plt.plot(range(1, num_epochs + 1), train_losses, label=\"Training Loss\")\n",
    "plt.plot(range(1, num_epochs + 1), val_losses, label=\"Validation Loss\")\n",
    "plt.xlabel(\"Epoch\")\n",
    "plt.ylabel(\"Loss\")\n",
    "plt.legend()\n",
    "plt.show()"
   ]
  },
  {
   "cell_type": "code",
   "execution_count": 19,
   "metadata": {},
   "outputs": [
    {
     "data": {
      "image/png": "[encoded data removed]",
      "text/plain": [
       "<Figure size 432x288 with 1 Axes>"
      ]
     },
     "metadata": {
      "needs_background": "light"
     },
     "output_type": "display_data"
    }
   ],
   "source": [
    "plt.plot(range(1, num_epochs + 1), train_accuracies, label=\"Training Accuracy\")\n",
    "plt.plot(range(1, num_epochs + 1), val_accuracies, label=\"Validation Accuracy\")\n",
    "plt.xlabel(\"Epoch\")\n",
    "plt.ylabel(\"Accuracy\")\n",
    "plt.legend()\n",
    "plt.show()"
   ]
  },
  {
   "cell_type": "code",
   "execution_count": 20,
   "metadata": {},
   "outputs": [
    {
     "name": "stdout",
     "output_type": "stream",
     "text": [
      "              precision    recall  f1-score   support\n",
      "\n",
      "           0       0.50      0.70      0.58       221\n",
      "           1       0.54      0.33      0.41       233\n",
      "\n",
      "    accuracy                           0.51       454\n",
      "   macro avg       0.52      0.52      0.50       454\n",
      "weighted avg       0.52      0.51      0.49       454\n",
      "\n",
      "Test Accuracy:  0.5110132158590308\n"
     ]
    }
   ],
   "source": [
    "# Predict the labels for the test set\n",
    "model.eval()\n",
    "test_predictions = []\n",
    "with torch.no_grad():\n",
    "    for data, target in test_loader:\n",
    "        data, target = data.to(device), target.to(device)\n",
    "        output = model(data)\n",
    "        pred = output.argmax(dim=1, keepdim=True)\n",
    "        test_predictions.extend(pred.tolist())\n",
    "\n",
    "# Print the classification report\n",
    "from sklearn.metrics import classification_report\n",
    "print(classification_report(test_labels, test_predictions))\n",
    "\n",
    "accuracy = 0\n",
    "for i in range(len(test_predictions)):\n",
    "    if test_predictions[i] == test_labels[i]:\n",
    "        accuracy += 1\n",
    "print(\"Test Accuracy: \", accuracy/len(test_predictions))"
   ]
  },
  {
   "cell_type": "code",
   "execution_count": 21,
   "metadata": {},
   "outputs": [],
   "source": [
    "# Save the model\n",
    "torch.save(model.state_dict(), \"vision_model.pt\")"
   ]
  }
 ],
 "metadata": {
  "kernelspec": {
   "display_name": "Python 3",
   "language": "python",
   "name": "python3"
  },
  "language_info": {
   "codemirror_mode": {
    "name": "ipython",
    "version": 3
   },
   "file_extension": ".py",
   "mimetype": "text/x-python",
   "name": "python",
   "nbconvert_exporter": "python",
   "pygments_lexer": "ipython3",
   "version": "3.9.13"
  },
  "orig_nbformat": 4
 },
 "nbformat": 4,
 "nbformat_minor": 2
}
