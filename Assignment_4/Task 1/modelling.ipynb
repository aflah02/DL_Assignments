{
 "cells": [
  {
   "cell_type": "code",
   "execution_count": 1,
   "metadata": {},
   "outputs": [],
   "source": [
    "import os\n",
    "import pandas as pd\n",
    "import numpy as np\n",
    "import matplotlib.pyplot as plt\n",
    "import seaborn as sns\n",
    "from sklearn import preprocessing\n",
    "import pickle\n",
    "import PIL\n",
    "from tqdm.notebook import tqdm\n",
    "from sklearn.model_selection import train_test_split"
   ]
  },
  {
   "cell_type": "code",
   "execution_count": 2,
   "metadata": {},
   "outputs": [],
   "source": [
    "path ='../Data'\n",
    "save_path = '../Preprocessed_Data'"
   ]
  },
  {
   "cell_type": "code",
   "execution_count": 5,
   "metadata": {},
   "outputs": [],
   "source": [
    "def load_resnet_embeddings(file_name):\n",
    "    with open(save_path + '/' + file_name, 'rb') as f:\n",
    "        embeddings = pickle.load(f)\n",
    "    return embeddings\n",
    "\n",
    "train_embeddings = load_resnet_embeddings('resnet_embedding_train_images.pkl')\n",
    "test_embeddings = load_resnet_embeddings('resnet_embedding_test_seen_images.pkl')\n",
    "dev_embeddings = load_resnet_embeddings('resnet_embedding_dev_seen_images.pkl')\n",
    "\n",
    "train_df = pd.read_csv(save_path + '/df_train.csv')\n",
    "test_df = pd.read_csv(save_path + '/df_test_seen.csv')\n",
    "dev_df = pd.read_csv(save_path + '/df_dev_seen.csv')"
   ]
  },
  {
   "cell_type": "code",
   "execution_count": 7,
   "metadata": {},
   "outputs": [],
   "source": [
    "train_labels = train_df['label'].values\n",
    "test_labels = test_df['label'].values\n",
    "dev_labels = dev_df['label'].values"
   ]
  },
  {
   "cell_type": "code",
   "execution_count": 17,
   "metadata": {},
   "outputs": [],
   "source": [
    "import numpy as np\n",
    "import torch\n",
    "from torch.utils.data import Dataset, DataLoader\n",
    "\n",
    "# Define a custom PyTorch dataset for the ResNet embeddings and labels\n",
    "class MyDataset(Dataset):\n",
    "    def __init__(self, features, labels):\n",
    "        self.features = features\n",
    "        self.labels = labels\n",
    "\n",
    "    def __len__(self):\n",
    "        return len(self.features)\n",
    "\n",
    "    def __getitem__(self, idx):\n",
    "        x = torch.from_numpy(self.features[idx]).float()\n",
    "        y = torch.tensor(self.labels[idx]).long()\n",
    "        return x, y\n",
    "\n",
    "\n",
    "# Create a custom PyTorch dataset for the train set ResNet embeddings and labels\n",
    "train_dataset = MyDataset(train_embeddings, train_labels)\n",
    "\n",
    "# Create a custom PyTorch dataset for the test set ResNet embeddings and labels\n",
    "test_dataset = MyDataset(test_embeddings, test_labels)\n",
    "\n",
    "# Create a custom PyTorch dataset for the dev set ResNet embeddings and labels\n",
    "dev_dataset = MyDataset(dev_embeddings, dev_labels)\n",
    "\n",
    "\n",
    "# Create a PyTorch DataLoader for the train set with a batch size of 32\n",
    "train_loader = DataLoader(train_dataset, batch_size=32, shuffle=True)\n",
    "\n",
    "# Create a PyTorch DataLoader for the test set with a batch size of 32\n",
    "test_loader = DataLoader(test_dataset, batch_size=32, shuffle=False)\n",
    "\n",
    "# Create a PyTorch DataLoader for the dev set with a batch size of 32\n",
    "dev_loader = DataLoader(dev_dataset, batch_size=32, shuffle=False)"
   ]
  },
  {
   "cell_type": "code",
   "execution_count": 21,
   "metadata": {},
   "outputs": [
    {
     "name": "stdout",
     "output_type": "stream",
     "text": [
      "Epoch 1: Train Loss=0.020959, Train Accuracy=63.61% | Val Loss=0.023674, Val Accuracy=51.41%\n",
      "Epoch 2: Train Loss=0.020573, Train Accuracy=64.76% | Val Loss=0.023001, Val Accuracy=51.41%\n",
      "Epoch 3: Train Loss=0.020295, Train Accuracy=64.76% | Val Loss=0.023134, Val Accuracy=51.41%\n",
      "Epoch 4: Train Loss=0.019949, Train Accuracy=65.23% | Val Loss=0.023251, Val Accuracy=51.00%\n",
      "Epoch 5: Train Loss=0.019617, Train Accuracy=66.69% | Val Loss=0.023314, Val Accuracy=51.81%\n",
      "Epoch 6: Train Loss=0.019405, Train Accuracy=67.62% | Val Loss=0.022914, Val Accuracy=53.41%\n",
      "Epoch 7: Train Loss=0.019176, Train Accuracy=69.55% | Val Loss=0.023796, Val Accuracy=52.21%\n",
      "Epoch 8: Train Loss=0.018768, Train Accuracy=70.01% | Val Loss=0.023571, Val Accuracy=53.82%\n",
      "Epoch 9: Train Loss=0.018700, Train Accuracy=71.01% | Val Loss=0.023445, Val Accuracy=54.22%\n",
      "Epoch 10: Train Loss=0.018127, Train Accuracy=73.79% | Val Loss=0.023545, Val Accuracy=49.80%\n",
      "Epoch 11: Train Loss=0.017803, Train Accuracy=75.17% | Val Loss=0.023735, Val Accuracy=54.22%\n",
      "Epoch 12: Train Loss=0.017533, Train Accuracy=76.64% | Val Loss=0.023801, Val Accuracy=51.00%\n",
      "Epoch 13: Train Loss=0.017267, Train Accuracy=77.72% | Val Loss=0.023990, Val Accuracy=53.41%\n",
      "Epoch 14: Train Loss=0.016894, Train Accuracy=77.95% | Val Loss=0.024194, Val Accuracy=53.01%\n",
      "Epoch 15: Train Loss=0.016594, Train Accuracy=79.95% | Val Loss=0.024228, Val Accuracy=52.21%\n",
      "Epoch 16: Train Loss=0.016270, Train Accuracy=81.65% | Val Loss=0.024380, Val Accuracy=49.40%\n",
      "Epoch 17: Train Loss=0.015763, Train Accuracy=83.89% | Val Loss=0.024374, Val Accuracy=48.19%\n",
      "Epoch 18: Train Loss=0.015535, Train Accuracy=83.81% | Val Loss=0.024369, Val Accuracy=47.79%\n",
      "Epoch 19: Train Loss=0.015249, Train Accuracy=85.20% | Val Loss=0.024563, Val Accuracy=51.41%\n",
      "Epoch 20: Train Loss=0.015215, Train Accuracy=84.35% | Val Loss=0.024475, Val Accuracy=52.21%\n"
     ]
    }
   ],
   "source": [
    "import torch\n",
    "import torch.nn as nn\n",
    "import torch.optim as optim\n",
    "import matplotlib.pyplot as plt\n",
    "\n",
    "class MLPClassifier(nn.Module):\n",
    "    def __init__(self, input_size, hidden_size, output_size):\n",
    "        super(MLPClassifier, self).__init__()\n",
    "        self.fc1 = nn.Linear(input_size, hidden_size)\n",
    "        self.fc2 = nn.Linear(hidden_size, hidden_size)\n",
    "        self.fc3 = nn.Linear(hidden_size, output_size)\n",
    "        self.relu = nn.ReLU()\n",
    "        self.softmax = nn.Softmax(dim=1)\n",
    "\n",
    "    def forward(self, x):\n",
    "        x = self.fc1(x)\n",
    "        x = self.relu(x)\n",
    "        x = self.fc2(x)\n",
    "        x = self.relu(x)\n",
    "        x = self.fc3(x)\n",
    "        x = self.softmax(x)\n",
    "        return x\n",
    "\n",
    "# Define the train function\n",
    "def train(model, device, train_loader, optimizer, criterion):\n",
    "    model.train()\n",
    "    train_loss = 0.0\n",
    "    correct = 0\n",
    "    for batch_idx, (data, target) in enumerate(train_loader):\n",
    "        data, target = data.to(device), target.to(device)\n",
    "        optimizer.zero_grad()\n",
    "        output = model(data)\n",
    "        loss = criterion(output, target)\n",
    "        train_loss += loss.item()\n",
    "        loss.backward()\n",
    "        optimizer.step()\n",
    "        pred = output.argmax(dim=1, keepdim=True)\n",
    "        correct += pred.eq(target.view_as(pred)).sum().item()\n",
    "    train_loss /= len(train_loader.dataset)\n",
    "    accuracy = 100. * correct / len(train_loader.dataset)\n",
    "    return train_loss, accuracy\n",
    "\n",
    "# Define the validation function\n",
    "def validate(model, device, val_loader, criterion):\n",
    "    model.eval()\n",
    "    val_loss = 0.0\n",
    "    correct = 0\n",
    "    with torch.no_grad():\n",
    "        for data, target in val_loader:\n",
    "            data, target = data.to(device), target.to(device)\n",
    "            output = model(data)\n",
    "            val_loss += criterion(output, target).item()\n",
    "            pred = output.argmax(dim=1, keepdim=True)\n",
    "            correct += pred.eq(target.view_as(pred)).sum().item()\n",
    "    val_loss /= len(val_loader.dataset)\n",
    "    accuracy = 100. * correct / len(val_loader.dataset)\n",
    "    return val_loss, accuracy\n",
    "\n",
    "# Set the device to use for training the model (e.g. CPU or GPU)\n",
    "device = torch.device(\"cuda\" if torch.cuda.is_available() else \"cpu\")\n",
    "\n",
    "# Define the model, optimizer, and loss criterion\n",
    "model = MLPClassifier(input_size=2048, hidden_size=256, output_size=2).to(device)\n",
    "optimizer = optim.Adam(model.parameters(), lr=0.0001)\n",
    "criterion = nn.CrossEntropyLoss()\n",
    "\n",
    "# Train the model for 20 epochs and log the training and validation losses and accuracies\n",
    "num_epochs = 20\n",
    "train_losses = []\n",
    "train_accuracies = []\n",
    "val_losses = []\n",
    "val_accuracies = []\n",
    "for epoch in range(1, num_epochs + 1):\n",
    "    train_loss, train_accuracy = train(model, device, train_loader, optimizer, criterion)\n",
    "    val_loss, val_accuracy = validate(model, device, dev_loader, criterion)\n",
    "    train_losses.append(train_loss)\n",
    "    train_accuracies.append(train_accuracy)\n",
    "    val_losses.append(val_loss)\n",
    "    val_accuracies.append(val_accuracy)\n",
    "    print(f\"Epoch {epoch}: Train Loss={train_loss:.6f}, Train Accuracy={train_accuracy:.2f}% | \"\n",
    "    f\"Val Loss={val_loss:.6f}, Val Accuracy={val_accuracy:.2f}%\")\n",
    "\n"
   ]
  },
  {
   "cell_type": "code",
   "execution_count": 22,
   "metadata": {},
   "outputs": [
    {
     "data": {
      "image/png": "[encoded data removed]",
      "text/plain": [
       "<Figure size 432x288 with 1 Axes>"
      ]
     },
     "metadata": {
      "needs_background": "light"
     },
     "output_type": "display_data"
    }
   ],
   "source": [
    "plt.plot(range(1, num_epochs + 1), train_losses, label=\"Training Loss\")\n",
    "plt.plot(range(1, num_epochs + 1), val_losses, label=\"Validation Loss\")\n",
    "plt.xlabel(\"Epoch\")\n",
    "plt.ylabel(\"Loss\")\n",
    "plt.legend()\n",
    "plt.show()"
   ]
  },
  {
   "cell_type": "code",
   "execution_count": 23,
   "metadata": {},
   "outputs": [
    {
     "data": {
      "image/png": "[encoded data removed]",
      "text/plain": [
       "<Figure size 432x288 with 1 Axes>"
      ]
     },
     "metadata": {
      "needs_background": "light"
     },
     "output_type": "display_data"
    }
   ],
   "source": [
    "plt.plot(range(1, num_epochs + 1), train_accuracies, label=\"Training Accuracy\")\n",
    "plt.plot(range(1, num_epochs + 1), val_accuracies, label=\"Validation Accuracy\")\n",
    "plt.xlabel(\"Epoch\")\n",
    "plt.ylabel(\"Accuracy\")\n",
    "plt.legend()\n",
    "plt.show()"
   ]
  },
  {
   "cell_type": "code",
   "execution_count": 27,
   "metadata": {},
   "outputs": [
    {
     "name": "stdout",
     "output_type": "stream",
     "text": [
      "              precision    recall  f1-score   support\n",
      "\n",
      "           0       0.51      0.85      0.64       221\n",
      "           1       0.61      0.22      0.32       233\n",
      "\n",
      "    accuracy                           0.53       454\n",
      "   macro avg       0.56      0.53      0.48       454\n",
      "weighted avg       0.56      0.53      0.47       454\n",
      "\n",
      "Test Accuracy:  0.526431718061674\n"
     ]
    }
   ],
   "source": [
    "# Predict the labels for the test set\n",
    "model.eval()\n",
    "test_predictions = []\n",
    "with torch.no_grad():\n",
    "    for data, target in test_loader:\n",
    "        data, target = data.to(device), target.to(device)\n",
    "        output = model(data)\n",
    "        pred = output.argmax(dim=1, keepdim=True)\n",
    "        test_predictions.extend(pred.tolist())\n",
    "\n",
    "# Print the classification report\n",
    "from sklearn.metrics import classification_report\n",
    "print(classification_report(test_labels, test_predictions))\n",
    "\n",
    "accuracy = 0\n",
    "for i in range(len(test_predictions)):\n",
    "    if test_predictions[i] == test_labels[i]:\n",
    "        accuracy += 1\n",
    "print(\"Test Accuracy: \", accuracy/len(test_predictions))"
   ]
  },
  {
   "cell_type": "code",
   "execution_count": 28,
   "metadata": {},
   "outputs": [],
   "source": [
    "# Save the model\n",
    "torch.save(model.state_dict(), \"vision_model.pt\")"
   ]
  },
  {
   "cell_type": "code",
   "execution_count": null,
   "metadata": {},
   "outputs": [],
   "source": []
  }
 ],
 "metadata": {
  "kernelspec": {
   "display_name": "Python 3",
   "language": "python",
   "name": "python3"
  },
  "language_info": {
   "codemirror_mode": {
    "name": "ipython",
    "version": 3
   },
   "file_extension": ".py",
   "mimetype": "text/x-python",
   "name": "python",
   "nbconvert_exporter": "python",
   "pygments_lexer": "ipython3",
   "version": "3.9.13"
  },
  "orig_nbformat": 4
 },
 "nbformat": 4,
 "nbformat_minor": 2
}
