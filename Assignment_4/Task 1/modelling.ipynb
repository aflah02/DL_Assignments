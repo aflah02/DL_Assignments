{
 "cells": [
  {
   "cell_type": "code",
   "execution_count": 1,
   "metadata": {},
   "outputs": [],
   "source": [
    "import os\n",
    "import pandas as pd\n",
    "import numpy as np\n",
    "import matplotlib.pyplot as plt\n",
    "import seaborn as sns\n",
    "from sklearn import preprocessing\n",
    "import pickle\n",
    "import PIL\n",
    "import torch\n",
    "from tqdm.notebook import tqdm\n",
    "from sklearn.model_selection import train_test_split"
   ]
  },
  {
   "cell_type": "code",
   "execution_count": 2,
   "metadata": {},
   "outputs": [],
   "source": [
    "# Set Seed\n",
    "torch.manual_seed(11)\n",
    "np.random.seed(11)"
   ]
  },
  {
   "cell_type": "code",
   "execution_count": 3,
   "metadata": {},
   "outputs": [],
   "source": [
    "path ='../Data'\n",
    "save_path = '../Preprocessed_Data'"
   ]
  },
  {
   "cell_type": "code",
   "execution_count": 4,
   "metadata": {},
   "outputs": [],
   "source": [
    "def load_resnet_embeddings(file_name):\n",
    "    with open(save_path + '/' + file_name, 'rb') as f:\n",
    "        embeddings = pickle.load(f)\n",
    "    return embeddings\n",
    "\n",
    "train_embeddings = load_resnet_embeddings('resnet_embedding_train_images.pkl')\n",
    "test_embeddings = load_resnet_embeddings('resnet_embedding_test_seen_images.pkl')\n",
    "dev_embeddings = load_resnet_embeddings('resnet_embedding_dev_seen_images.pkl')\n",
    "\n",
    "train_df = pd.read_csv(save_path + '/df_train.csv')\n",
    "test_df = pd.read_csv(save_path + '/df_test_seen.csv')\n",
    "dev_df = pd.read_csv(save_path + '/df_dev_seen.csv')"
   ]
  },
  {
   "cell_type": "code",
   "execution_count": 5,
   "metadata": {},
   "outputs": [],
   "source": [
    "train_labels = train_df['label'].values\n",
    "test_labels = test_df['label'].values\n",
    "dev_labels = dev_df['label'].values"
   ]
  },
  {
   "cell_type": "code",
   "execution_count": 6,
   "metadata": {},
   "outputs": [],
   "source": [
    "import numpy as np\n",
    "import torch\n",
    "from torch.utils.data import Dataset, DataLoader\n",
    "\n",
    "# Define a custom PyTorch dataset for the ResNet embeddings and labels\n",
    "class MyDataset(Dataset):\n",
    "    def __init__(self, features, labels):\n",
    "        self.features = features\n",
    "        self.labels = labels\n",
    "\n",
    "    def __len__(self):\n",
    "        return len(self.features)\n",
    "\n",
    "    def __getitem__(self, idx):\n",
    "        x = torch.from_numpy(self.features[idx]).float()\n",
    "        y = torch.tensor(self.labels[idx]).long()\n",
    "        return x, y\n",
    "\n",
    "\n",
    "# Create a custom PyTorch dataset for the train set ResNet embeddings and labels\n",
    "train_dataset = MyDataset(train_embeddings, train_labels)\n",
    "\n",
    "# Create a custom PyTorch dataset for the test set ResNet embeddings and labels\n",
    "test_dataset = MyDataset(test_embeddings, test_labels)\n",
    "\n",
    "# Create a custom PyTorch dataset for the dev set ResNet embeddings and labels\n",
    "dev_dataset = MyDataset(dev_embeddings, dev_labels)\n",
    "\n",
    "# Create a PyTorch DataLoader for the train set with a batch size of 32\n",
    "train_loader = DataLoader(train_dataset, batch_size=32, shuffle=True)\n",
    "\n",
    "# Create a PyTorch DataLoader for the test set with a batch size of 32\n",
    "test_loader = DataLoader(test_dataset, batch_size=32, shuffle=False)\n",
    "\n",
    "# Create a PyTorch DataLoader for the dev set with a batch size of 32\n",
    "dev_loader = DataLoader(dev_dataset, batch_size=32, shuffle=False)"
   ]
  },
  {
   "cell_type": "code",
   "execution_count": 7,
   "metadata": {},
   "outputs": [
    {
     "name": "stdout",
     "output_type": "stream",
     "text": [
      "Epoch 1: Train Loss=0.020327, Train Accuracy=64.41%, Val Loss=0.023130, Val Accuracy=51.41%\n",
      "Epoch 2: Train Loss=0.019734, Train Accuracy=65.48%, Val Loss=0.023089, Val Accuracy=52.21%\n",
      "Epoch 3: Train Loss=0.019402, Train Accuracy=66.96%, Val Loss=0.023540, Val Accuracy=52.21%\n",
      "Epoch 4: Train Loss=0.019230, Train Accuracy=67.82%, Val Loss=0.023780, Val Accuracy=52.21%\n",
      "Epoch 5: Train Loss=0.019078, Train Accuracy=68.56%, Val Loss=0.023928, Val Accuracy=52.21%\n",
      "Epoch 6: Train Loss=0.018909, Train Accuracy=68.70%, Val Loss=0.023931, Val Accuracy=53.41%\n",
      "Epoch 7: Train Loss=0.018785, Train Accuracy=69.11%, Val Loss=0.023519, Val Accuracy=52.61%\n",
      "Epoch 8: Train Loss=0.018768, Train Accuracy=69.06%, Val Loss=0.023920, Val Accuracy=51.00%\n",
      "Epoch 9: Train Loss=0.018507, Train Accuracy=70.83%, Val Loss=0.024141, Val Accuracy=52.21%\n",
      "Epoch 10: Train Loss=0.018329, Train Accuracy=71.30%, Val Loss=0.024315, Val Accuracy=53.01%\n",
      "Epoch 11: Train Loss=0.018151, Train Accuracy=72.42%, Val Loss=0.024014, Val Accuracy=52.61%\n",
      "Epoch 12: Train Loss=0.017856, Train Accuracy=73.12%, Val Loss=0.024257, Val Accuracy=52.61%\n",
      "Epoch 13: Train Loss=0.017673, Train Accuracy=73.52%, Val Loss=0.024350, Val Accuracy=53.01%\n",
      "Epoch 14: Train Loss=0.017457, Train Accuracy=74.57%, Val Loss=0.024136, Val Accuracy=50.60%\n",
      "Epoch 15: Train Loss=0.017238, Train Accuracy=76.00%, Val Loss=0.024195, Val Accuracy=52.61%\n",
      "Epoch 16: Train Loss=0.016887, Train Accuracy=77.19%, Val Loss=0.024671, Val Accuracy=52.61%\n",
      "Epoch 17: Train Loss=0.016741, Train Accuracy=77.67%, Val Loss=0.024131, Val Accuracy=52.61%\n",
      "Epoch 18: Train Loss=0.016428, Train Accuracy=79.10%, Val Loss=0.024509, Val Accuracy=52.21%\n",
      "Epoch 19: Train Loss=0.016101, Train Accuracy=80.06%, Val Loss=0.024206, Val Accuracy=53.01%\n",
      "Epoch 20: Train Loss=0.015720, Train Accuracy=81.70%, Val Loss=0.024152, Val Accuracy=52.21%\n"
     ]
    }
   ],
   "source": [
    "import torch\n",
    "import torch.nn as nn\n",
    "import torch.optim as optim\n",
    "import matplotlib.pyplot as plt\n",
    "\n",
    "class MLPClassifier(nn.Module):\n",
    "    def __init__(self, input_size, hidden_size, output_size):\n",
    "        super(MLPClassifier, self).__init__()\n",
    "        self.fc1 = nn.Linear(input_size, hidden_size)\n",
    "        self.fc2 = nn.Linear(hidden_size, hidden_size)\n",
    "        self.fc3 = nn.Linear(hidden_size, output_size)\n",
    "        self.relu = nn.ReLU()\n",
    "        self.softmax = nn.Softmax(dim=1)\n",
    "\n",
    "    def forward(self, x):\n",
    "        x = self.fc1(x)\n",
    "        x = self.relu(x)\n",
    "        x = self.fc2(x)\n",
    "        x = self.relu(x)\n",
    "        x = self.fc3(x)\n",
    "        x = self.softmax(x)\n",
    "        return x\n",
    "\n",
    "    def get_presoftmax_values(self, x):\n",
    "        x = self.fc1(x)\n",
    "        x = self.relu(x)\n",
    "        x = self.fc2(x)\n",
    "        x = self.relu(x)\n",
    "        x = self.fc3(x)\n",
    "        return x\n",
    "\n",
    "# Define the train function\n",
    "def train(model, device, train_loader, optimizer, criterion):\n",
    "    model.train()\n",
    "    train_loss = 0.0\n",
    "    correct = 0\n",
    "    for batch_idx, (data, target) in enumerate(train_loader):\n",
    "        data, target = data.to(device), target.to(device)\n",
    "        optimizer.zero_grad()\n",
    "        output = model(data)\n",
    "        loss = criterion(output, target)\n",
    "        train_loss += loss.item()\n",
    "        loss.backward()\n",
    "        optimizer.step()\n",
    "        pred = output.argmax(dim=1, keepdim=True)\n",
    "        correct += pred.eq(target.view_as(pred)).sum().item()\n",
    "    train_loss /= len(train_loader.dataset)\n",
    "    accuracy = 100. * correct / len(train_loader.dataset)\n",
    "    return train_loss, accuracy\n",
    "\n",
    "# Define the validation function\n",
    "def validate(model, device, val_loader, criterion):\n",
    "    model.eval()\n",
    "    val_loss = 0.0\n",
    "    correct = 0\n",
    "    with torch.no_grad():\n",
    "        for data, target in val_loader:\n",
    "            data, target = data.to(device), target.to(device)\n",
    "            output = model(data)\n",
    "            val_loss += criterion(output, target).item()\n",
    "            pred = output.argmax(dim=1, keepdim=True)\n",
    "            correct += pred.eq(target.view_as(pred)).sum().item()\n",
    "    val_loss /= len(val_loader.dataset)\n",
    "    accuracy = 100. * correct / len(val_loader.dataset)\n",
    "    return val_loss, accuracy\n",
    "\n",
    "# Set the device to use for training the model (e.g. CPU or GPU)\n",
    "device = torch.device(\"cuda\" if torch.cuda.is_available() else \"cpu\")\n",
    "\n",
    "# Define the model, optimizer, and loss criterion\n",
    "model = MLPClassifier(input_size=2048, hidden_size=256, output_size=2).to(device)\n",
    "optimizer = optim.Adam(model.parameters(), lr=0.0001)\n",
    "criterion = nn.CrossEntropyLoss()\n",
    "\n",
    "# Train the model and log the training and validation losses and accuracies\n",
    "num_epochs = 20\n",
    "train_losses = []\n",
    "train_accuracies = []\n",
    "val_losses = []\n",
    "val_accuracies = []\n",
    "best_val_accuracy = 0\n",
    "best_val_accuracy_epoch = 0\n",
    "for epoch in range(1, num_epochs + 1):\n",
    "    train_loss, train_accuracy = train(model, device, train_loader, optimizer, criterion)\n",
    "    val_loss, val_accuracy = validate(model, device, dev_loader, criterion)\n",
    "    train_losses.append(train_loss)\n",
    "    train_accuracies.append(train_accuracy)\n",
    "    val_losses.append(val_loss)\n",
    "    val_accuracies.append(val_accuracy)\n",
    "    print(f\"Epoch {epoch}: Train Loss={train_loss:.6f}, Train Accuracy={train_accuracy:.2f}%, Val Loss={val_loss:.6f}, Val Accuracy={val_accuracy:.2f}%\")\n",
    "    if val_accuracy > best_val_accuracy:\n",
    "        best_val_accuracy = val_accuracy\n",
    "        best_val_accuracy_epoch = epoch\n",
    "        torch.save(model.state_dict(), \"vision_model.pt\")\n"
   ]
  },
  {
   "cell_type": "code",
   "execution_count": 8,
   "metadata": {},
   "outputs": [
    {
     "data": {
      "text/plain": [
       "<All keys matched successfully>"
      ]
     },
     "execution_count": 8,
     "metadata": {},
     "output_type": "execute_result"
    }
   ],
   "source": [
    "model = MLPClassifier(input_size=2048, hidden_size=256, output_size=2).to(device)\n",
    "model.load_state_dict(torch.load(\"vision_model.pt\"))"
   ]
  },
  {
   "cell_type": "code",
   "execution_count": 9,
   "metadata": {},
   "outputs": [
    {
     "data": {
      "image/png": "[encoded data removed]",
      "text/plain": [
       "<Figure size 432x288 with 1 Axes>"
      ]
     },
     "metadata": {
      "needs_background": "light"
     },
     "output_type": "display_data"
    }
   ],
   "source": [
    "plt.plot(range(1, num_epochs + 1), train_losses, label=\"Training Loss\")\n",
    "plt.plot(range(1, num_epochs + 1), val_losses, label=\"Validation Loss\")\n",
    "# Add a vertical line at the best validation accuracy epoch\n",
    "plt.axvline(best_val_accuracy_epoch, color=\"red\", linestyle=\"--\", label=\"Best Validation Accuracy Epoch\")\n",
    "plt.xlabel(\"Epoch\")\n",
    "plt.ylabel(\"Loss\")\n",
    "plt.legend()\n",
    "plt.show()"
   ]
  },
  {
   "cell_type": "code",
   "execution_count": 10,
   "metadata": {},
   "outputs": [
    {
     "data": {
      "image/png": "[encoded data removed]",
      "text/plain": [
       "<Figure size 432x288 with 1 Axes>"
      ]
     },
     "metadata": {
      "needs_background": "light"
     },
     "output_type": "display_data"
    }
   ],
   "source": [
    "plt.plot(range(1, num_epochs + 1), train_accuracies, label=\"Training Accuracy\")\n",
    "plt.plot(range(1, num_epochs + 1), val_accuracies, label=\"Validation Accuracy\")\n",
    "# Add a vertical line at the best validation accuracy epoch\n",
    "plt.axvline(best_val_accuracy_epoch, color=\"red\", linestyle=\"--\", label=\"Best Validation Accuracy Epoch\")\n",
    "plt.xlabel(\"Epoch\")\n",
    "plt.ylabel(\"Accuracy\")\n",
    "plt.legend()\n",
    "plt.show()"
   ]
  },
  {
   "cell_type": "code",
   "execution_count": 11,
   "metadata": {},
   "outputs": [
    {
     "name": "stdout",
     "output_type": "stream",
     "text": [
      "              precision    recall  f1-score   support\n",
      "\n",
      "           0       0.50      0.92      0.64       221\n",
      "           1       0.60      0.11      0.18       233\n",
      "\n",
      "    accuracy                           0.50       454\n",
      "   macro avg       0.55      0.52      0.41       454\n",
      "weighted avg       0.55      0.50      0.41       454\n",
      "\n",
      "Test Accuracy:  0.5044052863436124\n"
     ]
    }
   ],
   "source": [
    "# Predict the labels for the test set\n",
    "model.eval()\n",
    "test_predictions = []\n",
    "with torch.no_grad():\n",
    "    for data, target in test_loader:\n",
    "        data, target = data.to(device), target.to(device)\n",
    "        output = model(data)\n",
    "        pred = output.argmax(dim=1, keepdim=True)\n",
    "        test_predictions.extend(pred.tolist())\n",
    "\n",
    "# Print the classification report\n",
    "from sklearn.metrics import classification_report\n",
    "print(classification_report(test_labels, test_predictions))\n",
    "\n",
    "accuracy = 0\n",
    "for i in range(len(test_predictions)):\n",
    "    if test_predictions[i] == test_labels[i]:\n",
    "        accuracy += 1\n",
    "print(\"Test Accuracy: \", accuracy/len(test_predictions))"
   ]
  },
  {
   "cell_type": "code",
   "execution_count": 12,
   "metadata": {},
   "outputs": [],
   "source": [
    "import random\n",
    "random.seed(42)\n",
    "# sample 100 indexes where value is 0\n",
    "zero_indexes = random.sample(list(np.where(test_labels == 0)[0]), 100)\n",
    "random.seed(42)\n",
    "# sample 100 indexes where value is 1\n",
    "one_indexes = random.sample(list(np.where(test_labels == 1)[0]), 100)"
   ]
  },
  {
   "cell_type": "code",
   "execution_count": 13,
   "metadata": {},
   "outputs": [],
   "source": [
    "# get the embeddings for the 100 indexes where value is 0\n",
    "zero_embeddings = [test_embeddings[i] for i in zero_indexes]\n",
    "# get the embeddings for the 100 indexes where value is 1\n",
    "one_embeddings = [test_embeddings[i] for i in one_indexes]"
   ]
  },
  {
   "cell_type": "code",
   "execution_count": 14,
   "metadata": {},
   "outputs": [],
   "source": [
    "# Get the penultimate layer values for the 100 indexes where value is 0\n",
    "zero_penultimate = []\n",
    "for i in range(len(zero_embeddings)):\n",
    "    zero_penultimate.append(model.get_presoftmax_values(torch.tensor(zero_embeddings[i]).to(device)).tolist())\n",
    "\n",
    "# Get the penultimate layer values for the 100 indexes where value is 1\n",
    "one_penultimate = []\n",
    "for i in range(len(one_embeddings)):\n",
    "    one_penultimate.append(model.get_presoftmax_values(torch.tensor(one_embeddings[i]).to(device)).tolist())"
   ]
  },
  {
   "cell_type": "code",
   "execution_count": 15,
   "metadata": {},
   "outputs": [
    {
     "name": "stderr",
     "output_type": "stream",
     "text": [
      "C:\\Users\\ASUS\\AppData\\Local\\Packages\\PythonSoftwareFoundation.Python.3.9_qbz5n2kfra8p0\\LocalCache\\local-packages\\Python39\\site-packages\\sklearn\\manifold\\_t_sne.py:795: FutureWarning: The default initialization in TSNE will change from 'random' to 'pca' in 1.2.\n",
      "  warnings.warn(\n",
      "C:\\Users\\ASUS\\AppData\\Local\\Packages\\PythonSoftwareFoundation.Python.3.9_qbz5n2kfra8p0\\LocalCache\\local-packages\\Python39\\site-packages\\sklearn\\manifold\\_t_sne.py:805: FutureWarning: The default learning rate in TSNE will change from 200.0 to 'auto' in 1.2.\n",
      "  warnings.warn(\n"
     ]
    },
    {
     "data": {
      "application/vnd.plotly.v1+json": {
       "config": {
        "plotlyServerURL": "https://plot.ly"
       },
       "data": [
        {
         "hovertemplate": "x=%{x}<br>y=%{y}<br>label=%{marker.color}<extra></extra>",
         "legendgroup": "",
         "marker": {
          "color": [
           0,
           0,
           0,
           0,
           0,
           0,
           0,
           0,
           0,
           0,
           0,
           0,
           0,
           0,
           0,
           0,
           0,
           0,
           0,
           0,
           0,
           0,
           0,
           0,
           0,
           0,
           0,
           0,
           0,
           0,
           0,
           0,
           0,
           0,
           0,
           0,
           0,
           0,
           0,
           0,
           0,
           0,
           0,
           0,
           0,
           0,
           0,
           0,
           0,
           0,
           0,
           0,
           0,
           0,
           0,
           0,
           0,
           0,
           0,
           0,
           0,
           0,
           0,
           0,
           0,
           0,
           0,
           0,
           0,
           0,
           0,
           0,
           0,
           0,
           0,
           0,
           0,
           0,
           0,
           0,
           0,
           0,
           0,
           0,
           0,
           0,
           0,
           0,
           0,
           0,
           0,
           0,
           0,
           0,
           0,
           0,
           0,
           0,
           0,
           0,
           1,
           1,
           1,
           1,
           1,
           1,
           1,
           1,
           1,
           1,
           1,
           1,
           1,
           1,
           1,
           1,
           1,
           1,
           1,
           1,
           1,
           1,
           1,
           1,
           1,
           1,
           1,
           1,
           1,
           1,
           1,
           1,
           1,
           1,
           1,
           1,
           1,
           1,
           1,
           1,
           1,
           1,
           1,
           1,
           1,
           1,
           1,
           1,
           1,
           1,
           1,
           1,
           1,
           1,
           1,
           1,
           1,
           1,
           1,
           1,
           1,
           1,
           1,
           1,
           1,
           1,
           1,
           1,
           1,
           1,
           1,
           1,
           1,
           1,
           1,
           1,
           1,
           1,
           1,
           1,
           1,
           1,
           1,
           1,
           1,
           1,
           1,
           1,
           1,
           1,
           1,
           1,
           1,
           1,
           1,
           1,
           1,
           1,
           1,
           1
          ],
          "coloraxis": "coloraxis",
          "symbol": "circle"
         },
         "mode": "markers",
         "name": "",
         "orientation": "v",
         "showlegend": false,
         "type": "scatter",
         "x": [
          -3.0837452,
          -4.0666485,
          5.427812,
          -3.3163366,
          5.56974,
          7.4132776,
          -10.068863,
          -14.342404,
          -2.2591386,
          -8.096941,
          5.069413,
          3.7759705,
          -5.2593594,
          3.3120391,
          3.2356224,
          -2.7414932,
          -8.248964,
          -7.145798,
          -6.2864594,
          9.599384,
          -4.3676534,
          0.731231,
          3.7793536,
          -3.4395754,
          1.3187029,
          6.125161,
          3.9242084,
          7.4759426,
          3.8328092,
          -1.6612666,
          3.8873668,
          5.0559983,
          -9.183812,
          -6.9311924,
          -8.715568,
          2.7680852,
          -5.6861386,
          4.9333835,
          -7.9087415,
          -5.0073376,
          -2.9381835,
          -5.329252,
          -6.305913,
          -6.3811707,
          -9.394445,
          2.8926296,
          6.927768,
          -9.685729,
          -6.667913,
          4.058924,
          1.7169442,
          5.296244,
          5.1984987,
          -0.18365559,
          10.485128,
          -3.7817402,
          5.138956,
          -5.499494,
          1.95075,
          1.782268,
          0.96631604,
          6.29299,
          -5.30053,
          3.0314603,
          -5.5127974,
          -9.652816,
          -0.31053594,
          5.3880663,
          -0.4263399,
          -13.464845,
          6.850462,
          -7.813791,
          3.3231428,
          5.9672613,
          -13.630102,
          -5.9118285,
          -7.9690495,
          -6.047724,
          -0.03368122,
          -1.792003,
          2.2865093,
          1.0429797,
          6.573529,
          -4.6999173,
          6.8483224,
          6.3421936,
          8.617367,
          3.973329,
          9.776248,
          0.2687794,
          -1.1865506,
          4.7438097,
          9.494144,
          -2.989602,
          8.709468,
          0.3501151,
          -0.112045445,
          -5.6978273,
          0.94060606,
          -0.91977656,
          -9.253208,
          1.654873,
          5.639088,
          -0.6071952,
          -0.1791626,
          4.4599857,
          4.160555,
          -5.298375,
          -2.3385017,
          1.5127002,
          11.909339,
          -7.201285,
          2.4202554,
          9.792989,
          -1.0005394,
          -3.925457,
          7.1060915,
          -7.353958,
          -6.066781,
          4.268917,
          -5.4411182,
          -9.165118,
          -8.387495,
          6.0415688,
          7.105497,
          -1.9049562,
          11.340019,
          -4.820318,
          -2.8331144,
          -0.61378694,
          -0.27363047,
          -4.9952993,
          -1.2993058,
          -6.930924,
          5.415023,
          -3.4385042,
          -13.471429,
          0.20976172,
          -2.01348,
          3.081866,
          -5.603261,
          -4.6017666,
          8.602571,
          0.3067911,
          -3.965622,
          9.839506,
          -6.545412,
          2.485742,
          -9.680201,
          5.0648556,
          -6.859941,
          -3.0837915,
          5.2330704,
          -10.33912,
          -3.2029684,
          -2.2233233,
          6.3058195,
          -9.465536,
          3.609059,
          9.035278,
          5.381714,
          8.218507,
          -2.6835756,
          -10.721068,
          8.134149,
          -8.7310095,
          -9.250256,
          -0.60924566,
          2.3244047,
          9.483804,
          -2.2339082,
          6.7582235,
          -0.40449643,
          -13.626048,
          1.2011964,
          -7.504137,
          -8.325582,
          -4.9497714,
          8.612632,
          3.2817965,
          -2.8817706,
          2.5429943,
          -5.0716214,
          -8.247291,
          -6.47035,
          11.165517,
          -9.412396,
          5.0590696,
          7.0414014,
          6.3275747,
          -0.8800997,
          2.8600485,
          1.347775,
          -1.637187,
          -2.1835566,
          -1.1083806,
          -4.3333735,
          0.6830113,
          3.5258331,
          -3.8111725
         ],
         "xaxis": "x",
         "y": [
          10.686461,
          2.4331467,
          8.760221,
          -3.8096192,
          3.3078284,
          2.4174345,
          3.425957,
          0.1061191,
          3.0741978,
          -0.83005506,
          -1.5798182,
          1.7331568,
          -2.8171391,
          -4.505344,
          -2.1545863,
          -5.990953,
          11.240629,
          8.198112,
          3.38313,
          0.5014378,
          8.88397,
          0.45640007,
          -0.011701666,
          -11.708944,
          -2.0253909,
          5.2571673,
          -0.96647936,
          -9.0647955,
          4.315224,
          -1.7898463,
          -6.025226,
          -2.930551,
          3.093199,
          -1.1913167,
          -0.30023587,
          1.1610024,
          4.824889,
          -8.578754,
          8.710507,
          2.785237,
          -0.93134266,
          8.483048,
          2.5227425,
          9.068396,
          -3.5766222,
          -11.018459,
          -3.6146295,
          -7.604803,
          0.972572,
          -12.267856,
          -3.0185862,
          -5.518133,
          -4.4690814,
          4.1577005,
          -1.6601315,
          4.1000066,
          2.511616,
          10.074657,
          -4.7028375,
          5.398726,
          2.415653,
          1.3194177,
          0.23209132,
          -0.11025236,
          1.3691065,
          -4.342375,
          6.7645855,
          0.053799476,
          -1.8996837,
          0.11502767,
          -5.001116,
          0.8804796,
          -7.3242016,
          -3.6730497,
          -4.422434,
          -7.603336,
          2.3784318,
          -2.8947074,
          -3.5322871,
          0.42640358,
          -8.526341,
          8.628702,
          -10.458276,
          7.2561893,
          -5.212987,
          -1.0693635,
          -9.844272,
          -2.928153,
          -1.0856955,
          -2.9857106,
          7.722196,
          1.4931817,
          0.10722242,
          7.256433,
          4.6450877,
          -0.037328545,
          -5.274911,
          -7.501254,
          8.835111,
          0.18215474,
          3.0537596,
          -5.661578,
          -6.5652137,
          2.9719489,
          -6.847575,
          -4.95419,
          0.69165456,
          -2.7585268,
          7.5488305,
          -0.716867,
          1.6617571,
          3.8272614,
          4.4612875,
          1.4348605,
          -1.5952654,
          0.887839,
          -4.284408,
          2.9778514,
          -3.3462334,
          -0.5695906,
          -0.9197194,
          6.8135147,
          6.2780066,
          -4.466637,
          -7.959903,
          -3.156414,
          1.171938,
          -0.045267753,
          7.634516,
          -9.485432,
          0.12858652,
          -7.3730354,
          9.700748,
          -1.1847837,
          8.64695,
          -11.73258,
          0.21907443,
          -9.568952,
          1.5692316,
          -3.833239,
          -4.696071,
          -1.0392932,
          -7.6371117,
          -0.5439508,
          0.04743881,
          -0.05865154,
          -0.538731,
          3.5840194,
          -7.5940614,
          -4.979652,
          5.0964212,
          -2.3005772,
          -6.6829033,
          2.3043835,
          -2.6673748,
          8.727922,
          -4.3886476,
          5.440952,
          -2.0521963,
          -4.100461,
          -9.67735,
          -1.7688305,
          -1.9827813,
          -0.85519516,
          -5.196413,
          4.1476665,
          0.4865585,
          8.401106,
          -0.78046685,
          4.41395,
          5.2301645,
          -1.7867236,
          1.3079255,
          -4.425786,
          -6.6598334,
          -3.1227396,
          5.2082343,
          3.4981494,
          -7.665169,
          6.548161,
          -8.134999,
          -6.2229114,
          5.723652,
          11.232064,
          4.2773128,
          0.43994784,
          -3.575869,
          1.5424573,
          -0.18208516,
          -6.9751935,
          3.0656319,
          -11.048309,
          1.3462201,
          -4.908873,
          5.2165537,
          0.3015698,
          8.6673565,
          -7.088363,
          -2.4776878,
          5.902093
         ],
         "yaxis": "y"
        }
       ],
       "layout": {
        "coloraxis": {
         "colorbar": {
          "title": {
           "text": "label"
          }
         },
         "colorscale": [
          [
           0,
           "#0d0887"
          ],
          [
           0.1111111111111111,
           "#46039f"
          ],
          [
           0.2222222222222222,
           "#7201a8"
          ],
          [
           0.3333333333333333,
           "#9c179e"
          ],
          [
           0.4444444444444444,
           "#bd3786"
          ],
          [
           0.5555555555555556,
           "#d8576b"
          ],
          [
           0.6666666666666666,
           "#ed7953"
          ],
          [
           0.7777777777777778,
           "#fb9f3a"
          ],
          [
           0.8888888888888888,
           "#fdca26"
          ],
          [
           1,
           "#f0f921"
          ]
         ]
        },
        "legend": {
         "tracegroupgap": 0
        },
        "margin": {
         "t": 60
        },
        "template": {
         "data": {
          "bar": [
           {
            "error_x": {
             "color": "#2a3f5f"
            },
            "error_y": {
             "color": "#2a3f5f"
            },
            "marker": {
             "line": {
              "color": "#E5ECF6",
              "width": 0.5
             },
             "pattern": {
              "fillmode": "overlay",
              "size": 10,
              "solidity": 0.2
             }
            },
            "type": "bar"
           }
          ],
          "barpolar": [
           {
            "marker": {
             "line": {
              "color": "#E5ECF6",
              "width": 0.5
             },
             "pattern": {
              "fillmode": "overlay",
              "size": 10,
              "solidity": 0.2
             }
            },
            "type": "barpolar"
           }
          ],
          "carpet": [
           {
            "aaxis": {
             "endlinecolor": "#2a3f5f",
             "gridcolor": "white",
             "linecolor": "white",
             "minorgridcolor": "white",
             "startlinecolor": "#2a3f5f"
            },
            "baxis": {
             "endlinecolor": "#2a3f5f",
             "gridcolor": "white",
             "linecolor": "white",
             "minorgridcolor": "white",
             "startlinecolor": "#2a3f5f"
            },
            "type": "carpet"
           }
          ],
          "choropleth": [
           {
            "colorbar": {
             "outlinewidth": 0,
             "ticks": ""
            },
            "type": "choropleth"
           }
          ],
          "contour": [
           {
            "colorbar": {
             "outlinewidth": 0,
             "ticks": ""
            },
            "colorscale": [
             [
              0,
              "#0d0887"
             ],
             [
              0.1111111111111111,
              "#46039f"
             ],
             [
              0.2222222222222222,
              "#7201a8"
             ],
             [
              0.3333333333333333,
              "#9c179e"
             ],
             [
              0.4444444444444444,
              "#bd3786"
             ],
             [
              0.5555555555555556,
              "#d8576b"
             ],
             [
              0.6666666666666666,
              "#ed7953"
             ],
             [
              0.7777777777777778,
              "#fb9f3a"
             ],
             [
              0.8888888888888888,
              "#fdca26"
             ],
             [
              1,
              "#f0f921"
             ]
            ],
            "type": "contour"
           }
          ],
          "contourcarpet": [
           {
            "colorbar": {
             "outlinewidth": 0,
             "ticks": ""
            },
            "type": "contourcarpet"
           }
          ],
          "heatmap": [
           {
            "colorbar": {
             "outlinewidth": 0,
             "ticks": ""
            },
            "colorscale": [
             [
              0,
              "#0d0887"
             ],
             [
              0.1111111111111111,
              "#46039f"
             ],
             [
              0.2222222222222222,
              "#7201a8"
             ],
             [
              0.3333333333333333,
              "#9c179e"
             ],
             [
              0.4444444444444444,
              "#bd3786"
             ],
             [
              0.5555555555555556,
              "#d8576b"
             ],
             [
              0.6666666666666666,
              "#ed7953"
             ],
             [
              0.7777777777777778,
              "#fb9f3a"
             ],
             [
              0.8888888888888888,
              "#fdca26"
             ],
             [
              1,
              "#f0f921"
             ]
            ],
            "type": "heatmap"
           }
          ],
          "heatmapgl": [
           {
            "colorbar": {
             "outlinewidth": 0,
             "ticks": ""
            },
            "colorscale": [
             [
              0,
              "#0d0887"
             ],
             [
              0.1111111111111111,
              "#46039f"
             ],
             [
              0.2222222222222222,
              "#7201a8"
             ],
             [
              0.3333333333333333,
              "#9c179e"
             ],
             [
              0.4444444444444444,
              "#bd3786"
             ],
             [
              0.5555555555555556,
              "#d8576b"
             ],
             [
              0.6666666666666666,
              "#ed7953"
             ],
             [
              0.7777777777777778,
              "#fb9f3a"
             ],
             [
              0.8888888888888888,
              "#fdca26"
             ],
             [
              1,
              "#f0f921"
             ]
            ],
            "type": "heatmapgl"
           }
          ],
          "histogram": [
           {
            "marker": {
             "pattern": {
              "fillmode": "overlay",
              "size": 10,
              "solidity": 0.2
             }
            },
            "type": "histogram"
           }
          ],
          "histogram2d": [
           {
            "colorbar": {
             "outlinewidth": 0,
             "ticks": ""
            },
            "colorscale": [
             [
              0,
              "#0d0887"
             ],
             [
              0.1111111111111111,
              "#46039f"
             ],
             [
              0.2222222222222222,
              "#7201a8"
             ],
             [
              0.3333333333333333,
              "#9c179e"
             ],
             [
              0.4444444444444444,
              "#bd3786"
             ],
             [
              0.5555555555555556,
              "#d8576b"
             ],
             [
              0.6666666666666666,
              "#ed7953"
             ],
             [
              0.7777777777777778,
              "#fb9f3a"
             ],
             [
              0.8888888888888888,
              "#fdca26"
             ],
             [
              1,
              "#f0f921"
             ]
            ],
            "type": "histogram2d"
           }
          ],
          "histogram2dcontour": [
           {
            "colorbar": {
             "outlinewidth": 0,
             "ticks": ""
            },
            "colorscale": [
             [
              0,
              "#0d0887"
             ],
             [
              0.1111111111111111,
              "#46039f"
             ],
             [
              0.2222222222222222,
              "#7201a8"
             ],
             [
              0.3333333333333333,
              "#9c179e"
             ],
             [
              0.4444444444444444,
              "#bd3786"
             ],
             [
              0.5555555555555556,
              "#d8576b"
             ],
             [
              0.6666666666666666,
              "#ed7953"
             ],
             [
              0.7777777777777778,
              "#fb9f3a"
             ],
             [
              0.8888888888888888,
              "#fdca26"
             ],
             [
              1,
              "#f0f921"
             ]
            ],
            "type": "histogram2dcontour"
           }
          ],
          "mesh3d": [
           {
            "colorbar": {
             "outlinewidth": 0,
             "ticks": ""
            },
            "type": "mesh3d"
           }
          ],
          "parcoords": [
           {
            "line": {
             "colorbar": {
              "outlinewidth": 0,
              "ticks": ""
             }
            },
            "type": "parcoords"
           }
          ],
          "pie": [
           {
            "automargin": true,
            "type": "pie"
           }
          ],
          "scatter": [
           {
            "fillpattern": {
             "fillmode": "overlay",
             "size": 10,
             "solidity": 0.2
            },
            "type": "scatter"
           }
          ],
          "scatter3d": [
           {
            "line": {
             "colorbar": {
              "outlinewidth": 0,
              "ticks": ""
             }
            },
            "marker": {
             "colorbar": {
              "outlinewidth": 0,
              "ticks": ""
             }
            },
            "type": "scatter3d"
           }
          ],
          "scattercarpet": [
           {
            "marker": {
             "colorbar": {
              "outlinewidth": 0,
              "ticks": ""
             }
            },
            "type": "scattercarpet"
           }
          ],
          "scattergeo": [
           {
            "marker": {
             "colorbar": {
              "outlinewidth": 0,
              "ticks": ""
             }
            },
            "type": "scattergeo"
           }
          ],
          "scattergl": [
           {
            "marker": {
             "colorbar": {
              "outlinewidth": 0,
              "ticks": ""
             }
            },
            "type": "scattergl"
           }
          ],
          "scattermapbox": [
           {
            "marker": {
             "colorbar": {
              "outlinewidth": 0,
              "ticks": ""
             }
            },
            "type": "scattermapbox"
           }
          ],
          "scatterpolar": [
           {
            "marker": {
             "colorbar": {
              "outlinewidth": 0,
              "ticks": ""
             }
            },
            "type": "scatterpolar"
           }
          ],
          "scatterpolargl": [
           {
            "marker": {
             "colorbar": {
              "outlinewidth": 0,
              "ticks": ""
             }
            },
            "type": "scatterpolargl"
           }
          ],
          "scatterternary": [
           {
            "marker": {
             "colorbar": {
              "outlinewidth": 0,
              "ticks": ""
             }
            },
            "type": "scatterternary"
           }
          ],
          "surface": [
           {
            "colorbar": {
             "outlinewidth": 0,
             "ticks": ""
            },
            "colorscale": [
             [
              0,
              "#0d0887"
             ],
             [
              0.1111111111111111,
              "#46039f"
             ],
             [
              0.2222222222222222,
              "#7201a8"
             ],
             [
              0.3333333333333333,
              "#9c179e"
             ],
             [
              0.4444444444444444,
              "#bd3786"
             ],
             [
              0.5555555555555556,
              "#d8576b"
             ],
             [
              0.6666666666666666,
              "#ed7953"
             ],
             [
              0.7777777777777778,
              "#fb9f3a"
             ],
             [
              0.8888888888888888,
              "#fdca26"
             ],
             [
              1,
              "#f0f921"
             ]
            ],
            "type": "surface"
           }
          ],
          "table": [
           {
            "cells": {
             "fill": {
              "color": "#EBF0F8"
             },
             "line": {
              "color": "white"
             }
            },
            "header": {
             "fill": {
              "color": "#C8D4E3"
             },
             "line": {
              "color": "white"
             }
            },
            "type": "table"
           }
          ]
         },
         "layout": {
          "annotationdefaults": {
           "arrowcolor": "#2a3f5f",
           "arrowhead": 0,
           "arrowwidth": 1
          },
          "autotypenumbers": "strict",
          "coloraxis": {
           "colorbar": {
            "outlinewidth": 0,
            "ticks": ""
           }
          },
          "colorscale": {
           "diverging": [
            [
             0,
             "#8e0152"
            ],
            [
             0.1,
             "#c51b7d"
            ],
            [
             0.2,
             "#de77ae"
            ],
            [
             0.3,
             "#f1b6da"
            ],
            [
             0.4,
             "#fde0ef"
            ],
            [
             0.5,
             "#f7f7f7"
            ],
            [
             0.6,
             "#e6f5d0"
            ],
            [
             0.7,
             "#b8e186"
            ],
            [
             0.8,
             "#7fbc41"
            ],
            [
             0.9,
             "#4d9221"
            ],
            [
             1,
             "#276419"
            ]
           ],
           "sequential": [
            [
             0,
             "#0d0887"
            ],
            [
             0.1111111111111111,
             "#46039f"
            ],
            [
             0.2222222222222222,
             "#7201a8"
            ],
            [
             0.3333333333333333,
             "#9c179e"
            ],
            [
             0.4444444444444444,
             "#bd3786"
            ],
            [
             0.5555555555555556,
             "#d8576b"
            ],
            [
             0.6666666666666666,
             "#ed7953"
            ],
            [
             0.7777777777777778,
             "#fb9f3a"
            ],
            [
             0.8888888888888888,
             "#fdca26"
            ],
            [
             1,
             "#f0f921"
            ]
           ],
           "sequentialminus": [
            [
             0,
             "#0d0887"
            ],
            [
             0.1111111111111111,
             "#46039f"
            ],
            [
             0.2222222222222222,
             "#7201a8"
            ],
            [
             0.3333333333333333,
             "#9c179e"
            ],
            [
             0.4444444444444444,
             "#bd3786"
            ],
            [
             0.5555555555555556,
             "#d8576b"
            ],
            [
             0.6666666666666666,
             "#ed7953"
            ],
            [
             0.7777777777777778,
             "#fb9f3a"
            ],
            [
             0.8888888888888888,
             "#fdca26"
            ],
            [
             1,
             "#f0f921"
            ]
           ]
          },
          "colorway": [
           "#636efa",
           "#EF553B",
           "#00cc96",
           "#ab63fa",
           "#FFA15A",
           "#19d3f3",
           "#FF6692",
           "#B6E880",
           "#FF97FF",
           "#FECB52"
          ],
          "font": {
           "color": "#2a3f5f"
          },
          "geo": {
           "bgcolor": "white",
           "lakecolor": "white",
           "landcolor": "#E5ECF6",
           "showlakes": true,
           "showland": true,
           "subunitcolor": "white"
          },
          "hoverlabel": {
           "align": "left"
          },
          "hovermode": "closest",
          "mapbox": {
           "style": "light"
          },
          "paper_bgcolor": "white",
          "plot_bgcolor": "#E5ECF6",
          "polar": {
           "angularaxis": {
            "gridcolor": "white",
            "linecolor": "white",
            "ticks": ""
           },
           "bgcolor": "#E5ECF6",
           "radialaxis": {
            "gridcolor": "white",
            "linecolor": "white",
            "ticks": ""
           }
          },
          "scene": {
           "xaxis": {
            "backgroundcolor": "#E5ECF6",
            "gridcolor": "white",
            "gridwidth": 2,
            "linecolor": "white",
            "showbackground": true,
            "ticks": "",
            "zerolinecolor": "white"
           },
           "yaxis": {
            "backgroundcolor": "#E5ECF6",
            "gridcolor": "white",
            "gridwidth": 2,
            "linecolor": "white",
            "showbackground": true,
            "ticks": "",
            "zerolinecolor": "white"
           },
           "zaxis": {
            "backgroundcolor": "#E5ECF6",
            "gridcolor": "white",
            "gridwidth": 2,
            "linecolor": "white",
            "showbackground": true,
            "ticks": "",
            "zerolinecolor": "white"
           }
          },
          "shapedefaults": {
           "line": {
            "color": "#2a3f5f"
           }
          },
          "ternary": {
           "aaxis": {
            "gridcolor": "white",
            "linecolor": "white",
            "ticks": ""
           },
           "baxis": {
            "gridcolor": "white",
            "linecolor": "white",
            "ticks": ""
           },
           "bgcolor": "#E5ECF6",
           "caxis": {
            "gridcolor": "white",
            "linecolor": "white",
            "ticks": ""
           }
          },
          "title": {
           "x": 0.05
          },
          "xaxis": {
           "automargin": true,
           "gridcolor": "white",
           "linecolor": "white",
           "ticks": "",
           "title": {
            "standoff": 15
           },
           "zerolinecolor": "white",
           "zerolinewidth": 2
          },
          "yaxis": {
           "automargin": true,
           "gridcolor": "white",
           "linecolor": "white",
           "ticks": "",
           "title": {
            "standoff": 15
           },
           "zerolinecolor": "white",
           "zerolinewidth": 2
          }
         }
        },
        "xaxis": {
         "anchor": "y",
         "domain": [
          0,
          1
         ],
         "title": {
          "text": "x"
         }
        },
        "yaxis": {
         "anchor": "x",
         "domain": [
          0,
          1
         ],
         "title": {
          "text": "y"
         }
        }
       }
      }
     },
     "metadata": {},
     "output_type": "display_data"
    }
   ],
   "source": [
    "# TSNE for combined embeddings\n",
    "from sklearn.manifold import TSNE\n",
    "import matplotlib.pyplot as plt\n",
    "import seaborn as sns\n",
    "import pandas as pd\n",
    "\n",
    "# Combine the embeddings and labels\n",
    "combined_embeddings = zero_embeddings + one_embeddings\n",
    "combined_labels = [0] * len(zero_embeddings) + [1] * len(one_embeddings)\n",
    "\n",
    "# Reduce the dimensionality of the embeddings using TSNE\n",
    "tsne = TSNE(n_components=2, random_state=42)\n",
    "\n",
    "# Get the embeddings in 2D\n",
    "embeddings_2d = tsne.fit_transform(combined_embeddings)\n",
    "\n",
    "# Create a dataframe with the embeddings and labels\n",
    "df = pd.DataFrame(embeddings_2d, columns=[\"x\", \"y\"])\n",
    "df[\"label\"] = combined_labels\n",
    "\n",
    "# Plot using plotly\n",
    "import plotly.express as px\n",
    "fig = px.scatter(df, x=\"x\", y=\"y\", color=\"label\")\n",
    "fig.show()\n"
   ]
  },
  {
   "cell_type": "code",
   "execution_count": 16,
   "metadata": {},
   "outputs": [
    {
     "name": "stderr",
     "output_type": "stream",
     "text": [
      "C:\\Users\\ASUS\\AppData\\Local\\Packages\\PythonSoftwareFoundation.Python.3.9_qbz5n2kfra8p0\\LocalCache\\local-packages\\Python39\\site-packages\\sklearn\\manifold\\_t_sne.py:795: FutureWarning:\n",
      "\n",
      "The default initialization in TSNE will change from 'random' to 'pca' in 1.2.\n",
      "\n",
      "C:\\Users\\ASUS\\AppData\\Local\\Packages\\PythonSoftwareFoundation.Python.3.9_qbz5n2kfra8p0\\LocalCache\\local-packages\\Python39\\site-packages\\sklearn\\manifold\\_t_sne.py:805: FutureWarning:\n",
      "\n",
      "The default learning rate in TSNE will change from 200.0 to 'auto' in 1.2.\n",
      "\n"
     ]
    },
    {
     "data": {
      "application/vnd.plotly.v1+json": {
       "config": {
        "plotlyServerURL": "https://plot.ly"
       },
       "data": [
        {
         "hovertemplate": "x=%{x}<br>y=%{y}<br>label=%{marker.color}<extra></extra>",
         "legendgroup": "",
         "marker": {
          "color": [
           0,
           0,
           0,
           0,
           0,
           0,
           0,
           0,
           0,
           0,
           0,
           0,
           0,
           0,
           0,
           0,
           0,
           0,
           0,
           0,
           0,
           0,
           0,
           0,
           0,
           0,
           0,
           0,
           0,
           0,
           0,
           0,
           0,
           0,
           0,
           0,
           0,
           0,
           0,
           0,
           0,
           0,
           0,
           0,
           0,
           0,
           0,
           0,
           0,
           0,
           0,
           0,
           0,
           0,
           0,
           0,
           0,
           0,
           0,
           0,
           0,
           0,
           0,
           0,
           0,
           0,
           0,
           0,
           0,
           0,
           0,
           0,
           0,
           0,
           0,
           0,
           0,
           0,
           0,
           0,
           0,
           0,
           0,
           0,
           0,
           0,
           0,
           0,
           0,
           0,
           0,
           0,
           0,
           0,
           0,
           0,
           0,
           0,
           0,
           0,
           1,
           1,
           1,
           1,
           1,
           1,
           1,
           1,
           1,
           1,
           1,
           1,
           1,
           1,
           1,
           1,
           1,
           1,
           1,
           1,
           1,
           1,
           1,
           1,
           1,
           1,
           1,
           1,
           1,
           1,
           1,
           1,
           1,
           1,
           1,
           1,
           1,
           1,
           1,
           1,
           1,
           1,
           1,
           1,
           1,
           1,
           1,
           1,
           1,
           1,
           1,
           1,
           1,
           1,
           1,
           1,
           1,
           1,
           1,
           1,
           1,
           1,
           1,
           1,
           1,
           1,
           1,
           1,
           1,
           1,
           1,
           1,
           1,
           1,
           1,
           1,
           1,
           1,
           1,
           1,
           1,
           1,
           1,
           1,
           1,
           1,
           1,
           1,
           1,
           1,
           1,
           1,
           1,
           1,
           1,
           1,
           1,
           1,
           1,
           1
          ],
          "coloraxis": "coloraxis",
          "symbol": "circle"
         },
         "mode": "markers",
         "name": "",
         "orientation": "v",
         "showlegend": false,
         "type": "scatter",
         "x": [
          6.5844417,
          -12.666322,
          -5.3189383,
          -2.7381306,
          11.46158,
          9.785342,
          -13.028526,
          6.6782913,
          -7.463668,
          -3.9300606,
          10.009955,
          -8.405964,
          8.700737,
          3.1302953,
          -2.6110003,
          -7.1267548,
          0.898944,
          2.6744728,
          1.0063396,
          -10.662364,
          -11.224416,
          3.762334,
          -0.16194484,
          6.627732,
          -7.7663865,
          -11.913561,
          -2.692744,
          3.8086815,
          -1.6279838,
          -11.347328,
          4.677493,
          7.901401,
          -10.224936,
          9.394868,
          -7.3359256,
          -2.2054114,
          -12.24035,
          1.2907534,
          -10.964952,
          -9.491612,
          -2.4729495,
          -9.456397,
          -4.5203776,
          -12.136687,
          -6.8799706,
          11.421019,
          1.4528333,
          -12.330546,
          -12.398531,
          12.038389,
          -8.792375,
          11.041011,
          0.3959369,
          5.2332244,
          1.5581645,
          -12.293329,
          10.601329,
          -13.312389,
          5.142944,
          -8.99164,
          -8.638465,
          5.7622814,
          -10.494025,
          4.080985,
          0.38196668,
          7.3057246,
          4.6786413,
          -9.570789,
          -6.9140487,
          -1.7659509,
          5.780961,
          -0.9014834,
          -8.567006,
          4.3292227,
          -13.061798,
          12.344175,
          -11.973661,
          12.34904,
          -8.069071,
          -10.112529,
          9.247685,
          -0.21971135,
          -4.210071,
          -3.499035,
          5.5128083,
          -6.607402,
          -4.6438804,
          8.77559,
          -5.2943683,
          -4.945494,
          -8.455147,
          -3.768436,
          0.9958327,
          -2.388273,
          -11.640962,
          -3.0620599,
          9.948982,
          11.492422,
          -6.956491,
          -4.1574874,
          -10.350705,
          -8.4527855,
          9.419821,
          -4.8850813,
          -8.381659,
          7.3033595,
          -9.757946,
          3.3463018,
          -10.447032,
          11.268916,
          -0.40374276,
          -11.937276,
          -6.365527,
          -7.532461,
          6.2126417,
          -5.497566,
          5.5025597,
          -10.024903,
          9.85815,
          -6.9459677,
          3.631641,
          -13.230577,
          -12.697941,
          2.7881296,
          7.7620077,
          -7.3320823,
          -10.864296,
          -6.900884,
          -8.780641,
          -4.309964,
          -3.7356133,
          11.198763,
          -0.83059543,
          9.005906,
          2.769402,
          6.785974,
          -2.9567854,
          -4.06225,
          -10.967204,
          2.1237576,
          -9.180667,
          -7.3723373,
          12.060293,
          5.919055,
          -3.3562071,
          -9.55477,
          3.0110085,
          4.5758343,
          -12.716669,
          8.3081875,
          -9.954073,
          -4.610098,
          9.353754,
          -11.791078,
          0.17239535,
          5.263608,
          3.3980403,
          -1.0888647,
          -10.013149,
          -2.0997722,
          2.1415675,
          -7.745225,
          -2.848369,
          -11.083964,
          4.7347918,
          -10.467205,
          -8.959896,
          -4.5538917,
          4.0862794,
          -13.003533,
          -4.7687907,
          0.59277743,
          -5.208408,
          -11.260181,
          -1.8019618,
          9.874442,
          -3.9253075,
          -9.935003,
          12.140791,
          0.23261382,
          -2.5483043,
          0.678745,
          -12.409527,
          0.6187829,
          -1.1741078,
          -10.513776,
          -5.526489,
          0.49343175,
          -9.73119,
          11.1041355,
          -8.938245,
          11.940478,
          4.074655,
          9.51658,
          -5.9560623,
          6.194966,
          -9.238058,
          10.163992,
          8.440727,
          -12.810665
         ],
         "xaxis": "x",
         "y": [
          -7.608581,
          16.614416,
          3.1358712,
          1.6280985,
          -9.807079,
          -8.76491,
          17.20784,
          -7.1284504,
          8.147829,
          3.2221503,
          -9.523984,
          9.18564,
          -8.838162,
          -4.8708467,
          2.475958,
          7.4501014,
          -3.0617032,
          -4.3989944,
          -2.6701488,
          13.954414,
          14.627542,
          -5.458622,
          -1.1517333,
          -7.0319185,
          7.356521,
          15.830651,
          2.1807897,
          -5.248392,
          0.39784607,
          14.94722,
          -6.509537,
          -8.319038,
          12.318136,
          -9.402803,
          7.1529255,
          1.6019953,
          16.090416,
          -2.6904757,
          13.677297,
          11.360134,
          0.7441253,
          12.087529,
          3.1093457,
          16.642609,
          6.6367793,
          -9.759323,
          -3.1908615,
          16.24145,
          17.221481,
          -10.64856,
          9.699418,
          -10.064205,
          -1.6257143,
          -6.2221045,
          -3.437437,
          17.058208,
          -9.565375,
          17.871294,
          -6.4607882,
          10.2005,
          9.315929,
          -6.801225,
          13.137696,
          -6.0358715,
          -2.6431699,
          -7.786029,
          -5.090842,
          10.7525,
          7.0909357,
          0.0018922735,
          -7.3763847,
          -0.6894456,
          9.936478,
          -6.418814,
          17.218904,
          -10.571845,
          16.635164,
          -10.575563,
          8.64909,
          12.68745,
          -8.710389,
          -1.9494289,
          2.2437675,
          1.3094853,
          -7.340824,
          6.322931,
          2.5672731,
          -9.109603,
          4.4199095,
          3.8097126,
          10.195659,
          3.1348045,
          -2.6400347,
          0.4700097,
          15.413984,
          2.082299,
          -8.881229,
          -10.306584,
          7.4670095,
          3.6112378,
          13.732837,
          9.338724,
          -9.432321,
          3.0305123,
          9.613195,
          -8.065866,
          11.651277,
          -4.966437,
          12.776383,
          -10.261589,
          -1.6001313,
          16.332369,
          5.8504457,
          7.650644,
          -7.6176424,
          4.79462,
          -7.0457053,
          11.634994,
          -9.395714,
          6.468315,
          -5.2727003,
          17.884956,
          17.529737,
          -4.766076,
          -8.179098,
          6.942298,
          13.543668,
          7.0636373,
          10.265679,
          1.7795699,
          2.7625744,
          -9.753186,
          -1.3111818,
          -8.992169,
          -3.9920683,
          -7.317838,
          0.9544393,
          1.3942788,
          13.697843,
          -4.036035,
          9.905295,
          6.7492633,
          -10.21376,
          -6.8418355,
          2.2989688,
          11.420204,
          -5.131374,
          -5.851472,
          16.682371,
          -8.539386,
          12.346285,
          3.9366627,
          -9.448155,
          15.728258,
          -1.8121806,
          -5.85824,
          -5.59985,
          -0.89806235,
          13.108403,
          0.82271266,
          -3.9337592,
          7.9184647,
          1.9419128,
          14.508947,
          -6.0097404,
          13.894395,
          10.584538,
          2.6220589,
          -5.9844036,
          17.680687,
          4.0081205,
          -1.6634312,
          4.142249,
          14.788772,
          -0.020192925,
          -9.60604,
          2.5400503,
          11.714259,
          -10.257288,
          -2.4784775,
          1.5463251,
          -2.2896967,
          17.248466,
          -2.8133848,
          -0.12468325,
          13.867204,
          4.693254,
          -2.1234634,
          12.423553,
          -10.221288,
          10.82058,
          -10.600024,
          -5.52431,
          -8.81769,
          5.286259,
          -7.308438,
          11.705679,
          -9.065959,
          -8.594471,
          16.7994
         ],
         "yaxis": "y"
        }
       ],
       "layout": {
        "coloraxis": {
         "colorbar": {
          "title": {
           "text": "label"
          }
         },
         "colorscale": [
          [
           0,
           "#0d0887"
          ],
          [
           0.1111111111111111,
           "#46039f"
          ],
          [
           0.2222222222222222,
           "#7201a8"
          ],
          [
           0.3333333333333333,
           "#9c179e"
          ],
          [
           0.4444444444444444,
           "#bd3786"
          ],
          [
           0.5555555555555556,
           "#d8576b"
          ],
          [
           0.6666666666666666,
           "#ed7953"
          ],
          [
           0.7777777777777778,
           "#fb9f3a"
          ],
          [
           0.8888888888888888,
           "#fdca26"
          ],
          [
           1,
           "#f0f921"
          ]
         ]
        },
        "legend": {
         "tracegroupgap": 0
        },
        "margin": {
         "t": 60
        },
        "template": {
         "data": {
          "bar": [
           {
            "error_x": {
             "color": "#2a3f5f"
            },
            "error_y": {
             "color": "#2a3f5f"
            },
            "marker": {
             "line": {
              "color": "#E5ECF6",
              "width": 0.5
             },
             "pattern": {
              "fillmode": "overlay",
              "size": 10,
              "solidity": 0.2
             }
            },
            "type": "bar"
           }
          ],
          "barpolar": [
           {
            "marker": {
             "line": {
              "color": "#E5ECF6",
              "width": 0.5
             },
             "pattern": {
              "fillmode": "overlay",
              "size": 10,
              "solidity": 0.2
             }
            },
            "type": "barpolar"
           }
          ],
          "carpet": [
           {
            "aaxis": {
             "endlinecolor": "#2a3f5f",
             "gridcolor": "white",
             "linecolor": "white",
             "minorgridcolor": "white",
             "startlinecolor": "#2a3f5f"
            },
            "baxis": {
             "endlinecolor": "#2a3f5f",
             "gridcolor": "white",
             "linecolor": "white",
             "minorgridcolor": "white",
             "startlinecolor": "#2a3f5f"
            },
            "type": "carpet"
           }
          ],
          "choropleth": [
           {
            "colorbar": {
             "outlinewidth": 0,
             "ticks": ""
            },
            "type": "choropleth"
           }
          ],
          "contour": [
           {
            "colorbar": {
             "outlinewidth": 0,
             "ticks": ""
            },
            "colorscale": [
             [
              0,
              "#0d0887"
             ],
             [
              0.1111111111111111,
              "#46039f"
             ],
             [
              0.2222222222222222,
              "#7201a8"
             ],
             [
              0.3333333333333333,
              "#9c179e"
             ],
             [
              0.4444444444444444,
              "#bd3786"
             ],
             [
              0.5555555555555556,
              "#d8576b"
             ],
             [
              0.6666666666666666,
              "#ed7953"
             ],
             [
              0.7777777777777778,
              "#fb9f3a"
             ],
             [
              0.8888888888888888,
              "#fdca26"
             ],
             [
              1,
              "#f0f921"
             ]
            ],
            "type": "contour"
           }
          ],
          "contourcarpet": [
           {
            "colorbar": {
             "outlinewidth": 0,
             "ticks": ""
            },
            "type": "contourcarpet"
           }
          ],
          "heatmap": [
           {
            "colorbar": {
             "outlinewidth": 0,
             "ticks": ""
            },
            "colorscale": [
             [
              0,
              "#0d0887"
             ],
             [
              0.1111111111111111,
              "#46039f"
             ],
             [
              0.2222222222222222,
              "#7201a8"
             ],
             [
              0.3333333333333333,
              "#9c179e"
             ],
             [
              0.4444444444444444,
              "#bd3786"
             ],
             [
              0.5555555555555556,
              "#d8576b"
             ],
             [
              0.6666666666666666,
              "#ed7953"
             ],
             [
              0.7777777777777778,
              "#fb9f3a"
             ],
             [
              0.8888888888888888,
              "#fdca26"
             ],
             [
              1,
              "#f0f921"
             ]
            ],
            "type": "heatmap"
           }
          ],
          "heatmapgl": [
           {
            "colorbar": {
             "outlinewidth": 0,
             "ticks": ""
            },
            "colorscale": [
             [
              0,
              "#0d0887"
             ],
             [
              0.1111111111111111,
              "#46039f"
             ],
             [
              0.2222222222222222,
              "#7201a8"
             ],
             [
              0.3333333333333333,
              "#9c179e"
             ],
             [
              0.4444444444444444,
              "#bd3786"
             ],
             [
              0.5555555555555556,
              "#d8576b"
             ],
             [
              0.6666666666666666,
              "#ed7953"
             ],
             [
              0.7777777777777778,
              "#fb9f3a"
             ],
             [
              0.8888888888888888,
              "#fdca26"
             ],
             [
              1,
              "#f0f921"
             ]
            ],
            "type": "heatmapgl"
           }
          ],
          "histogram": [
           {
            "marker": {
             "pattern": {
              "fillmode": "overlay",
              "size": 10,
              "solidity": 0.2
             }
            },
            "type": "histogram"
           }
          ],
          "histogram2d": [
           {
            "colorbar": {
             "outlinewidth": 0,
             "ticks": ""
            },
            "colorscale": [
             [
              0,
              "#0d0887"
             ],
             [
              0.1111111111111111,
              "#46039f"
             ],
             [
              0.2222222222222222,
              "#7201a8"
             ],
             [
              0.3333333333333333,
              "#9c179e"
             ],
             [
              0.4444444444444444,
              "#bd3786"
             ],
             [
              0.5555555555555556,
              "#d8576b"
             ],
             [
              0.6666666666666666,
              "#ed7953"
             ],
             [
              0.7777777777777778,
              "#fb9f3a"
             ],
             [
              0.8888888888888888,
              "#fdca26"
             ],
             [
              1,
              "#f0f921"
             ]
            ],
            "type": "histogram2d"
           }
          ],
          "histogram2dcontour": [
           {
            "colorbar": {
             "outlinewidth": 0,
             "ticks": ""
            },
            "colorscale": [
             [
              0,
              "#0d0887"
             ],
             [
              0.1111111111111111,
              "#46039f"
             ],
             [
              0.2222222222222222,
              "#7201a8"
             ],
             [
              0.3333333333333333,
              "#9c179e"
             ],
             [
              0.4444444444444444,
              "#bd3786"
             ],
             [
              0.5555555555555556,
              "#d8576b"
             ],
             [
              0.6666666666666666,
              "#ed7953"
             ],
             [
              0.7777777777777778,
              "#fb9f3a"
             ],
             [
              0.8888888888888888,
              "#fdca26"
             ],
             [
              1,
              "#f0f921"
             ]
            ],
            "type": "histogram2dcontour"
           }
          ],
          "mesh3d": [
           {
            "colorbar": {
             "outlinewidth": 0,
             "ticks": ""
            },
            "type": "mesh3d"
           }
          ],
          "parcoords": [
           {
            "line": {
             "colorbar": {
              "outlinewidth": 0,
              "ticks": ""
             }
            },
            "type": "parcoords"
           }
          ],
          "pie": [
           {
            "automargin": true,
            "type": "pie"
           }
          ],
          "scatter": [
           {
            "fillpattern": {
             "fillmode": "overlay",
             "size": 10,
             "solidity": 0.2
            },
            "type": "scatter"
           }
          ],
          "scatter3d": [
           {
            "line": {
             "colorbar": {
              "outlinewidth": 0,
              "ticks": ""
             }
            },
            "marker": {
             "colorbar": {
              "outlinewidth": 0,
              "ticks": ""
             }
            },
            "type": "scatter3d"
           }
          ],
          "scattercarpet": [
           {
            "marker": {
             "colorbar": {
              "outlinewidth": 0,
              "ticks": ""
             }
            },
            "type": "scattercarpet"
           }
          ],
          "scattergeo": [
           {
            "marker": {
             "colorbar": {
              "outlinewidth": 0,
              "ticks": ""
             }
            },
            "type": "scattergeo"
           }
          ],
          "scattergl": [
           {
            "marker": {
             "colorbar": {
              "outlinewidth": 0,
              "ticks": ""
             }
            },
            "type": "scattergl"
           }
          ],
          "scattermapbox": [
           {
            "marker": {
             "colorbar": {
              "outlinewidth": 0,
              "ticks": ""
             }
            },
            "type": "scattermapbox"
           }
          ],
          "scatterpolar": [
           {
            "marker": {
             "colorbar": {
              "outlinewidth": 0,
              "ticks": ""
             }
            },
            "type": "scatterpolar"
           }
          ],
          "scatterpolargl": [
           {
            "marker": {
             "colorbar": {
              "outlinewidth": 0,
              "ticks": ""
             }
            },
            "type": "scatterpolargl"
           }
          ],
          "scatterternary": [
           {
            "marker": {
             "colorbar": {
              "outlinewidth": 0,
              "ticks": ""
             }
            },
            "type": "scatterternary"
           }
          ],
          "surface": [
           {
            "colorbar": {
             "outlinewidth": 0,
             "ticks": ""
            },
            "colorscale": [
             [
              0,
              "#0d0887"
             ],
             [
              0.1111111111111111,
              "#46039f"
             ],
             [
              0.2222222222222222,
              "#7201a8"
             ],
             [
              0.3333333333333333,
              "#9c179e"
             ],
             [
              0.4444444444444444,
              "#bd3786"
             ],
             [
              0.5555555555555556,
              "#d8576b"
             ],
             [
              0.6666666666666666,
              "#ed7953"
             ],
             [
              0.7777777777777778,
              "#fb9f3a"
             ],
             [
              0.8888888888888888,
              "#fdca26"
             ],
             [
              1,
              "#f0f921"
             ]
            ],
            "type": "surface"
           }
          ],
          "table": [
           {
            "cells": {
             "fill": {
              "color": "#EBF0F8"
             },
             "line": {
              "color": "white"
             }
            },
            "header": {
             "fill": {
              "color": "#C8D4E3"
             },
             "line": {
              "color": "white"
             }
            },
            "type": "table"
           }
          ]
         },
         "layout": {
          "annotationdefaults": {
           "arrowcolor": "#2a3f5f",
           "arrowhead": 0,
           "arrowwidth": 1
          },
          "autotypenumbers": "strict",
          "coloraxis": {
           "colorbar": {
            "outlinewidth": 0,
            "ticks": ""
           }
          },
          "colorscale": {
           "diverging": [
            [
             0,
             "#8e0152"
            ],
            [
             0.1,
             "#c51b7d"
            ],
            [
             0.2,
             "#de77ae"
            ],
            [
             0.3,
             "#f1b6da"
            ],
            [
             0.4,
             "#fde0ef"
            ],
            [
             0.5,
             "#f7f7f7"
            ],
            [
             0.6,
             "#e6f5d0"
            ],
            [
             0.7,
             "#b8e186"
            ],
            [
             0.8,
             "#7fbc41"
            ],
            [
             0.9,
             "#4d9221"
            ],
            [
             1,
             "#276419"
            ]
           ],
           "sequential": [
            [
             0,
             "#0d0887"
            ],
            [
             0.1111111111111111,
             "#46039f"
            ],
            [
             0.2222222222222222,
             "#7201a8"
            ],
            [
             0.3333333333333333,
             "#9c179e"
            ],
            [
             0.4444444444444444,
             "#bd3786"
            ],
            [
             0.5555555555555556,
             "#d8576b"
            ],
            [
             0.6666666666666666,
             "#ed7953"
            ],
            [
             0.7777777777777778,
             "#fb9f3a"
            ],
            [
             0.8888888888888888,
             "#fdca26"
            ],
            [
             1,
             "#f0f921"
            ]
           ],
           "sequentialminus": [
            [
             0,
             "#0d0887"
            ],
            [
             0.1111111111111111,
             "#46039f"
            ],
            [
             0.2222222222222222,
             "#7201a8"
            ],
            [
             0.3333333333333333,
             "#9c179e"
            ],
            [
             0.4444444444444444,
             "#bd3786"
            ],
            [
             0.5555555555555556,
             "#d8576b"
            ],
            [
             0.6666666666666666,
             "#ed7953"
            ],
            [
             0.7777777777777778,
             "#fb9f3a"
            ],
            [
             0.8888888888888888,
             "#fdca26"
            ],
            [
             1,
             "#f0f921"
            ]
           ]
          },
          "colorway": [
           "#636efa",
           "#EF553B",
           "#00cc96",
           "#ab63fa",
           "#FFA15A",
           "#19d3f3",
           "#FF6692",
           "#B6E880",
           "#FF97FF",
           "#FECB52"
          ],
          "font": {
           "color": "#2a3f5f"
          },
          "geo": {
           "bgcolor": "white",
           "lakecolor": "white",
           "landcolor": "#E5ECF6",
           "showlakes": true,
           "showland": true,
           "subunitcolor": "white"
          },
          "hoverlabel": {
           "align": "left"
          },
          "hovermode": "closest",
          "mapbox": {
           "style": "light"
          },
          "paper_bgcolor": "white",
          "plot_bgcolor": "#E5ECF6",
          "polar": {
           "angularaxis": {
            "gridcolor": "white",
            "linecolor": "white",
            "ticks": ""
           },
           "bgcolor": "#E5ECF6",
           "radialaxis": {
            "gridcolor": "white",
            "linecolor": "white",
            "ticks": ""
           }
          },
          "scene": {
           "xaxis": {
            "backgroundcolor": "#E5ECF6",
            "gridcolor": "white",
            "gridwidth": 2,
            "linecolor": "white",
            "showbackground": true,
            "ticks": "",
            "zerolinecolor": "white"
           },
           "yaxis": {
            "backgroundcolor": "#E5ECF6",
            "gridcolor": "white",
            "gridwidth": 2,
            "linecolor": "white",
            "showbackground": true,
            "ticks": "",
            "zerolinecolor": "white"
           },
           "zaxis": {
            "backgroundcolor": "#E5ECF6",
            "gridcolor": "white",
            "gridwidth": 2,
            "linecolor": "white",
            "showbackground": true,
            "ticks": "",
            "zerolinecolor": "white"
           }
          },
          "shapedefaults": {
           "line": {
            "color": "#2a3f5f"
           }
          },
          "ternary": {
           "aaxis": {
            "gridcolor": "white",
            "linecolor": "white",
            "ticks": ""
           },
           "baxis": {
            "gridcolor": "white",
            "linecolor": "white",
            "ticks": ""
           },
           "bgcolor": "#E5ECF6",
           "caxis": {
            "gridcolor": "white",
            "linecolor": "white",
            "ticks": ""
           }
          },
          "title": {
           "x": 0.05
          },
          "xaxis": {
           "automargin": true,
           "gridcolor": "white",
           "linecolor": "white",
           "ticks": "",
           "title": {
            "standoff": 15
           },
           "zerolinecolor": "white",
           "zerolinewidth": 2
          },
          "yaxis": {
           "automargin": true,
           "gridcolor": "white",
           "linecolor": "white",
           "ticks": "",
           "title": {
            "standoff": 15
           },
           "zerolinecolor": "white",
           "zerolinewidth": 2
          }
         }
        },
        "xaxis": {
         "anchor": "y",
         "domain": [
          0,
          1
         ],
         "title": {
          "text": "x"
         }
        },
        "yaxis": {
         "anchor": "x",
         "domain": [
          0,
          1
         ],
         "title": {
          "text": "y"
         }
        }
       }
      }
     },
     "metadata": {},
     "output_type": "display_data"
    }
   ],
   "source": [
    "\n",
    "# TSNE for penultimate layer values\n",
    "# Combine the penultimate layer values and labels\n",
    "\n",
    "combined_penultimate = zero_penultimate + one_penultimate\n",
    "combined_labels = [0] * len(zero_penultimate) + [1] * len(one_penultimate)\n",
    "\n",
    "# Reduce the dimensionality of the embeddings using TSNE\n",
    "tsne = TSNE(n_components=2, random_state=42)\n",
    "\n",
    "# Get the embeddings in 2D\n",
    "embeddings_2d = tsne.fit_transform(combined_penultimate)\n",
    "\n",
    "# Create a dataframe with the embeddings and labels\n",
    "df = pd.DataFrame(embeddings_2d, columns=[\"x\", \"y\"])\n",
    "df[\"label\"] = combined_labels\n",
    "\n",
    "# Plot using plotly\n",
    "import plotly.express as px\n",
    "fig = px.scatter(df, x=\"x\", y=\"y\", color=\"label\")\n",
    "fig.show()\n",
    "  "
   ]
  },
  {
   "cell_type": "code",
   "execution_count": 17,
   "metadata": {},
   "outputs": [
    {
     "name": "stderr",
     "output_type": "stream",
     "text": [
      "C:\\Users\\ASUS\\AppData\\Local\\Packages\\PythonSoftwareFoundation.Python.3.9_qbz5n2kfra8p0\\LocalCache\\local-packages\\Python39\\site-packages\\sklearn\\manifold\\_t_sne.py:795: FutureWarning:\n",
      "\n",
      "The default initialization in TSNE will change from 'random' to 'pca' in 1.2.\n",
      "\n",
      "C:\\Users\\ASUS\\AppData\\Local\\Packages\\PythonSoftwareFoundation.Python.3.9_qbz5n2kfra8p0\\LocalCache\\local-packages\\Python39\\site-packages\\sklearn\\manifold\\_t_sne.py:805: FutureWarning:\n",
      "\n",
      "The default learning rate in TSNE will change from 200.0 to 'auto' in 1.2.\n",
      "\n"
     ]
    },
    {
     "data": {
      "application/vnd.plotly.v1+json": {
       "config": {
        "plotlyServerURL": "https://plot.ly"
       },
       "data": [
        {
         "hovertemplate": "x=%{x}<br>y=%{y}<br>z=%{z}<br>label=%{marker.color}<extra></extra>",
         "legendgroup": "",
         "marker": {
          "color": [
           0,
           0,
           0,
           0,
           0,
           0,
           0,
           0,
           0,
           0,
           0,
           0,
           0,
           0,
           0,
           0,
           0,
           0,
           0,
           0,
           0,
           0,
           0,
           0,
           0,
           0,
           0,
           0,
           0,
           0,
           0,
           0,
           0,
           0,
           0,
           0,
           0,
           0,
           0,
           0,
           0,
           0,
           0,
           0,
           0,
           0,
           0,
           0,
           0,
           0,
           0,
           0,
           0,
           0,
           0,
           0,
           0,
           0,
           0,
           0,
           0,
           0,
           0,
           0,
           0,
           0,
           0,
           0,
           0,
           0,
           0,
           0,
           0,
           0,
           0,
           0,
           0,
           0,
           0,
           0,
           0,
           0,
           0,
           0,
           0,
           0,
           0,
           0,
           0,
           0,
           0,
           0,
           0,
           0,
           0,
           0,
           0,
           0,
           0,
           0,
           1,
           1,
           1,
           1,
           1,
           1,
           1,
           1,
           1,
           1,
           1,
           1,
           1,
           1,
           1,
           1,
           1,
           1,
           1,
           1,
           1,
           1,
           1,
           1,
           1,
           1,
           1,
           1,
           1,
           1,
           1,
           1,
           1,
           1,
           1,
           1,
           1,
           1,
           1,
           1,
           1,
           1,
           1,
           1,
           1,
           1,
           1,
           1,
           1,
           1,
           1,
           1,
           1,
           1,
           1,
           1,
           1,
           1,
           1,
           1,
           1,
           1,
           1,
           1,
           1,
           1,
           1,
           1,
           1,
           1,
           1,
           1,
           1,
           1,
           1,
           1,
           1,
           1,
           1,
           1,
           1,
           1,
           1,
           1,
           1,
           1,
           1,
           1,
           1,
           1,
           1,
           1,
           1,
           1,
           1,
           1,
           1,
           1,
           1,
           1
          ],
          "coloraxis": "coloraxis",
          "symbol": "circle"
         },
         "mode": "markers",
         "name": "",
         "scene": "scene",
         "showlegend": false,
         "type": "scatter3d",
         "x": [
          -38.108463,
          73.059296,
          -10.605933,
          -7.802312,
          -109.48626,
          -83.00903,
          -15.616162,
          -56.473724,
          12.716164,
          -88.328926,
          -111.56143,
          -19.221226,
          -21.137373,
          29.469894,
          138.40172,
          -0.11285374,
          -8.243737,
          69.01769,
          -8.311582,
          19.547714,
          -7.9053583,
          116.47391,
          -11.21406,
          -51.36825,
          -11.137712,
          21.841042,
          146.9133,
          120.86104,
          125.32554,
          -66.88524,
          17.230566,
          -40.61515,
          52.95198,
          -93.200195,
          -67.467064,
          144.10698,
          -40.943913,
          6.0447407,
          62.334873,
          -16.066212,
          79.329895,
          2.674722,
          14.559571,
          -28.466227,
          53.933575,
          -135.37372,
          23.81157,
          -41.862785,
          3.5489347,
          -121.07532,
          -30.36327,
          -128.47574,
          1.982703,
          -8.986098,
          47.57063,
          -21.785515,
          66.23738,
          -18.63526,
          -39.68323,
          1.5039353,
          10.757702,
          -37.47304,
          59.85096,
          87.02976,
          39.43839,
          -41.151688,
          53.50085,
          55.17183,
          40.6252,
          -54.741974,
          9.513425,
          -88.47947,
          -33.934376,
          15.592991,
          -8.943984,
          31.354647,
          -37.31209,
          -141.52434,
          -56.537163,
          23.18183,
          -78.86218,
          -29.22501,
          112.70715,
          118.49195,
          11.281035,
          25.005785,
          126.34566,
          -56.190727,
          -11.745199,
          -12.813716,
          13.181734,
          112.467964,
          6.3181963,
          103.59838,
          -75.098274,
          -56.897785,
          -81.30438,
          -118.57147,
          27.081535,
          -66.98097,
          -9.814476,
          -45.7455,
          -87.97649,
          80.478546,
          -21.275312,
          -17.371489,
          24.684702,
          -70.61848,
          17.723534,
          -101.088745,
          -47.510735,
          -37.28287,
          31.245823,
          17.777287,
          -23.406845,
          -30.031889,
          -13.249388,
          47.182484,
          -118.39249,
          49.251617,
          13.423895,
          -44.76218,
          -46.161884,
          61.614708,
          -15.181442,
          56.680744,
          33.18854,
          49.61939,
          49.403866,
          92.16156,
          95.09018,
          -106.14893,
          24.174456,
          -54.467384,
          34.716686,
          -1.0489696,
          77.28929,
          120.93195,
          51.799904,
          38.788464,
          -14.146329,
          10.859963,
          -108.894684,
          -15.056553,
          103.62319,
          13.242266,
          51.40305,
          -13.63774,
          -13.1227665,
          -42.275074,
          61.457314,
          -44.509987,
          -80.30248,
          -70.49537,
          -34.110687,
          -34.681763,
          32.70525,
          60.46314,
          28.74685,
          3.3813987,
          55.678745,
          19.573462,
          84.60384,
          0.6607046,
          -6.9332833,
          29.670464,
          -38.10489,
          109.506294,
          -49.806854,
          -47.80959,
          -32.542652,
          9.614404,
          37.32964,
          -34.158108,
          -87.03121,
          -81.72346,
          85.83009,
          -6.443699,
          -68.9227,
          -31.284138,
          -43.00391,
          21.332455,
          6.901237,
          27.005903,
          95.99728,
          73.32145,
          16.5098,
          -10.59805,
          35.790825,
          6.514711,
          35.195744,
          -145.54924,
          -54.41091,
          57.360085,
          0.15930824,
          -22.816328,
          22.65223,
          -103.186264,
          -39.83819,
          -59.54485
         ],
         "y": [
          69.97937,
          -2.0480003,
          7.7507405,
          -82.436676,
          54.68571,
          116.64592,
          -160.13387,
          53.891937,
          -41.93589,
          -43.166264,
          124.423706,
          -7.005122,
          137.69629,
          65.83215,
          -36.85948,
          -63.6104,
          100.5651,
          95.30151,
          92.84591,
          -123.34177,
          -119.62852,
          33.308903,
          22.137783,
          77.475204,
          -69.67761,
          -159.47682,
          -20.759325,
          -10.031286,
          61.954685,
          -102.846245,
          55.09205,
          136.99336,
          -53.18674,
          139.0424,
          -35.135387,
          19.54539,
          -133.34506,
          55.569405,
          -104.583305,
          -61.109592,
          26.133968,
          -87.92893,
          31.257225,
          -125.93534,
          -44.636364,
          49.27951,
          84.78555,
          -142.62346,
          -143.08377,
          11.837343,
          -27.220526,
          76.69952,
          60.516724,
          68.52493,
          66.21157,
          -164.39917,
          5.354803,
          -148.96971,
          67.18716,
          -38.628017,
          -11.706644,
          46.1643,
          -106.80249,
          10.848454,
          100.796524,
          28.960875,
          50.20447,
          -63.191982,
          -13.669259,
          6.8930798,
          96.25621,
          -19.944788,
          -44.60875,
          29.036352,
          -188.73967,
          103.27743,
          -177.07295,
          4.978385,
          -47.03088,
          -71.813225,
          120.71634,
          49.762787,
          -66.53117,
          0.85074323,
          80.40973,
          -39.588585,
          -5.6366963,
          114.23411,
          -20.94408,
          14.842876,
          -9.346593,
          -48.678547,
          80.03003,
          33.226856,
          -139.1901,
          -49.39402,
          153.7254,
          56.6115,
          -67.5984,
          -13.787253,
          -83.297165,
          -14.915023,
          94.87802,
          -25.57098,
          -34.45524,
          115.86159,
          -54.481407,
          69.96981,
          -92.44924,
          51.011654,
          42.328926,
          -108.498116,
          -10.047025,
          -94.02686,
          100.286285,
          -34.8164,
          69.12049,
          -76.70638,
          115.84018,
          -44.46278,
          33.4671,
          -173.12537,
          -173.06549,
          67.39525,
          38.697247,
          -20.586071,
          -104.04642,
          -72.02854,
          142.52618,
          21.467072,
          -27.26799,
          53.80973,
          95.43624,
          128.07515,
          104.42638,
          67.387405,
          5.5722017,
          31.714066,
          -128.84314,
          42.97049,
          -26.47508,
          -20.1158,
          22.953577,
          48.235596,
          -37.19767,
          -38.337437,
          38.035328,
          15.346093,
          -152.72032,
          115.065704,
          -50.713593,
          0.3173632,
          102.654396,
          -113.784225,
          69.678505,
          29.121464,
          23.913317,
          80.45654,
          -107.47043,
          -189.7313,
          72.557465,
          -70.32023,
          -4.882952,
          -113.14711,
          38.51488,
          -121.36603,
          60.130955,
          -12.231624,
          50.9762,
          -137.8571,
          -2.925486,
          118.60296,
          18.9656,
          -98.47039,
          10.430473,
          139.25653,
          -48.35282,
          -64.53573,
          -43.65046,
          82.32855,
          126.95131,
          43.672153,
          -176.78261,
          75.09696,
          72.44755,
          -100.19309,
          -6.217156,
          55.260777,
          -82.271576,
          156.04732,
          -26.070257,
          39.35019,
          15.188154,
          101.12506,
          -18.455654,
          82.40919,
          -63.12771,
          89.73743,
          146.46495,
          -153.41583
         ],
         "z": [
          -115.10373,
          -113.73119,
          148.67465,
          -110.28094,
          58.3403,
          -55.91549,
          -21.916979,
          -89.842606,
          50.553112,
          45.434975,
          -76.485855,
          6.4517255,
          -80.26784,
          -15.438009,
          -26.970663,
          97.621216,
          26.715317,
          -9.956874,
          74.826546,
          -35.873295,
          -13.146711,
          64.887856,
          50.804375,
          -67.34871,
          64.44094,
          -2.7565892,
          2.4159343,
          68.930016,
          17.314466,
          -9.060967,
          -53.011242,
          -7.1740103,
          -41.602604,
          -30.04283,
          -74.62746,
          7.1425,
          -0.55744165,
          26.71463,
          -52.036774,
          -60.699608,
          36.601448,
          -49.07577,
          131.3066,
          57.573612,
          74.89103,
          -55.799152,
          20.77848,
          29.823105,
          45.259624,
          -46.23579,
          -51.08623,
          -29.660751,
          93.61104,
          -20.637445,
          43.773106,
          56.52569,
          154.50229,
          -58.73039,
          -32.674377,
          2.5450206,
          22.933624,
          -59.7556,
          8.570774,
          77.93854,
          51.52342,
          -107.30854,
          -68.81535,
          29.452934,
          -75.144714,
          30.892952,
          -50.549114,
          5.368877,
          0.26058987,
          -75.99571,
          -1.5861499,
          -125.69527,
          27.43752,
          -13.353034,
          -29.65254,
          12.452397,
          -4.1266794,
          34.007973,
          -18.623468,
          -17.563377,
          -80.2798,
          97.09059,
          -57.381,
          -33.882256,
          123.3264,
          106.11405,
          -20.190296,
          13.866622,
          48.080685,
          12.371076,
          5.4208617,
          63.445087,
          -58.975254,
          -0.12165408,
          70.40525,
          88.839905,
          7.7899566,
          -14.728404,
          -27.944647,
          39.9676,
          30.290682,
          -29.123133,
          -21.327902,
          22.789465,
          -15.331188,
          -35.985092,
          63.340294,
          27.336107,
          73.04251,
          93.277954,
          -60.813946,
          98.94062,
          -56.839108,
          -10.734797,
          -41.72815,
          123.46287,
          -9.460013,
          -45.221245,
          -7.7581,
          -29.70923,
          -129.82404,
          99.385895,
          29.575127,
          98.65554,
          21.777863,
          -23.340546,
          -13.227483,
          -74.21692,
          104.66573,
          -69.68861,
          -8.70042,
          -112.1946,
          6.184704,
          -38.673958,
          -26.07503,
          18.20864,
          -23.727827,
          -102.5419,
          -12.812795,
          -84.30224,
          -46.5852,
          -47.08882,
          -15.210352,
          -59.2029,
          13.784063,
          -102.52002,
          -5.7345786,
          117.17928,
          -89.75747,
          28.638025,
          84.35018,
          -23.811739,
          -40.53896,
          92.68146,
          -68.42738,
          -70.0598,
          10.965865,
          126.84076,
          -48.079586,
          19.575323,
          -37.261925,
          -0.91623867,
          132.56786,
          20.453445,
          -3.5039957,
          -39.904293,
          81.81417,
          60.73855,
          101.821396,
          -17.074226,
          42.072838,
          -93.04524,
          -82.00138,
          -26.550861,
          141.21754,
          48.216667,
          69.290085,
          58.818768,
          31.695992,
          71.79486,
          40.37874,
          -20.882038,
          113.93005,
          63.133793,
          -41.641247,
          -49.038044,
          -1.1340804,
          -21.83359,
          -50.257347,
          -83.50527,
          85.424774,
          -88.18098,
          -67.02413,
          -63.334377,
          -43.62895,
          55.771713
         ]
        }
       ],
       "layout": {
        "coloraxis": {
         "colorbar": {
          "title": {
           "text": "label"
          }
         },
         "colorscale": [
          [
           0,
           "#0d0887"
          ],
          [
           0.1111111111111111,
           "#46039f"
          ],
          [
           0.2222222222222222,
           "#7201a8"
          ],
          [
           0.3333333333333333,
           "#9c179e"
          ],
          [
           0.4444444444444444,
           "#bd3786"
          ],
          [
           0.5555555555555556,
           "#d8576b"
          ],
          [
           0.6666666666666666,
           "#ed7953"
          ],
          [
           0.7777777777777778,
           "#fb9f3a"
          ],
          [
           0.8888888888888888,
           "#fdca26"
          ],
          [
           1,
           "#f0f921"
          ]
         ]
        },
        "legend": {
         "tracegroupgap": 0
        },
        "margin": {
         "t": 60
        },
        "scene": {
         "domain": {
          "x": [
           0,
           1
          ],
          "y": [
           0,
           1
          ]
         },
         "xaxis": {
          "title": {
           "text": "x"
          }
         },
         "yaxis": {
          "title": {
           "text": "y"
          }
         },
         "zaxis": {
          "title": {
           "text": "z"
          }
         }
        },
        "template": {
         "data": {
          "bar": [
           {
            "error_x": {
             "color": "#2a3f5f"
            },
            "error_y": {
             "color": "#2a3f5f"
            },
            "marker": {
             "line": {
              "color": "#E5ECF6",
              "width": 0.5
             },
             "pattern": {
              "fillmode": "overlay",
              "size": 10,
              "solidity": 0.2
             }
            },
            "type": "bar"
           }
          ],
          "barpolar": [
           {
            "marker": {
             "line": {
              "color": "#E5ECF6",
              "width": 0.5
             },
             "pattern": {
              "fillmode": "overlay",
              "size": 10,
              "solidity": 0.2
             }
            },
            "type": "barpolar"
           }
          ],
          "carpet": [
           {
            "aaxis": {
             "endlinecolor": "#2a3f5f",
             "gridcolor": "white",
             "linecolor": "white",
             "minorgridcolor": "white",
             "startlinecolor": "#2a3f5f"
            },
            "baxis": {
             "endlinecolor": "#2a3f5f",
             "gridcolor": "white",
             "linecolor": "white",
             "minorgridcolor": "white",
             "startlinecolor": "#2a3f5f"
            },
            "type": "carpet"
           }
          ],
          "choropleth": [
           {
            "colorbar": {
             "outlinewidth": 0,
             "ticks": ""
            },
            "type": "choropleth"
           }
          ],
          "contour": [
           {
            "colorbar": {
             "outlinewidth": 0,
             "ticks": ""
            },
            "colorscale": [
             [
              0,
              "#0d0887"
             ],
             [
              0.1111111111111111,
              "#46039f"
             ],
             [
              0.2222222222222222,
              "#7201a8"
             ],
             [
              0.3333333333333333,
              "#9c179e"
             ],
             [
              0.4444444444444444,
              "#bd3786"
             ],
             [
              0.5555555555555556,
              "#d8576b"
             ],
             [
              0.6666666666666666,
              "#ed7953"
             ],
             [
              0.7777777777777778,
              "#fb9f3a"
             ],
             [
              0.8888888888888888,
              "#fdca26"
             ],
             [
              1,
              "#f0f921"
             ]
            ],
            "type": "contour"
           }
          ],
          "contourcarpet": [
           {
            "colorbar": {
             "outlinewidth": 0,
             "ticks": ""
            },
            "type": "contourcarpet"
           }
          ],
          "heatmap": [
           {
            "colorbar": {
             "outlinewidth": 0,
             "ticks": ""
            },
            "colorscale": [
             [
              0,
              "#0d0887"
             ],
             [
              0.1111111111111111,
              "#46039f"
             ],
             [
              0.2222222222222222,
              "#7201a8"
             ],
             [
              0.3333333333333333,
              "#9c179e"
             ],
             [
              0.4444444444444444,
              "#bd3786"
             ],
             [
              0.5555555555555556,
              "#d8576b"
             ],
             [
              0.6666666666666666,
              "#ed7953"
             ],
             [
              0.7777777777777778,
              "#fb9f3a"
             ],
             [
              0.8888888888888888,
              "#fdca26"
             ],
             [
              1,
              "#f0f921"
             ]
            ],
            "type": "heatmap"
           }
          ],
          "heatmapgl": [
           {
            "colorbar": {
             "outlinewidth": 0,
             "ticks": ""
            },
            "colorscale": [
             [
              0,
              "#0d0887"
             ],
             [
              0.1111111111111111,
              "#46039f"
             ],
             [
              0.2222222222222222,
              "#7201a8"
             ],
             [
              0.3333333333333333,
              "#9c179e"
             ],
             [
              0.4444444444444444,
              "#bd3786"
             ],
             [
              0.5555555555555556,
              "#d8576b"
             ],
             [
              0.6666666666666666,
              "#ed7953"
             ],
             [
              0.7777777777777778,
              "#fb9f3a"
             ],
             [
              0.8888888888888888,
              "#fdca26"
             ],
             [
              1,
              "#f0f921"
             ]
            ],
            "type": "heatmapgl"
           }
          ],
          "histogram": [
           {
            "marker": {
             "pattern": {
              "fillmode": "overlay",
              "size": 10,
              "solidity": 0.2
             }
            },
            "type": "histogram"
           }
          ],
          "histogram2d": [
           {
            "colorbar": {
             "outlinewidth": 0,
             "ticks": ""
            },
            "colorscale": [
             [
              0,
              "#0d0887"
             ],
             [
              0.1111111111111111,
              "#46039f"
             ],
             [
              0.2222222222222222,
              "#7201a8"
             ],
             [
              0.3333333333333333,
              "#9c179e"
             ],
             [
              0.4444444444444444,
              "#bd3786"
             ],
             [
              0.5555555555555556,
              "#d8576b"
             ],
             [
              0.6666666666666666,
              "#ed7953"
             ],
             [
              0.7777777777777778,
              "#fb9f3a"
             ],
             [
              0.8888888888888888,
              "#fdca26"
             ],
             [
              1,
              "#f0f921"
             ]
            ],
            "type": "histogram2d"
           }
          ],
          "histogram2dcontour": [
           {
            "colorbar": {
             "outlinewidth": 0,
             "ticks": ""
            },
            "colorscale": [
             [
              0,
              "#0d0887"
             ],
             [
              0.1111111111111111,
              "#46039f"
             ],
             [
              0.2222222222222222,
              "#7201a8"
             ],
             [
              0.3333333333333333,
              "#9c179e"
             ],
             [
              0.4444444444444444,
              "#bd3786"
             ],
             [
              0.5555555555555556,
              "#d8576b"
             ],
             [
              0.6666666666666666,
              "#ed7953"
             ],
             [
              0.7777777777777778,
              "#fb9f3a"
             ],
             [
              0.8888888888888888,
              "#fdca26"
             ],
             [
              1,
              "#f0f921"
             ]
            ],
            "type": "histogram2dcontour"
           }
          ],
          "mesh3d": [
           {
            "colorbar": {
             "outlinewidth": 0,
             "ticks": ""
            },
            "type": "mesh3d"
           }
          ],
          "parcoords": [
           {
            "line": {
             "colorbar": {
              "outlinewidth": 0,
              "ticks": ""
             }
            },
            "type": "parcoords"
           }
          ],
          "pie": [
           {
            "automargin": true,
            "type": "pie"
           }
          ],
          "scatter": [
           {
            "fillpattern": {
             "fillmode": "overlay",
             "size": 10,
             "solidity": 0.2
            },
            "type": "scatter"
           }
          ],
          "scatter3d": [
           {
            "line": {
             "colorbar": {
              "outlinewidth": 0,
              "ticks": ""
             }
            },
            "marker": {
             "colorbar": {
              "outlinewidth": 0,
              "ticks": ""
             }
            },
            "type": "scatter3d"
           }
          ],
          "scattercarpet": [
           {
            "marker": {
             "colorbar": {
              "outlinewidth": 0,
              "ticks": ""
             }
            },
            "type": "scattercarpet"
           }
          ],
          "scattergeo": [
           {
            "marker": {
             "colorbar": {
              "outlinewidth": 0,
              "ticks": ""
             }
            },
            "type": "scattergeo"
           }
          ],
          "scattergl": [
           {
            "marker": {
             "colorbar": {
              "outlinewidth": 0,
              "ticks": ""
             }
            },
            "type": "scattergl"
           }
          ],
          "scattermapbox": [
           {
            "marker": {
             "colorbar": {
              "outlinewidth": 0,
              "ticks": ""
             }
            },
            "type": "scattermapbox"
           }
          ],
          "scatterpolar": [
           {
            "marker": {
             "colorbar": {
              "outlinewidth": 0,
              "ticks": ""
             }
            },
            "type": "scatterpolar"
           }
          ],
          "scatterpolargl": [
           {
            "marker": {
             "colorbar": {
              "outlinewidth": 0,
              "ticks": ""
             }
            },
            "type": "scatterpolargl"
           }
          ],
          "scatterternary": [
           {
            "marker": {
             "colorbar": {
              "outlinewidth": 0,
              "ticks": ""
             }
            },
            "type": "scatterternary"
           }
          ],
          "surface": [
           {
            "colorbar": {
             "outlinewidth": 0,
             "ticks": ""
            },
            "colorscale": [
             [
              0,
              "#0d0887"
             ],
             [
              0.1111111111111111,
              "#46039f"
             ],
             [
              0.2222222222222222,
              "#7201a8"
             ],
             [
              0.3333333333333333,
              "#9c179e"
             ],
             [
              0.4444444444444444,
              "#bd3786"
             ],
             [
              0.5555555555555556,
              "#d8576b"
             ],
             [
              0.6666666666666666,
              "#ed7953"
             ],
             [
              0.7777777777777778,
              "#fb9f3a"
             ],
             [
              0.8888888888888888,
              "#fdca26"
             ],
             [
              1,
              "#f0f921"
             ]
            ],
            "type": "surface"
           }
          ],
          "table": [
           {
            "cells": {
             "fill": {
              "color": "#EBF0F8"
             },
             "line": {
              "color": "white"
             }
            },
            "header": {
             "fill": {
              "color": "#C8D4E3"
             },
             "line": {
              "color": "white"
             }
            },
            "type": "table"
           }
          ]
         },
         "layout": {
          "annotationdefaults": {
           "arrowcolor": "#2a3f5f",
           "arrowhead": 0,
           "arrowwidth": 1
          },
          "autotypenumbers": "strict",
          "coloraxis": {
           "colorbar": {
            "outlinewidth": 0,
            "ticks": ""
           }
          },
          "colorscale": {
           "diverging": [
            [
             0,
             "#8e0152"
            ],
            [
             0.1,
             "#c51b7d"
            ],
            [
             0.2,
             "#de77ae"
            ],
            [
             0.3,
             "#f1b6da"
            ],
            [
             0.4,
             "#fde0ef"
            ],
            [
             0.5,
             "#f7f7f7"
            ],
            [
             0.6,
             "#e6f5d0"
            ],
            [
             0.7,
             "#b8e186"
            ],
            [
             0.8,
             "#7fbc41"
            ],
            [
             0.9,
             "#4d9221"
            ],
            [
             1,
             "#276419"
            ]
           ],
           "sequential": [
            [
             0,
             "#0d0887"
            ],
            [
             0.1111111111111111,
             "#46039f"
            ],
            [
             0.2222222222222222,
             "#7201a8"
            ],
            [
             0.3333333333333333,
             "#9c179e"
            ],
            [
             0.4444444444444444,
             "#bd3786"
            ],
            [
             0.5555555555555556,
             "#d8576b"
            ],
            [
             0.6666666666666666,
             "#ed7953"
            ],
            [
             0.7777777777777778,
             "#fb9f3a"
            ],
            [
             0.8888888888888888,
             "#fdca26"
            ],
            [
             1,
             "#f0f921"
            ]
           ],
           "sequentialminus": [
            [
             0,
             "#0d0887"
            ],
            [
             0.1111111111111111,
             "#46039f"
            ],
            [
             0.2222222222222222,
             "#7201a8"
            ],
            [
             0.3333333333333333,
             "#9c179e"
            ],
            [
             0.4444444444444444,
             "#bd3786"
            ],
            [
             0.5555555555555556,
             "#d8576b"
            ],
            [
             0.6666666666666666,
             "#ed7953"
            ],
            [
             0.7777777777777778,
             "#fb9f3a"
            ],
            [
             0.8888888888888888,
             "#fdca26"
            ],
            [
             1,
             "#f0f921"
            ]
           ]
          },
          "colorway": [
           "#636efa",
           "#EF553B",
           "#00cc96",
           "#ab63fa",
           "#FFA15A",
           "#19d3f3",
           "#FF6692",
           "#B6E880",
           "#FF97FF",
           "#FECB52"
          ],
          "font": {
           "color": "#2a3f5f"
          },
          "geo": {
           "bgcolor": "white",
           "lakecolor": "white",
           "landcolor": "#E5ECF6",
           "showlakes": true,
           "showland": true,
           "subunitcolor": "white"
          },
          "hoverlabel": {
           "align": "left"
          },
          "hovermode": "closest",
          "mapbox": {
           "style": "light"
          },
          "paper_bgcolor": "white",
          "plot_bgcolor": "#E5ECF6",
          "polar": {
           "angularaxis": {
            "gridcolor": "white",
            "linecolor": "white",
            "ticks": ""
           },
           "bgcolor": "#E5ECF6",
           "radialaxis": {
            "gridcolor": "white",
            "linecolor": "white",
            "ticks": ""
           }
          },
          "scene": {
           "xaxis": {
            "backgroundcolor": "#E5ECF6",
            "gridcolor": "white",
            "gridwidth": 2,
            "linecolor": "white",
            "showbackground": true,
            "ticks": "",
            "zerolinecolor": "white"
           },
           "yaxis": {
            "backgroundcolor": "#E5ECF6",
            "gridcolor": "white",
            "gridwidth": 2,
            "linecolor": "white",
            "showbackground": true,
            "ticks": "",
            "zerolinecolor": "white"
           },
           "zaxis": {
            "backgroundcolor": "#E5ECF6",
            "gridcolor": "white",
            "gridwidth": 2,
            "linecolor": "white",
            "showbackground": true,
            "ticks": "",
            "zerolinecolor": "white"
           }
          },
          "shapedefaults": {
           "line": {
            "color": "#2a3f5f"
           }
          },
          "ternary": {
           "aaxis": {
            "gridcolor": "white",
            "linecolor": "white",
            "ticks": ""
           },
           "baxis": {
            "gridcolor": "white",
            "linecolor": "white",
            "ticks": ""
           },
           "bgcolor": "#E5ECF6",
           "caxis": {
            "gridcolor": "white",
            "linecolor": "white",
            "ticks": ""
           }
          },
          "title": {
           "x": 0.05
          },
          "xaxis": {
           "automargin": true,
           "gridcolor": "white",
           "linecolor": "white",
           "ticks": "",
           "title": {
            "standoff": 15
           },
           "zerolinecolor": "white",
           "zerolinewidth": 2
          },
          "yaxis": {
           "automargin": true,
           "gridcolor": "white",
           "linecolor": "white",
           "ticks": "",
           "title": {
            "standoff": 15
           },
           "zerolinecolor": "white",
           "zerolinewidth": 2
          }
         }
        }
       }
      }
     },
     "metadata": {},
     "output_type": "display_data"
    }
   ],
   "source": [
    "\n",
    "# TSNE for penultimate layer values\n",
    "# Combine the penultimate layer values and labels\n",
    "\n",
    "combined_penultimate = zero_penultimate + one_penultimate\n",
    "combined_labels = [0] * len(zero_penultimate) + [1] * len(one_penultimate)\n",
    "\n",
    "# Reduce the dimensionality of the embeddings using TSNE\n",
    "tsne = TSNE(n_components=3, random_state=42)\n",
    "\n",
    "# Get the embeddings in 3D\n",
    "embeddings_3d = tsne.fit_transform(combined_penultimate)\n",
    "\n",
    "# Create a dataframe with the embeddings and labels\n",
    "df = pd.DataFrame(embeddings_3d, columns=[\"x\", \"y\", \"z\"])\n",
    "df[\"label\"] = combined_labels\n",
    "\n",
    "# Plot using plotly\n",
    "import plotly.express as px\n",
    "fig = px.scatter_3d(df, x=\"x\", y=\"y\", z=\"z\", color=\"label\")\n",
    "fig.show()\n"
   ]
  },
  {
   "cell_type": "code",
   "execution_count": null,
   "metadata": {},
   "outputs": [],
   "source": []
  }
 ],
 "metadata": {
  "kernelspec": {
   "display_name": "Python 3",
   "language": "python",
   "name": "python3"
  },
  "language_info": {
   "codemirror_mode": {
    "name": "ipython",
    "version": 3
   },
   "file_extension": ".py",
   "mimetype": "text/x-python",
   "name": "python",
   "nbconvert_exporter": "python",
   "pygments_lexer": "ipython3",
   "version": "3.9.13"
  },
  "orig_nbformat": 4
 },
 "nbformat": 4,
 "nbformat_minor": 2
}
