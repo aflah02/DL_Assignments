{
 "cells": [
  {
   "cell_type": "code",
   "execution_count": 31,
   "metadata": {},
   "outputs": [],
   "source": [
    "import math\n",
    "import random as random"
   ]
  },
  {
   "attachments": {},
   "cell_type": "markdown",
   "metadata": {},
   "source": [
    "## A)"
   ]
  },
  {
   "cell_type": "code",
   "execution_count": 32,
   "metadata": {},
   "outputs": [],
   "source": [
    "def function(x1, x2, y):\n",
    "    return x1**2 + y*x2**2 - x1*x2 - x1 - x2 \n",
    "\n",
    "def function_derivative_wrt_x1(x1, x2, y):\n",
    "    return 2*x1 - x2 - 1\n",
    "\n",
    "def function_derivative_wrt_x2(x1, x2, y):\n",
    "    return 2*y*x2 - x1 - 1\n",
    "\n",
    "def function_derivative_wrt_y(x1, x2, y):\n",
    "    return x2**2"
   ]
  },
  {
   "cell_type": "code",
   "execution_count": 56,
   "metadata": {},
   "outputs": [],
   "source": [
    "def gradient_descent_optimization(x1_initial, x2_initial, y_initial, step_size, threshold, file_name, max_iters=1000):\n",
    "    x1 = x1_initial\n",
    "    x2 = x2_initial\n",
    "    y = y_initial\n",
    "    step_size = step_size\n",
    "    threshold = threshold\n",
    "    iters = 0\n",
    "\n",
    "    # Write initial conditions to file\n",
    "    with open(f'Gradient_Descent_Logs\\{file_name}', 'w') as f:\n",
    "        f.write(f'Initial Conditions: x1: {x1_initial} x2: {x2_initial} y: {y_initial} step_size: {step_size} threshold: {threshold}\\n')\n",
    "\n",
    "    while math.fabs(function_derivative_wrt_x1(x1, x2, y)) > threshold and math.fabs(function_derivative_wrt_x2(x1, x2, y)) > threshold and math.fabs(function_derivative_wrt_y(x1, x2, y)) > threshold and iters < max_iters:\n",
    "        x1 = x1 - step_size * function_derivative_wrt_x1(x1, x2, y)\n",
    "        x2 = x2 - step_size * function_derivative_wrt_x2(x1, x2, y)\n",
    "        iters += 1\n",
    "        \n",
    "        with open(f'Gradient_Descent_Logs\\{file_name}', 'a') as f:\n",
    "            f.write(f'Iteration: {iters} x1: {x1} x2: {x2} y: {y} function: {function(x1, x2, y)} function_derivative_wrt_x1: {function_derivative_wrt_x1(x1, x2, y)} function_derivative_wrt_x2: {function_derivative_wrt_x2(x1, x2, y)} function_derivative_wrt_y: {function_derivative_wrt_y(x1, x2, y)}\\n')\n",
    "    \n",
    "    return {\n",
    "        'x1': x1,\n",
    "        'x2': x2,\n",
    "        'y': y,\n",
    "        'iters': iters,\n",
    "        'step_size': step_size,\n",
    "        'threshold': threshold,\n",
    "        'max_iters': max_iters,\n",
    "        'max_iters_reached': iters == max_iters,\n",
    "        'function': function(x1, x2, y),\n",
    "        'function_derivative_wrt_x1': function_derivative_wrt_x1(x1, x2, y),\n",
    "        'function_derivative_wrt_x2': function_derivative_wrt_x2(x1, x2, y),\n",
    "        'function_derivative_wrt_y': function_derivative_wrt_y(x1, x2, y)\n",
    "    }"
   ]
  },
  {
   "cell_type": "code",
   "execution_count": 57,
   "metadata": {},
   "outputs": [
    {
     "name": "stdout",
     "output_type": "stream",
     "text": [
      "Iterations Required: 117\n"
     ]
    }
   ],
   "source": [
    "# Choose randokm initial conditions\n",
    "random.seed(0)\n",
    "x1_initial = random.uniform(-10, 10)\n",
    "x2_initial = random.uniform(-10, 10)\n",
    "y_initial = 1\n",
    "optimization_result = gradient_descent_optimization(x1_initial, x2_initial, y_initial, 0.1, 1e-5, 'PartA.txt')\n",
    "print(f'Iterations Required: {optimization_result[\"iters\"]}')"
   ]
  },
  {
   "attachments": {},
   "cell_type": "markdown",
   "metadata": {},
   "source": [
    "## B)"
   ]
  },
  {
   "cell_type": "code",
   "execution_count": null,
   "metadata": {},
   "outputs": [],
   "source": []
  },
  {
   "attachments": {},
   "cell_type": "markdown",
   "metadata": {},
   "source": [
    "## C)"
   ]
  },
  {
   "cell_type": "code",
   "execution_count": 58,
   "metadata": {},
   "outputs": [],
   "source": [
    "random.seed(0)\n",
    "step_sizes = [0.1, 0.3, 0.5, 0.7, 0.9]\n",
    "iters_to_converge = []\n",
    "x1_initial = random.uniform(-10, 10)\n",
    "x2_initial = random.uniform(-10, 10)\n",
    "y_initial = 1\n",
    "for step_size in step_sizes:\n",
    "    optimization_result = gradient_descent_optimization(x1_initial, x2_initial, y_initial, step_size, 1e-5, f'PartC_StepSize_{step_size}.txt')\n",
    "    iters_to_converge.append(optimization_result['iters'])"
   ]
  },
  {
   "cell_type": "code",
   "execution_count": 59,
   "metadata": {},
   "outputs": [
    {
     "data": {
      "image/png": "[encoded data removed]",
      "text/plain": [
       "<Figure size 432x288 with 1 Axes>"
      ]
     },
     "metadata": {
      "needs_background": "light"
     },
     "output_type": "display_data"
    }
   ],
   "source": [
    "# Plot the number of iterations required to converge vs step size\n",
    "import matplotlib.pyplot as plt\n",
    "plt.plot(step_sizes, iters_to_converge)\n",
    "plt.xlabel('Step Size')\n",
    "plt.ylabel('Iterations to Converge')\n",
    "plt.title('Iterations to Converge vs Step Size')\n",
    "plt.show()"
   ]
  },
  {
   "attachments": {},
   "cell_type": "markdown",
   "metadata": {},
   "source": [
    "## D)"
   ]
  },
  {
   "cell_type": "code",
   "execution_count": 60,
   "metadata": {},
   "outputs": [],
   "source": [
    "# 5 Random Values of y between 0 and 1\n",
    "random.seed(0)\n",
    "y_values = [random.uniform(0, 1) for i in range(5)]\n",
    "y_values.sort()\n",
    "x1_initial = random.uniform(-10, 10)\n",
    "x2_initial = random.uniform(-10, 10)\n",
    "step_size = 0.1\n",
    "iters_to_converge = []\n",
    "for y in y_values:\n",
    "    optimization_result = gradient_descent_optimization(x1_initial, x2_initial, y, step_size, 1e-5, f'PartD_y_{y}.txt')\n",
    "    iters_to_converge.append(optimization_result['iters'])\n"
   ]
  },
  {
   "cell_type": "code",
   "execution_count": 61,
   "metadata": {},
   "outputs": [
    {
     "data": {
      "text/plain": [
       "[0.25891675029296335,\n",
       " 0.420571580830845,\n",
       " 0.5112747213686085,\n",
       " 0.7579544029403025,\n",
       " 0.8444218515250481]"
      ]
     },
     "execution_count": 61,
     "metadata": {},
     "output_type": "execute_result"
    }
   ],
   "source": [
    "y_values"
   ]
  },
  {
   "cell_type": "code",
   "execution_count": 62,
   "metadata": {},
   "outputs": [
    {
     "data": {
      "text/plain": [
       "[1000, 331, 230, 143, 127]"
      ]
     },
     "execution_count": 62,
     "metadata": {},
     "output_type": "execute_result"
    }
   ],
   "source": [
    "iters_to_converge"
   ]
  },
  {
   "cell_type": "code",
   "execution_count": 63,
   "metadata": {},
   "outputs": [
    {
     "data": {
      "image/png": "[encoded data removed]",
      "text/plain": [
       "<Figure size 432x288 with 1 Axes>"
      ]
     },
     "metadata": {
      "needs_background": "light"
     },
     "output_type": "display_data"
    }
   ],
   "source": [
    "# Plot the number of iterations required to converge vs y\n",
    "import matplotlib.pyplot as plt\n",
    "plt.plot(y_values, iters_to_converge)\n",
    "plt.xlabel('y')\n",
    "plt.ylabel('Iterations to Converge')\n",
    "plt.title('Iterations to Converge vs y')\n",
    "plt.show()"
   ]
  },
  {
   "attachments": {},
   "cell_type": "markdown",
   "metadata": {},
   "source": [
    "## E)"
   ]
  },
  {
   "cell_type": "code",
   "execution_count": 64,
   "metadata": {},
   "outputs": [],
   "source": [
    "x1_initial = random.uniform(-10, 10)\n",
    "x2_initial = random.uniform(-10, 10)\n",
    "y_initial = -1\n",
    "optimization_result = gradient_descent_optimization(x1_initial, x2_initial, y_initial, 0.1, 1e-5, 'PartE.txt', max_iters=1000)"
   ]
  },
  {
   "cell_type": "code",
   "execution_count": 65,
   "metadata": {},
   "outputs": [
    {
     "data": {
      "text/plain": [
       "{'x1': -3.87175786138439e+88,\n",
       " 'x2': -1.659678149427563e+89,\n",
       " 'y': -1,\n",
       " 'iters': 1000,\n",
       " 'step_size': 0.1,\n",
       " 'threshold': 1e-05,\n",
       " 'max_iters': 1000,\n",
       " 'max_iters_reached': True,\n",
       " 'function': -3.2472136625567885e+178,\n",
       " 'function_derivative_wrt_x1': 8.853265771506852e+88,\n",
       " 'function_derivative_wrt_x2': 3.7065320849935653e+89,\n",
       " 'function_derivative_wrt_y': 2.7545315596873004e+178}"
      ]
     },
     "execution_count": 65,
     "metadata": {},
     "output_type": "execute_result"
    }
   ],
   "source": [
    "optimization_result"
   ]
  },
  {
   "attachments": {},
   "cell_type": "markdown",
   "metadata": {},
   "source": [
    "x1 and x2 have grown without any convergence to a fixed point. This is because for y = -1 there exists no minima and the curve is a hull like structure which is not convex. Hence, the gradient descent algorithm will not converge to a fixed point."
   ]
  }
 ],
 "metadata": {
  "kernelspec": {
   "display_name": "Python 3",
   "language": "python",
   "name": "python3"
  },
  "language_info": {
   "codemirror_mode": {
    "name": "ipython",
    "version": 3
   },
   "file_extension": ".py",
   "mimetype": "text/x-python",
   "name": "python",
   "nbconvert_exporter": "python",
   "pygments_lexer": "ipython3",
   "version": "3.9.13"
  },
  "orig_nbformat": 4,
  "vscode": {
   "interpreter": {
    "hash": "a5a87ee616be0254e3f1af9223138e3faeac65b2c9d91bc22a9fc5a4a8bd8eb0"
   }
  }
 },
 "nbformat": 4,
 "nbformat_minor": 2
}
