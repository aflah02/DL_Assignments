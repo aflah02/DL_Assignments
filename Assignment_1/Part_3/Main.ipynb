{
  "cells": [
    {
      "cell_type": "code",
      "execution_count": 1,
      "metadata": {
        "id": "npFemIWusYQi"
      },
      "outputs": [],
      "source": [
        "import numpy as np"
      ]
    },
    {
      "cell_type": "code",
      "execution_count": 2,
      "metadata": {
        "id": "oTrTMpTwtLXd"
      },
      "outputs": [],
      "source": [
        "class AffineTransformationLayer:\n",
        "    def __init__(self, input_size, output_size, weight_initializer, random_init_scaler=True):\n",
        "        self.input_size = input_size\n",
        "        self.output_size = output_size\n",
        "        if weight_initializer == 'zeros':\n",
        "            self.weights = np.zeros((input_size, output_size))\n",
        "            self.bias = np.zeros((1, output_size))\n",
        "        elif weight_initializer == 'normal_init':\n",
        "            self.weights = np.random.normal(0, 0.1, (input_size, output_size))\n",
        "            self.bias = np.random.normal(0, 0.1, (1, output_size))\n",
        "\n",
        "    def forward(self, input):\n",
        "        self.input = input\n",
        "        return np.dot(input, self.weights) + self.bias\n",
        "\n",
        "    def backward(self, output_error, learning_rate):\n",
        "        input_error = np.dot(output_error, self.weights.T)\n",
        "        weights_error = np.dot(self.input.T, output_error)\n",
        "        self.weights -= learning_rate * weights_error\n",
        "        self.bias -= learning_rate * output_error\n",
        "        return input_error"
      ]
    },
    {
      "cell_type": "code",
      "execution_count": 3,
      "metadata": {
        "id": "E6nSYAB2sam3"
      },
      "outputs": [],
      "source": [
        "class ActivationLayer:\n",
        "    def __init__(self, activation, activation_prime):\n",
        "        self.activation = activation\n",
        "        self.activation_prime = activation_prime\n",
        "    \n",
        "    def forward(self, input):\n",
        "        self.input = input\n",
        "        return self.activation(input)\n",
        "    \n",
        "    def backward(self, output_error, learning_rate):\n",
        "        return output_error * self.activation_prime(self.input)"
      ]
    },
    {
      "cell_type": "code",
      "execution_count": 4,
      "metadata": {
        "id": "hl8LxP1lAEiN"
      },
      "outputs": [],
      "source": [
        "class Reshaping_Layer:\n",
        "    def __init__(self, input_shape):\n",
        "        self.input_shape = input_shape\n",
        "\n",
        "    def forward(self, input):\n",
        "        return np.reshape(input, (1, -1))\n",
        "    \n",
        "    def backward(self, output_error, learning_rate):\n",
        "        return np.reshape(output_error, self.input_shape)"
      ]
    },
    {
      "cell_type": "code",
      "execution_count": 5,
      "metadata": {
        "id": "RQeuIfkK3vyl"
      },
      "outputs": [],
      "source": [
        "class SoftmaxLayer:\n",
        "    def __init__(self, input_size):\n",
        "        self.input_size = input_size\n",
        "    \n",
        "    def forward(self, input):\n",
        "        self.input = input\n",
        "        tmp = np.exp(input)\n",
        "        self.output = tmp / np.sum(tmp)\n",
        "        return self.output\n",
        "    \n",
        "    def backward(self, output_error, learning_rate):\n",
        "        input_error = np.zeros(output_error.shape)\n",
        "        out = np.tile(self.output.T, self.input_size)\n",
        "        return self.output * np.dot(output_error, np.identity(self.input_size) - out)"
      ]
    },
    {
      "cell_type": "code",
      "execution_count": 6,
      "metadata": {
        "id": "LuPbn70Wt8Q7"
      },
      "outputs": [],
      "source": [
        "def sigmoid(x):\n",
        "    return 1 / (1 + np.exp(-x))\n",
        "\n",
        "def sigmoid_prime(x):\n",
        "    return np.exp(-x) / (1 + np.exp(-x))**2\n",
        "\n",
        "def relu(x):\n",
        "    return np.maximum(x, 0)\n",
        "\n",
        "def relu_prime(x):\n",
        "    return np.array(x >= 0).astype('int')"
      ]
    },
    {
      "cell_type": "code",
      "execution_count": 7,
      "metadata": {
        "id": "rXY7jkUzuqEk"
      },
      "outputs": [],
      "source": [
        "def mse(y_true, y_pred):\n",
        "    return np.mean(np.power(y_true - y_pred, 2))\n",
        "\n",
        "def mse_prime(y_true, y_pred):\n",
        "    return 2 * (y_pred - y_true) / y_pred.size"
      ]
    },
    {
      "cell_type": "code",
      "execution_count": 8,
      "metadata": {
        "colab": {
          "base_uri": "https://localhost:8080/",
          "height": 51
        },
        "id": "-whGNp8Joaur",
        "outputId": "23690d5d-f451-4fd3-b87a-d5c416ac2d0b"
      },
      "outputs": [
        {
          "name": "stderr",
          "output_type": "stream",
          "text": [
            "C:\\Users\\ASUS\\AppData\\Local\\Packages\\PythonSoftwareFoundation.Python.3.9_qbz5n2kfra8p0\\LocalCache\\local-packages\\Python39\\site-packages\\requests\\__init__.py:102: RequestsDependencyWarning: urllib3 (1.26.12) or chardet (5.0.0)/charset_normalizer (2.0.10) doesn't match a supported version!\n",
            "  warnings.warn(\"urllib3 ({}) or chardet ({})/charset_normalizer ({}) doesn't match a supported \"\n"
          ]
        }
      ],
      "source": [
        "import matplotlib.pyplot as plt\n",
        "from keras.utils import to_categorical\n",
        "from sklearn.model_selection import train_test_split\n",
        "from fashion_mnist import *\n",
        "x_train, y_train, x_val, y_val, x_test, y_test = load_data()"
      ]
    },
    {
      "cell_type": "code",
      "execution_count": 9,
      "metadata": {},
      "outputs": [
        {
          "data": {
            "text/plain": [
              "((48000, 784),\n",
              " (48000, 10),\n",
              " (12000, 784),\n",
              " (12000, 10),\n",
              " (10000, 784),\n",
              " (10000, 10))"
            ]
          },
          "execution_count": 9,
          "metadata": {},
          "output_type": "execute_result"
        }
      ],
      "source": [
        "x_train.shape, y_train.shape, x_val.shape, y_val.shape, x_test.shape, y_test.shape"
      ]
    },
    {
      "cell_type": "code",
      "execution_count": 10,
      "metadata": {},
      "outputs": [],
      "source": [
        "def accuracy(y_true, y_pred):\n",
        "    return np.mean(y_true == y_pred)"
      ]
    },
    {
      "cell_type": "code",
      "execution_count": 11,
      "metadata": {},
      "outputs": [],
      "source": [
        "class NeuralNetwork:\n",
        "    def __init__(self, n_inputs,  input_shape, hidden_layer_sizes, n_outs, activation_fn, activation_fn_derivative, weight_initialization, loss, loss_prime):\n",
        "        self.network = []\n",
        "        self.network.append(Reshaping_Layer(input_shape))\n",
        "        # Input To Hidden\n",
        "        self.network.append(AffineTransformationLayer(n_inputs, hidden_layer_sizes[0], weight_initialization))\n",
        "        self.network.append(ActivationLayer(activation_fn, activation_fn_derivative))\n",
        "        # Hidden To Hidden\n",
        "        for i in range(len(hidden_layer_sizes) - 1):\n",
        "            self.network.append(AffineTransformationLayer(hidden_layer_sizes[i], hidden_layer_sizes[i+1], weight_initialization))\n",
        "            self.network.append(ActivationLayer(activation_fn, activation_fn_derivative))\n",
        "        # Hidden To Output\n",
        "        self.network.append(AffineTransformationLayer(hidden_layer_sizes[-1], n_outs, weight_initialization))\n",
        "        self.network.append(SoftmaxLayer(n_outs))\n",
        "        self.loss = loss\n",
        "        self.loss_prime = loss_prime\n",
        "        self.train_loss = []\n",
        "        self.val_loss = []\n",
        "        self.train_acc = []\n",
        "        self.val_acc = []\n",
        "    \n",
        "    def predict(self, x):\n",
        "        for layer in self.network:\n",
        "            x = layer.forward(x)\n",
        "        return x\n",
        "    \n",
        "    def fit(self, x_train, y_train, x_valid, y_valid, epochs=1000, learning_rate=0.1, batch_size=32, early_stopping=True, patience=10, verbose=True):\n",
        "        x_batches_train = np.array_split(x_train, len(x_train)/ batch_size)\n",
        "        y_batches_train = np.array_split(y_train, len(y_train)/ batch_size)\n",
        "        for epoch in range(epochs):\n",
        "            error = 0\n",
        "            error_val = 0\n",
        "            for x_train, y_train in zip(x_batches_train,y_batches_train):\n",
        "                for x, y_true in zip(x_train, y_train):\n",
        "\n",
        "                    output = x\n",
        "                    \n",
        "                    output = self.forward(output)\n",
        "\n",
        "                    error += self.loss(y_true, output)\n",
        "\n",
        "                    output_error = self.loss_prime(y_true, output)\n",
        "\n",
        "                    self.backward(output_error, learning_rate)\n",
        "\n",
        "                    error /= len(x_train)\n",
        "\n",
        "            error_val = sum([self.loss(y, self.predict(x)) for x, y in zip(x_valid, y_valid)]) / len(x_valid) \n",
        "\n",
        "            self.train_loss.append(error)\n",
        "            self.val_loss.append(error_val)\n",
        "            train_acc = 0\n",
        "            for x, y in zip(x_train, y_train):\n",
        "                train_acc += accuracy(np.argmax(y), np.argmax(self.predict(x)))\n",
        "            self.train_acc.append(train_acc / len(x_train))\n",
        "            val_acc = 0\n",
        "            for x, y in zip(x_valid, y_valid):\n",
        "                val_acc += accuracy(np.argmax(y), np.argmax(self.predict(x)))\n",
        "            self.val_acc.append(val_acc / len(x_valid))\n",
        "\n",
        "            if early_stopping:\n",
        "                if epoch > patience:\n",
        "                    if self.train_loss[-1] > np.mean(self.val_loss[-(patience+1):-1]):\n",
        "                        print('Early Stopping')\n",
        "                        break\n",
        "            if verbose:\n",
        "                if epoch % 1 == 0:\n",
        "                    print(f\"Epoch: {epoch}, Training Loss: {error}, Validation Loss: {error_val}, Training Accuracy: {self.train_acc[-1]}, Validation Accuracy: {self.val_acc[-1]}\")\n",
        "\n",
        "    def forward(self, x):\n",
        "        for layer in self.network:\n",
        "            x = layer.forward(x)\n",
        "        return x\n",
        "\n",
        "    def backward(self, output_error, learning_rate):\n",
        "        for layer in reversed(self.network):\n",
        "            output_error = layer.backward(output_error, learning_rate)\n",
        "\n",
        "    def predict_proba(self, x):\n",
        "        return self.predict(x)\n",
        "\n",
        "    def score(self, x, y):\n",
        "        cnt = 0\n",
        "        for x_v, y_v in zip(x,y):\n",
        "            op = self.predict(x_v)\n",
        "            if (np.argmax(op) == np.argmax(y_v)):\n",
        "                cnt+=1\n",
        "        return cnt/y.shape[0]"
      ]
    },
    {
      "cell_type": "code",
      "execution_count": 12,
      "metadata": {},
      "outputs": [],
      "source": [
        "def save_model(model, filename):\n",
        "    import pickle\n",
        "    with open(f\"Model_Saves/{filename}\", 'wb') as f:\n",
        "        pickle.dump(model, f)\n",
        "\n",
        "def load_model(filename):\n",
        "    import pickle\n",
        "    with open(f\"Model_Saves/{filename}\", 'rb') as f:\n",
        "        return pickle.load(f)"
      ]
    },
    {
      "cell_type": "code",
      "execution_count": 13,
      "metadata": {},
      "outputs": [
        {
          "data": {
            "text/plain": [
              "((48000, 784), (48000, 10), (12000, 784), (12000, 10))"
            ]
          },
          "execution_count": 13,
          "metadata": {},
          "output_type": "execute_result"
        }
      ],
      "source": [
        "x_train.shape, y_train.shape, x_val.shape, y_val.shape"
      ]
    },
    {
      "cell_type": "code",
      "execution_count": 15,
      "metadata": {},
      "outputs": [],
      "source": [
        "activation_fns = [relu, sigmoid]\n",
        "activation_fns_prime = [relu_prime, sigmoid_prime]"
      ]
    },
    {
      "cell_type": "code",
      "execution_count": 16,
      "metadata": {},
      "outputs": [
        {
          "name": "stdout",
          "output_type": "stream",
          "text": [
            "Activation Function: relu, Initialization: normal_init\n",
            "Epoch: 0, Training Loss: 6.62511266004629e-05, Validation Loss: 0.027885831239256764, Training Accuracy: 0.7578125, Validation Accuracy: 0.8105833333333333\n",
            "Epoch: 1, Training Loss: 0.00010168460715293936, Validation Loss: 0.024471652896687287, Training Accuracy: 0.8046875, Validation Accuracy: 0.8339166666666666\n",
            "Epoch: 2, Training Loss: 0.00010611976723382688, Validation Loss: 0.02295407028297784, Training Accuracy: 0.828125, Validation Accuracy: 0.8439166666666666\n",
            "Epoch: 3, Training Loss: 0.00011038349240663216, Validation Loss: 0.022086272331384157, Training Accuracy: 0.8515625, Validation Accuracy: 0.8500833333333333\n",
            "Epoch: 4, Training Loss: 0.00011784509835937298, Validation Loss: 0.021503652618562845, Training Accuracy: 0.859375, Validation Accuracy: 0.8548333333333333\n",
            "Epoch: 5, Training Loss: 0.00012660433968817765, Validation Loss: 0.02107892605216251, Training Accuracy: 0.8671875, Validation Accuracy: 0.8583333333333333\n",
            "Epoch: 6, Training Loss: 0.00016808822687402702, Validation Loss: 0.020859775783725436, Training Accuracy: 0.8671875, Validation Accuracy: 0.85875\n",
            "Epoch: 7, Training Loss: 0.00019235830242872055, Validation Loss: 0.02066016832511476, Training Accuracy: 0.859375, Validation Accuracy: 0.8596666666666667\n",
            "Epoch: 8, Training Loss: 0.00020630965922569587, Validation Loss: 0.02046649331033425, Training Accuracy: 0.859375, Validation Accuracy: 0.8613333333333333\n",
            "Epoch: 9, Training Loss: 0.00020187073787119136, Validation Loss: 0.020249612429093476, Training Accuracy: 0.8671875, Validation Accuracy: 0.864\n",
            "Accuracy: 0.8658\n",
            "Activation Function: relu, Initialization: zeros\n",
            "Epoch: 0, Training Loss: 0.0007085069574914216, Validation Loss: 0.09000233162846037, Training Accuracy: 0.078125, Validation Accuracy: 0.09508333333333334\n",
            "Epoch: 1, Training Loss: 0.000708436498904062, Validation Loss: 0.0900033183560174, Training Accuracy: 0.078125, Validation Accuracy: 0.09508333333333334\n",
            "Epoch: 2, Training Loss: 0.0007084084860119186, Validation Loss: 0.09000370809514883, Training Accuracy: 0.078125, Validation Accuracy: 0.09508333333333334\n",
            "Epoch: 3, Training Loss: 0.000708397236990303, Validation Loss: 0.09000385838285611, Training Accuracy: 0.078125, Validation Accuracy: 0.09508333333333334\n",
            "Epoch: 4, Training Loss: 0.0007083927102258597, Validation Loss: 0.09000391583124553, Training Accuracy: 0.078125, Validation Accuracy: 0.09508333333333334\n",
            "Epoch: 5, Training Loss: 0.0007083908897078254, Validation Loss: 0.09000393772159854, Training Accuracy: 0.078125, Validation Accuracy: 0.09508333333333334\n",
            "Epoch: 6, Training Loss: 0.0007083901586246739, Validation Loss: 0.09000394605364023, Training Accuracy: 0.078125, Validation Accuracy: 0.09508333333333334\n",
            "Epoch: 7, Training Loss: 0.0007083898655226784, Validation Loss: 0.09000394922401941, Training Accuracy: 0.078125, Validation Accuracy: 0.09508333333333334\n",
            "Epoch: 8, Training Loss: 0.0007083897482053455, Validation Loss: 0.0900039504303543, Training Accuracy: 0.078125, Validation Accuracy: 0.09508333333333334\n",
            "Epoch: 9, Training Loss: 0.0007083897013199672, Validation Loss: 0.09000395088941653, Training Accuracy: 0.078125, Validation Accuracy: 0.09508333333333334\n",
            "Accuracy: 0.1\n",
            "Activation Function: sigmoid, Initialization: normal_init\n",
            "Epoch: 0, Training Loss: 5.646260267793317e-05, Validation Loss: 0.042389224984585694, Training Accuracy: 0.65625, Validation Accuracy: 0.72575\n",
            "Epoch: 1, Training Loss: 4.717338392803007e-05, Validation Loss: 0.03411824655766684, Training Accuracy: 0.734375, Validation Accuracy: 0.7678333333333334\n",
            "Epoch: 2, Training Loss: 4.978520624843394e-05, Validation Loss: 0.03066582019970331, Training Accuracy: 0.7421875, Validation Accuracy: 0.78975\n",
            "Epoch: 3, Training Loss: 5.90666136673405e-05, Validation Loss: 0.02857920450060758, Training Accuracy: 0.765625, Validation Accuracy: 0.8043333333333333\n",
            "Epoch: 4, Training Loss: 7.697640183973762e-05, Validation Loss: 0.027200983220921036, Training Accuracy: 0.78125, Validation Accuracy: 0.811\n",
            "Epoch: 5, Training Loss: 0.00010143335993922235, Validation Loss: 0.026217965413213497, Training Accuracy: 0.7890625, Validation Accuracy: 0.8179166666666666\n",
            "Epoch: 6, Training Loss: 0.0001292817143201927, Validation Loss: 0.025466168432544956, Training Accuracy: 0.796875, Validation Accuracy: 0.8215\n",
            "Epoch: 7, Training Loss: 0.00015832371600175288, Validation Loss: 0.024860512764279002, Training Accuracy: 0.796875, Validation Accuracy: 0.8264166666666667\n",
            "Epoch: 8, Training Loss: 0.00018761375948902272, Validation Loss: 0.024354835103036657, Training Accuracy: 0.796875, Validation Accuracy: 0.8311666666666667\n",
            "Epoch: 9, Training Loss: 0.0002168943606052333, Validation Loss: 0.023922027124060226, Training Accuracy: 0.8046875, Validation Accuracy: 0.8355\n",
            "Accuracy: 0.8382\n",
            "Activation Function: sigmoid, Initialization: zeros\n",
            "Epoch: 0, Training Loss: 0.0007003142085314074, Validation Loss: 0.09000781063106963, Training Accuracy: 0.125, Validation Accuracy: 0.102\n",
            "Epoch: 1, Training Loss: 0.0007008874338253393, Validation Loss: 0.09000738913963897, Training Accuracy: 0.125, Validation Accuracy: 0.102\n",
            "Epoch: 2, Training Loss: 0.0007018546993674512, Validation Loss: 0.09000474767292928, Training Accuracy: 0.125, Validation Accuracy: 0.102\n",
            "Epoch: 3, Training Loss: 0.0007035913622495697, Validation Loss: 0.08999251763739746, Training Accuracy: 0.125, Validation Accuracy: 0.102\n",
            "Epoch: 4, Training Loss: 0.0007067082014274183, Validation Loss: 0.08993465909850579, Training Accuracy: 0.125, Validation Accuracy: 0.102\n",
            "Epoch: 5, Training Loss: 0.0007105719918972156, Validation Loss: 0.0895970922441028, Training Accuracy: 0.125, Validation Accuracy: 0.102\n",
            "Epoch: 6, Training Loss: 0.0006971460821962841, Validation Loss: 0.08742409578385775, Training Accuracy: 0.1640625, Validation Accuracy: 0.137\n",
            "Epoch: 7, Training Loss: 0.0006734321754461601, Validation Loss: 0.08394939531811133, Training Accuracy: 0.234375, Validation Accuracy: 0.1885\n",
            "Epoch: 8, Training Loss: 0.0006647077325235171, Validation Loss: 0.08214089123511863, Training Accuracy: 0.2578125, Validation Accuracy: 0.21933333333333332\n",
            "Epoch: 9, Training Loss: 0.0006608524738452204, Validation Loss: 0.08101930118483082, Training Accuracy: 0.2734375, Validation Accuracy: 0.24575\n",
            "Accuracy: 0.2489\n"
          ]
        }
      ],
      "source": [
        "for activation_fn, activation_fn_prime in zip(activation_fns, activation_fns_prime):\n",
        "    for initialization in ['normal_init', 'zeros']:\n",
        "        print(f\"Activation Function: {activation_fn.__name__}, Initialization: {initialization}\")\n",
        "        model = NeuralNetwork(784, (28,28), [128], 10, activation_fn, activation_fn_prime, initialization, mse, mse_prime)\n",
        "        model.fit(x_train, y_train, x_val, y_val, epochs=10, learning_rate=0.01, batch_size=128, early_stopping=True, patience=5, verbose=True)\n",
        "        print(f\"Accuracy: {model.score(x_test, y_test)}\")\n",
        "        save_model(model, f\"model_{activation_fn.__name__}_{initialization}.pkl\")"
      ]
    },
    {
      "cell_type": "code",
      "execution_count": 17,
      "metadata": {},
      "outputs": [],
      "source": [
        "# Load Relu Model\n",
        "relu_zero_model = load_model(\"model_relu_zeros.pkl\")\n",
        "relu_normal_model = load_model(\"model_relu_normal_init.pkl\")\n",
        "\n",
        "# Load Sigmoid Model\n",
        "sigmoid_zero_model = load_model(\"model_sigmoid_zeros.pkl\")\n",
        "sigmoid_normal_model = load_model(\"model_sigmoid_normal_init.pkl\")"
      ]
    },
    {
      "cell_type": "code",
      "execution_count": 23,
      "metadata": {},
      "outputs": [
        {
          "data": {
            "image/png": "[encoded data removed]",
            "text/plain": [
              "<Figure size 720x432 with 1 Axes>"
            ]
          },
          "metadata": {
            "needs_background": "light"
          },
          "output_type": "display_data"
        }
      ],
      "source": [
        "# Plot the training loss and validation loss for RELU\n",
        "# fig size\n",
        "plt.figure(figsize=(10, 6))\n",
        "plt.plot(relu_zero_model.train_loss, label='relu_zero_train')\n",
        "plt.plot(relu_zero_model.val_loss, label='relu_zero_val')\n",
        "plt.plot(relu_normal_model.train_loss, label='relu_normal_train')\n",
        "plt.plot(relu_normal_model.val_loss, label='relu_normal_val')\n",
        "plt.legend()\n",
        "plt.show()"
      ]
    },
    {
      "cell_type": "code",
      "execution_count": 24,
      "metadata": {},
      "outputs": [
        {
          "data": {
            "image/png": "[encoded data removed]",
            "text/plain": [
              "<Figure size 720x432 with 1 Axes>"
            ]
          },
          "metadata": {
            "needs_background": "light"
          },
          "output_type": "display_data"
        }
      ],
      "source": [
        "# Plot the training loss and validation loss for Sigmoid\n",
        "# fig size\n",
        "plt.figure(figsize=(10, 6))\n",
        "plt.plot(sigmoid_zero_model.train_loss, label='sigmoid_zero_train')\n",
        "plt.plot(sigmoid_zero_model.val_loss, label='sigmoid_zero_val')\n",
        "plt.plot(sigmoid_normal_model.train_loss, label='sigmoid_normal_train')\n",
        "plt.plot(sigmoid_normal_model.val_loss, label='sigmoid_normal_val')\n",
        "plt.legend()\n",
        "plt.show()"
      ]
    },
    {
      "cell_type": "code",
      "execution_count": 25,
      "metadata": {},
      "outputs": [
        {
          "data": {
            "image/png": "[encoded data removed]",
            "text/plain": [
              "<Figure size 720x432 with 1 Axes>"
            ]
          },
          "metadata": {
            "needs_background": "light"
          },
          "output_type": "display_data"
        }
      ],
      "source": [
        "# Plot the training accuracy and validation accuracy for RELU\n",
        "# fig size\n",
        "plt.figure(figsize=(10, 6))\n",
        "plt.plot(relu_zero_model.train_acc, label='relu_zero_train')\n",
        "plt.plot(relu_zero_model.val_acc, label='relu_zero_val')\n",
        "plt.plot(relu_normal_model.train_acc, label='relu_normal_train')\n",
        "plt.plot(relu_normal_model.val_acc, label='relu_normal_val')\n",
        "plt.legend()\n",
        "plt.show()"
      ]
    },
    {
      "cell_type": "code",
      "execution_count": 26,
      "metadata": {},
      "outputs": [
        {
          "data": {
            "image/png": "[encoded data removed]",
            "text/plain": [
              "<Figure size 720x432 with 1 Axes>"
            ]
          },
          "metadata": {
            "needs_background": "light"
          },
          "output_type": "display_data"
        }
      ],
      "source": [
        "# Plot the training accuracy and validation accuracy for Sigmoid\n",
        "# fig size\n",
        "plt.figure(figsize=(10, 6))\n",
        "plt.plot(sigmoid_zero_model.train_acc, label='sigmoid_zero_train')\n",
        "plt.plot(sigmoid_zero_model.val_acc, label='sigmoid_zero_val')\n",
        "plt.plot(sigmoid_normal_model.train_acc, label='sigmoid_normal_train')\n",
        "plt.plot(sigmoid_normal_model.val_acc, label='sigmoid_normal_val')\n",
        "plt.legend()\n",
        "plt.show()"
      ]
    },
    {
      "cell_type": "code",
      "execution_count": null,
      "metadata": {},
      "outputs": [],
      "source": []
    }
  ],
  "metadata": {
    "colab": {
      "collapsed_sections": [],
      "provenance": []
    },
    "kernelspec": {
      "display_name": "Python 3.9.13 64-bit (microsoft store)",
      "language": "python",
      "name": "python3"
    },
    "language_info": {
      "codemirror_mode": {
        "name": "ipython",
        "version": 3
      },
      "file_extension": ".py",
      "mimetype": "text/x-python",
      "name": "python",
      "nbconvert_exporter": "python",
      "pygments_lexer": "ipython3",
      "version": "3.9.13"
    },
    "vscode": {
      "interpreter": {
        "hash": "a5a87ee616be0254e3f1af9223138e3faeac65b2c9d91bc22a9fc5a4a8bd8eb0"
      }
    }
  },
  "nbformat": 4,
  "nbformat_minor": 0
}
