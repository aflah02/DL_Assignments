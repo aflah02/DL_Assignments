{
  "cells": [
    {
      "cell_type": "code",
      "execution_count": 1,
      "metadata": {
        "id": "npFemIWusYQi"
      },
      "outputs": [],
      "source": [
        "import numpy as np\n",
        "from dataset import BooleanDataset"
      ]
    },
    {
      "cell_type": "code",
      "execution_count": 41,
      "metadata": {},
      "outputs": [],
      "source": [
        "class PTA():\n",
        "    def __init__(self, epochs, task = \"OR\"):\n",
        "        self.task = task\n",
        "        self.seen_params = []\n",
        "        self.epochs = epochs\n",
        "\n",
        "    def _init_params(self):\n",
        "        self.bias = 1\n",
        "        self.w0 = self.bias\n",
        "        self.w1 = 0\n",
        "        if self.task != \"NOT\":\n",
        "            self.w2 = 0\n",
        "\n",
        "    def _update_params(self, X, y, y_preds):\n",
        "        for i in range(len(y)):\n",
        "            if y[i] != y_preds[i]:\n",
        "                error = y[i] - y_preds[i]\n",
        "                self.w0 += error * X[i][0]\n",
        "                self.w1 += error * X[i][1]\n",
        "                if self.task != \"NOT\":\n",
        "                    self.w2 += error * X[i][2]\n",
        "\n",
        "    def fit(self, X, y):\n",
        "        X = np.array(X)\n",
        "        y = np.array(y)\n",
        "\n",
        "        n = X.shape[0]\n",
        "        self._init_params()\n",
        "        converged = False\n",
        "        i = 1\n",
        "        while i<self.epochs and not converged:\n",
        "            y_preds = self.predict(X)\n",
        "            converged = (n == (y_preds==y).sum())\n",
        "            self._update_params(X, y, y_preds)\n",
        "            w0, w1 = self.w0, self.w1\n",
        "\n",
        "            if self.task != \"NOT\":\n",
        "                w2 = self.w2\n",
        "                print(\"Iteration \", i, \" -> w0: \", w0, \"| w1: \", w1, \"| w2: \", w2, \" | Accuracy: \", 100*(y_preds==y).sum()/n)\n",
        "            else:\n",
        "                print(\"Iteration \", i, \" -> w0: \", w0, \"| w1: \", w1, \" | Accuracy: \", 100*(y_preds==y).sum()/n)\n",
        "\n",
        "            if converged:\n",
        "                print(\"Convergence reached. Hyperplane distributing the two classes has been found.\")\n",
        "                break\n",
        "            if self.task != \"NOT\":\n",
        "                self.seen_params.append([w0, w1, w2])\n",
        "            else:\n",
        "                self.seen_params.append([w0, w1])\n",
        "            i+=1\n",
        "        if not converged:\n",
        "            print(f\"Convergence not reached after {self.epochs} epochs. Consider using a larger number of epochs or a linearly separable dataset.\")\n",
        "\n",
        "    def predict(self, X):\n",
        "        if self.task != \"NOT\":\n",
        "            w = np.array([self.w0, self.w1, self.w2])\n",
        "        else:\n",
        "            w = np.array([self.w0, self.w1])\n",
        "        y_preds = []\n",
        "        for each in X:\n",
        "            activation = np.sum(np.matmul(w.T, each))\n",
        "            if activation>=0:\n",
        "                y_preds.append(1)\n",
        "            else:\n",
        "                y_preds.append(-1)\n",
        "        y_preds = np.array(y_preds)\n",
        "\n",
        "        return y_preds\n",
        "    \n",
        "    def get_params(self):\n",
        "        return self.seen_params[-1]"
      ]
    },
    {
      "cell_type": "code",
      "execution_count": 42,
      "metadata": {},
      "outputs": [],
      "source": [
        "def save_model(model, filename):\n",
        "    import pickle\n",
        "    with open(f\"Model_Saves/{filename}\", 'wb') as f:\n",
        "        pickle.dump(model, f)\n",
        "\n",
        "def load_model(filename):\n",
        "    import pickle\n",
        "    with open(f\"Model_Saves/{filename}\", 'rb') as f:\n",
        "        return pickle.load(f)"
      ]
    },
    {
      "attachments": {},
      "cell_type": "markdown",
      "metadata": {},
      "source": [
        "### AND"
      ]
    },
    {
      "cell_type": "code",
      "execution_count": 43,
      "metadata": {},
      "outputs": [],
      "source": [
        "and_dataset = BooleanDataset(\"AND\")\n",
        "and_dataset.generate_data()"
      ]
    },
    {
      "cell_type": "code",
      "execution_count": 44,
      "metadata": {},
      "outputs": [],
      "source": [
        "X, y = and_dataset.data, and_dataset.labels"
      ]
    },
    {
      "cell_type": "code",
      "execution_count": 45,
      "metadata": {},
      "outputs": [
        {
          "data": {
            "text/plain": [
              "([[1, 0, 0], [1, 0, 1], [1, 1, 0], [1, 1, 1]], [-1, -1, -1, 1])"
            ]
          },
          "execution_count": 45,
          "metadata": {},
          "output_type": "execute_result"
        }
      ],
      "source": [
        "X, y"
      ]
    },
    {
      "cell_type": "code",
      "execution_count": 46,
      "metadata": {},
      "outputs": [],
      "source": [
        "and_pta = PTA(epochs=10)"
      ]
    },
    {
      "cell_type": "code",
      "execution_count": 47,
      "metadata": {},
      "outputs": [
        {
          "name": "stdout",
          "output_type": "stream",
          "text": [
            "Iteration  1  -> w0:  -5 | w1:  -2 | w2:  -2  | Accuracy:  25.0\n",
            "Iteration  2  -> w0:  -3 | w1:  0 | w2:  0  | Accuracy:  75.0\n",
            "Iteration  3  -> w0:  -1 | w1:  2 | w2:  2  | Accuracy:  75.0\n",
            "Iteration  4  -> w0:  -5 | w1:  0 | w2:  0  | Accuracy:  50.0\n",
            "Iteration  5  -> w0:  -3 | w1:  2 | w2:  2  | Accuracy:  75.0\n",
            "Iteration  6  -> w0:  -3 | w1:  2 | w2:  2  | Accuracy:  100.0\n",
            "Convergence reached. Hyperplane distributing the two classes has been found.\n"
          ]
        }
      ],
      "source": [
        "and_pta.fit(X, y)"
      ]
    },
    {
      "cell_type": "code",
      "execution_count": 49,
      "metadata": {},
      "outputs": [],
      "source": [
        "save_model(and_pta, \"and_pta.pickle\")"
      ]
    },
    {
      "attachments": {},
      "cell_type": "markdown",
      "metadata": {},
      "source": [
        "### OR"
      ]
    },
    {
      "cell_type": "code",
      "execution_count": 50,
      "metadata": {},
      "outputs": [],
      "source": [
        "or_dataset = BooleanDataset(\"OR\")\n",
        "or_dataset.generate_data()"
      ]
    },
    {
      "cell_type": "code",
      "execution_count": 51,
      "metadata": {},
      "outputs": [],
      "source": [
        "X, y = or_dataset.data, or_dataset.labels"
      ]
    },
    {
      "cell_type": "code",
      "execution_count": 52,
      "metadata": {},
      "outputs": [
        {
          "data": {
            "text/plain": [
              "([[1, 0, 0], [1, 0, 1], [1, 1, 0], [1, 1, 1]], [-1, 1, 1, 1])"
            ]
          },
          "execution_count": 52,
          "metadata": {},
          "output_type": "execute_result"
        }
      ],
      "source": [
        "X, y"
      ]
    },
    {
      "cell_type": "code",
      "execution_count": 53,
      "metadata": {},
      "outputs": [],
      "source": [
        "or_pta = PTA(epochs=10)"
      ]
    },
    {
      "cell_type": "code",
      "execution_count": 54,
      "metadata": {},
      "outputs": [
        {
          "name": "stdout",
          "output_type": "stream",
          "text": [
            "Iteration  1  -> w0:  -1 | w1:  0 | w2:  0  | Accuracy:  75.0\n",
            "Iteration  2  -> w0:  5 | w1:  4 | w2:  4  | Accuracy:  25.0\n",
            "Iteration  3  -> w0:  3 | w1:  4 | w2:  4  | Accuracy:  75.0\n",
            "Iteration  4  -> w0:  1 | w1:  4 | w2:  4  | Accuracy:  75.0\n",
            "Iteration  5  -> w0:  -1 | w1:  4 | w2:  4  | Accuracy:  75.0\n",
            "Iteration  6  -> w0:  -1 | w1:  4 | w2:  4  | Accuracy:  100.0\n",
            "Convergence reached. Hyperplane distributing the two classes has been found.\n"
          ]
        }
      ],
      "source": [
        "or_pta.fit(X, y)"
      ]
    },
    {
      "cell_type": "code",
      "execution_count": 56,
      "metadata": {},
      "outputs": [],
      "source": [
        "save_model(or_pta, \"or_pta.pickle\")"
      ]
    },
    {
      "attachments": {},
      "cell_type": "markdown",
      "metadata": {},
      "source": [
        "### NOT"
      ]
    },
    {
      "cell_type": "code",
      "execution_count": 57,
      "metadata": {},
      "outputs": [],
      "source": [
        "not_dataset = BooleanDataset(\"NOT\")\n",
        "not_dataset.generate_data()"
      ]
    },
    {
      "cell_type": "code",
      "execution_count": 58,
      "metadata": {},
      "outputs": [],
      "source": [
        "X, y = not_dataset.data, not_dataset.labels"
      ]
    },
    {
      "cell_type": "code",
      "execution_count": 59,
      "metadata": {},
      "outputs": [
        {
          "data": {
            "text/plain": [
              "([[1, 0], [1, 1]], [-1, -1])"
            ]
          },
          "execution_count": 59,
          "metadata": {},
          "output_type": "execute_result"
        }
      ],
      "source": [
        "X, y"
      ]
    },
    {
      "cell_type": "code",
      "execution_count": 60,
      "metadata": {},
      "outputs": [],
      "source": [
        "not_pta = PTA(epochs=10, task=\"NOT\")"
      ]
    },
    {
      "cell_type": "code",
      "execution_count": 61,
      "metadata": {},
      "outputs": [
        {
          "name": "stdout",
          "output_type": "stream",
          "text": [
            "Iteration  1  -> w0:  -3 | w1:  -2  | Accuracy:  0.0\n",
            "Iteration  2  -> w0:  -3 | w1:  -2  | Accuracy:  100.0\n",
            "Convergence reached. Hyperplane distributing the two classes has been found.\n"
          ]
        }
      ],
      "source": [
        "not_pta.fit(X, y)"
      ]
    },
    {
      "cell_type": "code",
      "execution_count": 62,
      "metadata": {},
      "outputs": [],
      "source": [
        "save_model(not_pta, \"not_pta.pickle\")"
      ]
    },
    {
      "cell_type": "code",
      "execution_count": null,
      "metadata": {},
      "outputs": [],
      "source": []
    }
  ],
  "metadata": {
    "colab": {
      "collapsed_sections": [],
      "provenance": []
    },
    "kernelspec": {
      "display_name": "venv",
      "language": "python",
      "name": "python3"
    },
    "language_info": {
      "codemirror_mode": {
        "name": "ipython",
        "version": 3
      },
      "file_extension": ".py",
      "mimetype": "text/x-python",
      "name": "python",
      "nbconvert_exporter": "python",
      "pygments_lexer": "ipython3",
      "version": "3.9.13"
    },
    "vscode": {
      "interpreter": {
        "hash": "1435159faabbfcdd33cf83dc567c1d211fe225ddf73474cfc1764b5624de2354"
      }
    }
  },
  "nbformat": 4,
  "nbformat_minor": 0
}
