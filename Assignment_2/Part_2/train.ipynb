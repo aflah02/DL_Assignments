{
 "cells": [
  {
   "cell_type": "code",
   "execution_count": 20,
   "metadata": {},
   "outputs": [],
   "source": [
    "from cnn import *\n",
    "\n",
    "import torch, random, os\n",
    "import torch.nn as nn\n",
    "import torch.nn.functional as F\n",
    "import torchvision\n",
    "import torchvision.transforms as transforms\n",
    "from torch.utils.data.dataset import Dataset\n",
    "from torch.utils.data import DataLoader\n",
    "import numpy as np\n",
    "\n",
    "from sklearn.model_selection import train_test_split\n",
    "from sklearn.metrics import accuracy_score\n",
    "\n",
    "import matplotlib.pyplot as plt"
   ]
  },
  {
   "cell_type": "code",
   "execution_count": 21,
   "metadata": {},
   "outputs": [],
   "source": [
    "def set_random_seed(seed: int):\n",
    "    \"\"\"\n",
    "    Helper function to seed experiment for reproducibility.\n",
    "    If -1 is provided as seed, experiment uses random seed from 0~9999\n",
    "    Args:\n",
    "        seed (int): integer to be used as seed, use -1 to randomly seed experiment\n",
    "    \"\"\"\n",
    "    print(\"Seed: {}\".format(seed))\n",
    "\n",
    "    torch.backends.cudnn.benchmark = False\n",
    "    torch.backends.cudnn.enabled = False\n",
    "    torch.backends.cudnn.deterministic = True\n",
    "\n",
    "    random.seed(seed)\n",
    "    os.environ[\"PYTHONHASHSEED\"] = str(seed)\n",
    "    np.random.seed(seed)\n",
    "    torch.manual_seed(seed)\n",
    "    torch.cuda.manual_seed(seed)\n",
    "    torch.cuda.manual_seed_all(seed)"
   ]
  },
  {
   "cell_type": "code",
   "execution_count": 22,
   "metadata": {},
   "outputs": [],
   "source": [
    "BATCH_SIZE = 128\n",
    "NUM_EPOCHS = 25\n",
    "LEARNING_RATE = 0.0001\n",
    "SEED = 2809\n",
    "SAVE_STATE_PATH = \"Model_Saves/cnn.pt\""
   ]
  },
  {
   "cell_type": "code",
   "execution_count": 23,
   "metadata": {},
   "outputs": [
    {
     "name": "stdout",
     "output_type": "stream",
     "text": [
      "Seed: 2809\n"
     ]
    }
   ],
   "source": [
    "set_random_seed(SEED)"
   ]
  },
  {
   "cell_type": "code",
   "execution_count": 24,
   "metadata": {},
   "outputs": [],
   "source": [
    "train_set = torchvision.datasets.MNIST(\n",
    "    root='data/',\n",
    "    train=True,\n",
    "    download=True,\n",
    "    transform=transforms.Compose([\n",
    "        transforms.ToTensor()\n",
    "    ])\n",
    ")\n",
    "\n",
    "test_set = torchvision.datasets.MNIST(\n",
    "    root='data/',\n",
    "    train=False,\n",
    "    download=True,\n",
    "    transform=transforms.Compose([\n",
    "        transforms.ToTensor()\n",
    "    ])\n",
    ")\n",
    "\n",
    "data_loader = torch.utils.data.DataLoader(train_set, batch_size=BATCH_SIZE)\n",
    "test_dataloader = torch.utils.data.DataLoader(test_set, batch_size=BATCH_SIZE)"
   ]
  },
  {
   "cell_type": "code",
   "execution_count": 25,
   "metadata": {},
   "outputs": [],
   "source": [
    "train_idx, val_idx = train_test_split(range(data_loader.dataset.targets.shape[0]), test_size=0.2, stratify=data_loader.dataset.targets, random_state=SEED)"
   ]
  },
  {
   "cell_type": "code",
   "execution_count": 26,
   "metadata": {},
   "outputs": [],
   "source": [
    "train_dataloader = DataLoader(data_loader.dataset, batch_size=128, sampler=train_idx)\n",
    "val_dataloader = DataLoader(data_loader.dataset, batch_size=128, sampler=val_idx)"
   ]
  },
  {
   "cell_type": "code",
   "execution_count": 27,
   "metadata": {},
   "outputs": [
    {
     "data": {
      "image/png": "[encoded data removed]",
      "text/plain": [
       "<Figure size 1000x300 with 5 Axes>"
      ]
     },
     "metadata": {},
     "output_type": "display_data"
    }
   ],
   "source": [
    "for i in train_dataloader:\n",
    "    visualize_data(i)\n",
    "    break"
   ]
  },
  {
   "cell_type": "code",
   "execution_count": 28,
   "metadata": {},
   "outputs": [
    {
     "name": "stderr",
     "output_type": "stream",
     "text": [
      "c:\\Kyode\\clg\\DL_Assignments\\venv\\lib\\site-packages\\torch\\nn\\modules\\lazy.py:180: UserWarning: Lazy modules are a new feature under heavy development so changes to the API or functionality can happen at any moment.\n",
      "  warnings.warn('Lazy modules are a new feature under heavy development '\n"
     ]
    },
    {
     "data": {
      "text/plain": [
       "CNN(\n",
       "  (conv1): LazyConv2d(0, 10, kernel_size=(5, 5), stride=(1, 1), padding=(2, 2))\n",
       "  (conv2): LazyConv2d(0, 20, kernel_size=(2, 2), stride=(1, 1))\n",
       "  (fc1): LazyLinear(in_features=0, out_features=50, bias=True)\n",
       "  (out): LazyLinear(in_features=0, out_features=10, bias=True)\n",
       ")"
      ]
     },
     "execution_count": 28,
     "metadata": {},
     "output_type": "execute_result"
    }
   ],
   "source": [
    "model = CNN()\n",
    "device = torch.device(\"cuda\" if torch.cuda.is_available() else \"cpu\")\n",
    "\n",
    "model.to(device)"
   ]
  },
  {
   "cell_type": "code",
   "execution_count": 29,
   "metadata": {},
   "outputs": [],
   "source": [
    "train_samples, val_samples = 0, 0\n",
    "\n",
    "for i in train_dataloader:\n",
    "    train_samples += i[-1].shape[0]\n",
    "\n",
    "for i in val_dataloader:\n",
    "    val_samples += i[-1].shape[0]"
   ]
  },
  {
   "cell_type": "code",
   "execution_count": 30,
   "metadata": {},
   "outputs": [
    {
     "name": "stdout",
     "output_type": "stream",
     "text": [
      "training...\n",
      "\n",
      "------ Evaluating on Validation Set ------\n",
      "\n",
      "Epoch: 1 of 25, Training Loss: 0.0154, Training Accuracy: 59.4583\n",
      "\t\tValidation Loss: 0.0134, Validation Accuracy: 79.2833\n",
      "\n",
      "------ Evaluating on Validation Set ------\n",
      "\n",
      "Epoch: 2 of 25, Training Loss: 0.0131, Training Accuracy: 81.2646\n",
      "\t\tValidation Loss: 0.0130, Validation Accuracy: 82.1417\n",
      "\n",
      "------ Evaluating on Validation Set ------\n",
      "\n",
      "Epoch: 3 of 25, Training Loss: 0.0128, Training Accuracy: 82.9458\n",
      "\t\tValidation Loss: 0.0128, Validation Accuracy: 83.0750\n",
      "\n",
      "------ Evaluating on Validation Set ------\n",
      "\n",
      "Epoch: 4 of 25, Training Loss: 0.0127, Training Accuracy: 83.7646\n",
      "\t\tValidation Loss: 0.0128, Validation Accuracy: 83.7583\n",
      "\n",
      "------ Evaluating on Validation Set ------\n",
      "\n",
      "Epoch: 5 of 25, Training Loss: 0.0127, Training Accuracy: 84.4479\n",
      "\t\tValidation Loss: 0.0127, Validation Accuracy: 84.4750\n",
      "\n",
      "------ Evaluating on Validation Set ------\n",
      "\n",
      "Epoch: 6 of 25, Training Loss: 0.0126, Training Accuracy: 84.9854\n",
      "\t\tValidation Loss: 0.0127, Validation Accuracy: 85.1000\n",
      "\n",
      "------ Evaluating on Validation Set ------\n",
      "\n",
      "Epoch: 7 of 25, Training Loss: 0.0122, Training Accuracy: 90.5604\n",
      "\t\tValidation Loss: 0.0121, Validation Accuracy: 93.2833\n",
      "\n",
      "------ Evaluating on Validation Set ------\n",
      "\n",
      "Epoch: 8 of 25, Training Loss: 0.0120, Training Accuracy: 93.8333\n",
      "\t\tValidation Loss: 0.0120, Validation Accuracy: 94.0250\n",
      "\n",
      "------ Evaluating on Validation Set ------\n",
      "\n",
      "Epoch: 9 of 25, Training Loss: 0.0119, Training Accuracy: 94.5458\n",
      "\t\tValidation Loss: 0.0119, Validation Accuracy: 94.4583\n",
      "\n",
      "------ Evaluating on Validation Set ------\n",
      "\n",
      "Epoch: 10 of 25, Training Loss: 0.0119, Training Accuracy: 94.9854\n",
      "\t\tValidation Loss: 0.0119, Validation Accuracy: 94.8333\n",
      "\n",
      "------ Evaluating on Validation Set ------\n",
      "\n",
      "Epoch: 11 of 25, Training Loss: 0.0118, Training Accuracy: 95.4062\n",
      "\t\tValidation Loss: 0.0119, Validation Accuracy: 95.1417\n",
      "\n",
      "------ Evaluating on Validation Set ------\n",
      "\n",
      "Epoch: 12 of 25, Training Loss: 0.0118, Training Accuracy: 95.7708\n",
      "\t\tValidation Loss: 0.0118, Validation Accuracy: 95.4583\n",
      "\n",
      "------ Evaluating on Validation Set ------\n",
      "\n",
      "Epoch: 13 of 25, Training Loss: 0.0118, Training Accuracy: 96.0458\n",
      "\t\tValidation Loss: 0.0118, Validation Accuracy: 95.6417\n",
      "\n",
      "------ Evaluating on Validation Set ------\n",
      "\n",
      "Epoch: 14 of 25, Training Loss: 0.0117, Training Accuracy: 96.2667\n",
      "\t\tValidation Loss: 0.0118, Validation Accuracy: 95.7167\n",
      "\n",
      "------ Evaluating on Validation Set ------\n",
      "\n",
      "Epoch: 15 of 25, Training Loss: 0.0117, Training Accuracy: 96.4417\n",
      "\t\tValidation Loss: 0.0118, Validation Accuracy: 95.8500\n",
      "\n",
      "------ Evaluating on Validation Set ------\n",
      "\n",
      "Epoch: 16 of 25, Training Loss: 0.0117, Training Accuracy: 96.6000\n",
      "\t\tValidation Loss: 0.0118, Validation Accuracy: 96.0667\n",
      "\n",
      "------ Evaluating on Validation Set ------\n",
      "\n",
      "Epoch: 17 of 25, Training Loss: 0.0117, Training Accuracy: 96.7854\n",
      "\t\tValidation Loss: 0.0118, Validation Accuracy: 96.2333\n",
      "\n",
      "------ Evaluating on Validation Set ------\n",
      "\n",
      "Epoch: 18 of 25, Training Loss: 0.0117, Training Accuracy: 96.8792\n",
      "\t\tValidation Loss: 0.0118, Validation Accuracy: 96.3167\n",
      "\n",
      "------ Evaluating on Validation Set ------\n",
      "\n",
      "Epoch: 19 of 25, Training Loss: 0.0117, Training Accuracy: 97.0312\n",
      "\t\tValidation Loss: 0.0117, Validation Accuracy: 96.3750\n",
      "\n",
      "------ Evaluating on Validation Set ------\n",
      "\n",
      "Epoch: 20 of 25, Training Loss: 0.0117, Training Accuracy: 97.1458\n",
      "\t\tValidation Loss: 0.0117, Validation Accuracy: 96.4917\n",
      "\n",
      "------ Evaluating on Validation Set ------\n",
      "\n",
      "Epoch: 21 of 25, Training Loss: 0.0117, Training Accuracy: 97.2354\n",
      "\t\tValidation Loss: 0.0117, Validation Accuracy: 96.6583\n",
      "\n",
      "------ Evaluating on Validation Set ------\n",
      "\n",
      "Epoch: 22 of 25, Training Loss: 0.0116, Training Accuracy: 97.3667\n",
      "\t\tValidation Loss: 0.0117, Validation Accuracy: 96.7083\n",
      "\n",
      "------ Evaluating on Validation Set ------\n",
      "\n",
      "Epoch: 23 of 25, Training Loss: 0.0116, Training Accuracy: 97.4417\n",
      "\t\tValidation Loss: 0.0117, Validation Accuracy: 96.7667\n",
      "\n",
      "------ Evaluating on Validation Set ------\n",
      "\n",
      "Epoch: 24 of 25, Training Loss: 0.0116, Training Accuracy: 97.5000\n",
      "\t\tValidation Loss: 0.0117, Validation Accuracy: 96.8167\n",
      "\n",
      "------ Evaluating on Validation Set ------\n",
      "\n",
      "Epoch: 25 of 25, Training Loss: 0.0116, Training Accuracy: 97.5812\n",
      "\t\tValidation Loss: 0.0117, Validation Accuracy: 96.8250\n"
     ]
    }
   ],
   "source": [
    "optimizer = torch.optim.Adam(model.parameters(), lr=LEARNING_RATE)\n",
    "criterion = nn.CrossEntropyLoss()\n",
    "\n",
    "print(\"training...\")\n",
    "\n",
    "train_loss = []\n",
    "val_loss = []\n",
    "train_accuracy = []\n",
    "val_accuracy = []\n",
    "\n",
    "for epoch in range(NUM_EPOCHS):\n",
    "    t_loss = 0\n",
    "    v_loss = 0\n",
    "    train_total_correct = 0\n",
    "    val_total_correct = 0\n",
    "\n",
    "    for batch in train_dataloader:\n",
    "        X, labels = batch\n",
    "\n",
    "        X = X.cuda()\n",
    "        labels = labels.cuda()\n",
    "\n",
    "        preds = model(X)\n",
    "        loss = criterion(preds, labels)\n",
    "        optimizer.zero_grad()\n",
    "        loss.backward()\n",
    "        optimizer.step()\n",
    "\n",
    "        t_loss += loss.item()\n",
    "        train_total_correct += get_num_correct(preds, labels)\n",
    "    \n",
    "    print(\"\\n------ Evaluating on Validation Set ------\\n\")\n",
    "    with torch.no_grad():\n",
    "        for batch in val_dataloader:\n",
    "            X, labels = batch\n",
    "\n",
    "            X = X.cuda()\n",
    "            labels = labels.cuda()\n",
    "\n",
    "            preds = model(X)\n",
    "            loss = criterion(preds, labels)\n",
    "\n",
    "            v_loss += loss.item()\n",
    "            val_total_correct += get_num_correct(preds, labels)\n",
    "    \n",
    "    train_loss.append(t_loss / train_samples)\n",
    "    val_loss.append(v_loss / val_samples)\n",
    "\n",
    "    train_accuracy.append(100*train_total_correct / train_samples)\n",
    "    val_accuracy.append(100*val_total_correct / val_samples)\n",
    "\n",
    "    print('Epoch: {} of {}, Training Loss: {:.4f}, Training Accuracy: {:.4f}'.format(epoch+1, NUM_EPOCHS, train_loss[-1], train_accuracy[-1]))\n",
    "    print('\\t\\tValidation Loss: {:.4f}, Validation Accuracy: {:.4f}'.format(val_loss[-1], val_accuracy[-1]))"
   ]
  },
  {
   "cell_type": "code",
   "execution_count": 31,
   "metadata": {},
   "outputs": [
    {
     "name": "stdout",
     "output_type": "stream",
     "text": [
      "\n",
      "------ Inference on Test Set ------\n",
      "\n",
      "Test Loss: 0.0118, Test Accuracy: 97.3600\n"
     ]
    }
   ],
   "source": [
    "print(\"\\n------ Inference on Test Set ------\\n\")\n",
    "test_loss = 0\n",
    "test_total_correct = 0\n",
    "with torch.no_grad():\n",
    "    for batch in test_dataloader:\n",
    "        X, labels = batch\n",
    "\n",
    "        X = X.cuda()\n",
    "        labels = labels.cuda()\n",
    "\n",
    "        preds = model(X)\n",
    "        loss = criterion(preds, labels)\n",
    "\n",
    "        test_loss += loss.item()\n",
    "        test_total_correct += get_num_correct(preds, labels)\n",
    "\n",
    "print('Test Loss: {:.4f}, Test Accuracy: {:.4f}'.format(test_loss / len(test_dataloader.dataset), 100*test_total_correct / len(test_dataloader.dataset)))"
   ]
  },
  {
   "cell_type": "code",
   "execution_count": 32,
   "metadata": {},
   "outputs": [
    {
     "data": {
      "text/plain": [
       "97.36"
      ]
     },
     "execution_count": 32,
     "metadata": {},
     "output_type": "execute_result"
    }
   ],
   "source": [
    "100*test_total_correct / len(test_dataloader.dataset)"
   ]
  },
  {
   "cell_type": "code",
   "execution_count": 33,
   "metadata": {},
   "outputs": [
    {
     "data": {
      "image/png": "[encoded data removed]",
      "text/plain": [
       "<Figure size 640x480 with 1 Axes>"
      ]
     },
     "metadata": {},
     "output_type": "display_data"
    }
   ],
   "source": [
    "plt.plot(train_loss, label='Training Loss')\n",
    "plt.plot(val_loss, label='Validation Loss')\n",
    "plt.legend()\n",
    "plt.show()"
   ]
  },
  {
   "cell_type": "code",
   "execution_count": 34,
   "metadata": {},
   "outputs": [
    {
     "data": {
      "image/png": "[encoded data removed]",
      "text/plain": [
       "<Figure size 640x480 with 1 Axes>"
      ]
     },
     "metadata": {},
     "output_type": "display_data"
    }
   ],
   "source": [
    "plt.plot(train_accuracy, label='Training Accuracy')\n",
    "plt.plot(val_accuracy, label='Validation Accuracy')\n",
    "plt.legend()\n",
    "plt.show()"
   ]
  },
  {
   "cell_type": "code",
   "execution_count": 35,
   "metadata": {},
   "outputs": [],
   "source": [
    "torch.save(model.state_dict(), SAVE_STATE_PATH)"
   ]
  },
  {
   "attachments": {},
   "cell_type": "markdown",
   "metadata": {},
   "source": [
    "#### Loading Saved Model"
   ]
  },
  {
   "cell_type": "code",
   "execution_count": 36,
   "metadata": {},
   "outputs": [
    {
     "data": {
      "text/plain": [
       "<All keys matched successfully>"
      ]
     },
     "execution_count": 36,
     "metadata": {},
     "output_type": "execute_result"
    }
   ],
   "source": [
    "model = CNN()\n",
    "model.load_state_dict(torch.load(SAVE_STATE_PATH))"
   ]
  },
  {
   "cell_type": "code",
   "execution_count": 37,
   "metadata": {},
   "outputs": [
    {
     "data": {
      "text/plain": [
       "CNN(\n",
       "  (conv1): LazyConv2d(0, 10, kernel_size=(5, 5), stride=(1, 1), padding=(2, 2))\n",
       "  (conv2): LazyConv2d(0, 20, kernel_size=(2, 2), stride=(1, 1))\n",
       "  (fc1): LazyLinear(in_features=0, out_features=50, bias=True)\n",
       "  (out): LazyLinear(in_features=0, out_features=10, bias=True)\n",
       ")"
      ]
     },
     "execution_count": 37,
     "metadata": {},
     "output_type": "execute_result"
    }
   ],
   "source": [
    "model.to(device)"
   ]
  },
  {
   "cell_type": "code",
   "execution_count": null,
   "metadata": {},
   "outputs": [],
   "source": []
  }
 ],
 "metadata": {
  "kernelspec": {
   "display_name": "venv",
   "language": "python",
   "name": "python3"
  },
  "language_info": {
   "codemirror_mode": {
    "name": "ipython",
    "version": 3
   },
   "file_extension": ".py",
   "mimetype": "text/x-python",
   "name": "python",
   "nbconvert_exporter": "python",
   "pygments_lexer": "ipython3",
   "version": "3.10.2"
  },
  "orig_nbformat": 4,
  "vscode": {
   "interpreter": {
    "hash": "643eb6d4822e87f68785c8c5dcba52a2b2ade474fb26209b51ecd8a6a42496e5"
   }
  }
 },
 "nbformat": 4,
 "nbformat_minor": 2
}
