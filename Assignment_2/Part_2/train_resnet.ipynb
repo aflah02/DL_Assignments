{
 "cells": [
  {
   "cell_type": "code",
   "execution_count": 1,
   "metadata": {},
   "outputs": [],
   "source": [
    "from resnet import *\n",
    "\n",
    "import torch\n",
    "import torch.nn as nn\n",
    "import torch.nn.functional as F\n",
    "import torchvision\n",
    "import torchvision.transforms as transforms\n",
    "from torch.utils.data.dataset import Dataset\n",
    "from torch.utils.data import DataLoader\n",
    "\n",
    "from sklearn.model_selection import train_test_split\n",
    "from sklearn.metrics import accuracy_score\n",
    "\n",
    "import matplotlib.pyplot as plt"
   ]
  },
  {
   "cell_type": "code",
   "execution_count": 14,
   "metadata": {},
   "outputs": [],
   "source": [
    "BATCH_SIZE = 128\n",
    "NUM_EPOCHS = 10\n",
    "LEARNING_RATE = 0.0001\n",
    "SEED = 2809\n",
    "SAVE_STATE_PATH = \"Model_Saves/residual_network.pt\""
   ]
  },
  {
   "cell_type": "code",
   "execution_count": 3,
   "metadata": {},
   "outputs": [
    {
     "data": {
      "text/plain": [
       "<torch._C.Generator at 0x21bb1bc3230>"
      ]
     },
     "execution_count": 3,
     "metadata": {},
     "output_type": "execute_result"
    }
   ],
   "source": [
    "torch.manual_seed(SEED)"
   ]
  },
  {
   "cell_type": "code",
   "execution_count": 4,
   "metadata": {},
   "outputs": [],
   "source": [
    "train_set = torchvision.datasets.MNIST(\n",
    "    root='data/',\n",
    "    train=True,\n",
    "    download=True,\n",
    "    transform=transforms.Compose([\n",
    "        transforms.ToTensor()\n",
    "    ])\n",
    ")\n",
    "\n",
    "test_set = torchvision.datasets.MNIST(\n",
    "    root='data/',\n",
    "    train=False,\n",
    "    download=True,\n",
    "    transform=transforms.Compose([\n",
    "        transforms.ToTensor()\n",
    "    ])\n",
    ")\n",
    "\n",
    "data_loader = torch.utils.data.DataLoader(train_set, batch_size=128)\n",
    "test_dataloader = torch.utils.data.DataLoader(test_set, batch_size=128)"
   ]
  },
  {
   "cell_type": "code",
   "execution_count": 5,
   "metadata": {},
   "outputs": [],
   "source": [
    "train_idx, val_idx = train_test_split(range(data_loader.dataset.targets.shape[0]), test_size=0.2, stratify=data_loader.dataset.targets, random_state=SEED)"
   ]
  },
  {
   "cell_type": "code",
   "execution_count": 6,
   "metadata": {},
   "outputs": [],
   "source": [
    "train_dataloader = DataLoader(data_loader.dataset, batch_size=128, sampler=train_idx)\n",
    "val_dataloader = DataLoader(data_loader.dataset, batch_size=128, sampler=val_idx)"
   ]
  },
  {
   "cell_type": "code",
   "execution_count": 7,
   "metadata": {},
   "outputs": [
    {
     "name": "stderr",
     "output_type": "stream",
     "text": [
      "c:\\Kyode\\clg\\DL_Assignments\\venv\\lib\\site-packages\\torch\\nn\\modules\\lazy.py:180: UserWarning: Lazy modules are a new feature under heavy development so changes to the API or functionality can happen at any moment.\n",
      "  warnings.warn('Lazy modules are a new feature under heavy development '\n"
     ]
    },
    {
     "data": {
      "text/plain": [
       "ResNet(\n",
       "  (conv1): LazyConv2d(0, 10, kernel_size=(5, 5), stride=(1, 1))\n",
       "  (conv2): LazyConv2d(0, 20, kernel_size=(2, 2), stride=(1, 1))\n",
       "  (downsample): LazyConv2d(0, 20, kernel_size=(7, 7), stride=(2, 2), bias=False)\n",
       "  (fc1): LazyLinear(in_features=0, out_features=50, bias=True)\n",
       "  (out): LazyLinear(in_features=0, out_features=10, bias=True)\n",
       ")"
      ]
     },
     "execution_count": 7,
     "metadata": {},
     "output_type": "execute_result"
    }
   ],
   "source": [
    "model = ResNet()\n",
    "device = torch.device(\"cuda\" if torch.cuda.is_available() else \"cpu\")\n",
    "\n",
    "model.to(device)"
   ]
  },
  {
   "cell_type": "code",
   "execution_count": 8,
   "metadata": {},
   "outputs": [],
   "source": [
    "train_samples, val_samples = 0, 0\n",
    "\n",
    "for i in train_dataloader:\n",
    "    train_samples += i[-1].shape[0]\n",
    "\n",
    "for i in val_dataloader:\n",
    "    val_samples += i[-1].shape[0]"
   ]
  },
  {
   "cell_type": "code",
   "execution_count": 9,
   "metadata": {},
   "outputs": [
    {
     "name": "stdout",
     "output_type": "stream",
     "text": [
      "training...\n",
      "\n",
      "------ Evaluating on Validation Set ------\n",
      "\n",
      "Epoch: 1 of 10, Training Loss: 0.0170, Training Accuracy: 37.2375\n",
      "\t\tValidation Loss: 0.0154, Validation Accuracy: 55.8083\n",
      "\n",
      "------ Evaluating on Validation Set ------\n",
      "\n",
      "Epoch: 2 of 10, Training Loss: 0.0144, Training Accuracy: 67.6104\n",
      "\t\tValidation Loss: 0.0138, Validation Accuracy: 73.6083\n",
      "\n",
      "------ Evaluating on Validation Set ------\n",
      "\n",
      "Epoch: 3 of 10, Training Loss: 0.0132, Training Accuracy: 81.1479\n",
      "\t\tValidation Loss: 0.0130, Validation Accuracy: 82.8167\n",
      "\n",
      "------ Evaluating on Validation Set ------\n",
      "\n",
      "Epoch: 4 of 10, Training Loss: 0.0129, Training Accuracy: 83.2958\n",
      "\t\tValidation Loss: 0.0128, Validation Accuracy: 84.1333\n",
      "\n",
      "------ Evaluating on Validation Set ------\n",
      "\n",
      "Epoch: 5 of 10, Training Loss: 0.0128, Training Accuracy: 84.2167\n",
      "\t\tValidation Loss: 0.0128, Validation Accuracy: 84.7167\n",
      "\n",
      "------ Evaluating on Validation Set ------\n",
      "\n",
      "Epoch: 6 of 10, Training Loss: 0.0127, Training Accuracy: 84.7188\n",
      "\t\tValidation Loss: 0.0127, Validation Accuracy: 85.1083\n",
      "\n",
      "------ Evaluating on Validation Set ------\n",
      "\n",
      "Epoch: 7 of 10, Training Loss: 0.0126, Training Accuracy: 85.1688\n",
      "\t\tValidation Loss: 0.0127, Validation Accuracy: 85.3917\n",
      "\n",
      "------ Evaluating on Validation Set ------\n",
      "\n",
      "Epoch: 8 of 10, Training Loss: 0.0126, Training Accuracy: 85.5167\n",
      "\t\tValidation Loss: 0.0126, Validation Accuracy: 85.6333\n",
      "\n",
      "------ Evaluating on Validation Set ------\n",
      "\n",
      "Epoch: 9 of 10, Training Loss: 0.0126, Training Accuracy: 85.8125\n",
      "\t\tValidation Loss: 0.0126, Validation Accuracy: 85.8583\n",
      "\n",
      "------ Evaluating on Validation Set ------\n",
      "\n",
      "Epoch: 10 of 10, Training Loss: 0.0125, Training Accuracy: 86.0708\n",
      "\t\tValidation Loss: 0.0126, Validation Accuracy: 86.0833\n"
     ]
    }
   ],
   "source": [
    "optimizer = torch.optim.Adam(model.parameters(), lr=LEARNING_RATE)\n",
    "criterion = nn.CrossEntropyLoss()\n",
    "\n",
    "print(\"training...\")\n",
    "\n",
    "train_loss = []\n",
    "val_loss = []\n",
    "train_accuracy = []\n",
    "val_accuracy = []\n",
    "\n",
    "for epoch in range(NUM_EPOCHS):\n",
    "    t_loss = 0\n",
    "    v_loss = 0\n",
    "    train_total_correct = 0\n",
    "    val_total_correct = 0\n",
    "\n",
    "    for batch in train_dataloader:\n",
    "        X, labels = batch\n",
    "\n",
    "        X = X.cuda()\n",
    "        labels = labels.cuda()\n",
    "\n",
    "        preds = model(X)\n",
    "        loss = criterion(preds, labels)\n",
    "        optimizer.zero_grad()\n",
    "        loss.backward()\n",
    "        optimizer.step()\n",
    "\n",
    "        t_loss += loss.item()\n",
    "        train_total_correct += get_num_correct(preds, labels)\n",
    "    \n",
    "    print(\"\\n------ Evaluating on Validation Set ------\\n\")\n",
    "    with torch.no_grad():\n",
    "        for batch in val_dataloader:\n",
    "            X, labels = batch\n",
    "\n",
    "            X = X.cuda()\n",
    "            labels = labels.cuda()\n",
    "\n",
    "            preds = model(X)\n",
    "            loss = criterion(preds, labels)\n",
    "\n",
    "            v_loss += loss.item()\n",
    "            val_total_correct += get_num_correct(preds, labels)\n",
    "    \n",
    "    train_loss.append(t_loss / train_samples)\n",
    "    val_loss.append(v_loss / val_samples)\n",
    "\n",
    "    train_accuracy.append(100*train_total_correct / train_samples)\n",
    "    val_accuracy.append(100*val_total_correct / val_samples)\n",
    "\n",
    "    print('Epoch: {} of {}, Training Loss: {:.4f}, Training Accuracy: {:.4f}'.format(epoch+1, NUM_EPOCHS, train_loss[-1], train_accuracy[-1]))\n",
    "    print('\\t\\tValidation Loss: {:.4f}, Validation Accuracy: {:.4f}'.format(val_loss[-1], val_accuracy[-1]))"
   ]
  },
  {
   "cell_type": "code",
   "execution_count": 10,
   "metadata": {},
   "outputs": [
    {
     "name": "stdout",
     "output_type": "stream",
     "text": [
      "\n",
      "------ Inference on Test Set ------\n",
      "\n",
      "Test Loss: 0.0126, Test Accuracy: 86.7300\n"
     ]
    }
   ],
   "source": [
    "print(\"\\n------ Inference on Test Set ------\\n\")\n",
    "test_loss = 0\n",
    "test_total_correct = 0\n",
    "with torch.no_grad():\n",
    "    for batch in test_dataloader:\n",
    "        X, labels = batch\n",
    "\n",
    "        X = X.cuda()\n",
    "        labels = labels.cuda()\n",
    "\n",
    "        preds = model(X)\n",
    "        loss = criterion(preds, labels)\n",
    "\n",
    "        test_loss += loss.item()\n",
    "        test_total_correct += get_num_correct(preds, labels)\n",
    "\n",
    "print('Test Loss: {:.4f}, Test Accuracy: {:.4f}'.format(test_loss / len(test_dataloader.dataset), 100*test_total_correct / len(test_dataloader.dataset)))"
   ]
  },
  {
   "cell_type": "code",
   "execution_count": 11,
   "metadata": {},
   "outputs": [
    {
     "data": {
      "image/png": "[encoded data removed]",
      "text/plain": [
       "<Figure size 640x480 with 1 Axes>"
      ]
     },
     "metadata": {},
     "output_type": "display_data"
    }
   ],
   "source": [
    "plt.plot(train_loss, label='Training Loss')\n",
    "plt.plot(val_loss, label='Validation Loss')\n",
    "plt.legend()\n",
    "plt.show()"
   ]
  },
  {
   "cell_type": "code",
   "execution_count": 12,
   "metadata": {},
   "outputs": [
    {
     "data": {
      "image/png": "[encoded data removed]",
      "text/plain": [
       "<Figure size 640x480 with 1 Axes>"
      ]
     },
     "metadata": {},
     "output_type": "display_data"
    }
   ],
   "source": [
    "# Plot training and validation accuracy in the same plot\n",
    "\n",
    "plt.plot(train_accuracy, label='Training Accuracy')\n",
    "plt.plot(val_accuracy, label='Validation Accuracy')\n",
    "plt.legend()\n",
    "plt.show()"
   ]
  },
  {
   "cell_type": "code",
   "execution_count": 15,
   "metadata": {},
   "outputs": [],
   "source": [
    "torch.save(model.state_dict(), SAVE_STATE_PATH)"
   ]
  },
  {
   "attachments": {},
   "cell_type": "markdown",
   "metadata": {},
   "source": [
    "#### Loading Saved Model"
   ]
  },
  {
   "cell_type": "code",
   "execution_count": 16,
   "metadata": {},
   "outputs": [
    {
     "name": "stderr",
     "output_type": "stream",
     "text": [
      "c:\\Kyode\\clg\\DL_Assignments\\venv\\lib\\site-packages\\torch\\nn\\modules\\lazy.py:180: UserWarning: Lazy modules are a new feature under heavy development so changes to the API or functionality can happen at any moment.\n",
      "  warnings.warn('Lazy modules are a new feature under heavy development '\n"
     ]
    },
    {
     "data": {
      "text/plain": [
       "<All keys matched successfully>"
      ]
     },
     "execution_count": 16,
     "metadata": {},
     "output_type": "execute_result"
    }
   ],
   "source": [
    "model = ResNet()\n",
    "model.load_state_dict(torch.load(SAVE_STATE_PATH))"
   ]
  }
 ],
 "metadata": {
  "kernelspec": {
   "display_name": "venv",
   "language": "python",
   "name": "python3"
  },
  "language_info": {
   "codemirror_mode": {
    "name": "ipython",
    "version": 3
   },
   "file_extension": ".py",
   "mimetype": "text/x-python",
   "name": "python",
   "nbconvert_exporter": "python",
   "pygments_lexer": "ipython3",
   "version": "3.10.2"
  },
  "orig_nbformat": 4,
  "vscode": {
   "interpreter": {
    "hash": "643eb6d4822e87f68785c8c5dcba52a2b2ade474fb26209b51ecd8a6a42496e5"
   }
  }
 },
 "nbformat": 4,
 "nbformat_minor": 2
}
